{
 "cells": [
  {
   "cell_type": "code",
   "execution_count": 23,
   "metadata": {},
   "outputs": [],
   "source": [
    "from __future__ import print_function\n",
    "import pandas as pd\n",
    "import gspread_pandas\n",
    "from oauth2client.service_account import ServiceAccountCredentials\n",
    "import requests\n",
    "from bs4 import BeautifulSoup\n",
    "from urllib.request import urlopen\n",
    "import json\n",
    "from tqdm import tqdm\n",
    "from time import sleep"
   ]
  },
  {
   "cell_type": "code",
   "execution_count": 2,
   "metadata": {},
   "outputs": [
    {
     "data": {
      "text/plain": [
       "<function gspread_pandas.conf.get_config(conf_dir=None, file_name='google_secret.json')>"
      ]
     },
     "execution_count": 2,
     "metadata": {},
     "output_type": "execute_result"
    }
   ],
   "source": [
    "config=gspread_pandas.conf.get_config(conf_dir='/home/dev-cory/learning_english/credential/',file_name='client_secret_english_crawl.json')\n",
    "#gspread_pandas.conf.get_config\n",
    "gspread_pandas.conf.get_config\n",
    "with open('./credential/learning_english.yaml','r') as ymlfile:\n",
    "    cfg = yaml.load(ymlfile,Loader=yaml.BaseLoader)\n",
    "app_id = cfg['OxfordAPI']['app_id']\n",
    "app_key = cfg['OxfordAPI']['app_key']\n",
    "language = 'en'"
   ]
  },
  {
   "cell_type": "code",
   "execution_count": 4,
   "metadata": {},
   "outputs": [],
   "source": [
    "spread = gspread_pandas.Spread('Programming experiment of Oxford vocabulary',config=config)"
   ]
  },
  {
   "cell_type": "code",
   "execution_count": 5,
   "metadata": {},
   "outputs": [],
   "source": [
    "df=spread.sheet_to_df(sheet='vocab')"
   ]
  },
  {
   "cell_type": "code",
   "execution_count": 6,
   "metadata": {},
   "outputs": [
    {
     "data": {
      "text/html": [
       "<div>\n",
       "<style scoped>\n",
       "    .dataframe tbody tr th:only-of-type {\n",
       "        vertical-align: middle;\n",
       "    }\n",
       "\n",
       "    .dataframe tbody tr th {\n",
       "        vertical-align: top;\n",
       "    }\n",
       "\n",
       "    .dataframe thead th {\n",
       "        text-align: right;\n",
       "    }\n",
       "</style>\n",
       "<table border=\"1\" class=\"dataframe\">\n",
       "  <thead>\n",
       "    <tr style=\"text-align: right;\">\n",
       "      <th></th>\n",
       "      <th>Word</th>\n",
       "      <th>Importance</th>\n",
       "      <th>Meaning in Japanese</th>\n",
       "      <th>Meaning in English</th>\n",
       "      <th>Example</th>\n",
       "      <th>Origin</th>\n",
       "      <th>phonic</th>\n",
       "      <th>mp3</th>\n",
       "    </tr>\n",
       "    <tr>\n",
       "      <th>order</th>\n",
       "      <th></th>\n",
       "      <th></th>\n",
       "      <th></th>\n",
       "      <th></th>\n",
       "      <th></th>\n",
       "      <th></th>\n",
       "      <th></th>\n",
       "      <th></th>\n",
       "    </tr>\n",
       "  </thead>\n",
       "  <tbody>\n",
       "    <tr>\n",
       "      <td>1</td>\n",
       "      <td>retaliate</td>\n",
       "      <td>3</td>\n",
       "      <td>仕返しする</td>\n",
       "      <td>1: make an attack in return for a similar atta...</td>\n",
       "      <td>1: the blow stung and she retaliated immediate...</td>\n",
       "      <td></td>\n",
       "      <td></td>\n",
       "      <td></td>\n",
       "    </tr>\n",
       "    <tr>\n",
       "      <td>2</td>\n",
       "      <td>detain</td>\n",
       "      <td>3</td>\n",
       "      <td>拘束する</td>\n",
       "      <td>keep (someone) from proceeding by holding them...</td>\n",
       "      <td>1: she made to open the door, but he detained ...</td>\n",
       "      <td></td>\n",
       "      <td></td>\n",
       "      <td></td>\n",
       "    </tr>\n",
       "    <tr>\n",
       "      <td>3</td>\n",
       "      <td>resilient</td>\n",
       "      <td>3</td>\n",
       "      <td>はね返る、弾力のある、たちまち元気を回復する、快活な、溌刺(はつらつ)とした</td>\n",
       "      <td>(of a person or animal) able to withstand or r...</td>\n",
       "      <td>1: babies are generally far more resilient tha...</td>\n",
       "      <td></td>\n",
       "      <td></td>\n",
       "      <td></td>\n",
       "    </tr>\n",
       "    <tr>\n",
       "      <td>4</td>\n",
       "      <td>lineage</td>\n",
       "      <td>4</td>\n",
       "      <td>血統、系統、家柄</td>\n",
       "      <td>direct descent from an ancestor; ancestry or p...</td>\n",
       "      <td>1: a Dutch nobleman of ancient lineage  2: the...</td>\n",
       "      <td></td>\n",
       "      <td></td>\n",
       "      <td></td>\n",
       "    </tr>\n",
       "    <tr>\n",
       "      <td>5</td>\n",
       "      <td>migration</td>\n",
       "      <td>1</td>\n",
       "      <td>移住、転住、渡り、移住者群、移動する動物の群</td>\n",
       "      <td>1: seasonal movement of animals from one regio...</td>\n",
       "      <td>1: this butterfly's annual migration across No...</td>\n",
       "      <td></td>\n",
       "      <td></td>\n",
       "      <td></td>\n",
       "    </tr>\n",
       "    <tr>\n",
       "      <td>...</td>\n",
       "      <td>...</td>\n",
       "      <td>...</td>\n",
       "      <td>...</td>\n",
       "      <td>...</td>\n",
       "      <td>...</td>\n",
       "      <td>...</td>\n",
       "      <td>...</td>\n",
       "      <td>...</td>\n",
       "    </tr>\n",
       "    <tr>\n",
       "      <td>1148</td>\n",
       "      <td>thorny</td>\n",
       "      <td></td>\n",
       "      <td>とげの多い、とげのような、困難な、苦しい</td>\n",
       "      <td></td>\n",
       "      <td>This bilateral pact is more limited in scope, ...</td>\n",
       "      <td></td>\n",
       "      <td></td>\n",
       "      <td></td>\n",
       "    </tr>\n",
       "    <tr>\n",
       "      <td>1149</td>\n",
       "      <td>fold</td>\n",
       "      <td></td>\n",
       "      <td>折る、折り重ねる、折りたたむ、折り曲げる、折り返す、収める、組む、組み合わせる、(…に)巻き...</td>\n",
       "      <td></td>\n",
       "      <td>News that PizzaExpress might fold unless it ca...</td>\n",
       "      <td></td>\n",
       "      <td></td>\n",
       "      <td></td>\n",
       "    </tr>\n",
       "    <tr>\n",
       "      <td>1150</td>\n",
       "      <td>ambush</td>\n",
       "      <td></td>\n",
       "      <td>待ち伏せ、待ち伏せ攻撃、待ち伏せ場所、伏兵、伏せ勢</td>\n",
       "      <td></td>\n",
       "      <td>We have verified with the Hong Kong Cybersecur...</td>\n",
       "      <td></td>\n",
       "      <td></td>\n",
       "      <td></td>\n",
       "    </tr>\n",
       "    <tr>\n",
       "      <td>1151</td>\n",
       "      <td>perceive</td>\n",
       "      <td></td>\n",
       "      <td>(…を)知覚する、認める、(…に)気づく、(…が)気がつく、(…を)理解する、了解する、看取...</td>\n",
       "      <td></td>\n",
       "      <td>Hong Kong protesters, meanwhile, the other han...</td>\n",
       "      <td></td>\n",
       "      <td></td>\n",
       "      <td></td>\n",
       "    </tr>\n",
       "    <tr>\n",
       "      <td>1152</td>\n",
       "      <td>devastate</td>\n",
       "      <td></td>\n",
       "      <td></td>\n",
       "      <td></td>\n",
       "      <td></td>\n",
       "      <td></td>\n",
       "      <td></td>\n",
       "      <td></td>\n",
       "    </tr>\n",
       "  </tbody>\n",
       "</table>\n",
       "<p>1141 rows × 8 columns</p>\n",
       "</div>"
      ],
      "text/plain": [
       "             Word Importance  \\\n",
       "order                          \n",
       "1       retaliate          3   \n",
       "2          detain          3   \n",
       "3       resilient          3   \n",
       "4         lineage          4   \n",
       "5       migration          1   \n",
       "...           ...        ...   \n",
       "1148       thorny              \n",
       "1149         fold              \n",
       "1150       ambush              \n",
       "1151     perceive              \n",
       "1152   devastate               \n",
       "\n",
       "                                     Meaning in Japanese  \\\n",
       "order                                                      \n",
       "1                                                  仕返しする   \n",
       "2                                                   拘束する   \n",
       "3                 はね返る、弾力のある、たちまち元気を回復する、快活な、溌刺(はつらつ)とした   \n",
       "4                                               血統、系統、家柄   \n",
       "5                                 移住、転住、渡り、移住者群、移動する動物の群   \n",
       "...                                                  ...   \n",
       "1148                                とげの多い、とげのような、困難な、苦しい   \n",
       "1149   折る、折り重ねる、折りたたむ、折り曲げる、折り返す、収める、組む、組み合わせる、(…に)巻き...   \n",
       "1150                           待ち伏せ、待ち伏せ攻撃、待ち伏せ場所、伏兵、伏せ勢   \n",
       "1151   (…を)知覚する、認める、(…に)気づく、(…が)気がつく、(…を)理解する、了解する、看取...   \n",
       "1152                                                       \n",
       "\n",
       "                                      Meaning in English  \\\n",
       "order                                                      \n",
       "1      1: make an attack in return for a similar atta...   \n",
       "2      keep (someone) from proceeding by holding them...   \n",
       "3      (of a person or animal) able to withstand or r...   \n",
       "4      direct descent from an ancestor; ancestry or p...   \n",
       "5      1: seasonal movement of animals from one regio...   \n",
       "...                                                  ...   \n",
       "1148                                                       \n",
       "1149                                                       \n",
       "1150                                                       \n",
       "1151                                                       \n",
       "1152                                                       \n",
       "\n",
       "                                                 Example Origin phonic mp3  \n",
       "order                                                                       \n",
       "1      1: the blow stung and she retaliated immediate...                    \n",
       "2      1: she made to open the door, but he detained ...                    \n",
       "3      1: babies are generally far more resilient tha...                    \n",
       "4      1: a Dutch nobleman of ancient lineage  2: the...                    \n",
       "5      1: this butterfly's annual migration across No...                    \n",
       "...                                                  ...    ...    ...  ..  \n",
       "1148   This bilateral pact is more limited in scope, ...                    \n",
       "1149   News that PizzaExpress might fold unless it ca...                    \n",
       "1150   We have verified with the Hong Kong Cybersecur...                    \n",
       "1151   Hong Kong protesters, meanwhile, the other han...                    \n",
       "1152                                                                        \n",
       "\n",
       "[1141 rows x 8 columns]"
      ]
     },
     "execution_count": 6,
     "metadata": {},
     "output_type": "execute_result"
    }
   ],
   "source": [
    "df"
   ]
  },
  {
   "cell_type": "code",
   "execution_count": 11,
   "metadata": {},
   "outputs": [
    {
     "data": {
      "text/plain": [
       "'血統、系統、家柄'"
      ]
     },
     "execution_count": 11,
     "metadata": {},
     "output_type": "execute_result"
    }
   ],
   "source": [
    " df.loc['4','Meaning in Japanese']"
   ]
  },
  {
   "cell_type": "code",
   "execution_count": 7,
   "metadata": {},
   "outputs": [],
   "source": [
    "def weblio_crawler(word_id):\n",
    "    url ='https://ejje.weblio.jp/content/'+word_id\n",
    "    try:\n",
    "        html_page = urlopen(url)\n",
    "        soup = BeautifulSoup(html_page)\n",
    "        text=soup.find('td',attrs={\"class\", \"content-explanation ej\"})\n",
    "        answer=text.contents[0]\n",
    "    except:\n",
    "        answer=''\n",
    "    return answer"
   ]
  },
  {
   "cell_type": "code",
   "execution_count": 8,
   "metadata": {},
   "outputs": [],
   "source": [
    "def Oxford_definition_caller(word_id,app_id=app_id,app_key=app_key,language ='en'):\n",
    "    url = 'https://od-api.oxforddictionaries.com:443/api/v2/entries/'  + language + '/'  + word_id.lower()\n",
    "    urlFR = 'https://od-api.oxforddictionaries.com:443/api/v2/stats/frequency/word/'  + language + '/?corpus=nmc&lemma=' + word_id.lower()\n",
    "    try:\n",
    "        r = requests.get(url, headers = {'app_id' : app_id, 'app_key' : app_key})\n",
    "        info=r.json()\n",
    "        x=1\n",
    "        answer=''\n",
    "        for i in info[\"results\"][0]['lexicalEntries'][0][\"entries\"][0][\"senses\"]:\n",
    "            answer=answer +str(x)+': '+str(i[\"definitions\"][0])+'  '\n",
    "            x+=1\n",
    "            sleep(5)\n",
    "    except:\n",
    "        answer=''\n",
    "    return answer"
   ]
  },
  {
   "cell_type": "code",
   "execution_count": 31,
   "metadata": {},
   "outputs": [],
   "source": [
    "def Oxford_caller(word_id,app_id=app_id,app_key=app_key,language ='en'):\n",
    "    url = 'https://od-api.oxforddictionaries.com:443/api/v2/entries/'  + language + '/'  + word_id.lower()\n",
    "    urlFR = 'https://od-api.oxforddictionaries.com:443/api/v2/stats/frequency/word/'  + language + '/?corpus=nmc&lemma=' + word_id.lower()\n",
    "    try:\n",
    "        r = requests.get(url, headers = {'app_id' : app_id, 'app_key' : app_key})\n",
    "        info=r.json()\n",
    "        sleep(5)\n",
    "    except Exception as e:\n",
    "        print(e)\n",
    "        info=''\n",
    "    return info"
   ]
  },
  {
   "cell_type": "code",
   "execution_count": 32,
   "metadata": {},
   "outputs": [],
   "source": [
    "def Oxford_example_caller(word_id,app_id=app_id,app_key=app_key,language ='en'):\n",
    "    url = 'https://od-api.oxforddictionaries.com:443/api/v2/entries/'  + language + '/'  + word_id.lower()\n",
    "    urlFR = 'https://od-api.oxforddictionaries.com:443/api/v2/stats/frequency/word/'  + language + '/?corpus=nmc&lemma=' + word_id.lower()\n",
    "    try:\n",
    "        r = requests.get(url, headers = {'app_id' : app_id, 'app_key' : app_key})\n",
    "        info=r.json()\n",
    "        x=1\n",
    "        answer=''\n",
    "        for i in info[\"results\"][0]['lexicalEntries'][0][\"entries\"][0][\"senses\"]:\n",
    "            answer=answer +str(x)+': '+str(i[\"examples\"][0][\"text\"])+'  '\n",
    "            x+=1\n",
    "            sleep(5)\n",
    "    except:\n",
    "        answer=''\n",
    "    return answer"
   ]
  },
  {
   "cell_type": "code",
   "execution_count": 33,
   "metadata": {},
   "outputs": [],
   "source": [
    "def Oxford_info_processor(info,target):\n",
    "    try:\n",
    "        answer=''\n",
    "        if target=='meaning':\n",
    "            x=1\n",
    "            for i in info[\"results\"][0]['lexicalEntries'][0][\"entries\"][0][\"senses\"]:\n",
    "                answer=answer +str(x)+': '+str(i[\"definitions\"][0])+' \\r\\n'\n",
    "                x+=1       \n",
    "        elif target=='phonic':\n",
    "            answer=info[\"results\"][0]['lexicalEntries'][0][\"pronunciations\"][0][\"phoneticSpelling\"]\n",
    "        elif target=='example':\n",
    "            x=1\n",
    "            for i in info[\"results\"][0]['lexicalEntries'][0][\"entries\"][0][\"senses\"]:\n",
    "                answer=answer +str(x)+': '+str(i[\"examples\"][0][\"text\"])+' \\r\\n'\n",
    "                x+=1\n",
    "        elif target=='mp3':\n",
    "            answer=info[\"results\"][0]['lexicalEntries'][0][\"pronunciations\"][0][\"audioFile\"]\n",
    "        elif target=='origin':\n",
    "            answer=info[\"results\"][0]['lexicalEntries'][0]['entries'][0]['etymologies'][0]\n",
    "    except Exception as e:\n",
    "        print(e)\n",
    "        answer=''\n",
    "    return answer"
   ]
  },
  {
   "cell_type": "code",
   "execution_count": 34,
   "metadata": {},
   "outputs": [
    {
     "name": "stderr",
     "output_type": "stream",
     "text": [
      "\n",
      "\n",
      "  0%|          | 0/1141 [00:00<?, ?it/s]\u001b[A\u001b[A\n",
      "\n",
      "  0%|          | 4/1141 [00:05<26:29,  1.40s/it]\u001b[A\u001b[A\n",
      "\n",
      "  0%|          | 5/1141 [00:11<49:51,  2.63s/it]\u001b[A\u001b[A"
     ]
    },
    {
     "name": "stdout",
     "output_type": "stream",
     "text": [
      "'etymologies'\n"
     ]
    },
    {
     "name": "stderr",
     "output_type": "stream",
     "text": [
      "\n",
      "\n",
      "  1%|          | 6/1141 [00:16<1:06:26,  3.51s/it]\u001b[A\u001b[A\n",
      "\n",
      "  1%|          | 7/1141 [00:22<1:17:42,  4.11s/it]\u001b[A\u001b[A\n",
      "\n",
      "  1%|          | 8/1141 [00:28<1:27:43,  4.65s/it]\u001b[A\u001b[A"
     ]
    },
    {
     "name": "stdout",
     "output_type": "stream",
     "text": [
      "'pronunciations'\n",
      "'pronunciations'\n"
     ]
    },
    {
     "name": "stderr",
     "output_type": "stream",
     "text": [
      "\n",
      "\n",
      "  1%|          | 9/1141 [00:33<1:32:43,  4.91s/it]\u001b[A\u001b[A\n",
      "\n",
      "  1%|          | 10/1141 [00:39<1:36:30,  5.12s/it]\u001b[A\u001b[A\n",
      "\n",
      "  1%|          | 11/1141 [00:44<1:39:27,  5.28s/it]\u001b[A\u001b[A\n",
      "\n",
      "  1%|          | 12/1141 [00:50<1:41:06,  5.37s/it]\u001b[A\u001b[A\n",
      "\n",
      "  1%|          | 13/1141 [00:56<1:42:14,  5.44s/it]\u001b[A\u001b[A\n",
      "\n",
      "  1%|          | 14/1141 [01:01<1:43:02,  5.49s/it]\u001b[A\u001b[A\n",
      "\n",
      "  1%|▏         | 15/1141 [01:07<1:43:27,  5.51s/it]\u001b[A\u001b[A\n",
      "\n",
      "  1%|▏         | 16/1141 [01:12<1:43:40,  5.53s/it]\u001b[A\u001b[A\n",
      "\n",
      "  1%|▏         | 17/1141 [01:18<1:43:27,  5.52s/it]\u001b[A\u001b[A"
     ]
    },
    {
     "name": "stdout",
     "output_type": "stream",
     "text": [
      "'etymologies'\n"
     ]
    },
    {
     "name": "stderr",
     "output_type": "stream",
     "text": [
      "\n",
      "\n",
      "  2%|▏         | 18/1141 [01:23<1:43:20,  5.52s/it]\u001b[A\u001b[A\n",
      "\n",
      "  2%|▏         | 19/1141 [01:29<1:43:40,  5.54s/it]\u001b[A\u001b[A"
     ]
    },
    {
     "name": "stdout",
     "output_type": "stream",
     "text": [
      "'etymologies'\n"
     ]
    },
    {
     "name": "stderr",
     "output_type": "stream",
     "text": [
      "\n",
      "\n",
      "  2%|▏         | 20/1141 [01:34<1:43:36,  5.55s/it]\u001b[A\u001b[A\n",
      "\n",
      "  2%|▏         | 21/1141 [01:40<1:44:04,  5.58s/it]\u001b[A\u001b[A\n",
      "\n",
      "  2%|▏         | 22/1141 [01:46<1:45:02,  5.63s/it]\u001b[A\u001b[A"
     ]
    },
    {
     "name": "stdout",
     "output_type": "stream",
     "text": [
      "'examples'\n"
     ]
    },
    {
     "name": "stderr",
     "output_type": "stream",
     "text": [
      "\n",
      "\n",
      "  2%|▏         | 23/1141 [01:52<1:45:52,  5.68s/it]\u001b[A\u001b[A\n",
      "\n",
      "  2%|▏         | 24/1141 [01:57<1:45:18,  5.66s/it]\u001b[A\u001b[A\n",
      "\n",
      "  2%|▏         | 25/1141 [02:03<1:44:58,  5.64s/it]\u001b[A\u001b[A\n",
      "\n",
      "  2%|▏         | 26/1141 [02:08<1:44:08,  5.60s/it]\u001b[A\u001b[A"
     ]
    },
    {
     "name": "stdout",
     "output_type": "stream",
     "text": [
      "'examples'\n",
      "'etymologies'\n",
      "'examples'\n",
      "'etymologies'\n"
     ]
    },
    {
     "name": "stderr",
     "output_type": "stream",
     "text": [
      "\n",
      "\n",
      "  2%|▏         | 27/1141 [02:25<2:45:45,  8.93s/it]\u001b[A\u001b[A"
     ]
    },
    {
     "name": "stdout",
     "output_type": "stream",
     "text": [
      "'etymologies'\n"
     ]
    },
    {
     "name": "stderr",
     "output_type": "stream",
     "text": [
      "\n",
      "\n",
      "  2%|▏         | 28/1141 [02:31<2:26:58,  7.92s/it]\u001b[A\u001b[A"
     ]
    },
    {
     "name": "stdout",
     "output_type": "stream",
     "text": [
      "'examples'\n",
      "'etymologies'\n",
      "'examples'\n",
      "'etymologies'\n"
     ]
    },
    {
     "name": "stderr",
     "output_type": "stream",
     "text": [
      "\n",
      "\n",
      "  3%|▎         | 29/1141 [02:47<3:16:16, 10.59s/it]\u001b[A\u001b[A"
     ]
    },
    {
     "name": "stdout",
     "output_type": "stream",
     "text": [
      "'etymologies'\n"
     ]
    },
    {
     "name": "stderr",
     "output_type": "stream",
     "text": [
      "\n",
      "\n",
      "  3%|▎         | 30/1141 [02:53<2:48:20,  9.09s/it]\u001b[A\u001b[A\n",
      "\n",
      "  3%|▎         | 31/1141 [02:59<2:28:50,  8.05s/it]\u001b[A\u001b[A"
     ]
    },
    {
     "name": "stdout",
     "output_type": "stream",
     "text": [
      "'definitions'\n",
      "'examples'\n"
     ]
    },
    {
     "name": "stderr",
     "output_type": "stream",
     "text": [
      "\n",
      "\n",
      "  3%|▎         | 32/1141 [03:10<2:46:23,  9.00s/it]\u001b[A\u001b[A"
     ]
    },
    {
     "name": "stdout",
     "output_type": "stream",
     "text": [
      "'examples'\n"
     ]
    },
    {
     "name": "stderr",
     "output_type": "stream",
     "text": [
      "\n",
      "\n",
      "  3%|▎         | 33/1141 [03:15<2:27:03,  7.96s/it]\u001b[A\u001b[A\n",
      "\n",
      "  3%|▎         | 34/1141 [03:21<2:13:31,  7.24s/it]\u001b[A\u001b[A\n",
      "\n",
      "  3%|▎         | 35/1141 [03:27<2:05:10,  6.79s/it]\u001b[A\u001b[A\n",
      "\n",
      "  3%|▎         | 36/1141 [03:32<1:58:35,  6.44s/it]\u001b[A\u001b[A\n",
      "\n",
      "  3%|▎         | 37/1141 [03:38<1:53:39,  6.18s/it]\u001b[A\u001b[A\n",
      "\n",
      "  3%|▎         | 38/1141 [03:43<1:49:55,  5.98s/it]\u001b[A\u001b[A"
     ]
    },
    {
     "name": "stdout",
     "output_type": "stream",
     "text": [
      "'examples'\n",
      "'examples'\n",
      "'etymologies'\n"
     ]
    },
    {
     "name": "stderr",
     "output_type": "stream",
     "text": [
      "\n",
      "\n",
      "  3%|▎         | 39/1141 [03:55<2:18:14,  7.53s/it]\u001b[A\u001b[A"
     ]
    },
    {
     "name": "stdout",
     "output_type": "stream",
     "text": [
      "'etymologies'\n"
     ]
    },
    {
     "name": "stderr",
     "output_type": "stream",
     "text": [
      "\n",
      "\n",
      "  4%|▎         | 40/1141 [04:00<2:07:11,  6.93s/it]\u001b[A\u001b[A"
     ]
    },
    {
     "name": "stdout",
     "output_type": "stream",
     "text": [
      "'definitions'\n",
      "'examples'\n",
      "'etymologies'\n",
      "'examples'\n",
      "'etymologies'\n"
     ]
    },
    {
     "name": "stderr",
     "output_type": "stream",
     "text": [
      "\n",
      "\n",
      "  4%|▎         | 41/1141 [04:17<3:01:10,  9.88s/it]\u001b[A\u001b[A"
     ]
    },
    {
     "name": "stdout",
     "output_type": "stream",
     "text": [
      "'etymologies'\n"
     ]
    },
    {
     "name": "stderr",
     "output_type": "stream",
     "text": [
      "\n",
      "\n",
      "  4%|▎         | 42/1141 [04:23<2:37:56,  8.62s/it]\u001b[A\u001b[A"
     ]
    },
    {
     "name": "stdout",
     "output_type": "stream",
     "text": [
      "'examples'\n"
     ]
    },
    {
     "name": "stderr",
     "output_type": "stream",
     "text": [
      "\n",
      "\n",
      "  4%|▍         | 43/1141 [04:28<2:20:58,  7.70s/it]\u001b[A\u001b[A\n",
      "\n",
      "  4%|▍         | 44/1141 [04:34<2:09:03,  7.06s/it]\u001b[A\u001b[A\n",
      "\n",
      "  4%|▍         | 45/1141 [04:39<2:01:30,  6.65s/it]\u001b[A\u001b[A"
     ]
    },
    {
     "name": "stdout",
     "output_type": "stream",
     "text": [
      "'examples'\n"
     ]
    },
    {
     "name": "stderr",
     "output_type": "stream",
     "text": [
      "\n",
      "\n",
      "  4%|▍         | 46/1141 [04:45<1:56:25,  6.38s/it]\u001b[A\u001b[A\n",
      "\n",
      "  4%|▍         | 47/1141 [04:51<1:52:06,  6.15s/it]\u001b[A\u001b[A\n",
      "\n",
      "  4%|▍         | 48/1141 [04:56<1:49:22,  6.00s/it]\u001b[A\u001b[A"
     ]
    },
    {
     "name": "stdout",
     "output_type": "stream",
     "text": [
      "'examples'\n",
      "'etymologies'\n"
     ]
    },
    {
     "name": "stderr",
     "output_type": "stream",
     "text": [
      "\n",
      "\n",
      "  4%|▍         | 49/1141 [05:08<2:17:53,  7.58s/it]\u001b[A\u001b[A"
     ]
    },
    {
     "name": "stdout",
     "output_type": "stream",
     "text": [
      "'etymologies'\n"
     ]
    },
    {
     "name": "stderr",
     "output_type": "stream",
     "text": [
      "\n",
      "\n",
      "  4%|▍         | 50/1141 [05:13<2:06:43,  6.97s/it]\u001b[A\u001b[A"
     ]
    },
    {
     "name": "stdout",
     "output_type": "stream",
     "text": [
      "'etymologies'\n"
     ]
    },
    {
     "name": "stderr",
     "output_type": "stream",
     "text": [
      "\n",
      "\n",
      "  4%|▍         | 51/1141 [05:24<2:29:27,  8.23s/it]\u001b[A\u001b[A"
     ]
    },
    {
     "name": "stdout",
     "output_type": "stream",
     "text": [
      "'etymologies'\n"
     ]
    },
    {
     "name": "stderr",
     "output_type": "stream",
     "text": [
      "\n",
      "\n",
      "  5%|▍         | 52/1141 [05:30<2:14:59,  7.44s/it]\u001b[A\u001b[A\n",
      "\n",
      "  5%|▍         | 53/1141 [05:36<2:04:54,  6.89s/it]\u001b[A\u001b[A\n",
      "\n",
      "  5%|▍         | 54/1141 [05:41<1:57:51,  6.51s/it]\u001b[A\u001b[A"
     ]
    },
    {
     "name": "stdout",
     "output_type": "stream",
     "text": [
      "'examples'\n"
     ]
    },
    {
     "name": "stderr",
     "output_type": "stream",
     "text": [
      "\n",
      "\n",
      "  5%|▍         | 55/1141 [05:47<1:53:20,  6.26s/it]\u001b[A\u001b[A"
     ]
    },
    {
     "name": "stdout",
     "output_type": "stream",
     "text": [
      "'examples'\n"
     ]
    },
    {
     "name": "stderr",
     "output_type": "stream",
     "text": [
      "\n",
      "\n",
      "  5%|▍         | 56/1141 [05:52<1:49:46,  6.07s/it]\u001b[A\u001b[A\n",
      "\n",
      "  5%|▍         | 57/1141 [05:58<1:46:51,  5.91s/it]\u001b[A\u001b[A\n",
      "\n",
      "  5%|▌         | 58/1141 [06:04<1:46:09,  5.88s/it]\u001b[A\u001b[A\n",
      "\n",
      "  5%|▌         | 59/1141 [06:09<1:44:04,  5.77s/it]\u001b[A\u001b[A\n",
      "\n",
      "  5%|▌         | 60/1141 [06:15<1:42:50,  5.71s/it]\u001b[A\u001b[A\n",
      "\n",
      "  5%|▌         | 61/1141 [06:20<1:41:51,  5.66s/it]\u001b[A\u001b[A"
     ]
    },
    {
     "name": "stdout",
     "output_type": "stream",
     "text": [
      "'etymologies'\n"
     ]
    },
    {
     "name": "stderr",
     "output_type": "stream",
     "text": [
      "\n",
      "\n",
      "  5%|▌         | 62/1141 [06:26<1:41:09,  5.63s/it]\u001b[A\u001b[A\n",
      "\n",
      "  6%|▌         | 63/1141 [06:32<1:41:09,  5.63s/it]\u001b[A\u001b[A\n",
      "\n",
      "  6%|▌         | 64/1141 [06:37<1:40:56,  5.62s/it]\u001b[A\u001b[A\n",
      "\n",
      "  6%|▌         | 65/1141 [06:43<1:41:08,  5.64s/it]\u001b[A\u001b[A"
     ]
    },
    {
     "name": "stdout",
     "output_type": "stream",
     "text": [
      "'etymologies'\n"
     ]
    },
    {
     "name": "stderr",
     "output_type": "stream",
     "text": [
      "\n",
      "\n",
      "  6%|▌         | 66/1141 [06:49<1:40:48,  5.63s/it]\u001b[A\u001b[A"
     ]
    },
    {
     "name": "stdout",
     "output_type": "stream",
     "text": [
      "'etymologies'\n"
     ]
    },
    {
     "name": "stderr",
     "output_type": "stream",
     "text": [
      "\n",
      "\n",
      "  6%|▌         | 67/1141 [06:54<1:41:05,  5.65s/it]\u001b[A\u001b[A\n",
      "\n",
      "  6%|▌         | 68/1141 [07:00<1:40:21,  5.61s/it]\u001b[A\u001b[A\n",
      "\n",
      "  6%|▌         | 69/1141 [07:05<1:40:46,  5.64s/it]\u001b[A\u001b[A"
     ]
    },
    {
     "name": "stdout",
     "output_type": "stream",
     "text": [
      "'examples'\n",
      "'etymologies'\n"
     ]
    },
    {
     "name": "stderr",
     "output_type": "stream",
     "text": [
      "\n",
      "\n",
      "  6%|▌         | 70/1141 [07:17<2:09:47,  7.27s/it]\u001b[A\u001b[A"
     ]
    },
    {
     "name": "stdout",
     "output_type": "stream",
     "text": [
      "'etymologies'\n"
     ]
    },
    {
     "name": "stderr",
     "output_type": "stream",
     "text": [
      "\n",
      "\n",
      "  6%|▌         | 71/1141 [07:22<2:00:38,  6.76s/it]\u001b[A\u001b[A\n",
      "\n",
      "  6%|▋         | 72/1141 [07:28<1:54:30,  6.43s/it]\u001b[A\u001b[A"
     ]
    },
    {
     "name": "stdout",
     "output_type": "stream",
     "text": [
      "'etymologies'\n",
      "'examples'\n",
      "'etymologies'\n"
     ]
    },
    {
     "name": "stderr",
     "output_type": "stream",
     "text": [
      "\n",
      "\n",
      "  6%|▋         | 73/1141 [07:39<2:19:38,  7.85s/it]\u001b[A\u001b[A"
     ]
    },
    {
     "name": "stdout",
     "output_type": "stream",
     "text": [
      "'etymologies'\n"
     ]
    },
    {
     "name": "stderr",
     "output_type": "stream",
     "text": [
      "\n",
      "\n",
      "  6%|▋         | 74/1141 [07:45<2:07:47,  7.19s/it]\u001b[A\u001b[A"
     ]
    },
    {
     "name": "stdout",
     "output_type": "stream",
     "text": [
      "'examples'\n",
      "'examples'\n",
      "'etymologies'\n"
     ]
    },
    {
     "name": "stderr",
     "output_type": "stream",
     "text": [
      "\n",
      "\n",
      "  7%|▋         | 75/1141 [07:56<2:28:37,  8.36s/it]\u001b[A\u001b[A"
     ]
    },
    {
     "name": "stdout",
     "output_type": "stream",
     "text": [
      "'etymologies'\n"
     ]
    },
    {
     "name": "stderr",
     "output_type": "stream",
     "text": [
      "\n",
      "\n",
      "  7%|▋         | 76/1141 [08:01<2:13:14,  7.51s/it]\u001b[A\u001b[A"
     ]
    },
    {
     "name": "stdout",
     "output_type": "stream",
     "text": [
      "'etymologies'\n"
     ]
    },
    {
     "name": "stderr",
     "output_type": "stream",
     "text": [
      "\n",
      "\n",
      "  7%|▋         | 77/1141 [08:07<2:02:30,  6.91s/it]\u001b[A\u001b[A\n",
      "\n",
      "  7%|▋         | 78/1141 [08:12<1:55:26,  6.52s/it]\u001b[A\u001b[A\n",
      "\n",
      "  7%|▋         | 79/1141 [08:18<1:50:21,  6.24s/it]\u001b[A\u001b[A"
     ]
    },
    {
     "name": "stdout",
     "output_type": "stream",
     "text": [
      "'etymologies'\n"
     ]
    },
    {
     "name": "stderr",
     "output_type": "stream",
     "text": [
      "\n",
      "\n",
      "  7%|▋         | 80/1141 [08:23<1:46:34,  6.03s/it]\u001b[A\u001b[A\n",
      "\n",
      "  7%|▋         | 81/1141 [08:29<1:45:32,  5.97s/it]\u001b[A\u001b[A\n",
      "\n",
      "  7%|▋         | 82/1141 [08:35<1:43:19,  5.85s/it]\u001b[A\u001b[A"
     ]
    },
    {
     "name": "stdout",
     "output_type": "stream",
     "text": [
      "'examples'\n"
     ]
    },
    {
     "name": "stderr",
     "output_type": "stream",
     "text": [
      "\n",
      "\n",
      "  7%|▋         | 83/1141 [08:41<1:42:10,  5.79s/it]\u001b[A\u001b[A\n",
      "\n",
      "  7%|▋         | 84/1141 [08:46<1:40:40,  5.71s/it]\u001b[A\u001b[A\n",
      "\n",
      "  7%|▋         | 85/1141 [08:52<1:40:00,  5.68s/it]\u001b[A\u001b[A\n",
      "\n",
      "  8%|▊         | 86/1141 [08:57<1:39:10,  5.64s/it]\u001b[A\u001b[A\n",
      "\n",
      "  8%|▊         | 87/1141 [09:03<1:38:55,  5.63s/it]\u001b[A\u001b[A\n",
      "\n",
      "  8%|▊         | 88/1141 [09:08<1:38:32,  5.62s/it]\u001b[A\u001b[A\n",
      "\n",
      "  8%|▊         | 89/1141 [09:14<1:38:36,  5.62s/it]\u001b[A\u001b[A\n",
      "\n",
      "  8%|▊         | 90/1141 [09:20<1:37:49,  5.58s/it]\u001b[A\u001b[A\n",
      "\n",
      "  8%|▊         | 91/1141 [09:25<1:37:54,  5.60s/it]\u001b[A\u001b[A\n",
      "\n",
      "  8%|▊         | 92/1141 [09:31<1:38:06,  5.61s/it]\u001b[A\u001b[A"
     ]
    },
    {
     "name": "stdout",
     "output_type": "stream",
     "text": [
      "'examples'\n"
     ]
    },
    {
     "name": "stderr",
     "output_type": "stream",
     "text": [
      "\n",
      "\n",
      "  8%|▊         | 93/1141 [09:36<1:38:01,  5.61s/it]\u001b[A\u001b[A"
     ]
    },
    {
     "name": "stdout",
     "output_type": "stream",
     "text": [
      "'etymologies'\n"
     ]
    },
    {
     "name": "stderr",
     "output_type": "stream",
     "text": [
      "\n",
      "\n",
      "  8%|▊         | 94/1141 [09:42<1:38:01,  5.62s/it]\u001b[A\u001b[A\n",
      "\n",
      "  8%|▊         | 95/1141 [09:48<1:37:37,  5.60s/it]\u001b[A\u001b[A"
     ]
    },
    {
     "name": "stdout",
     "output_type": "stream",
     "text": [
      "'etymologies'\n"
     ]
    },
    {
     "name": "stderr",
     "output_type": "stream",
     "text": [
      "\n",
      "\n",
      "  8%|▊         | 96/1141 [09:53<1:37:16,  5.59s/it]\u001b[A\u001b[A"
     ]
    },
    {
     "name": "stdout",
     "output_type": "stream",
     "text": [
      "'etymologies'\n"
     ]
    },
    {
     "name": "stderr",
     "output_type": "stream",
     "text": [
      "\n",
      "\n",
      "  9%|▊         | 97/1141 [09:59<1:37:07,  5.58s/it]\u001b[A\u001b[A\n",
      "\n",
      "  9%|▊         | 98/1141 [10:04<1:37:03,  5.58s/it]\u001b[A\u001b[A"
     ]
    },
    {
     "name": "stdout",
     "output_type": "stream",
     "text": [
      "'etymologies'\n"
     ]
    },
    {
     "name": "stderr",
     "output_type": "stream",
     "text": [
      "\n",
      "\n",
      "  9%|▊         | 99/1141 [10:10<1:36:59,  5.58s/it]\u001b[A\u001b[A"
     ]
    },
    {
     "name": "stdout",
     "output_type": "stream",
     "text": [
      "'etymologies'\n",
      "'examples'\n",
      "'etymologies'\n"
     ]
    },
    {
     "name": "stderr",
     "output_type": "stream",
     "text": [
      "\n",
      "\n",
      "  9%|▉         | 100/1141 [10:21<2:06:16,  7.28s/it]\u001b[A\u001b[A"
     ]
    },
    {
     "name": "stdout",
     "output_type": "stream",
     "text": [
      "'etymologies'\n"
     ]
    },
    {
     "name": "stderr",
     "output_type": "stream",
     "text": [
      "\n",
      "\n",
      "  9%|▉         | 101/1141 [10:27<1:57:50,  6.80s/it]\u001b[A\u001b[A\n",
      "\n",
      "  9%|▉         | 102/1141 [10:32<1:51:27,  6.44s/it]\u001b[A\u001b[A\n",
      "\n",
      "  9%|▉         | 103/1141 [10:38<1:46:55,  6.18s/it]\u001b[A\u001b[A\n",
      "\n",
      "  9%|▉         | 104/1141 [10:44<1:43:43,  6.00s/it]\u001b[A\u001b[A\n",
      "\n",
      "  9%|▉         | 105/1141 [10:49<1:41:38,  5.89s/it]\u001b[A\u001b[A\n",
      "\n",
      "  9%|▉         | 106/1141 [10:55<1:39:38,  5.78s/it]\u001b[A\u001b[A\n",
      "\n",
      "  9%|▉         | 107/1141 [11:00<1:38:40,  5.73s/it]\u001b[A\u001b[A\n",
      "\n",
      "  9%|▉         | 108/1141 [11:06<1:38:12,  5.70s/it]\u001b[A\u001b[A"
     ]
    },
    {
     "name": "stdout",
     "output_type": "stream",
     "text": [
      "'examples'\n"
     ]
    },
    {
     "name": "stderr",
     "output_type": "stream",
     "text": [
      "\n",
      "\n",
      " 10%|▉         | 109/1141 [11:11<1:37:19,  5.66s/it]\u001b[A\u001b[A\n",
      "\n",
      " 10%|▉         | 110/1141 [11:17<1:36:50,  5.64s/it]\u001b[A\u001b[A"
     ]
    },
    {
     "name": "stdout",
     "output_type": "stream",
     "text": [
      "'examples'\n"
     ]
    },
    {
     "name": "stderr",
     "output_type": "stream",
     "text": [
      "\n",
      "\n",
      " 10%|▉         | 111/1141 [11:23<1:36:33,  5.62s/it]\u001b[A\u001b[A\n",
      "\n",
      " 10%|▉         | 112/1141 [11:28<1:36:53,  5.65s/it]\u001b[A\u001b[A"
     ]
    },
    {
     "name": "stdout",
     "output_type": "stream",
     "text": [
      "'examples'\n"
     ]
    },
    {
     "name": "stderr",
     "output_type": "stream",
     "text": [
      "\n",
      "\n",
      " 10%|▉         | 113/1141 [11:34<1:36:33,  5.64s/it]\u001b[A\u001b[A\n",
      "\n",
      " 10%|▉         | 114/1141 [11:40<1:36:14,  5.62s/it]\u001b[A\u001b[A"
     ]
    },
    {
     "name": "stdout",
     "output_type": "stream",
     "text": [
      "'etymologies'\n"
     ]
    },
    {
     "name": "stderr",
     "output_type": "stream",
     "text": [
      "\n",
      "\n",
      " 10%|█         | 115/1141 [11:45<1:35:48,  5.60s/it]\u001b[A\u001b[A\n",
      "\n",
      " 10%|█         | 116/1141 [11:51<1:35:51,  5.61s/it]\u001b[A\u001b[A\n",
      "\n",
      " 10%|█         | 117/1141 [11:56<1:35:17,  5.58s/it]\u001b[A\u001b[A\n",
      "\n",
      " 10%|█         | 118/1141 [12:02<1:35:08,  5.58s/it]\u001b[A\u001b[A\n",
      "\n",
      " 10%|█         | 119/1141 [12:07<1:35:15,  5.59s/it]\u001b[A\u001b[A"
     ]
    },
    {
     "name": "stdout",
     "output_type": "stream",
     "text": [
      "'examples'\n"
     ]
    },
    {
     "name": "stderr",
     "output_type": "stream",
     "text": [
      "\n",
      "\n",
      " 11%|█         | 120/1141 [12:13<1:35:05,  5.59s/it]\u001b[A\u001b[A"
     ]
    },
    {
     "name": "stdout",
     "output_type": "stream",
     "text": [
      "'examples'\n"
     ]
    },
    {
     "name": "stderr",
     "output_type": "stream",
     "text": [
      "\n",
      "\n",
      " 11%|█         | 121/1141 [12:24<2:04:03,  7.30s/it]\u001b[A\u001b[A"
     ]
    },
    {
     "name": "stdout",
     "output_type": "stream",
     "text": [
      "'examples'\n",
      "'examples'\n"
     ]
    },
    {
     "name": "stderr",
     "output_type": "stream",
     "text": [
      "\n",
      "\n",
      " 11%|█         | 122/1141 [12:36<2:23:36,  8.46s/it]\u001b[A\u001b[A"
     ]
    },
    {
     "name": "stdout",
     "output_type": "stream",
     "text": [
      "'examples'\n"
     ]
    },
    {
     "name": "stderr",
     "output_type": "stream",
     "text": [
      "\n",
      "\n",
      " 11%|█         | 123/1141 [12:41<2:08:27,  7.57s/it]\u001b[A\u001b[A\n",
      "\n",
      " 11%|█         | 124/1141 [12:47<1:58:37,  7.00s/it]\u001b[A\u001b[A"
     ]
    },
    {
     "name": "stdout",
     "output_type": "stream",
     "text": [
      "'examples'\n"
     ]
    },
    {
     "name": "stderr",
     "output_type": "stream",
     "text": [
      "\n",
      "\n",
      " 11%|█         | 125/1141 [12:52<1:51:17,  6.57s/it]\u001b[A\u001b[A\n",
      "\n",
      " 11%|█         | 126/1141 [12:58<1:46:25,  6.29s/it]\u001b[A\u001b[A\n",
      "\n",
      " 11%|█         | 127/1141 [13:03<1:42:47,  6.08s/it]\u001b[A\u001b[A\n",
      "\n",
      " 11%|█         | 128/1141 [13:09<1:40:07,  5.93s/it]\u001b[A\u001b[A\n",
      "\n",
      " 11%|█▏        | 129/1141 [13:15<1:38:08,  5.82s/it]\u001b[A\u001b[A\n",
      "\n",
      " 11%|█▏        | 130/1141 [13:20<1:37:01,  5.76s/it]\u001b[A\u001b[A\n",
      "\n",
      " 11%|█▏        | 131/1141 [13:26<1:35:46,  5.69s/it]\u001b[A\u001b[A\n",
      "\n",
      " 12%|█▏        | 132/1141 [13:31<1:35:22,  5.67s/it]\u001b[A\u001b[A"
     ]
    },
    {
     "name": "stdout",
     "output_type": "stream",
     "text": [
      "'examples'\n"
     ]
    },
    {
     "name": "stderr",
     "output_type": "stream",
     "text": [
      "\n",
      "\n",
      " 12%|█▏        | 133/1141 [13:37<1:34:35,  5.63s/it]\u001b[A\u001b[A"
     ]
    },
    {
     "name": "stdout",
     "output_type": "stream",
     "text": [
      "'etymologies'\n"
     ]
    },
    {
     "name": "stderr",
     "output_type": "stream",
     "text": [
      "\n",
      "\n",
      " 12%|█▏        | 134/1141 [13:42<1:34:09,  5.61s/it]\u001b[A\u001b[A"
     ]
    },
    {
     "name": "stdout",
     "output_type": "stream",
     "text": [
      "'results'\n",
      "'results'\n",
      "'results'\n",
      "'results'\n",
      "'results'\n",
      "'results'\n",
      "'results'\n",
      "'results'\n",
      "'results'\n"
     ]
    },
    {
     "name": "stderr",
     "output_type": "stream",
     "text": [
      "\n",
      "\n",
      " 12%|█▏        | 135/1141 [13:59<2:30:00,  8.95s/it]\u001b[A\u001b[A"
     ]
    },
    {
     "name": "stdout",
     "output_type": "stream",
     "text": [
      "'results'\n",
      "'results'\n",
      "'results'\n"
     ]
    },
    {
     "name": "stderr",
     "output_type": "stream",
     "text": [
      "\n",
      "\n",
      " 12%|█▏        | 136/1141 [14:05<2:13:02,  7.94s/it]\u001b[A\u001b[A\n",
      "\n",
      " 12%|█▏        | 137/1141 [14:10<2:00:45,  7.22s/it]\u001b[A\u001b[A"
     ]
    },
    {
     "name": "stdout",
     "output_type": "stream",
     "text": [
      "'etymologies'\n"
     ]
    },
    {
     "name": "stderr",
     "output_type": "stream",
     "text": [
      "\n",
      "\n",
      " 12%|█▏        | 138/1141 [14:16<1:52:03,  6.70s/it]\u001b[A\u001b[A\n",
      "\n",
      " 12%|█▏        | 139/1141 [14:22<1:46:43,  6.39s/it]\u001b[A\u001b[A\n",
      "\n",
      " 12%|█▏        | 140/1141 [14:27<1:42:23,  6.14s/it]\u001b[A\u001b[A\n",
      "\n",
      " 12%|█▏        | 141/1141 [14:33<1:39:58,  6.00s/it]\u001b[A\u001b[A\n",
      "\n",
      " 12%|█▏        | 142/1141 [14:38<1:37:43,  5.87s/it]\u001b[A\u001b[A\n",
      "\n",
      " 13%|█▎        | 143/1141 [14:44<1:35:52,  5.76s/it]\u001b[A\u001b[A\n",
      "\n",
      " 13%|█▎        | 144/1141 [14:51<1:43:14,  6.21s/it]\u001b[A\u001b[A\n",
      "\n",
      " 13%|█▎        | 145/1141 [14:57<1:39:54,  6.02s/it]\u001b[A\u001b[A\n",
      "\n",
      " 13%|█▎        | 146/1141 [15:02<1:37:43,  5.89s/it]\u001b[A\u001b[A\n",
      "\n",
      " 13%|█▎        | 147/1141 [15:08<1:36:18,  5.81s/it]\u001b[A\u001b[A\n",
      "\n",
      " 13%|█▎        | 148/1141 [15:13<1:34:47,  5.73s/it]\u001b[A\u001b[A"
     ]
    },
    {
     "name": "stdout",
     "output_type": "stream",
     "text": [
      "'etymologies'\n"
     ]
    },
    {
     "name": "stderr",
     "output_type": "stream",
     "text": [
      "\n",
      "\n",
      " 13%|█▎        | 149/1141 [15:19<1:34:16,  5.70s/it]\u001b[A\u001b[A\n",
      "\n",
      " 13%|█▎        | 150/1141 [15:25<1:33:32,  5.66s/it]\u001b[A\u001b[A"
     ]
    },
    {
     "name": "stdout",
     "output_type": "stream",
     "text": [
      "'examples'\n"
     ]
    },
    {
     "name": "stderr",
     "output_type": "stream",
     "text": [
      "\n",
      "\n",
      " 13%|█▎        | 151/1141 [15:30<1:32:54,  5.63s/it]\u001b[A\u001b[A\n",
      "\n",
      " 13%|█▎        | 152/1141 [15:36<1:32:51,  5.63s/it]\u001b[A\u001b[A\n",
      "\n",
      " 13%|█▎        | 153/1141 [15:41<1:33:00,  5.65s/it]\u001b[A\u001b[A\n",
      "\n",
      " 13%|█▎        | 154/1141 [15:47<1:32:25,  5.62s/it]\u001b[A\u001b[A"
     ]
    },
    {
     "name": "stdout",
     "output_type": "stream",
     "text": [
      "'etymologies'\n"
     ]
    },
    {
     "name": "stderr",
     "output_type": "stream",
     "text": [
      "\n",
      "\n",
      " 14%|█▎        | 155/1141 [15:53<1:32:06,  5.61s/it]\u001b[A\u001b[A\n",
      "\n",
      " 14%|█▎        | 156/1141 [15:58<1:31:49,  5.59s/it]\u001b[A\u001b[A"
     ]
    },
    {
     "name": "stdout",
     "output_type": "stream",
     "text": [
      "'examples'\n"
     ]
    },
    {
     "name": "stderr",
     "output_type": "stream",
     "text": [
      "\n",
      "\n",
      " 14%|█▍        | 157/1141 [16:09<1:59:13,  7.27s/it]\u001b[A\u001b[A"
     ]
    },
    {
     "name": "stdout",
     "output_type": "stream",
     "text": [
      "'examples'\n"
     ]
    },
    {
     "name": "stderr",
     "output_type": "stream",
     "text": [
      "\n",
      "\n",
      " 14%|█▍        | 158/1141 [16:15<1:50:42,  6.76s/it]\u001b[A\u001b[A\n",
      "\n",
      " 14%|█▍        | 159/1141 [16:20<1:44:45,  6.40s/it]\u001b[A\u001b[A\n",
      "\n",
      " 14%|█▍        | 160/1141 [16:26<1:41:00,  6.18s/it]\u001b[A\u001b[A\n",
      "\n",
      " 14%|█▍        | 161/1141 [16:32<1:37:51,  5.99s/it]\u001b[A\u001b[A\n",
      "\n",
      " 14%|█▍        | 162/1141 [16:37<1:35:41,  5.86s/it]\u001b[A\u001b[A\n",
      "\n",
      " 14%|█▍        | 163/1141 [16:43<1:34:12,  5.78s/it]\u001b[A\u001b[A\n",
      "\n",
      " 14%|█▍        | 164/1141 [16:48<1:33:17,  5.73s/it]\u001b[A\u001b[A"
     ]
    },
    {
     "name": "stdout",
     "output_type": "stream",
     "text": [
      "'etymologies'\n"
     ]
    },
    {
     "name": "stderr",
     "output_type": "stream",
     "text": [
      "\n",
      "\n",
      " 14%|█▍        | 165/1141 [16:54<1:32:21,  5.68s/it]\u001b[A\u001b[A\n",
      "\n",
      " 15%|█▍        | 166/1141 [17:00<1:31:57,  5.66s/it]\u001b[A\u001b[A\n",
      "\n",
      " 15%|█▍        | 167/1141 [17:05<1:31:21,  5.63s/it]\u001b[A\u001b[A\n",
      "\n",
      " 15%|█▍        | 168/1141 [17:11<1:31:12,  5.62s/it]\u001b[A\u001b[A"
     ]
    },
    {
     "name": "stdout",
     "output_type": "stream",
     "text": [
      "'examples'\n"
     ]
    },
    {
     "name": "stderr",
     "output_type": "stream",
     "text": [
      "\n",
      "\n",
      " 15%|█▍        | 169/1141 [17:16<1:30:46,  5.60s/it]\u001b[A\u001b[A"
     ]
    },
    {
     "name": "stdout",
     "output_type": "stream",
     "text": [
      "'etymologies'\n"
     ]
    },
    {
     "name": "stderr",
     "output_type": "stream",
     "text": [
      "\n",
      "\n",
      " 15%|█▍        | 170/1141 [17:22<1:30:34,  5.60s/it]\u001b[A\u001b[A\n",
      "\n",
      " 15%|█▍        | 171/1141 [17:28<1:30:18,  5.59s/it]\u001b[A\u001b[A\n",
      "\n",
      " 15%|█▌        | 172/1141 [17:33<1:29:54,  5.57s/it]\u001b[A\u001b[A"
     ]
    },
    {
     "name": "stdout",
     "output_type": "stream",
     "text": [
      "'etymologies'\n",
      "'examples'\n",
      "'etymologies'\n"
     ]
    },
    {
     "name": "stderr",
     "output_type": "stream",
     "text": [
      "\n",
      "\n",
      " 15%|█▌        | 173/1141 [17:44<1:56:54,  7.25s/it]\u001b[A\u001b[A"
     ]
    },
    {
     "name": "stdout",
     "output_type": "stream",
     "text": [
      "'etymologies'\n",
      "'examples'\n",
      "'etymologies'\n"
     ]
    },
    {
     "name": "stderr",
     "output_type": "stream",
     "text": [
      "\n",
      "\n",
      " 15%|█▌        | 174/1141 [17:55<2:15:33,  8.41s/it]\u001b[A\u001b[A"
     ]
    },
    {
     "name": "stdout",
     "output_type": "stream",
     "text": [
      "'etymologies'\n"
     ]
    },
    {
     "name": "stderr",
     "output_type": "stream",
     "text": [
      "\n",
      "\n",
      " 15%|█▌        | 175/1141 [18:01<2:01:42,  7.56s/it]\u001b[A\u001b[A"
     ]
    },
    {
     "name": "stdout",
     "output_type": "stream",
     "text": [
      "'examples'\n"
     ]
    },
    {
     "name": "stderr",
     "output_type": "stream",
     "text": [
      "\n",
      "\n",
      " 15%|█▌        | 176/1141 [18:06<1:51:44,  6.95s/it]\u001b[A\u001b[A\n",
      "\n",
      " 16%|█▌        | 177/1141 [18:12<1:45:07,  6.54s/it]\u001b[A\u001b[A\n",
      "\n",
      " 16%|█▌        | 178/1141 [18:18<1:40:26,  6.26s/it]\u001b[A\u001b[A"
     ]
    },
    {
     "name": "stdout",
     "output_type": "stream",
     "text": [
      "'etymologies'\n"
     ]
    },
    {
     "name": "stderr",
     "output_type": "stream",
     "text": [
      "\n",
      "\n",
      " 16%|█▌        | 179/1141 [18:23<1:36:49,  6.04s/it]\u001b[A\u001b[A\n",
      "\n",
      " 16%|█▌        | 180/1141 [18:29<1:34:09,  5.88s/it]\u001b[A\u001b[A\n",
      "\n",
      " 16%|█▌        | 181/1141 [18:34<1:32:21,  5.77s/it]\u001b[A\u001b[A\n",
      "\n",
      " 16%|█▌        | 182/1141 [18:40<1:31:13,  5.71s/it]\u001b[A\u001b[A\n",
      "\n",
      " 16%|█▌        | 183/1141 [18:45<1:30:31,  5.67s/it]\u001b[A\u001b[A"
     ]
    },
    {
     "name": "stdout",
     "output_type": "stream",
     "text": [
      "'etymologies'\n",
      "'results'\n",
      "'results'\n",
      "'results'\n",
      "'results'\n",
      "'results'\n",
      "'results'\n",
      "'results'\n",
      "'results'\n",
      "'results'\n"
     ]
    },
    {
     "name": "stderr",
     "output_type": "stream",
     "text": [
      "\n",
      "\n",
      " 16%|█▌        | 184/1141 [19:02<2:23:17,  8.98s/it]\u001b[A\u001b[A"
     ]
    },
    {
     "name": "stdout",
     "output_type": "stream",
     "text": [
      "'results'\n",
      "'results'\n",
      "'results'\n"
     ]
    },
    {
     "name": "stderr",
     "output_type": "stream",
     "text": [
      "\n",
      "\n",
      " 16%|█▌        | 185/1141 [19:08<2:06:54,  7.96s/it]\u001b[A\u001b[A"
     ]
    },
    {
     "name": "stdout",
     "output_type": "stream",
     "text": [
      "'examples'\n"
     ]
    },
    {
     "name": "stderr",
     "output_type": "stream",
     "text": [
      "\n",
      "\n",
      " 16%|█▋        | 186/1141 [19:13<1:55:20,  7.25s/it]\u001b[A\u001b[A\n",
      "\n",
      " 16%|█▋        | 187/1141 [19:19<1:47:16,  6.75s/it]\u001b[A\u001b[A\n",
      "\n",
      " 16%|█▋        | 188/1141 [19:24<1:41:33,  6.39s/it]\u001b[A\u001b[A\n",
      "\n",
      " 17%|█▋        | 189/1141 [19:30<1:37:32,  6.15s/it]\u001b[A\u001b[A\n",
      "\n",
      " 17%|█▋        | 190/1141 [19:36<1:35:32,  6.03s/it]\u001b[A\u001b[A\n",
      "\n",
      " 17%|█▋        | 191/1141 [19:41<1:32:59,  5.87s/it]\u001b[A\u001b[A\n",
      "\n",
      " 17%|█▋        | 192/1141 [19:47<1:31:22,  5.78s/it]\u001b[A\u001b[A\n",
      "\n",
      " 17%|█▋        | 193/1141 [19:52<1:30:01,  5.70s/it]\u001b[A\u001b[A"
     ]
    },
    {
     "name": "stdout",
     "output_type": "stream",
     "text": [
      "'examples'\n"
     ]
    },
    {
     "name": "stderr",
     "output_type": "stream",
     "text": [
      "\n",
      "\n",
      " 17%|█▋        | 194/1141 [20:03<1:55:38,  7.33s/it]\u001b[A\u001b[A"
     ]
    },
    {
     "name": "stdout",
     "output_type": "stream",
     "text": [
      "'examples'\n"
     ]
    },
    {
     "name": "stderr",
     "output_type": "stream",
     "text": [
      "\n",
      "\n",
      " 17%|█▋        | 195/1141 [20:09<1:47:26,  6.81s/it]\u001b[A\u001b[A\n",
      "\n",
      " 17%|█▋        | 196/1141 [20:15<1:41:34,  6.45s/it]\u001b[A\u001b[A\n",
      "\n",
      " 17%|█▋        | 197/1141 [20:20<1:37:01,  6.17s/it]\u001b[A\u001b[A"
     ]
    },
    {
     "name": "stdout",
     "output_type": "stream",
     "text": [
      "'etymologies'\n"
     ]
    },
    {
     "name": "stderr",
     "output_type": "stream",
     "text": [
      "\n",
      "\n",
      " 17%|█▋        | 198/1141 [20:26<1:34:22,  6.01s/it]\u001b[A\u001b[A\n",
      "\n",
      " 17%|█▋        | 199/1141 [20:31<1:32:10,  5.87s/it]\u001b[A\u001b[A\n",
      "\n",
      " 18%|█▊        | 200/1141 [20:37<1:30:40,  5.78s/it]\u001b[A\u001b[A"
     ]
    },
    {
     "name": "stdout",
     "output_type": "stream",
     "text": [
      "'examples'\n"
     ]
    },
    {
     "name": "stderr",
     "output_type": "stream",
     "text": [
      "\n",
      "\n",
      " 18%|█▊        | 201/1141 [20:42<1:29:42,  5.73s/it]\u001b[A\u001b[A\n",
      "\n",
      " 18%|█▊        | 202/1141 [20:48<1:29:02,  5.69s/it]\u001b[A\u001b[A"
     ]
    },
    {
     "name": "stdout",
     "output_type": "stream",
     "text": [
      "'examples'\n"
     ]
    },
    {
     "name": "stderr",
     "output_type": "stream",
     "text": [
      "\n",
      "\n",
      " 18%|█▊        | 203/1141 [20:54<1:28:40,  5.67s/it]\u001b[A\u001b[A"
     ]
    },
    {
     "name": "stdout",
     "output_type": "stream",
     "text": [
      "'examples'\n"
     ]
    },
    {
     "name": "stderr",
     "output_type": "stream",
     "text": [
      "\n",
      "\n",
      " 18%|█▊        | 204/1141 [20:59<1:28:49,  5.69s/it]\u001b[A\u001b[A\n",
      "\n",
      " 18%|█▊        | 205/1141 [21:05<1:28:01,  5.64s/it]\u001b[A\u001b[A\n",
      "\n",
      " 18%|█▊        | 206/1141 [21:11<1:27:38,  5.62s/it]\u001b[A\u001b[A\n",
      "\n",
      " 18%|█▊        | 207/1141 [21:16<1:27:31,  5.62s/it]\u001b[A\u001b[A\n",
      "\n",
      " 18%|█▊        | 208/1141 [21:22<1:27:18,  5.61s/it]\u001b[A\u001b[A\n",
      "\n",
      " 18%|█▊        | 209/1141 [21:27<1:26:43,  5.58s/it]\u001b[A\u001b[A"
     ]
    },
    {
     "name": "stdout",
     "output_type": "stream",
     "text": [
      "'examples'\n"
     ]
    },
    {
     "name": "stderr",
     "output_type": "stream",
     "text": [
      "\n",
      "\n",
      " 18%|█▊        | 210/1141 [21:33<1:26:35,  5.58s/it]\u001b[A\u001b[A\n",
      "\n",
      " 18%|█▊        | 211/1141 [21:38<1:26:10,  5.56s/it]\u001b[A\u001b[A\n",
      "\n",
      " 19%|█▊        | 212/1141 [21:44<1:25:56,  5.55s/it]\u001b[A\u001b[A"
     ]
    },
    {
     "name": "stdout",
     "output_type": "stream",
     "text": [
      "'etymologies'\n"
     ]
    },
    {
     "name": "stderr",
     "output_type": "stream",
     "text": [
      "\n",
      "\n",
      " 19%|█▊        | 213/1141 [21:49<1:25:46,  5.55s/it]\u001b[A\u001b[A"
     ]
    },
    {
     "name": "stdout",
     "output_type": "stream",
     "text": [
      "'etymologies'\n"
     ]
    },
    {
     "name": "stderr",
     "output_type": "stream",
     "text": [
      "\n",
      "\n",
      " 19%|█▉        | 214/1141 [22:01<1:51:41,  7.23s/it]\u001b[A\u001b[A"
     ]
    },
    {
     "name": "stdout",
     "output_type": "stream",
     "text": [
      "'etymologies'\n"
     ]
    },
    {
     "name": "stderr",
     "output_type": "stream",
     "text": [
      "\n",
      "\n",
      " 19%|█▉        | 215/1141 [22:06<1:43:36,  6.71s/it]\u001b[A\u001b[A\n",
      "\n",
      " 19%|█▉        | 216/1141 [22:12<1:37:56,  6.35s/it]\u001b[A\u001b[A\n",
      "\n",
      " 19%|█▉        | 217/1141 [22:17<1:34:02,  6.11s/it]\u001b[A\u001b[A\n",
      "\n",
      " 19%|█▉        | 218/1141 [22:23<1:31:19,  5.94s/it]\u001b[A\u001b[A\n",
      "\n",
      " 19%|█▉        | 219/1141 [22:28<1:29:19,  5.81s/it]\u001b[A\u001b[A\n",
      "\n",
      " 19%|█▉        | 220/1141 [22:34<1:28:17,  5.75s/it]\u001b[A\u001b[A\n",
      "\n",
      " 19%|█▉        | 221/1141 [22:39<1:27:42,  5.72s/it]\u001b[A\u001b[A"
     ]
    },
    {
     "name": "stdout",
     "output_type": "stream",
     "text": [
      "'examples'\n"
     ]
    },
    {
     "name": "stderr",
     "output_type": "stream",
     "text": [
      "\n",
      "\n",
      " 19%|█▉        | 222/1141 [22:45<1:26:46,  5.67s/it]\u001b[A\u001b[A"
     ]
    },
    {
     "name": "stdout",
     "output_type": "stream",
     "text": [
      "'etymologies'\n"
     ]
    },
    {
     "name": "stderr",
     "output_type": "stream",
     "text": [
      "\n",
      "\n",
      " 20%|█▉        | 223/1141 [22:51<1:26:39,  5.66s/it]\u001b[A\u001b[A\n",
      "\n",
      " 20%|█▉        | 224/1141 [22:56<1:26:04,  5.63s/it]\u001b[A\u001b[A"
     ]
    },
    {
     "name": "stdout",
     "output_type": "stream",
     "text": [
      "'etymologies'\n"
     ]
    },
    {
     "name": "stderr",
     "output_type": "stream",
     "text": [
      "\n",
      "\n",
      " 20%|█▉        | 225/1141 [23:02<1:26:17,  5.65s/it]\u001b[A\u001b[A\n",
      "\n",
      " 20%|█▉        | 226/1141 [23:08<1:26:25,  5.67s/it]\u001b[A\u001b[A\n",
      "\n",
      " 20%|█▉        | 227/1141 [23:13<1:26:03,  5.65s/it]\u001b[A\u001b[A"
     ]
    },
    {
     "name": "stdout",
     "output_type": "stream",
     "text": [
      "'etymologies'\n"
     ]
    },
    {
     "name": "stderr",
     "output_type": "stream",
     "text": [
      "\n",
      "\n",
      " 20%|█▉        | 228/1141 [23:19<1:25:52,  5.64s/it]\u001b[A\u001b[A\n",
      "\n",
      " 20%|██        | 229/1141 [23:25<1:26:21,  5.68s/it]\u001b[A\u001b[A"
     ]
    },
    {
     "name": "stdout",
     "output_type": "stream",
     "text": [
      "'examples'\n"
     ]
    },
    {
     "name": "stderr",
     "output_type": "stream",
     "text": [
      "\n",
      "\n",
      " 20%|██        | 230/1141 [23:30<1:25:59,  5.66s/it]\u001b[A\u001b[A\n",
      "\n",
      " 20%|██        | 231/1141 [23:36<1:25:44,  5.65s/it]\u001b[A\u001b[A"
     ]
    },
    {
     "name": "stdout",
     "output_type": "stream",
     "text": [
      "'etymologies'\n"
     ]
    },
    {
     "name": "stderr",
     "output_type": "stream",
     "text": [
      "\n",
      "\n",
      " 20%|██        | 232/1141 [23:41<1:25:29,  5.64s/it]\u001b[A\u001b[A"
     ]
    },
    {
     "name": "stdout",
     "output_type": "stream",
     "text": [
      "'pronunciations'\n",
      "'pronunciations'\n"
     ]
    },
    {
     "name": "stderr",
     "output_type": "stream",
     "text": [
      "\n",
      "\n",
      " 20%|██        | 233/1141 [23:47<1:25:22,  5.64s/it]\u001b[A\u001b[A\n",
      "\n",
      " 21%|██        | 234/1141 [23:53<1:25:04,  5.63s/it]\u001b[A\u001b[A\n",
      "\n",
      " 21%|██        | 235/1141 [23:58<1:24:33,  5.60s/it]\u001b[A\u001b[A"
     ]
    },
    {
     "name": "stdout",
     "output_type": "stream",
     "text": [
      "'examples'\n"
     ]
    },
    {
     "name": "stderr",
     "output_type": "stream",
     "text": [
      "\n",
      "\n",
      " 21%|██        | 236/1141 [24:04<1:24:20,  5.59s/it]\u001b[A\u001b[A"
     ]
    },
    {
     "name": "stdout",
     "output_type": "stream",
     "text": [
      "'etymologies'\n",
      "'audioFile'\n"
     ]
    },
    {
     "name": "stderr",
     "output_type": "stream",
     "text": [
      "\n",
      "\n",
      " 21%|██        | 237/1141 [24:09<1:24:14,  5.59s/it]\u001b[A\u001b[A"
     ]
    },
    {
     "name": "stdout",
     "output_type": "stream",
     "text": [
      "'examples'\n"
     ]
    },
    {
     "name": "stderr",
     "output_type": "stream",
     "text": [
      "\n",
      "\n",
      " 21%|██        | 238/1141 [24:15<1:24:10,  5.59s/it]\u001b[A\u001b[A\n",
      "\n",
      " 21%|██        | 239/1141 [24:21<1:23:55,  5.58s/it]\u001b[A\u001b[A"
     ]
    },
    {
     "name": "stdout",
     "output_type": "stream",
     "text": [
      "'examples'\n"
     ]
    },
    {
     "name": "stderr",
     "output_type": "stream",
     "text": [
      "\n",
      "\n",
      " 21%|██        | 240/1141 [24:26<1:24:24,  5.62s/it]\u001b[A\u001b[A"
     ]
    },
    {
     "name": "stdout",
     "output_type": "stream",
     "text": [
      "'examples'\n"
     ]
    },
    {
     "name": "stderr",
     "output_type": "stream",
     "text": [
      "\n",
      "\n",
      " 21%|██        | 241/1141 [24:32<1:24:26,  5.63s/it]\u001b[A\u001b[A"
     ]
    },
    {
     "name": "stdout",
     "output_type": "stream",
     "text": [
      "'etymologies'\n"
     ]
    },
    {
     "name": "stderr",
     "output_type": "stream",
     "text": [
      "\n",
      "\n",
      " 21%|██        | 242/1141 [24:37<1:23:50,  5.60s/it]\u001b[A\u001b[A"
     ]
    },
    {
     "name": "stdout",
     "output_type": "stream",
     "text": [
      "'examples'\n"
     ]
    },
    {
     "name": "stderr",
     "output_type": "stream",
     "text": [
      "\n",
      "\n",
      " 21%|██▏       | 243/1141 [24:43<1:23:21,  5.57s/it]\u001b[A\u001b[A"
     ]
    },
    {
     "name": "stdout",
     "output_type": "stream",
     "text": [
      "'examples'\n",
      "'etymologies'\n"
     ]
    },
    {
     "name": "stderr",
     "output_type": "stream",
     "text": [
      "\n",
      "\n",
      " 21%|██▏       | 244/1141 [24:54<1:48:17,  7.24s/it]\u001b[A\u001b[A"
     ]
    },
    {
     "name": "stdout",
     "output_type": "stream",
     "text": [
      "'etymologies'\n"
     ]
    },
    {
     "name": "stderr",
     "output_type": "stream",
     "text": [
      "\n",
      "\n",
      " 21%|██▏       | 245/1141 [25:00<1:40:30,  6.73s/it]\u001b[A\u001b[A\n",
      "\n",
      " 22%|██▏       | 246/1141 [25:05<1:35:35,  6.41s/it]\u001b[A\u001b[A"
     ]
    },
    {
     "name": "stdout",
     "output_type": "stream",
     "text": [
      "'examples'\n"
     ]
    },
    {
     "name": "stderr",
     "output_type": "stream",
     "text": [
      "\n",
      "\n",
      " 22%|██▏       | 247/1141 [25:11<1:31:38,  6.15s/it]\u001b[A\u001b[A"
     ]
    },
    {
     "name": "stdout",
     "output_type": "stream",
     "text": [
      "'etymologies'\n",
      "'examples'\n",
      "'etymologies'\n",
      "'phoneticSpelling'\n"
     ]
    },
    {
     "name": "stderr",
     "output_type": "stream",
     "text": [
      "\n",
      "\n",
      " 22%|██▏       | 248/1141 [25:23<1:57:33,  7.90s/it]\u001b[A\u001b[A"
     ]
    },
    {
     "name": "stdout",
     "output_type": "stream",
     "text": [
      "'etymologies'\n",
      "'phoneticSpelling'\n"
     ]
    },
    {
     "name": "stderr",
     "output_type": "stream",
     "text": [
      "\n",
      "\n",
      " 22%|██▏       | 249/1141 [25:28<1:46:57,  7.19s/it]\u001b[A\u001b[A"
     ]
    },
    {
     "name": "stdout",
     "output_type": "stream",
     "text": [
      "'etymologies'\n"
     ]
    },
    {
     "name": "stderr",
     "output_type": "stream",
     "text": [
      "\n",
      "\n",
      " 22%|██▏       | 250/1141 [25:39<2:04:13,  8.37s/it]\u001b[A\u001b[A"
     ]
    },
    {
     "name": "stdout",
     "output_type": "stream",
     "text": [
      "'etymologies'\n",
      "'etymologies'\n"
     ]
    },
    {
     "name": "stderr",
     "output_type": "stream",
     "text": [
      "\n",
      "\n",
      " 22%|██▏       | 251/1141 [25:51<2:16:29,  9.20s/it]\u001b[A\u001b[A"
     ]
    },
    {
     "name": "stdout",
     "output_type": "stream",
     "text": [
      "'etymologies'\n",
      "'examples'\n"
     ]
    },
    {
     "name": "stderr",
     "output_type": "stream",
     "text": [
      "\n",
      "\n",
      " 22%|██▏       | 252/1141 [26:02<2:24:53,  9.78s/it]\u001b[A\u001b[A"
     ]
    },
    {
     "name": "stdout",
     "output_type": "stream",
     "text": [
      "'examples'\n"
     ]
    },
    {
     "name": "stderr",
     "output_type": "stream",
     "text": [
      "\n",
      "\n",
      " 22%|██▏       | 253/1141 [26:07<2:06:03,  8.52s/it]\u001b[A\u001b[A\n",
      "\n",
      " 22%|██▏       | 254/1141 [26:13<1:53:30,  7.68s/it]\u001b[A\u001b[A\n",
      "\n",
      " 22%|██▏       | 255/1141 [26:19<1:44:04,  7.05s/it]\u001b[A\u001b[A\n",
      "\n",
      " 22%|██▏       | 256/1141 [26:24<1:37:13,  6.59s/it]\u001b[A\u001b[A"
     ]
    },
    {
     "name": "stdout",
     "output_type": "stream",
     "text": [
      "'examples'\n"
     ]
    },
    {
     "name": "stderr",
     "output_type": "stream",
     "text": [
      "\n",
      "\n",
      " 23%|██▎       | 257/1141 [26:30<1:32:35,  6.28s/it]\u001b[A\u001b[A"
     ]
    },
    {
     "name": "stdout",
     "output_type": "stream",
     "text": [
      "'examples'\n"
     ]
    },
    {
     "name": "stderr",
     "output_type": "stream",
     "text": [
      "\n",
      "\n",
      " 23%|██▎       | 258/1141 [26:35<1:29:22,  6.07s/it]\u001b[A\u001b[A\n",
      "\n",
      " 23%|██▎       | 259/1141 [26:41<1:27:04,  5.92s/it]\u001b[A\u001b[A\n",
      "\n",
      " 23%|██▎       | 260/1141 [26:46<1:25:24,  5.82s/it]\u001b[A\u001b[A\n",
      "\n",
      " 23%|██▎       | 261/1141 [26:52<1:24:34,  5.77s/it]\u001b[A\u001b[A\n",
      "\n",
      " 23%|██▎       | 262/1141 [26:58<1:23:41,  5.71s/it]\u001b[A\u001b[A\n",
      "\n",
      " 23%|██▎       | 263/1141 [27:03<1:22:53,  5.66s/it]\u001b[A\u001b[A"
     ]
    },
    {
     "name": "stdout",
     "output_type": "stream",
     "text": [
      "'examples'\n"
     ]
    },
    {
     "name": "stderr",
     "output_type": "stream",
     "text": [
      "\n",
      "\n",
      " 23%|██▎       | 264/1141 [27:09<1:22:25,  5.64s/it]\u001b[A\u001b[A"
     ]
    },
    {
     "name": "stdout",
     "output_type": "stream",
     "text": [
      "'etymologies'\n"
     ]
    },
    {
     "name": "stderr",
     "output_type": "stream",
     "text": [
      "\n",
      "\n",
      " 23%|██▎       | 265/1141 [27:14<1:22:05,  5.62s/it]\u001b[A\u001b[A\n",
      "\n",
      " 23%|██▎       | 266/1141 [27:20<1:21:32,  5.59s/it]\u001b[A\u001b[A\n",
      "\n",
      " 23%|██▎       | 267/1141 [27:25<1:21:29,  5.59s/it]\u001b[A\u001b[A\n",
      "\n",
      " 23%|██▎       | 268/1141 [27:31<1:21:10,  5.58s/it]\u001b[A\u001b[A"
     ]
    },
    {
     "name": "stdout",
     "output_type": "stream",
     "text": [
      "'etymologies'\n"
     ]
    },
    {
     "name": "stderr",
     "output_type": "stream",
     "text": [
      "\n",
      "\n",
      " 24%|██▎       | 269/1141 [27:42<1:45:27,  7.26s/it]\u001b[A\u001b[A"
     ]
    },
    {
     "name": "stdout",
     "output_type": "stream",
     "text": [
      "'etymologies'\n",
      "'results'\n",
      "'results'\n",
      "'results'\n",
      "'results'\n",
      "'results'\n",
      "'results'\n",
      "'results'\n",
      "'results'\n",
      "'results'\n"
     ]
    },
    {
     "name": "stderr",
     "output_type": "stream",
     "text": [
      "\n",
      "\n",
      " 24%|██▎       | 270/1141 [27:59<2:26:20, 10.08s/it]\u001b[A\u001b[A"
     ]
    },
    {
     "name": "stdout",
     "output_type": "stream",
     "text": [
      "'results'\n",
      "'results'\n",
      "'results'\n",
      "'results'\n",
      "'results'\n",
      "'results'\n",
      "'results'\n",
      "'results'\n",
      "'results'\n",
      "'results'\n",
      "'results'\n",
      "'results'\n"
     ]
    },
    {
     "name": "stderr",
     "output_type": "stream",
     "text": [
      "\n",
      "\n",
      " 24%|██▍       | 274/1141 [28:16<2:00:05,  8.31s/it]\u001b[A\u001b[A"
     ]
    },
    {
     "name": "stdout",
     "output_type": "stream",
     "text": [
      "'results'\n",
      "'results'\n",
      "'results'\n",
      "'etymologies'\n"
     ]
    },
    {
     "name": "stderr",
     "output_type": "stream",
     "text": [
      "\n",
      "\n",
      " 24%|██▍       | 275/1141 [28:27<2:12:56,  9.21s/it]\u001b[A\u001b[A"
     ]
    },
    {
     "name": "stdout",
     "output_type": "stream",
     "text": [
      "'etymologies'\n",
      "'examples'\n",
      "'etymologies'\n",
      "'phoneticSpelling'\n",
      "'examples'\n",
      "'etymologies'\n",
      "'phoneticSpelling'\n"
     ]
    },
    {
     "name": "stderr",
     "output_type": "stream",
     "text": [
      "\n",
      "\n",
      " 24%|██▍       | 276/1141 [28:44<2:48:43, 11.70s/it]\u001b[A\u001b[A"
     ]
    },
    {
     "name": "stdout",
     "output_type": "stream",
     "text": [
      "'etymologies'\n",
      "'phoneticSpelling'\n"
     ]
    },
    {
     "name": "stderr",
     "output_type": "stream",
     "text": [
      "\n",
      "\n",
      " 24%|██▍       | 277/1141 [28:50<2:22:27,  9.89s/it]\u001b[A\u001b[A\n",
      "\n",
      " 24%|██▍       | 278/1141 [28:56<2:03:28,  8.58s/it]\u001b[A\u001b[A\n",
      "\n",
      " 24%|██▍       | 279/1141 [29:01<1:50:42,  7.71s/it]\u001b[A\u001b[A"
     ]
    },
    {
     "name": "stdout",
     "output_type": "stream",
     "text": [
      "'definitions'\n",
      "'examples'\n",
      "'etymologies'\n",
      "'examples'\n",
      "'etymologies'\n"
     ]
    },
    {
     "name": "stderr",
     "output_type": "stream",
     "text": [
      "\n",
      "\n",
      " 25%|██▍       | 280/1141 [29:18<2:29:49, 10.44s/it]\u001b[A\u001b[A"
     ]
    },
    {
     "name": "stdout",
     "output_type": "stream",
     "text": [
      "'etymologies'\n"
     ]
    },
    {
     "name": "stderr",
     "output_type": "stream",
     "text": [
      "\n",
      "\n",
      " 25%|██▍       | 281/1141 [29:24<2:09:01,  9.00s/it]\u001b[A\u001b[A\n",
      "\n",
      " 25%|██▍       | 282/1141 [29:29<1:54:13,  7.98s/it]\u001b[A\u001b[A\n",
      "\n",
      " 25%|██▍       | 283/1141 [29:35<1:43:55,  7.27s/it]\u001b[A\u001b[A\n",
      "\n",
      " 25%|██▍       | 284/1141 [29:41<1:36:58,  6.79s/it]\u001b[A\u001b[A"
     ]
    },
    {
     "name": "stdout",
     "output_type": "stream",
     "text": [
      "'pronunciations'\n",
      "'pronunciations'\n"
     ]
    },
    {
     "name": "stderr",
     "output_type": "stream",
     "text": [
      "\n",
      "\n",
      " 25%|██▍       | 285/1141 [29:46<1:31:33,  6.42s/it]\u001b[A\u001b[A\n",
      "\n",
      " 25%|██▌       | 286/1141 [29:52<1:27:37,  6.15s/it]\u001b[A\u001b[A\n",
      "\n",
      " 25%|██▌       | 287/1141 [29:57<1:25:27,  6.00s/it]\u001b[A\u001b[A\n",
      "\n",
      " 25%|██▌       | 288/1141 [30:03<1:23:47,  5.89s/it]\u001b[A\u001b[A\n",
      "\n",
      " 25%|██▌       | 289/1141 [30:09<1:23:07,  5.85s/it]\u001b[A\u001b[A"
     ]
    },
    {
     "name": "stdout",
     "output_type": "stream",
     "text": [
      "'etymologies'\n"
     ]
    },
    {
     "name": "stderr",
     "output_type": "stream",
     "text": [
      "\n",
      "\n",
      " 25%|██▌       | 290/1141 [30:20<1:45:33,  7.44s/it]\u001b[A\u001b[A"
     ]
    },
    {
     "name": "stdout",
     "output_type": "stream",
     "text": [
      "'etymologies'\n",
      "'results'\n",
      "'results'\n",
      "'results'\n",
      "'results'\n",
      "'results'\n",
      "'results'\n",
      "'results'\n",
      "'results'\n",
      "'results'\n"
     ]
    },
    {
     "name": "stderr",
     "output_type": "stream",
     "text": [
      "\n",
      "\n",
      " 26%|██▌       | 291/1141 [30:38<2:32:48, 10.79s/it]\u001b[A\u001b[A"
     ]
    },
    {
     "name": "stdout",
     "output_type": "stream",
     "text": [
      "'results'\n",
      "'results'\n",
      "'results'\n",
      "'definitions'\n",
      "'examples'\n",
      "'etymologies'\n",
      "'examples'\n",
      "'etymologies'\n"
     ]
    },
    {
     "name": "stderr",
     "output_type": "stream",
     "text": [
      "\n",
      "\n",
      " 26%|██▌       | 292/1141 [30:55<2:57:37, 12.55s/it]\u001b[A\u001b[A"
     ]
    },
    {
     "name": "stdout",
     "output_type": "stream",
     "text": [
      "'etymologies'\n",
      "'examples'\n"
     ]
    },
    {
     "name": "stderr",
     "output_type": "stream",
     "text": [
      "\n",
      "\n",
      " 26%|██▌       | 293/1141 [31:06<2:51:42, 12.15s/it]\u001b[A\u001b[A"
     ]
    },
    {
     "name": "stdout",
     "output_type": "stream",
     "text": [
      "'examples'\n",
      "'etymologies'\n"
     ]
    },
    {
     "name": "stderr",
     "output_type": "stream",
     "text": [
      "\n",
      "\n",
      " 26%|██▌       | 294/1141 [31:17<2:47:05, 11.84s/it]\u001b[A\u001b[A"
     ]
    },
    {
     "name": "stdout",
     "output_type": "stream",
     "text": [
      "'etymologies'\n"
     ]
    },
    {
     "name": "stderr",
     "output_type": "stream",
     "text": [
      "\n",
      "\n",
      " 26%|██▌       | 295/1141 [31:23<2:20:36,  9.97s/it]\u001b[A\u001b[A"
     ]
    },
    {
     "name": "stdout",
     "output_type": "stream",
     "text": [
      "'examples'\n"
     ]
    },
    {
     "name": "stderr",
     "output_type": "stream",
     "text": [
      "\n",
      "\n",
      " 26%|██▌       | 296/1141 [31:34<2:25:02, 10.30s/it]\u001b[A\u001b[A"
     ]
    },
    {
     "name": "stdout",
     "output_type": "stream",
     "text": [
      "'examples'\n"
     ]
    },
    {
     "name": "stderr",
     "output_type": "stream",
     "text": [
      "\n",
      "\n",
      " 26%|██▌       | 297/1141 [31:40<2:04:46,  8.87s/it]\u001b[A\u001b[A"
     ]
    },
    {
     "name": "stdout",
     "output_type": "stream",
     "text": [
      "'etymologies'\n"
     ]
    },
    {
     "name": "stderr",
     "output_type": "stream",
     "text": [
      "\n",
      "\n",
      " 26%|██▌       | 298/1141 [31:51<2:13:56,  9.53s/it]\u001b[A\u001b[A"
     ]
    },
    {
     "name": "stdout",
     "output_type": "stream",
     "text": [
      "'etymologies'\n"
     ]
    },
    {
     "name": "stderr",
     "output_type": "stream",
     "text": [
      "\n",
      "\n",
      " 26%|██▌       | 299/1141 [31:56<1:57:20,  8.36s/it]\u001b[A\u001b[A\n",
      "\n",
      " 26%|██▋       | 300/1141 [32:02<1:45:48,  7.55s/it]\u001b[A\u001b[A\n",
      "\n",
      " 26%|██▋       | 301/1141 [32:08<1:37:43,  6.98s/it]\u001b[A\u001b[A\n",
      "\n",
      " 26%|██▋       | 302/1141 [32:13<1:31:29,  6.54s/it]\u001b[A\u001b[A"
     ]
    },
    {
     "name": "stdout",
     "output_type": "stream",
     "text": [
      "'examples'\n",
      "'etymologies'\n",
      "'examples'\n",
      "'etymologies'\n"
     ]
    },
    {
     "name": "stderr",
     "output_type": "stream",
     "text": [
      "\n",
      "\n",
      " 27%|██▋       | 303/1141 [32:30<2:13:52,  9.59s/it]\u001b[A\u001b[A"
     ]
    },
    {
     "name": "stdout",
     "output_type": "stream",
     "text": [
      "'etymologies'\n"
     ]
    },
    {
     "name": "stderr",
     "output_type": "stream",
     "text": [
      "\n",
      "\n",
      " 27%|██▋       | 304/1141 [32:35<1:56:47,  8.37s/it]\u001b[A\u001b[A"
     ]
    },
    {
     "name": "stdout",
     "output_type": "stream",
     "text": [
      "'etymologies'\n"
     ]
    },
    {
     "name": "stderr",
     "output_type": "stream",
     "text": [
      "\n",
      "\n",
      " 27%|██▋       | 305/1141 [32:47<2:08:02,  9.19s/it]\u001b[A\u001b[A"
     ]
    },
    {
     "name": "stdout",
     "output_type": "stream",
     "text": [
      "'etymologies'\n",
      "'examples'\n"
     ]
    },
    {
     "name": "stderr",
     "output_type": "stream",
     "text": [
      "\n",
      "\n",
      " 27%|██▋       | 306/1141 [32:58<2:16:34,  9.81s/it]\u001b[A\u001b[A"
     ]
    },
    {
     "name": "stdout",
     "output_type": "stream",
     "text": [
      "'examples'\n"
     ]
    },
    {
     "name": "stderr",
     "output_type": "stream",
     "text": [
      "\n",
      "\n",
      " 27%|██▋       | 307/1141 [33:03<1:58:47,  8.55s/it]\u001b[A\u001b[A"
     ]
    },
    {
     "name": "stdout",
     "output_type": "stream",
     "text": [
      "'etymologies'\n"
     ]
    },
    {
     "name": "stderr",
     "output_type": "stream",
     "text": [
      "\n",
      "\n",
      " 27%|██▋       | 308/1141 [33:14<2:08:56,  9.29s/it]\u001b[A\u001b[A"
     ]
    },
    {
     "name": "stdout",
     "output_type": "stream",
     "text": [
      "'etymologies'\n",
      "'results'\n",
      "'results'\n",
      "'results'\n",
      "'results'\n",
      "'results'\n",
      "'results'\n",
      "'results'\n",
      "'results'\n",
      "'results'\n"
     ]
    },
    {
     "name": "stderr",
     "output_type": "stream",
     "text": [
      "\n",
      "\n",
      " 27%|██▋       | 309/1141 [33:32<2:41:37, 11.66s/it]\u001b[A\u001b[A"
     ]
    },
    {
     "name": "stdout",
     "output_type": "stream",
     "text": [
      "'results'\n",
      "'results'\n",
      "'results'\n"
     ]
    },
    {
     "name": "stderr",
     "output_type": "stream",
     "text": [
      "\n",
      "\n",
      " 27%|██▋       | 310/1141 [33:37<2:16:08,  9.83s/it]\u001b[A\u001b[A\n",
      "\n",
      " 27%|██▋       | 311/1141 [33:43<1:58:03,  8.53s/it]\u001b[A\u001b[A"
     ]
    },
    {
     "name": "stdout",
     "output_type": "stream",
     "text": [
      "'etymologies'\n"
     ]
    },
    {
     "name": "stderr",
     "output_type": "stream",
     "text": [
      "\n",
      "\n",
      " 27%|██▋       | 312/1141 [33:54<2:08:18,  9.29s/it]\u001b[A\u001b[A"
     ]
    },
    {
     "name": "stdout",
     "output_type": "stream",
     "text": [
      "'etymologies'\n",
      "'examples'\n"
     ]
    },
    {
     "name": "stderr",
     "output_type": "stream",
     "text": [
      "\n",
      "\n",
      " 27%|██▋       | 313/1141 [34:05<2:16:13,  9.87s/it]\u001b[A\u001b[A"
     ]
    },
    {
     "name": "stdout",
     "output_type": "stream",
     "text": [
      "'examples'\n"
     ]
    },
    {
     "name": "stderr",
     "output_type": "stream",
     "text": [
      "\n",
      "\n",
      " 28%|██▊       | 314/1141 [34:10<1:58:02,  8.56s/it]\u001b[A\u001b[A\n",
      "\n",
      " 28%|██▊       | 315/1141 [34:16<1:45:34,  7.67s/it]\u001b[A\u001b[A"
     ]
    },
    {
     "name": "stdout",
     "output_type": "stream",
     "text": [
      "'results'\n",
      "'results'\n",
      "'results'\n",
      "'results'\n",
      "'results'\n",
      "'results'\n",
      "'results'\n",
      "'results'\n",
      "'results'\n"
     ]
    },
    {
     "name": "stderr",
     "output_type": "stream",
     "text": [
      "\n",
      "\n",
      " 28%|██▊       | 316/1141 [34:33<2:23:05, 10.41s/it]\u001b[A\u001b[A"
     ]
    },
    {
     "name": "stdout",
     "output_type": "stream",
     "text": [
      "'results'\n",
      "'results'\n",
      "'results'\n",
      "'examples'\n",
      "'etymologies'\n",
      "'examples'\n",
      "'etymologies'\n"
     ]
    },
    {
     "name": "stderr",
     "output_type": "stream",
     "text": [
      "\n",
      "\n",
      " 28%|██▊       | 317/1141 [34:50<2:48:36, 12.28s/it]\u001b[A\u001b[A"
     ]
    },
    {
     "name": "stdout",
     "output_type": "stream",
     "text": [
      "'etymologies'\n"
     ]
    },
    {
     "name": "stderr",
     "output_type": "stream",
     "text": [
      "\n",
      "\n",
      " 28%|██▊       | 318/1141 [34:55<2:20:42, 10.26s/it]\u001b[A\u001b[A"
     ]
    },
    {
     "name": "stdout",
     "output_type": "stream",
     "text": [
      "'results'\n",
      "'results'\n",
      "'results'\n",
      "'results'\n",
      "'results'\n",
      "'results'\n",
      "'results'\n",
      "'results'\n",
      "'results'\n"
     ]
    },
    {
     "name": "stderr",
     "output_type": "stream",
     "text": [
      "\n",
      "\n",
      " 28%|██▊       | 319/1141 [35:12<2:47:29, 12.23s/it]\u001b[A\u001b[A"
     ]
    },
    {
     "name": "stdout",
     "output_type": "stream",
     "text": [
      "'results'\n",
      "'results'\n",
      "'results'\n"
     ]
    },
    {
     "name": "stderr",
     "output_type": "stream",
     "text": [
      "\n",
      "\n",
      " 28%|██▊       | 320/1141 [35:17<2:20:01, 10.23s/it]\u001b[A\u001b[A\n",
      "\n",
      " 28%|██▊       | 321/1141 [35:23<2:00:59,  8.85s/it]\u001b[A\u001b[A\n",
      "\n",
      " 28%|██▊       | 322/1141 [35:29<1:48:07,  7.92s/it]\u001b[A\u001b[A"
     ]
    },
    {
     "name": "stdout",
     "output_type": "stream",
     "text": [
      "'results'\n",
      "'results'\n",
      "'results'\n",
      "'results'\n",
      "'results'\n",
      "'results'\n",
      "'results'\n",
      "'results'\n",
      "'results'\n"
     ]
    },
    {
     "name": "stderr",
     "output_type": "stream",
     "text": [
      "\n",
      "\n",
      " 28%|██▊       | 323/1141 [35:47<2:29:47, 10.99s/it]\u001b[A\u001b[A"
     ]
    },
    {
     "name": "stdout",
     "output_type": "stream",
     "text": [
      "'results'\n",
      "'results'\n",
      "'results'\n"
     ]
    },
    {
     "name": "stderr",
     "output_type": "stream",
     "text": [
      "\n",
      "\n",
      " 28%|██▊       | 324/1141 [35:53<2:07:42,  9.38s/it]\u001b[A\u001b[A"
     ]
    },
    {
     "name": "stdout",
     "output_type": "stream",
     "text": [
      "'etymologies'\n"
     ]
    },
    {
     "name": "stderr",
     "output_type": "stream",
     "text": [
      "\n",
      "\n",
      " 28%|██▊       | 325/1141 [36:04<2:14:39,  9.90s/it]\u001b[A\u001b[A"
     ]
    },
    {
     "name": "stdout",
     "output_type": "stream",
     "text": [
      "'etymologies'\n",
      "'etymologies'\n"
     ]
    },
    {
     "name": "stderr",
     "output_type": "stream",
     "text": [
      "\n",
      "\n",
      " 29%|██▊       | 326/1141 [36:15<2:19:10, 10.25s/it]\u001b[A\u001b[A"
     ]
    },
    {
     "name": "stdout",
     "output_type": "stream",
     "text": [
      "'etymologies'\n"
     ]
    },
    {
     "name": "stderr",
     "output_type": "stream",
     "text": [
      "\n",
      "\n",
      " 29%|██▊       | 327/1141 [36:20<1:59:42,  8.82s/it]\u001b[A\u001b[A\n",
      "\n",
      " 29%|██▊       | 328/1141 [36:26<1:46:45,  7.88s/it]\u001b[A\u001b[A"
     ]
    },
    {
     "name": "stdout",
     "output_type": "stream",
     "text": [
      "'etymologies'\n"
     ]
    },
    {
     "name": "stderr",
     "output_type": "stream",
     "text": [
      "\n",
      "\n",
      " 29%|██▉       | 329/1141 [36:37<2:00:01,  8.87s/it]\u001b[A\u001b[A"
     ]
    },
    {
     "name": "stdout",
     "output_type": "stream",
     "text": [
      "'etymologies'\n"
     ]
    },
    {
     "name": "stderr",
     "output_type": "stream",
     "text": [
      "\n",
      "\n",
      " 29%|██▉       | 330/1141 [36:43<1:46:23,  7.87s/it]\u001b[A\u001b[A\n",
      "\n",
      " 29%|██▉       | 331/1141 [36:48<1:37:15,  7.20s/it]\u001b[A\u001b[A"
     ]
    },
    {
     "name": "stdout",
     "output_type": "stream",
     "text": [
      "'etymologies'\n"
     ]
    },
    {
     "name": "stderr",
     "output_type": "stream",
     "text": [
      "\n",
      "\n",
      " 29%|██▉       | 332/1141 [36:59<1:52:57,  8.38s/it]\u001b[A\u001b[A"
     ]
    },
    {
     "name": "stdout",
     "output_type": "stream",
     "text": [
      "'etymologies'\n",
      "'examples'\n"
     ]
    },
    {
     "name": "stderr",
     "output_type": "stream",
     "text": [
      "\n",
      "\n",
      " 29%|██▉       | 333/1141 [37:11<2:03:57,  9.21s/it]\u001b[A\u001b[A"
     ]
    },
    {
     "name": "stdout",
     "output_type": "stream",
     "text": [
      "'examples'\n"
     ]
    },
    {
     "name": "stderr",
     "output_type": "stream",
     "text": [
      "\n",
      "\n",
      " 29%|██▉       | 334/1141 [37:16<1:49:12,  8.12s/it]\u001b[A\u001b[A"
     ]
    },
    {
     "name": "stdout",
     "output_type": "stream",
     "text": [
      "'etymologies'\n"
     ]
    },
    {
     "name": "stderr",
     "output_type": "stream",
     "text": [
      "\n",
      "\n",
      " 29%|██▉       | 335/1141 [37:27<2:01:11,  9.02s/it]\u001b[A\u001b[A"
     ]
    },
    {
     "name": "stdout",
     "output_type": "stream",
     "text": [
      "'etymologies'\n",
      "'etymologies'\n"
     ]
    },
    {
     "name": "stderr",
     "output_type": "stream",
     "text": [
      "\n",
      "\n",
      " 29%|██▉       | 336/1141 [37:38<2:09:22,  9.64s/it]\u001b[A\u001b[A"
     ]
    },
    {
     "name": "stdout",
     "output_type": "stream",
     "text": [
      "'etymologies'\n"
     ]
    },
    {
     "name": "stderr",
     "output_type": "stream",
     "text": [
      "\n",
      "\n",
      " 30%|██▉       | 337/1141 [37:44<1:52:48,  8.42s/it]\u001b[A\u001b[A\n",
      "\n",
      " 30%|██▉       | 338/1141 [37:50<1:41:24,  7.58s/it]\u001b[A\u001b[A\n",
      "\n",
      " 30%|██▉       | 339/1141 [37:55<1:33:27,  6.99s/it]\u001b[A\u001b[A\n",
      "\n",
      " 30%|██▉       | 340/1141 [38:01<1:27:52,  6.58s/it]\u001b[A\u001b[A"
     ]
    },
    {
     "name": "stdout",
     "output_type": "stream",
     "text": [
      "'etymologies'\n"
     ]
    },
    {
     "name": "stderr",
     "output_type": "stream",
     "text": [
      "\n",
      "\n",
      " 30%|██▉       | 341/1141 [38:12<1:45:45,  7.93s/it]\u001b[A\u001b[A"
     ]
    },
    {
     "name": "stdout",
     "output_type": "stream",
     "text": [
      "'etymologies'\n",
      "'examples'\n"
     ]
    },
    {
     "name": "stderr",
     "output_type": "stream",
     "text": [
      "\n",
      "\n",
      " 30%|██▉       | 342/1141 [38:23<1:58:31,  8.90s/it]\u001b[A\u001b[A"
     ]
    },
    {
     "name": "stdout",
     "output_type": "stream",
     "text": [
      "'examples'\n"
     ]
    },
    {
     "name": "stderr",
     "output_type": "stream",
     "text": [
      "\n",
      "\n",
      " 30%|███       | 343/1141 [38:29<1:45:42,  7.95s/it]\u001b[A\u001b[A\n",
      "\n",
      " 30%|███       | 344/1141 [38:34<1:36:11,  7.24s/it]\u001b[A\u001b[A\n",
      "\n",
      " 30%|███       | 345/1141 [38:40<1:29:29,  6.75s/it]\u001b[A\u001b[A"
     ]
    },
    {
     "name": "stdout",
     "output_type": "stream",
     "text": [
      "'results'\n",
      "'results'\n",
      "'results'\n",
      "'results'\n",
      "'results'\n",
      "'results'\n",
      "'results'\n",
      "'results'\n",
      "'results'\n"
     ]
    },
    {
     "name": "stderr",
     "output_type": "stream",
     "text": [
      "\n",
      "\n",
      " 30%|███       | 346/1141 [38:57<2:09:06,  9.74s/it]\u001b[A\u001b[A"
     ]
    },
    {
     "name": "stdout",
     "output_type": "stream",
     "text": [
      "'results'\n",
      "'results'\n",
      "'results'\n",
      "'etymologies'\n"
     ]
    },
    {
     "name": "stderr",
     "output_type": "stream",
     "text": [
      "\n",
      "\n",
      " 30%|███       | 347/1141 [39:08<2:14:49, 10.19s/it]\u001b[A\u001b[A"
     ]
    },
    {
     "name": "stdout",
     "output_type": "stream",
     "text": [
      "'etymologies'\n"
     ]
    },
    {
     "name": "stderr",
     "output_type": "stream",
     "text": [
      "\n",
      "\n",
      " 30%|███       | 348/1141 [39:13<1:56:22,  8.80s/it]\u001b[A\u001b[A"
     ]
    },
    {
     "name": "stdout",
     "output_type": "stream",
     "text": [
      "'results'\n",
      "'results'\n",
      "'results'\n",
      "'results'\n",
      "'results'\n",
      "'results'\n",
      "'results'\n",
      "'results'\n",
      "'results'\n"
     ]
    },
    {
     "name": "stderr",
     "output_type": "stream",
     "text": [
      "\n",
      "\n",
      " 31%|███       | 349/1141 [39:30<2:27:44, 11.19s/it]\u001b[A\u001b[A"
     ]
    },
    {
     "name": "stdout",
     "output_type": "stream",
     "text": [
      "'results'\n",
      "'results'\n",
      "'results'\n"
     ]
    },
    {
     "name": "stderr",
     "output_type": "stream",
     "text": [
      "\n",
      "\n",
      " 31%|███       | 350/1141 [39:36<2:05:22,  9.51s/it]\u001b[A\u001b[A\n",
      "\n",
      " 31%|███       | 351/1141 [39:42<1:50:50,  8.42s/it]\u001b[A\u001b[A\n",
      "\n",
      " 31%|███       | 352/1141 [39:47<1:39:34,  7.57s/it]\u001b[A\u001b[A"
     ]
    },
    {
     "name": "stdout",
     "output_type": "stream",
     "text": [
      "'etymologies'\n",
      "'phoneticSpelling'\n"
     ]
    },
    {
     "name": "stderr",
     "output_type": "stream",
     "text": [
      "\n",
      "\n",
      " 31%|███       | 353/1141 [39:59<1:57:09,  8.92s/it]\u001b[A\u001b[A"
     ]
    },
    {
     "name": "stdout",
     "output_type": "stream",
     "text": [
      "'etymologies'\n",
      "'phoneticSpelling'\n",
      "'examples'\n"
     ]
    },
    {
     "name": "stderr",
     "output_type": "stream",
     "text": [
      "\n",
      "\n",
      " 31%|███       | 354/1141 [40:10<2:05:34,  9.57s/it]\u001b[A\u001b[A"
     ]
    },
    {
     "name": "stdout",
     "output_type": "stream",
     "text": [
      "'examples'\n",
      "'examples'\n"
     ]
    },
    {
     "name": "stderr",
     "output_type": "stream",
     "text": [
      "\n",
      "\n",
      " 31%|███       | 355/1141 [40:22<2:11:49, 10.06s/it]\u001b[A\u001b[A"
     ]
    },
    {
     "name": "stdout",
     "output_type": "stream",
     "text": [
      "'examples'\n"
     ]
    },
    {
     "name": "stderr",
     "output_type": "stream",
     "text": [
      "\n",
      "\n",
      " 31%|███       | 356/1141 [40:27<1:54:06,  8.72s/it]\u001b[A\u001b[A"
     ]
    },
    {
     "name": "stdout",
     "output_type": "stream",
     "text": [
      "'examples'\n"
     ]
    },
    {
     "name": "stderr",
     "output_type": "stream",
     "text": [
      "\n",
      "\n",
      " 31%|███▏      | 357/1141 [40:39<2:03:51,  9.48s/it]\u001b[A\u001b[A"
     ]
    },
    {
     "name": "stdout",
     "output_type": "stream",
     "text": [
      "'examples'\n"
     ]
    },
    {
     "name": "stderr",
     "output_type": "stream",
     "text": [
      "\n",
      "\n",
      " 31%|███▏      | 358/1141 [40:45<1:52:37,  8.63s/it]\u001b[A\u001b[A\n",
      "\n",
      " 31%|███▏      | 359/1141 [40:51<1:40:31,  7.71s/it]\u001b[A\u001b[A\n",
      "\n",
      " 32%|███▏      | 360/1141 [40:56<1:32:13,  7.09s/it]\u001b[A\u001b[A"
     ]
    },
    {
     "name": "stdout",
     "output_type": "stream",
     "text": [
      "'examples'\n"
     ]
    },
    {
     "name": "stderr",
     "output_type": "stream",
     "text": [
      "\n",
      "\n",
      " 32%|███▏      | 361/1141 [41:07<1:47:43,  8.29s/it]\u001b[A\u001b[A"
     ]
    },
    {
     "name": "stdout",
     "output_type": "stream",
     "text": [
      "'examples'\n",
      "'etymologies'\n"
     ]
    },
    {
     "name": "stderr",
     "output_type": "stream",
     "text": [
      "\n",
      "\n",
      " 32%|███▏      | 362/1141 [41:19<1:58:25,  9.12s/it]\u001b[A\u001b[A"
     ]
    },
    {
     "name": "stdout",
     "output_type": "stream",
     "text": [
      "'etymologies'\n"
     ]
    },
    {
     "name": "stderr",
     "output_type": "stream",
     "text": [
      "\n",
      "\n",
      " 32%|███▏      | 363/1141 [41:24<1:44:15,  8.04s/it]\u001b[A\u001b[A\n",
      "\n",
      " 32%|███▏      | 364/1141 [41:30<1:34:52,  7.33s/it]\u001b[A\u001b[A"
     ]
    },
    {
     "name": "stdout",
     "output_type": "stream",
     "text": [
      "'etymologies'\n"
     ]
    },
    {
     "name": "stderr",
     "output_type": "stream",
     "text": [
      "\n",
      "\n",
      " 32%|███▏      | 365/1141 [41:41<1:49:45,  8.49s/it]\u001b[A\u001b[A"
     ]
    },
    {
     "name": "stdout",
     "output_type": "stream",
     "text": [
      "'etymologies'\n"
     ]
    },
    {
     "name": "stderr",
     "output_type": "stream",
     "text": [
      "\n",
      "\n",
      " 32%|███▏      | 366/1141 [41:47<1:38:31,  7.63s/it]\u001b[A\u001b[A"
     ]
    },
    {
     "name": "stdout",
     "output_type": "stream",
     "text": [
      "'examples'\n"
     ]
    },
    {
     "name": "stderr",
     "output_type": "stream",
     "text": [
      "\n",
      "\n",
      " 32%|███▏      | 367/1141 [41:58<1:51:45,  8.66s/it]\u001b[A\u001b[A"
     ]
    },
    {
     "name": "stdout",
     "output_type": "stream",
     "text": [
      "'examples'\n"
     ]
    },
    {
     "name": "stderr",
     "output_type": "stream",
     "text": [
      "\n",
      "\n",
      " 32%|███▏      | 368/1141 [42:03<1:40:22,  7.79s/it]\u001b[A\u001b[A"
     ]
    },
    {
     "name": "stdout",
     "output_type": "stream",
     "text": [
      "'results'\n",
      "'results'\n",
      "'results'\n",
      "'results'\n",
      "'results'\n",
      "'results'\n",
      "'results'\n",
      "'results'\n",
      "'results'\n"
     ]
    },
    {
     "name": "stderr",
     "output_type": "stream",
     "text": [
      "\n",
      "\n",
      " 32%|███▏      | 369/1141 [42:20<2:15:10, 10.51s/it]\u001b[A\u001b[A"
     ]
    },
    {
     "name": "stdout",
     "output_type": "stream",
     "text": [
      "'results'\n",
      "'results'\n",
      "'results'\n"
     ]
    },
    {
     "name": "stderr",
     "output_type": "stream",
     "text": [
      "\n",
      "\n",
      " 32%|███▏      | 370/1141 [42:26<1:56:20,  9.05s/it]\u001b[A\u001b[A\n",
      "\n",
      " 33%|███▎      | 371/1141 [42:32<1:43:22,  8.06s/it]\u001b[A\u001b[A\n",
      "\n",
      " 33%|███▎      | 372/1141 [42:37<1:33:44,  7.31s/it]\u001b[A\u001b[A\n",
      "\n",
      " 33%|███▎      | 373/1141 [42:43<1:26:56,  6.79s/it]\u001b[A\u001b[A"
     ]
    },
    {
     "name": "stdout",
     "output_type": "stream",
     "text": [
      "'etymologies'\n"
     ]
    },
    {
     "name": "stderr",
     "output_type": "stream",
     "text": [
      "\n",
      "\n",
      " 33%|███▎      | 374/1141 [42:54<1:43:28,  8.09s/it]\u001b[A\u001b[A"
     ]
    },
    {
     "name": "stdout",
     "output_type": "stream",
     "text": [
      "'etymologies'\n"
     ]
    },
    {
     "name": "stderr",
     "output_type": "stream",
     "text": [
      "\n",
      "\n",
      " 33%|███▎      | 375/1141 [42:59<1:33:48,  7.35s/it]\u001b[A\u001b[A\n",
      "\n",
      " 33%|███▎      | 376/1141 [43:05<1:27:05,  6.83s/it]\u001b[A\u001b[A"
     ]
    },
    {
     "name": "stdout",
     "output_type": "stream",
     "text": [
      "'examples'\n"
     ]
    },
    {
     "name": "stderr",
     "output_type": "stream",
     "text": [
      "\n",
      "\n",
      " 33%|███▎      | 377/1141 [43:16<1:43:21,  8.12s/it]\u001b[A\u001b[A"
     ]
    },
    {
     "name": "stdout",
     "output_type": "stream",
     "text": [
      "'examples'\n",
      "'examples'\n"
     ]
    },
    {
     "name": "stderr",
     "output_type": "stream",
     "text": [
      "\n",
      "\n",
      " 33%|███▎      | 378/1141 [43:27<1:55:03,  9.05s/it]\u001b[A\u001b[A"
     ]
    },
    {
     "name": "stdout",
     "output_type": "stream",
     "text": [
      "'examples'\n"
     ]
    },
    {
     "name": "stderr",
     "output_type": "stream",
     "text": [
      "\n",
      "\n",
      " 33%|███▎      | 379/1141 [43:33<1:41:33,  8.00s/it]\u001b[A\u001b[A"
     ]
    },
    {
     "name": "stdout",
     "output_type": "stream",
     "text": [
      "'etymologies'\n"
     ]
    },
    {
     "name": "stderr",
     "output_type": "stream",
     "text": [
      "\n",
      "\n",
      " 33%|███▎      | 380/1141 [43:44<1:53:40,  8.96s/it]\u001b[A\u001b[A"
     ]
    },
    {
     "name": "stdout",
     "output_type": "stream",
     "text": [
      "'etymologies'\n"
     ]
    },
    {
     "name": "stderr",
     "output_type": "stream",
     "text": [
      "\n",
      "\n",
      " 33%|███▎      | 381/1141 [43:50<1:40:56,  7.97s/it]\u001b[A\u001b[A\n",
      "\n",
      " 33%|███▎      | 382/1141 [43:55<1:31:56,  7.27s/it]\u001b[A\u001b[A\n",
      "\n",
      " 34%|███▎      | 383/1141 [44:01<1:25:18,  6.75s/it]\u001b[A\u001b[A\n",
      "\n",
      " 34%|███▎      | 384/1141 [44:07<1:21:40,  6.47s/it]\u001b[A\u001b[A"
     ]
    },
    {
     "name": "stdout",
     "output_type": "stream",
     "text": [
      "'examples'\n",
      "'etymologies'\n",
      "'examples'\n",
      "'etymologies'\n"
     ]
    },
    {
     "name": "stderr",
     "output_type": "stream",
     "text": [
      "\n",
      "\n",
      " 34%|███▎      | 385/1141 [44:24<2:00:05,  9.53s/it]\u001b[A\u001b[A"
     ]
    },
    {
     "name": "stdout",
     "output_type": "stream",
     "text": [
      "'etymologies'\n",
      "'examples'\n"
     ]
    },
    {
     "name": "stderr",
     "output_type": "stream",
     "text": [
      "\n",
      "\n",
      " 34%|███▍      | 386/1141 [44:35<2:05:45,  9.99s/it]\u001b[A\u001b[A"
     ]
    },
    {
     "name": "stdout",
     "output_type": "stream",
     "text": [
      "'examples'\n"
     ]
    },
    {
     "name": "stderr",
     "output_type": "stream",
     "text": [
      "\n",
      "\n",
      " 34%|███▍      | 387/1141 [44:40<1:48:55,  8.67s/it]\u001b[A\u001b[A\n",
      "\n",
      " 34%|███▍      | 388/1141 [44:46<1:37:06,  7.74s/it]\u001b[A\u001b[A\n",
      "\n",
      " 34%|███▍      | 389/1141 [44:51<1:28:42,  7.08s/it]\u001b[A\u001b[A"
     ]
    },
    {
     "name": "stdout",
     "output_type": "stream",
     "text": [
      "'examples'\n"
     ]
    },
    {
     "name": "stderr",
     "output_type": "stream",
     "text": [
      "\n",
      "\n",
      " 34%|███▍      | 390/1141 [45:03<1:44:38,  8.36s/it]\u001b[A\u001b[A"
     ]
    },
    {
     "name": "stdout",
     "output_type": "stream",
     "text": [
      "'examples'\n"
     ]
    },
    {
     "name": "stderr",
     "output_type": "stream",
     "text": [
      "\n",
      "\n",
      " 34%|███▍      | 392/1141 [45:08<1:23:27,  6.69s/it]\u001b[A\u001b[A\n",
      "\n",
      " 34%|███▍      | 393/1141 [45:14<1:19:59,  6.42s/it]\u001b[A\u001b[A"
     ]
    },
    {
     "name": "stdout",
     "output_type": "stream",
     "text": [
      "'examples'\n"
     ]
    },
    {
     "name": "stderr",
     "output_type": "stream",
     "text": [
      "\n",
      "\n",
      " 35%|███▍      | 394/1141 [45:25<1:38:29,  7.91s/it]\u001b[A\u001b[A"
     ]
    },
    {
     "name": "stdout",
     "output_type": "stream",
     "text": [
      "'examples'\n",
      "'results'\n",
      "'results'\n",
      "'results'\n",
      "'results'\n",
      "'results'\n",
      "'results'\n",
      "'results'\n",
      "'results'\n",
      "'results'\n"
     ]
    },
    {
     "name": "stderr",
     "output_type": "stream",
     "text": [
      "\n",
      "\n",
      " 35%|███▍      | 395/1141 [45:44<2:17:18, 11.04s/it]\u001b[A\u001b[A"
     ]
    },
    {
     "name": "stdout",
     "output_type": "stream",
     "text": [
      "'results'\n",
      "'results'\n",
      "'results'\n"
     ]
    },
    {
     "name": "stderr",
     "output_type": "stream",
     "text": [
      "\n",
      "\n",
      " 35%|███▍      | 396/1141 [45:49<1:56:30,  9.38s/it]\u001b[A\u001b[A"
     ]
    },
    {
     "name": "stdout",
     "output_type": "stream",
     "text": [
      "'examples'\n"
     ]
    },
    {
     "name": "stderr",
     "output_type": "stream",
     "text": [
      "\n",
      "\n",
      " 35%|███▍      | 397/1141 [46:00<2:02:44,  9.90s/it]\u001b[A\u001b[A"
     ]
    },
    {
     "name": "stdout",
     "output_type": "stream",
     "text": [
      "'examples'\n"
     ]
    },
    {
     "name": "stderr",
     "output_type": "stream",
     "text": [
      "\n",
      "\n",
      " 35%|███▍      | 398/1141 [46:06<1:46:35,  8.61s/it]\u001b[A\u001b[A\n",
      "\n",
      " 35%|███▍      | 399/1141 [46:12<1:35:26,  7.72s/it]\u001b[A\u001b[A\n",
      "\n",
      " 35%|███▌      | 400/1141 [46:17<1:27:44,  7.10s/it]\u001b[A\u001b[A\n",
      "\n",
      " 35%|███▌      | 401/1141 [46:23<1:21:53,  6.64s/it]\u001b[A\u001b[A\n",
      "\n",
      " 35%|███▌      | 402/1141 [46:28<1:17:38,  6.30s/it]\u001b[A\u001b[A"
     ]
    },
    {
     "name": "stdout",
     "output_type": "stream",
     "text": [
      "'examples'\n"
     ]
    },
    {
     "name": "stderr",
     "output_type": "stream",
     "text": [
      "\n",
      "\n",
      " 35%|███▌      | 403/1141 [46:39<1:35:00,  7.72s/it]\u001b[A\u001b[A"
     ]
    },
    {
     "name": "stdout",
     "output_type": "stream",
     "text": [
      "'examples'\n",
      "'examples'\n"
     ]
    },
    {
     "name": "stderr",
     "output_type": "stream",
     "text": [
      "\n",
      "\n",
      " 35%|███▌      | 404/1141 [46:51<1:48:13,  8.81s/it]\u001b[A\u001b[A"
     ]
    },
    {
     "name": "stdout",
     "output_type": "stream",
     "text": [
      "'examples'\n",
      "'etymologies'\n"
     ]
    },
    {
     "name": "stderr",
     "output_type": "stream",
     "text": [
      "\n",
      "\n",
      " 35%|███▌      | 405/1141 [47:02<1:56:56,  9.53s/it]\u001b[A\u001b[A"
     ]
    },
    {
     "name": "stdout",
     "output_type": "stream",
     "text": [
      "'etymologies'\n"
     ]
    },
    {
     "name": "stderr",
     "output_type": "stream",
     "text": [
      "\n",
      "\n",
      " 36%|███▌      | 406/1141 [47:08<1:42:14,  8.35s/it]\u001b[A\u001b[A\n",
      "\n",
      " 36%|███▌      | 407/1141 [47:13<1:32:10,  7.53s/it]\u001b[A\u001b[A\n",
      "\n",
      " 36%|███▌      | 408/1141 [47:19<1:24:52,  6.95s/it]\u001b[A\u001b[A"
     ]
    },
    {
     "name": "stdout",
     "output_type": "stream",
     "text": [
      "'etymologies'\n"
     ]
    },
    {
     "name": "stderr",
     "output_type": "stream",
     "text": [
      "\n",
      "\n",
      " 36%|███▌      | 409/1141 [47:30<1:40:23,  8.23s/it]\u001b[A\u001b[A"
     ]
    },
    {
     "name": "stdout",
     "output_type": "stream",
     "text": [
      "'etymologies'\n",
      "'examples'\n"
     ]
    },
    {
     "name": "stderr",
     "output_type": "stream",
     "text": [
      "\n",
      "\n",
      " 36%|███▌      | 410/1141 [47:41<1:51:10,  9.12s/it]\u001b[A\u001b[A"
     ]
    },
    {
     "name": "stdout",
     "output_type": "stream",
     "text": [
      "'examples'\n",
      "'results'\n",
      "'results'\n",
      "'results'\n",
      "'results'\n",
      "'results'\n",
      "'results'\n",
      "'results'\n",
      "'results'\n",
      "'results'\n"
     ]
    },
    {
     "name": "stderr",
     "output_type": "stream",
     "text": [
      "\n",
      "\n",
      " 36%|███▌      | 411/1141 [47:59<2:24:24, 11.87s/it]\u001b[A\u001b[A"
     ]
    },
    {
     "name": "stdout",
     "output_type": "stream",
     "text": [
      "'results'\n",
      "'results'\n",
      "'results'\n"
     ]
    },
    {
     "name": "stderr",
     "output_type": "stream",
     "text": [
      "\n",
      "\n",
      " 36%|███▌      | 412/1141 [48:05<2:01:22,  9.99s/it]\u001b[A\u001b[A\n",
      "\n",
      " 36%|███▌      | 413/1141 [48:11<1:45:06,  8.66s/it]\u001b[A\u001b[A"
     ]
    },
    {
     "name": "stdout",
     "output_type": "stream",
     "text": [
      "'examples'\n"
     ]
    },
    {
     "name": "stderr",
     "output_type": "stream",
     "text": [
      "\n",
      "\n",
      " 36%|███▋      | 414/1141 [48:22<1:54:07,  9.42s/it]\u001b[A\u001b[A"
     ]
    },
    {
     "name": "stdout",
     "output_type": "stream",
     "text": [
      "'examples'\n"
     ]
    },
    {
     "name": "stderr",
     "output_type": "stream",
     "text": [
      "\n",
      "\n",
      " 36%|███▋      | 415/1141 [48:27<1:39:50,  8.25s/it]\u001b[A\u001b[A\n",
      "\n",
      " 36%|███▋      | 416/1141 [48:33<1:29:47,  7.43s/it]\u001b[A\u001b[A\n",
      "\n",
      " 37%|███▋      | 417/1141 [48:38<1:23:05,  6.89s/it]\u001b[A\u001b[A\n",
      "\n",
      " 37%|███▋      | 418/1141 [48:44<1:18:04,  6.48s/it]\u001b[A\u001b[A\n",
      "\n",
      " 37%|███▋      | 419/1141 [48:50<1:15:00,  6.23s/it]\u001b[A\u001b[A"
     ]
    },
    {
     "name": "stdout",
     "output_type": "stream",
     "text": [
      "'etymologies'\n"
     ]
    },
    {
     "name": "stderr",
     "output_type": "stream",
     "text": [
      "\n",
      "\n",
      " 37%|███▋      | 420/1141 [49:01<1:32:51,  7.73s/it]\u001b[A\u001b[A"
     ]
    },
    {
     "name": "stdout",
     "output_type": "stream",
     "text": [
      "'etymologies'\n"
     ]
    },
    {
     "name": "stderr",
     "output_type": "stream",
     "text": [
      "\n",
      "\n",
      " 37%|███▋      | 421/1141 [49:06<1:24:58,  7.08s/it]\u001b[A\u001b[A"
     ]
    },
    {
     "name": "stdout",
     "output_type": "stream",
     "text": [
      "'examples'\n"
     ]
    },
    {
     "name": "stderr",
     "output_type": "stream",
     "text": [
      "\n",
      "\n",
      " 37%|███▋      | 422/1141 [49:18<1:39:22,  8.29s/it]\u001b[A\u001b[A"
     ]
    },
    {
     "name": "stdout",
     "output_type": "stream",
     "text": [
      "'examples'\n",
      "'examples'\n"
     ]
    },
    {
     "name": "stderr",
     "output_type": "stream",
     "text": [
      "\n",
      "\n",
      " 37%|███▋      | 423/1141 [49:29<1:49:16,  9.13s/it]\u001b[A\u001b[A"
     ]
    },
    {
     "name": "stdout",
     "output_type": "stream",
     "text": [
      "'examples'\n"
     ]
    },
    {
     "name": "stderr",
     "output_type": "stream",
     "text": [
      "\n",
      "\n",
      " 37%|███▋      | 424/1141 [49:34<1:36:25,  8.07s/it]\u001b[A\u001b[A\n",
      "\n",
      " 37%|███▋      | 425/1141 [49:40<1:27:21,  7.32s/it]\u001b[A\u001b[A\n",
      "\n",
      " 37%|███▋      | 426/1141 [49:45<1:21:21,  6.83s/it]\u001b[A\u001b[A"
     ]
    },
    {
     "name": "stdout",
     "output_type": "stream",
     "text": [
      "'etymologies'\n"
     ]
    },
    {
     "name": "stderr",
     "output_type": "stream",
     "text": [
      "\n",
      "\n",
      " 37%|███▋      | 427/1141 [49:57<1:36:44,  8.13s/it]\u001b[A\u001b[A"
     ]
    },
    {
     "name": "stdout",
     "output_type": "stream",
     "text": [
      "'etymologies'\n"
     ]
    },
    {
     "name": "stderr",
     "output_type": "stream",
     "text": [
      "\n",
      "\n",
      " 38%|███▊      | 428/1141 [50:02<1:27:25,  7.36s/it]\u001b[A\u001b[A\n",
      "\n",
      " 38%|███▊      | 429/1141 [50:08<1:20:55,  6.82s/it]\u001b[A\u001b[A\n",
      "\n",
      " 38%|███▊      | 430/1141 [50:13<1:16:13,  6.43s/it]\u001b[A\u001b[A\n",
      "\n",
      " 38%|███▊      | 431/1141 [50:19<1:13:59,  6.25s/it]\u001b[A\u001b[A\n",
      "\n",
      " 38%|███▊      | 432/1141 [50:25<1:11:22,  6.04s/it]\u001b[A\u001b[A\n",
      "\n",
      " 38%|███▊      | 433/1141 [50:30<1:09:36,  5.90s/it]\u001b[A\u001b[A"
     ]
    },
    {
     "name": "stdout",
     "output_type": "stream",
     "text": [
      "'etymologies'\n"
     ]
    },
    {
     "name": "stderr",
     "output_type": "stream",
     "text": [
      "\n",
      "\n",
      " 38%|███▊      | 434/1141 [50:41<1:28:04,  7.47s/it]\u001b[A\u001b[A"
     ]
    },
    {
     "name": "stdout",
     "output_type": "stream",
     "text": [
      "'etymologies'\n",
      "'etymologies'\n"
     ]
    },
    {
     "name": "stderr",
     "output_type": "stream",
     "text": [
      "\n",
      "\n",
      " 38%|███▊      | 435/1141 [50:52<1:40:37,  8.55s/it]\u001b[A\u001b[A"
     ]
    },
    {
     "name": "stdout",
     "output_type": "stream",
     "text": [
      "'etymologies'\n",
      "'examples'\n"
     ]
    },
    {
     "name": "stderr",
     "output_type": "stream",
     "text": [
      "\n",
      "\n",
      " 38%|███▊      | 436/1141 [51:04<1:49:58,  9.36s/it]\u001b[A\u001b[A"
     ]
    },
    {
     "name": "stdout",
     "output_type": "stream",
     "text": [
      "'examples'\n",
      "'examples'\n"
     ]
    },
    {
     "name": "stderr",
     "output_type": "stream",
     "text": [
      "\n",
      "\n",
      " 38%|███▊      | 437/1141 [51:15<1:55:56,  9.88s/it]\u001b[A\u001b[A"
     ]
    },
    {
     "name": "stdout",
     "output_type": "stream",
     "text": [
      "'examples'\n"
     ]
    },
    {
     "name": "stderr",
     "output_type": "stream",
     "text": [
      "\n",
      "\n",
      " 38%|███▊      | 438/1141 [51:20<1:40:33,  8.58s/it]\u001b[A\u001b[A\n",
      "\n",
      " 38%|███▊      | 439/1141 [51:26<1:30:29,  7.73s/it]\u001b[A\u001b[A"
     ]
    },
    {
     "name": "stdout",
     "output_type": "stream",
     "text": [
      "'etymologies'\n"
     ]
    },
    {
     "name": "stderr",
     "output_type": "stream",
     "text": [
      "\n",
      "\n",
      " 39%|███▊      | 440/1141 [51:37<1:42:17,  8.76s/it]\u001b[A\u001b[A"
     ]
    },
    {
     "name": "stdout",
     "output_type": "stream",
     "text": [
      "'etymologies'\n",
      "'examples'\n"
     ]
    },
    {
     "name": "stderr",
     "output_type": "stream",
     "text": [
      "\n",
      "\n",
      " 39%|███▊      | 441/1141 [51:48<1:50:33,  9.48s/it]\u001b[A\u001b[A"
     ]
    },
    {
     "name": "stdout",
     "output_type": "stream",
     "text": [
      "'examples'\n"
     ]
    },
    {
     "name": "stderr",
     "output_type": "stream",
     "text": [
      "\n",
      "\n",
      " 39%|███▊      | 442/1141 [51:54<1:36:35,  8.29s/it]\u001b[A\u001b[A"
     ]
    },
    {
     "name": "stdout",
     "output_type": "stream",
     "text": [
      "'examples'\n"
     ]
    },
    {
     "name": "stderr",
     "output_type": "stream",
     "text": [
      "\n",
      "\n",
      " 39%|███▉      | 443/1141 [52:05<1:46:47,  9.18s/it]\u001b[A\u001b[A"
     ]
    },
    {
     "name": "stdout",
     "output_type": "stream",
     "text": [
      "'examples'\n"
     ]
    },
    {
     "name": "stderr",
     "output_type": "stream",
     "text": [
      "\n",
      "\n",
      " 39%|███▉      | 444/1141 [52:11<1:34:16,  8.11s/it]\u001b[A\u001b[A"
     ]
    },
    {
     "name": "stdout",
     "output_type": "stream",
     "text": [
      "'results'\n",
      "'results'\n",
      "'results'\n",
      "'results'\n",
      "'results'\n",
      "'results'\n",
      "'results'\n",
      "'results'\n",
      "'results'\n"
     ]
    },
    {
     "name": "stderr",
     "output_type": "stream",
     "text": [
      "\n",
      "\n",
      " 39%|███▉      | 445/1141 [52:28<2:04:21, 10.72s/it]\u001b[A\u001b[A"
     ]
    },
    {
     "name": "stdout",
     "output_type": "stream",
     "text": [
      "'results'\n",
      "'results'\n",
      "'results'\n",
      "'definitions'\n",
      "'examples'\n"
     ]
    },
    {
     "name": "stderr",
     "output_type": "stream",
     "text": [
      "\n",
      "\n",
      " 39%|███▉      | 446/1141 [52:39<2:06:27, 10.92s/it]\u001b[A\u001b[A"
     ]
    },
    {
     "name": "stdout",
     "output_type": "stream",
     "text": [
      "'examples'\n",
      "'examples'\n"
     ]
    },
    {
     "name": "stderr",
     "output_type": "stream",
     "text": [
      "\n",
      "\n",
      " 39%|███▉      | 447/1141 [52:50<2:06:54, 10.97s/it]\u001b[A\u001b[A"
     ]
    },
    {
     "name": "stdout",
     "output_type": "stream",
     "text": [
      "'examples'\n"
     ]
    },
    {
     "name": "stderr",
     "output_type": "stream",
     "text": [
      "\n",
      "\n",
      " 39%|███▉      | 448/1141 [52:56<1:48:07,  9.36s/it]\u001b[A\u001b[A\n",
      "\n",
      " 39%|███▉      | 449/1141 [53:01<1:34:57,  8.23s/it]\u001b[A\u001b[A\n",
      "\n",
      " 39%|███▉      | 450/1141 [53:07<1:25:35,  7.43s/it]\u001b[A\u001b[A\n",
      "\n",
      " 40%|███▉      | 451/1141 [53:12<1:18:49,  6.85s/it]\u001b[A\u001b[A\n",
      "\n",
      " 40%|███▉      | 452/1141 [53:18<1:14:23,  6.48s/it]\u001b[A\u001b[A\n",
      "\n",
      " 40%|███▉      | 453/1141 [53:24<1:11:09,  6.21s/it]\u001b[A\u001b[A\n",
      "\n",
      " 40%|███▉      | 454/1141 [53:29<1:08:50,  6.01s/it]\u001b[A\u001b[A"
     ]
    },
    {
     "name": "stdout",
     "output_type": "stream",
     "text": [
      "'etymologies'\n"
     ]
    },
    {
     "name": "stderr",
     "output_type": "stream",
     "text": [
      "\n",
      "\n",
      " 40%|███▉      | 455/1141 [53:40<1:26:18,  7.55s/it]\u001b[A\u001b[A"
     ]
    },
    {
     "name": "stdout",
     "output_type": "stream",
     "text": [
      "'etymologies'\n"
     ]
    },
    {
     "name": "stderr",
     "output_type": "stream",
     "text": [
      "\n",
      "\n",
      " 40%|███▉      | 456/1141 [53:46<1:19:29,  6.96s/it]\u001b[A\u001b[A\n",
      "\n",
      " 40%|████      | 457/1141 [53:51<1:14:39,  6.55s/it]\u001b[A\u001b[A\n",
      "\n",
      " 40%|████      | 458/1141 [53:57<1:11:21,  6.27s/it]\u001b[A\u001b[A\n",
      "\n",
      " 40%|████      | 459/1141 [54:03<1:08:39,  6.04s/it]\u001b[A\u001b[A"
     ]
    },
    {
     "name": "stdout",
     "output_type": "stream",
     "text": [
      "'etymologies'\n"
     ]
    },
    {
     "name": "stderr",
     "output_type": "stream",
     "text": [
      "\n",
      "\n",
      " 40%|████      | 460/1141 [54:14<1:26:22,  7.61s/it]\u001b[A\u001b[A"
     ]
    },
    {
     "name": "stdout",
     "output_type": "stream",
     "text": [
      "'etymologies'\n",
      "'etymologies'\n"
     ]
    },
    {
     "name": "stderr",
     "output_type": "stream",
     "text": [
      "\n",
      "\n",
      " 40%|████      | 461/1141 [54:25<1:38:19,  8.68s/it]\u001b[A\u001b[A"
     ]
    },
    {
     "name": "stdout",
     "output_type": "stream",
     "text": [
      "'etymologies'\n"
     ]
    },
    {
     "name": "stderr",
     "output_type": "stream",
     "text": [
      "\n",
      "\n",
      " 40%|████      | 462/1141 [54:31<1:27:41,  7.75s/it]\u001b[A\u001b[A\n",
      "\n",
      " 41%|████      | 463/1141 [54:36<1:20:10,  7.10s/it]\u001b[A\u001b[A"
     ]
    },
    {
     "name": "stdout",
     "output_type": "stream",
     "text": [
      "'etymologies'\n"
     ]
    },
    {
     "name": "stderr",
     "output_type": "stream",
     "text": [
      "\n",
      "\n",
      " 41%|████      | 464/1141 [54:47<1:33:52,  8.32s/it]\u001b[A\u001b[A"
     ]
    },
    {
     "name": "stdout",
     "output_type": "stream",
     "text": [
      "'etymologies'\n"
     ]
    },
    {
     "name": "stderr",
     "output_type": "stream",
     "text": [
      "\n",
      "\n",
      " 41%|████      | 465/1141 [54:53<1:24:46,  7.52s/it]\u001b[A\u001b[A"
     ]
    },
    {
     "name": "stdout",
     "output_type": "stream",
     "text": [
      "'examples'\n"
     ]
    },
    {
     "name": "stderr",
     "output_type": "stream",
     "text": [
      "\n",
      "\n",
      " 41%|████      | 466/1141 [55:04<1:37:44,  8.69s/it]\u001b[A\u001b[A"
     ]
    },
    {
     "name": "stdout",
     "output_type": "stream",
     "text": [
      "'examples'\n"
     ]
    },
    {
     "name": "stderr",
     "output_type": "stream",
     "text": [
      "\n",
      "\n",
      " 41%|████      | 467/1141 [55:10<1:27:01,  7.75s/it]\u001b[A\u001b[A\n",
      "\n",
      " 41%|████      | 468/1141 [55:16<1:20:00,  7.13s/it]\u001b[A\u001b[A\n",
      "\n",
      " 41%|████      | 469/1141 [55:21<1:14:48,  6.68s/it]\u001b[A\u001b[A\n",
      "\n",
      " 41%|████      | 470/1141 [55:27<1:11:06,  6.36s/it]\u001b[A\u001b[A"
     ]
    },
    {
     "name": "stdout",
     "output_type": "stream",
     "text": [
      "'results'\n",
      "'results'\n",
      "'results'\n",
      "'results'\n",
      "'results'\n",
      "'results'\n",
      "'results'\n",
      "'results'\n",
      "'results'\n"
     ]
    },
    {
     "name": "stderr",
     "output_type": "stream",
     "text": [
      "\n",
      "\n",
      " 41%|████▏     | 471/1141 [55:45<1:50:41,  9.91s/it]\u001b[A\u001b[A"
     ]
    },
    {
     "name": "stdout",
     "output_type": "stream",
     "text": [
      "'results'\n",
      "'results'\n",
      "'results'\n"
     ]
    },
    {
     "name": "stderr",
     "output_type": "stream",
     "text": [
      "\n",
      "\n",
      " 41%|████▏     | 472/1141 [55:51<1:36:04,  8.62s/it]\u001b[A\u001b[A"
     ]
    },
    {
     "name": "stdout",
     "output_type": "stream",
     "text": [
      "'etymologies'\n"
     ]
    },
    {
     "name": "stderr",
     "output_type": "stream",
     "text": [
      "\n",
      "\n",
      " 41%|████▏     | 473/1141 [56:02<1:44:21,  9.37s/it]\u001b[A\u001b[A"
     ]
    },
    {
     "name": "stdout",
     "output_type": "stream",
     "text": [
      "'etymologies'\n",
      "'examples'\n"
     ]
    },
    {
     "name": "stderr",
     "output_type": "stream",
     "text": [
      "\n",
      "\n",
      " 42%|████▏     | 474/1141 [56:13<1:50:31,  9.94s/it]\u001b[A\u001b[A"
     ]
    },
    {
     "name": "stdout",
     "output_type": "stream",
     "text": [
      "'examples'\n"
     ]
    },
    {
     "name": "stderr",
     "output_type": "stream",
     "text": [
      "\n",
      "\n",
      " 42%|████▏     | 475/1141 [56:19<1:35:41,  8.62s/it]\u001b[A\u001b[A"
     ]
    },
    {
     "name": "stdout",
     "output_type": "stream",
     "text": [
      "'results'\n",
      "'results'\n",
      "'results'\n",
      "'results'\n",
      "'results'\n",
      "'results'\n",
      "'results'\n",
      "'results'\n",
      "'results'\n"
     ]
    },
    {
     "name": "stderr",
     "output_type": "stream",
     "text": [
      "\n",
      "\n",
      " 42%|████▏     | 476/1141 [56:37<2:08:34, 11.60s/it]\u001b[A\u001b[A"
     ]
    },
    {
     "name": "stdout",
     "output_type": "stream",
     "text": [
      "'results'\n",
      "'results'\n",
      "'results'\n",
      "'examples'\n",
      "'etymologies'\n",
      "'examples'\n",
      "'etymologies'\n"
     ]
    },
    {
     "name": "stderr",
     "output_type": "stream",
     "text": [
      "\n",
      "\n",
      " 42%|████▏     | 477/1141 [56:54<2:25:13, 13.12s/it]\u001b[A\u001b[A"
     ]
    },
    {
     "name": "stdout",
     "output_type": "stream",
     "text": [
      "'etymologies'\n",
      "'etymologies'\n"
     ]
    },
    {
     "name": "stderr",
     "output_type": "stream",
     "text": [
      "\n",
      "\n",
      " 42%|████▏     | 478/1141 [57:05<2:18:42, 12.55s/it]\u001b[A\u001b[A"
     ]
    },
    {
     "name": "stdout",
     "output_type": "stream",
     "text": [
      "'etymologies'\n",
      "'examples'\n",
      "'etymologies'\n",
      "'examples'\n",
      "'etymologies'\n"
     ]
    },
    {
     "name": "stderr",
     "output_type": "stream",
     "text": [
      "\n",
      "\n",
      " 42%|████▏     | 479/1141 [57:22<2:32:12, 13.80s/it]\u001b[A\u001b[A"
     ]
    },
    {
     "name": "stdout",
     "output_type": "stream",
     "text": [
      "'etymologies'\n",
      "'examples'\n"
     ]
    },
    {
     "name": "stderr",
     "output_type": "stream",
     "text": [
      "\n",
      "\n",
      " 42%|████▏     | 480/1141 [57:33<2:23:01, 12.98s/it]\u001b[A\u001b[A"
     ]
    },
    {
     "name": "stdout",
     "output_type": "stream",
     "text": [
      "'examples'\n",
      "'etymologies'\n"
     ]
    },
    {
     "name": "stderr",
     "output_type": "stream",
     "text": [
      "\n",
      "\n",
      " 42%|████▏     | 481/1141 [57:44<2:16:34, 12.42s/it]\u001b[A\u001b[A"
     ]
    },
    {
     "name": "stdout",
     "output_type": "stream",
     "text": [
      "'etymologies'\n",
      "'examples'\n"
     ]
    },
    {
     "name": "stderr",
     "output_type": "stream",
     "text": [
      "\n",
      "\n",
      " 42%|████▏     | 482/1141 [57:55<2:13:37, 12.17s/it]\u001b[A\u001b[A"
     ]
    },
    {
     "name": "stdout",
     "output_type": "stream",
     "text": [
      "'examples'\n",
      "'examples'\n"
     ]
    },
    {
     "name": "stderr",
     "output_type": "stream",
     "text": [
      "\n",
      "\n",
      " 42%|████▏     | 483/1141 [58:07<2:09:53, 11.84s/it]\u001b[A\u001b[A"
     ]
    },
    {
     "name": "stdout",
     "output_type": "stream",
     "text": [
      "'examples'\n",
      "'etymologies'\n"
     ]
    },
    {
     "name": "stderr",
     "output_type": "stream",
     "text": [
      "\n",
      "\n",
      " 42%|████▏     | 484/1141 [58:18<2:07:30, 11.64s/it]\u001b[A\u001b[A"
     ]
    },
    {
     "name": "stdout",
     "output_type": "stream",
     "text": [
      "'etymologies'\n",
      "'definitions'\n",
      "'examples'\n",
      "'etymologies'\n",
      "'pronunciations'\n",
      "'pronunciations'\n",
      "'examples'\n",
      "'etymologies'\n",
      "'pronunciations'\n",
      "'pronunciations'\n"
     ]
    },
    {
     "name": "stderr",
     "output_type": "stream",
     "text": [
      "\n",
      "\n",
      " 43%|████▎     | 485/1141 [58:35<2:24:24, 13.21s/it]\u001b[A\u001b[A"
     ]
    },
    {
     "name": "stdout",
     "output_type": "stream",
     "text": [
      "'etymologies'\n",
      "'pronunciations'\n",
      "'pronunciations'\n",
      "'etymologies'\n"
     ]
    },
    {
     "name": "stderr",
     "output_type": "stream",
     "text": [
      "\n",
      "\n",
      " 43%|████▎     | 486/1141 [58:46<2:17:30, 12.60s/it]\u001b[A\u001b[A"
     ]
    },
    {
     "name": "stdout",
     "output_type": "stream",
     "text": [
      "'etymologies'\n"
     ]
    },
    {
     "name": "stderr",
     "output_type": "stream",
     "text": [
      "\n",
      "\n",
      " 43%|████▎     | 487/1141 [58:51<1:54:24, 10.50s/it]\u001b[A\u001b[A\n",
      "\n",
      " 43%|████▎     | 488/1141 [58:57<1:38:19,  9.03s/it]\u001b[A\u001b[A\n",
      "\n",
      " 43%|████▎     | 489/1141 [59:03<1:27:02,  8.01s/it]\u001b[A\u001b[A"
     ]
    },
    {
     "name": "stdout",
     "output_type": "stream",
     "text": [
      "'examples'\n"
     ]
    },
    {
     "name": "stderr",
     "output_type": "stream",
     "text": [
      "\n",
      "\n",
      " 43%|████▎     | 490/1141 [59:14<1:36:44,  8.92s/it]\u001b[A\u001b[A"
     ]
    },
    {
     "name": "stdout",
     "output_type": "stream",
     "text": [
      "'examples'\n"
     ]
    },
    {
     "name": "stderr",
     "output_type": "stream",
     "text": [
      "\n",
      "\n",
      " 43%|████▎     | 491/1141 [59:19<1:26:00,  7.94s/it]\u001b[A\u001b[A\n",
      "\n",
      " 43%|████▎     | 492/1141 [59:25<1:18:10,  7.23s/it]\u001b[A\u001b[A"
     ]
    },
    {
     "name": "stdout",
     "output_type": "stream",
     "text": [
      "'examples'\n"
     ]
    },
    {
     "name": "stderr",
     "output_type": "stream",
     "text": [
      "\n",
      "\n",
      " 43%|████▎     | 493/1141 [59:36<1:30:49,  8.41s/it]\u001b[A\u001b[A"
     ]
    },
    {
     "name": "stdout",
     "output_type": "stream",
     "text": [
      "'examples'\n"
     ]
    },
    {
     "name": "stderr",
     "output_type": "stream",
     "text": [
      "\n",
      "\n",
      " 43%|████▎     | 494/1141 [59:42<1:21:39,  7.57s/it]\u001b[A\u001b[A"
     ]
    },
    {
     "name": "stdout",
     "output_type": "stream",
     "text": [
      "'etymologies'\n"
     ]
    },
    {
     "name": "stderr",
     "output_type": "stream",
     "text": [
      "\n",
      "\n",
      " 43%|████▎     | 495/1141 [59:53<1:32:55,  8.63s/it]\u001b[A\u001b[A"
     ]
    },
    {
     "name": "stdout",
     "output_type": "stream",
     "text": [
      "'etymologies'\n",
      "'examples'\n",
      "'etymologies'\n",
      "'examples'\n",
      "'etymologies'\n"
     ]
    },
    {
     "name": "stderr",
     "output_type": "stream",
     "text": [
      "\n",
      "\n",
      " 43%|████▎     | 496/1141 [1:00:09<1:58:46, 11.05s/it]\u001b[A\u001b[A"
     ]
    },
    {
     "name": "stdout",
     "output_type": "stream",
     "text": [
      "'etymologies'\n",
      "'etymologies'\n",
      "'pronunciations'\n",
      "'pronunciations'\n"
     ]
    },
    {
     "name": "stderr",
     "output_type": "stream",
     "text": [
      "\n",
      "\n",
      " 44%|████▎     | 497/1141 [1:00:21<2:01:35, 11.33s/it]\u001b[A\u001b[A"
     ]
    },
    {
     "name": "stdout",
     "output_type": "stream",
     "text": [
      "'etymologies'\n",
      "'pronunciations'\n",
      "'pronunciations'\n"
     ]
    },
    {
     "name": "stderr",
     "output_type": "stream",
     "text": [
      "\n",
      "\n",
      " 44%|████▎     | 498/1141 [1:00:27<1:43:30,  9.66s/it]\u001b[A\u001b[A\n",
      "\n",
      " 44%|████▎     | 499/1141 [1:00:33<1:30:00,  8.41s/it]\u001b[A\u001b[A"
     ]
    },
    {
     "name": "stdout",
     "output_type": "stream",
     "text": [
      "'examples'\n"
     ]
    },
    {
     "name": "stderr",
     "output_type": "stream",
     "text": [
      "\n",
      "\n",
      " 44%|████▍     | 500/1141 [1:00:44<1:39:01,  9.27s/it]\u001b[A\u001b[A"
     ]
    },
    {
     "name": "stdout",
     "output_type": "stream",
     "text": [
      "'examples'\n"
     ]
    },
    {
     "name": "stderr",
     "output_type": "stream",
     "text": [
      "\n",
      "\n",
      " 44%|████▍     | 501/1141 [1:00:50<1:26:59,  8.15s/it]\u001b[A\u001b[A"
     ]
    },
    {
     "name": "stdout",
     "output_type": "stream",
     "text": [
      "'examples'\n",
      "'etymologies'\n"
     ]
    },
    {
     "name": "stderr",
     "output_type": "stream",
     "text": [
      "\n",
      "\n",
      " 44%|████▍     | 502/1141 [1:01:01<1:36:23,  9.05s/it]\u001b[A\u001b[A"
     ]
    },
    {
     "name": "stdout",
     "output_type": "stream",
     "text": [
      "'etymologies'\n"
     ]
    },
    {
     "name": "stderr",
     "output_type": "stream",
     "text": [
      "\n",
      "\n",
      " 44%|████▍     | 503/1141 [1:01:06<1:25:01,  8.00s/it]\u001b[A\u001b[A"
     ]
    },
    {
     "name": "stdout",
     "output_type": "stream",
     "text": [
      "'examples'\n",
      "'etymologies'\n"
     ]
    },
    {
     "name": "stderr",
     "output_type": "stream",
     "text": [
      "\n",
      "\n",
      " 44%|████▍     | 504/1141 [1:01:17<1:35:14,  8.97s/it]\u001b[A\u001b[A"
     ]
    },
    {
     "name": "stdout",
     "output_type": "stream",
     "text": [
      "'etymologies'\n"
     ]
    },
    {
     "name": "stderr",
     "output_type": "stream",
     "text": [
      "\n",
      "\n",
      " 44%|████▍     | 505/1141 [1:01:23<1:24:11,  7.94s/it]\u001b[A\u001b[A\n",
      "\n",
      " 44%|████▍     | 506/1141 [1:01:29<1:16:30,  7.23s/it]\u001b[A\u001b[A\n",
      "\n",
      " 44%|████▍     | 507/1141 [1:01:34<1:11:16,  6.74s/it]\u001b[A\u001b[A\n",
      "\n",
      " 45%|████▍     | 508/1141 [1:01:40<1:07:22,  6.39s/it]\u001b[A\u001b[A\n",
      "\n",
      " 45%|████▍     | 509/1141 [1:01:45<1:04:49,  6.15s/it]\u001b[A\u001b[A\n",
      "\n",
      " 45%|████▍     | 510/1141 [1:01:51<1:02:49,  5.97s/it]\u001b[A\u001b[A"
     ]
    },
    {
     "name": "stdout",
     "output_type": "stream",
     "text": [
      "'etymologies'\n"
     ]
    },
    {
     "name": "stderr",
     "output_type": "stream",
     "text": [
      "\n",
      "\n",
      " 45%|████▍     | 511/1141 [1:02:02<1:18:45,  7.50s/it]\u001b[A\u001b[A"
     ]
    },
    {
     "name": "stdout",
     "output_type": "stream",
     "text": [
      "'etymologies'\n",
      "'examples'\n"
     ]
    },
    {
     "name": "stderr",
     "output_type": "stream",
     "text": [
      "\n",
      "\n",
      " 45%|████▍     | 512/1141 [1:02:13<1:29:47,  8.57s/it]\u001b[A\u001b[A"
     ]
    },
    {
     "name": "stdout",
     "output_type": "stream",
     "text": [
      "'examples'\n",
      "'examples'\n"
     ]
    },
    {
     "name": "stderr",
     "output_type": "stream",
     "text": [
      "\n",
      "\n",
      " 45%|████▍     | 513/1141 [1:02:24<1:37:56,  9.36s/it]\u001b[A\u001b[A"
     ]
    },
    {
     "name": "stdout",
     "output_type": "stream",
     "text": [
      "'examples'\n",
      "'examples'\n",
      "'etymologies'\n",
      "'examples'\n",
      "'etymologies'\n"
     ]
    },
    {
     "name": "stderr",
     "output_type": "stream",
     "text": [
      "\n",
      "\n",
      " 45%|████▌     | 514/1141 [1:02:41<2:00:52, 11.57s/it]\u001b[A\u001b[A"
     ]
    },
    {
     "name": "stdout",
     "output_type": "stream",
     "text": [
      "'etymologies'\n",
      "'examples'\n"
     ]
    },
    {
     "name": "stderr",
     "output_type": "stream",
     "text": [
      "\n",
      "\n",
      " 45%|████▌     | 515/1141 [1:02:52<1:59:03, 11.41s/it]\u001b[A\u001b[A"
     ]
    },
    {
     "name": "stdout",
     "output_type": "stream",
     "text": [
      "'examples'\n"
     ]
    },
    {
     "name": "stderr",
     "output_type": "stream",
     "text": [
      "\n",
      "\n",
      " 45%|████▌     | 516/1141 [1:02:58<1:40:35,  9.66s/it]\u001b[A\u001b[A\n",
      "\n",
      " 45%|████▌     | 517/1141 [1:03:03<1:28:06,  8.47s/it]\u001b[A\u001b[A\n",
      "\n",
      " 45%|████▌     | 518/1141 [1:03:09<1:18:48,  7.59s/it]\u001b[A\u001b[A\n",
      "\n",
      " 45%|████▌     | 519/1141 [1:03:14<1:12:34,  7.00s/it]\u001b[A\u001b[A\n",
      "\n",
      " 46%|████▌     | 520/1141 [1:03:20<1:08:00,  6.57s/it]\u001b[A\u001b[A\n",
      "\n",
      " 46%|████▌     | 521/1141 [1:03:26<1:04:48,  6.27s/it]\u001b[A\u001b[A\n",
      "\n",
      " 46%|████▌     | 522/1141 [1:03:31<1:02:23,  6.05s/it]\u001b[A\u001b[A\n",
      "\n",
      " 46%|████▌     | 523/1141 [1:03:37<1:00:53,  5.91s/it]\u001b[A\u001b[A\n",
      "\n",
      " 46%|████▌     | 524/1141 [1:03:42<59:59,  5.83s/it]  \u001b[A\u001b[A\n",
      "\n",
      " 46%|████▌     | 525/1141 [1:03:48<59:03,  5.75s/it]\u001b[A\u001b[A\n",
      "\n",
      " 46%|████▌     | 526/1141 [1:03:53<58:17,  5.69s/it]\u001b[A\u001b[A\n",
      "\n",
      " 46%|████▌     | 527/1141 [1:03:59<58:09,  5.68s/it]\u001b[A\u001b[A\n",
      "\n",
      " 46%|████▋     | 528/1141 [1:04:05<57:51,  5.66s/it]\u001b[A\u001b[A\n",
      "\n",
      " 46%|████▋     | 529/1141 [1:04:10<57:36,  5.65s/it]\u001b[A\u001b[A\n",
      "\n",
      " 46%|████▋     | 530/1141 [1:04:16<57:53,  5.68s/it]\u001b[A\u001b[A\n",
      "\n",
      " 47%|████▋     | 531/1141 [1:04:22<57:30,  5.66s/it]\u001b[A\u001b[A\n",
      "\n",
      " 47%|████▋     | 532/1141 [1:04:27<57:08,  5.63s/it]\u001b[A\u001b[A\n",
      "\n",
      " 47%|████▋     | 533/1141 [1:04:33<56:50,  5.61s/it]\u001b[A\u001b[A\n",
      "\n",
      " 47%|████▋     | 534/1141 [1:04:38<56:29,  5.58s/it]\u001b[A\u001b[A\n",
      "\n",
      " 47%|████▋     | 535/1141 [1:04:44<56:21,  5.58s/it]\u001b[A\u001b[A\n",
      "\n",
      " 47%|████▋     | 536/1141 [1:04:49<56:09,  5.57s/it]\u001b[A\u001b[A\n",
      "\n",
      " 47%|████▋     | 537/1141 [1:04:55<56:53,  5.65s/it]\u001b[A\u001b[A\n",
      "\n",
      " 47%|████▋     | 538/1141 [1:05:01<56:30,  5.62s/it]\u001b[A\u001b[A\n",
      "\n",
      " 47%|████▋     | 539/1141 [1:05:06<56:04,  5.59s/it]\u001b[A\u001b[A\n",
      "\n",
      " 47%|████▋     | 540/1141 [1:05:12<55:58,  5.59s/it]\u001b[A\u001b[A\n",
      "\n",
      " 47%|████▋     | 541/1141 [1:05:18<55:53,  5.59s/it]\u001b[A\u001b[A\n",
      "\n",
      " 48%|████▊     | 542/1141 [1:05:23<55:42,  5.58s/it]\u001b[A\u001b[A\n",
      "\n",
      " 48%|████▊     | 543/1141 [1:05:29<55:50,  5.60s/it]\u001b[A\u001b[A"
     ]
    },
    {
     "name": "stdout",
     "output_type": "stream",
     "text": [
      "'examples'\n"
     ]
    },
    {
     "name": "stderr",
     "output_type": "stream",
     "text": [
      "\n",
      "\n",
      " 48%|████▊     | 544/1141 [1:05:40<1:12:15,  7.26s/it]\u001b[A\u001b[A"
     ]
    },
    {
     "name": "stdout",
     "output_type": "stream",
     "text": [
      "'examples'\n"
     ]
    },
    {
     "name": "stderr",
     "output_type": "stream",
     "text": [
      "\n",
      "\n",
      " 48%|████▊     | 545/1141 [1:05:45<1:07:05,  6.75s/it]\u001b[A\u001b[A\n",
      "\n",
      " 48%|████▊     | 546/1141 [1:05:51<1:03:36,  6.41s/it]\u001b[A\u001b[A\n",
      "\n",
      " 48%|████▊     | 547/1141 [1:05:57<1:01:12,  6.18s/it]\u001b[A\u001b[A\n",
      "\n",
      " 48%|████▊     | 548/1141 [1:06:02<59:14,  5.99s/it]  \u001b[A\u001b[A\n",
      "\n",
      " 48%|████▊     | 549/1141 [1:06:08<57:56,  5.87s/it]\u001b[A\u001b[A\n",
      "\n",
      " 48%|████▊     | 550/1141 [1:06:14<57:39,  5.85s/it]\u001b[A\u001b[A"
     ]
    },
    {
     "name": "stdout",
     "output_type": "stream",
     "text": [
      "'examples'\n"
     ]
    },
    {
     "name": "stderr",
     "output_type": "stream",
     "text": [
      "\n",
      "\n",
      " 48%|████▊     | 551/1141 [1:06:25<1:13:13,  7.45s/it]\u001b[A\u001b[A"
     ]
    },
    {
     "name": "stdout",
     "output_type": "stream",
     "text": [
      "'examples'\n"
     ]
    },
    {
     "name": "stderr",
     "output_type": "stream",
     "text": [
      "\n",
      "\n",
      " 48%|████▊     | 552/1141 [1:06:30<1:07:36,  6.89s/it]\u001b[A\u001b[A\n",
      "\n",
      " 48%|████▊     | 553/1141 [1:06:36<1:03:35,  6.49s/it]\u001b[A\u001b[A"
     ]
    },
    {
     "name": "stdout",
     "output_type": "stream",
     "text": [
      "'results'\n",
      "'results'\n",
      "'results'\n",
      "'results'\n",
      "'results'\n",
      "'results'\n",
      "'results'\n",
      "'results'\n",
      "'results'\n"
     ]
    },
    {
     "name": "stderr",
     "output_type": "stream",
     "text": [
      "\n",
      "\n",
      " 49%|████▊     | 554/1141 [1:06:54<1:37:18,  9.95s/it]\u001b[A\u001b[A"
     ]
    },
    {
     "name": "stdout",
     "output_type": "stream",
     "text": [
      "'results'\n",
      "'results'\n",
      "'results'\n"
     ]
    },
    {
     "name": "stderr",
     "output_type": "stream",
     "text": [
      "\n",
      "\n",
      " 49%|████▊     | 555/1141 [1:07:00<1:24:19,  8.63s/it]\u001b[A\u001b[A"
     ]
    },
    {
     "name": "stdout",
     "output_type": "stream",
     "text": [
      "'results'\n",
      "'results'\n",
      "'results'\n",
      "'results'\n"
     ]
    },
    {
     "name": "stderr",
     "output_type": "stream",
     "text": [
      "\n",
      "\n",
      " 49%|████▊     | 556/1141 [1:07:11<1:31:36,  9.40s/it]\u001b[A\u001b[A"
     ]
    },
    {
     "name": "stdout",
     "output_type": "stream",
     "text": [
      "'results'\n",
      "'results'\n",
      "'results'\n"
     ]
    },
    {
     "name": "stderr",
     "output_type": "stream",
     "text": [
      "\n",
      "\n",
      " 49%|████▉     | 557/1141 [1:07:16<1:20:15,  8.25s/it]\u001b[A\u001b[A\n",
      "\n",
      " 49%|████▉     | 558/1141 [1:07:22<1:12:21,  7.45s/it]\u001b[A\u001b[A\n",
      "\n",
      " 49%|████▉     | 559/1141 [1:07:27<1:06:42,  6.88s/it]\u001b[A\u001b[A"
     ]
    },
    {
     "name": "stdout",
     "output_type": "stream",
     "text": [
      "'results'\n",
      "'results'\n",
      "'results'\n",
      "'results'\n",
      "'results'\n",
      "'results'\n",
      "'results'\n",
      "'results'\n",
      "'results'\n"
     ]
    },
    {
     "name": "stderr",
     "output_type": "stream",
     "text": [
      "\n",
      "\n",
      " 49%|████▉     | 560/1141 [1:07:44<1:35:30,  9.86s/it]\u001b[A\u001b[A"
     ]
    },
    {
     "name": "stdout",
     "output_type": "stream",
     "text": [
      "'results'\n",
      "'results'\n",
      "'results'\n"
     ]
    },
    {
     "name": "stderr",
     "output_type": "stream",
     "text": [
      "\n",
      "\n",
      " 49%|████▉     | 561/1141 [1:07:50<1:22:46,  8.56s/it]\u001b[A\u001b[A\n",
      "\n",
      " 49%|████▉     | 562/1141 [1:07:55<1:14:08,  7.68s/it]\u001b[A\u001b[A"
     ]
    },
    {
     "name": "stdout",
     "output_type": "stream",
     "text": [
      "'examples'\n"
     ]
    },
    {
     "name": "stderr",
     "output_type": "stream",
     "text": [
      "\n",
      "\n",
      " 49%|████▉     | 563/1141 [1:08:07<1:24:15,  8.75s/it]\u001b[A\u001b[A"
     ]
    },
    {
     "name": "stdout",
     "output_type": "stream",
     "text": [
      "'examples'\n",
      "'etymologies'\n"
     ]
    },
    {
     "name": "stderr",
     "output_type": "stream",
     "text": [
      "\n",
      "\n",
      " 49%|████▉     | 564/1141 [1:08:18<1:30:49,  9.45s/it]\u001b[A\u001b[A"
     ]
    },
    {
     "name": "stdout",
     "output_type": "stream",
     "text": [
      "'etymologies'\n"
     ]
    },
    {
     "name": "stderr",
     "output_type": "stream",
     "text": [
      "\n",
      "\n",
      " 50%|████▉     | 565/1141 [1:08:23<1:19:30,  8.28s/it]\u001b[A\u001b[A\n",
      "\n",
      " 50%|████▉     | 566/1141 [1:08:29<1:11:55,  7.51s/it]\u001b[A\u001b[A\n",
      "\n",
      " 50%|████▉     | 567/1141 [1:08:35<1:06:08,  6.91s/it]\u001b[A\u001b[A\n",
      "\n",
      " 50%|████▉     | 568/1141 [1:08:40<1:02:02,  6.50s/it]\u001b[A\u001b[A\n",
      "\n",
      " 50%|████▉     | 569/1141 [1:08:46<59:05,  6.20s/it]  \u001b[A\u001b[A"
     ]
    },
    {
     "name": "stdout",
     "output_type": "stream",
     "text": [
      "'etymologies'\n"
     ]
    },
    {
     "name": "stderr",
     "output_type": "stream",
     "text": [
      "\n",
      "\n",
      " 50%|████▉     | 570/1141 [1:08:57<1:13:23,  7.71s/it]\u001b[A\u001b[A"
     ]
    },
    {
     "name": "stdout",
     "output_type": "stream",
     "text": [
      "'etymologies'\n",
      "'results'\n",
      "'results'\n",
      "'results'\n",
      "'results'\n",
      "'results'\n",
      "'results'\n",
      "'results'\n",
      "'results'\n",
      "'results'\n"
     ]
    },
    {
     "name": "stderr",
     "output_type": "stream",
     "text": [
      "\n",
      "\n",
      " 50%|█████     | 571/1141 [1:09:16<1:44:52, 11.04s/it]\u001b[A\u001b[A"
     ]
    },
    {
     "name": "stdout",
     "output_type": "stream",
     "text": [
      "'results'\n",
      "'results'\n",
      "'results'\n",
      "'examples'\n"
     ]
    },
    {
     "name": "stderr",
     "output_type": "stream",
     "text": [
      "\n",
      "\n",
      " 50%|█████     | 572/1141 [1:09:27<1:45:08, 11.09s/it]\u001b[A\u001b[A"
     ]
    },
    {
     "name": "stdout",
     "output_type": "stream",
     "text": [
      "'examples'\n",
      "'results'\n",
      "'results'\n",
      "'results'\n",
      "'results'\n",
      "'results'\n",
      "'results'\n",
      "'results'\n",
      "'results'\n",
      "'results'\n"
     ]
    },
    {
     "name": "stderr",
     "output_type": "stream",
     "text": [
      "\n",
      "\n",
      " 50%|█████     | 573/1141 [1:09:45<2:03:55, 13.09s/it]\u001b[A\u001b[A"
     ]
    },
    {
     "name": "stdout",
     "output_type": "stream",
     "text": [
      "'results'\n",
      "'results'\n",
      "'results'\n"
     ]
    },
    {
     "name": "stderr",
     "output_type": "stream",
     "text": [
      "\n",
      "\n",
      " 50%|█████     | 574/1141 [1:09:50<1:42:25, 10.84s/it]\u001b[A\u001b[A\n",
      "\n",
      " 50%|█████     | 575/1141 [1:09:56<1:27:50,  9.31s/it]\u001b[A\u001b[A\n",
      "\n",
      " 50%|█████     | 576/1141 [1:10:01<1:17:11,  8.20s/it]\u001b[A\u001b[A\n",
      "\n",
      " 51%|█████     | 577/1141 [1:10:07<1:09:38,  7.41s/it]\u001b[A\u001b[A\n",
      "\n",
      " 51%|█████     | 578/1141 [1:10:13<1:04:19,  6.85s/it]\u001b[A\u001b[A\n",
      "\n",
      " 51%|█████     | 579/1141 [1:10:18<1:00:36,  6.47s/it]\u001b[A\u001b[A\n",
      "\n",
      " 51%|█████     | 580/1141 [1:10:24<57:47,  6.18s/it]  \u001b[A\u001b[A"
     ]
    },
    {
     "name": "stdout",
     "output_type": "stream",
     "text": [
      "'results'\n",
      "'results'\n",
      "'results'\n",
      "'results'\n",
      "'results'\n",
      "'results'\n",
      "'results'\n",
      "'results'\n",
      "'results'\n"
     ]
    },
    {
     "name": "stderr",
     "output_type": "stream",
     "text": [
      "\n",
      "\n",
      " 51%|█████     | 581/1141 [1:10:41<1:30:05,  9.65s/it]\u001b[A\u001b[A"
     ]
    },
    {
     "name": "stdout",
     "output_type": "stream",
     "text": [
      "'results'\n",
      "'results'\n",
      "'results'\n",
      "'etymologies'\n"
     ]
    },
    {
     "name": "stderr",
     "output_type": "stream",
     "text": [
      "\n",
      "\n",
      " 51%|█████     | 582/1141 [1:10:53<1:34:11, 10.11s/it]\u001b[A\u001b[A"
     ]
    },
    {
     "name": "stdout",
     "output_type": "stream",
     "text": [
      "'etymologies'\n"
     ]
    },
    {
     "name": "stderr",
     "output_type": "stream",
     "text": [
      "\n",
      "\n",
      " 51%|█████     | 583/1141 [1:10:58<1:21:27,  8.76s/it]\u001b[A\u001b[A"
     ]
    },
    {
     "name": "stdout",
     "output_type": "stream",
     "text": [
      "'etymologies'\n",
      "'audioFile'\n"
     ]
    },
    {
     "name": "stderr",
     "output_type": "stream",
     "text": [
      "\n",
      "\n",
      " 51%|█████     | 584/1141 [1:11:09<1:27:48,  9.46s/it]\u001b[A\u001b[A"
     ]
    },
    {
     "name": "stdout",
     "output_type": "stream",
     "text": [
      "'etymologies'\n",
      "'audioFile'\n",
      "'etymologies'\n"
     ]
    },
    {
     "name": "stderr",
     "output_type": "stream",
     "text": [
      "\n",
      "\n",
      " 51%|█████▏    | 585/1141 [1:11:20<1:32:15,  9.96s/it]\u001b[A\u001b[A"
     ]
    },
    {
     "name": "stdout",
     "output_type": "stream",
     "text": [
      "'etymologies'\n",
      "'results'\n",
      "'results'\n",
      "'results'\n",
      "'results'\n",
      "'results'\n",
      "'results'\n",
      "'results'\n",
      "'results'\n",
      "'results'\n"
     ]
    },
    {
     "name": "stderr",
     "output_type": "stream",
     "text": [
      "\n",
      "\n",
      " 51%|█████▏    | 586/1141 [1:11:37<1:50:56, 11.99s/it]\u001b[A\u001b[A"
     ]
    },
    {
     "name": "stdout",
     "output_type": "stream",
     "text": [
      "'results'\n",
      "'results'\n",
      "'results'\n",
      "'results'\n",
      "'results'\n",
      "'results'\n",
      "'results'\n",
      "'results'\n",
      "'results'\n",
      "'results'\n",
      "'results'\n",
      "'results'\n"
     ]
    },
    {
     "name": "stderr",
     "output_type": "stream",
     "text": [
      "\n",
      "\n",
      " 51%|█████▏    | 587/1141 [1:11:55<2:06:19, 13.68s/it]\u001b[A\u001b[A"
     ]
    },
    {
     "name": "stdout",
     "output_type": "stream",
     "text": [
      "'results'\n",
      "'results'\n",
      "'results'\n",
      "'results'\n",
      "'results'\n",
      "'results'\n",
      "'results'\n",
      "'results'\n",
      "'results'\n",
      "'results'\n",
      "'results'\n",
      "'results'\n"
     ]
    },
    {
     "name": "stderr",
     "output_type": "stream",
     "text": [
      "\n",
      "\n",
      " 52%|█████▏    | 588/1141 [1:12:12<2:17:07, 14.88s/it]\u001b[A\u001b[A"
     ]
    },
    {
     "name": "stdout",
     "output_type": "stream",
     "text": [
      "'results'\n",
      "'results'\n",
      "'results'\n",
      "'results'\n",
      "'results'\n",
      "'results'\n",
      "'results'\n"
     ]
    },
    {
     "name": "stderr",
     "output_type": "stream",
     "text": [
      "\n",
      "\n",
      " 52%|█████▏    | 589/1141 [1:12:25<2:10:37, 14.20s/it]\u001b[A\u001b[A"
     ]
    },
    {
     "name": "stdout",
     "output_type": "stream",
     "text": [
      "'results'\n",
      "'results'\n",
      "'results'\n",
      "'results'\n",
      "'results'\n",
      "'results'\n",
      "'results'\n",
      "'results'\n",
      "'results'\n",
      "'results'\n",
      "'results'\n",
      "'results'\n"
     ]
    },
    {
     "name": "stderr",
     "output_type": "stream",
     "text": [
      "\n",
      "\n",
      " 52%|█████▏    | 590/1141 [1:12:43<2:19:39, 15.21s/it]\u001b[A\u001b[A"
     ]
    },
    {
     "name": "stdout",
     "output_type": "stream",
     "text": [
      "'results'\n",
      "'results'\n",
      "'results'\n"
     ]
    },
    {
     "name": "stderr",
     "output_type": "stream",
     "text": [
      "\n",
      "\n",
      " 52%|█████▏    | 591/1141 [1:12:48<1:52:53, 12.32s/it]\u001b[A\u001b[A"
     ]
    },
    {
     "name": "stdout",
     "output_type": "stream",
     "text": [
      "'examples'\n",
      "'etymologies'\n"
     ]
    },
    {
     "name": "stderr",
     "output_type": "stream",
     "text": [
      "\n",
      "\n",
      " 52%|█████▏    | 592/1141 [1:12:59<1:49:20, 11.95s/it]\u001b[A\u001b[A"
     ]
    },
    {
     "name": "stdout",
     "output_type": "stream",
     "text": [
      "'etymologies'\n",
      "'results'\n",
      "'results'\n",
      "'results'\n",
      "'results'\n"
     ]
    },
    {
     "name": "stderr",
     "output_type": "stream",
     "text": [
      "\n",
      "\n",
      " 52%|█████▏    | 593/1141 [1:13:11<1:47:18, 11.75s/it]\u001b[A\u001b[A"
     ]
    },
    {
     "name": "stdout",
     "output_type": "stream",
     "text": [
      "'results'\n",
      "'results'\n",
      "'results'\n"
     ]
    },
    {
     "name": "stderr",
     "output_type": "stream",
     "text": [
      "\n",
      "\n",
      " 52%|█████▏    | 594/1141 [1:13:16<1:30:12,  9.90s/it]\u001b[A\u001b[A"
     ]
    },
    {
     "name": "stdout",
     "output_type": "stream",
     "text": [
      "'results'\n",
      "'results'\n",
      "'results'\n",
      "'results'\n"
     ]
    },
    {
     "name": "stderr",
     "output_type": "stream",
     "text": [
      "\n",
      "\n",
      " 52%|█████▏    | 595/1141 [1:13:28<1:35:58, 10.55s/it]\u001b[A\u001b[A"
     ]
    },
    {
     "name": "stdout",
     "output_type": "stream",
     "text": [
      "'results'\n",
      "'results'\n",
      "'results'\n"
     ]
    },
    {
     "name": "stderr",
     "output_type": "stream",
     "text": [
      "\n",
      "\n",
      " 52%|█████▏    | 596/1141 [1:13:34<1:22:20,  9.07s/it]\u001b[A\u001b[A"
     ]
    },
    {
     "name": "stdout",
     "output_type": "stream",
     "text": [
      "'etymologies'\n"
     ]
    },
    {
     "name": "stderr",
     "output_type": "stream",
     "text": [
      "\n",
      "\n",
      " 52%|█████▏    | 597/1141 [1:13:45<1:27:53,  9.69s/it]\u001b[A\u001b[A"
     ]
    },
    {
     "name": "stdout",
     "output_type": "stream",
     "text": [
      "'etymologies'\n"
     ]
    },
    {
     "name": "stderr",
     "output_type": "stream",
     "text": [
      "\n",
      "\n",
      " 52%|█████▏    | 598/1141 [1:13:51<1:16:32,  8.46s/it]\u001b[A\u001b[A"
     ]
    },
    {
     "name": "stdout",
     "output_type": "stream",
     "text": [
      "'etymologies'\n"
     ]
    },
    {
     "name": "stderr",
     "output_type": "stream",
     "text": [
      "\n",
      "\n",
      " 52%|█████▏    | 599/1141 [1:14:02<1:23:40,  9.26s/it]\u001b[A\u001b[A"
     ]
    },
    {
     "name": "stdout",
     "output_type": "stream",
     "text": [
      "'etymologies'\n",
      "'results'\n",
      "'results'\n",
      "'results'\n",
      "'results'\n",
      "'results'\n",
      "'results'\n",
      "'results'\n",
      "'results'\n",
      "'results'\n"
     ]
    },
    {
     "name": "stderr",
     "output_type": "stream",
     "text": [
      "\n",
      "\n",
      " 53%|█████▎    | 600/1141 [1:14:19<1:43:54, 11.52s/it]\u001b[A\u001b[A"
     ]
    },
    {
     "name": "stdout",
     "output_type": "stream",
     "text": [
      "'results'\n",
      "'results'\n",
      "'results'\n",
      "'etymologies'\n"
     ]
    },
    {
     "name": "stderr",
     "output_type": "stream",
     "text": [
      "\n",
      "\n",
      " 53%|█████▎    | 601/1141 [1:14:30<1:42:37, 11.40s/it]\u001b[A\u001b[A"
     ]
    },
    {
     "name": "stdout",
     "output_type": "stream",
     "text": [
      "'etymologies'\n",
      "'results'\n",
      "'results'\n",
      "'results'\n",
      "'results'\n",
      "'results'\n",
      "'results'\n",
      "'results'\n",
      "'results'\n",
      "'results'\n"
     ]
    },
    {
     "name": "stderr",
     "output_type": "stream",
     "text": [
      "\n",
      "\n",
      " 53%|█████▎    | 602/1141 [1:14:47<1:57:29, 13.08s/it]\u001b[A\u001b[A"
     ]
    },
    {
     "name": "stdout",
     "output_type": "stream",
     "text": [
      "'results'\n",
      "'results'\n",
      "'results'\n",
      "'examples'\n"
     ]
    },
    {
     "name": "stderr",
     "output_type": "stream",
     "text": [
      "\n",
      "\n",
      " 53%|█████▎    | 603/1141 [1:14:58<1:51:56, 12.48s/it]\u001b[A\u001b[A"
     ]
    },
    {
     "name": "stdout",
     "output_type": "stream",
     "text": [
      "'examples'\n",
      "'examples'\n"
     ]
    },
    {
     "name": "stderr",
     "output_type": "stream",
     "text": [
      "\n",
      "\n",
      " 53%|█████▎    | 604/1141 [1:15:09<1:48:37, 12.14s/it]\u001b[A\u001b[A"
     ]
    },
    {
     "name": "stdout",
     "output_type": "stream",
     "text": [
      "'examples'\n",
      "'etymologies'\n"
     ]
    },
    {
     "name": "stderr",
     "output_type": "stream",
     "text": [
      "\n",
      "\n",
      " 53%|█████▎    | 605/1141 [1:15:20<1:45:41, 11.83s/it]\u001b[A\u001b[A"
     ]
    },
    {
     "name": "stdout",
     "output_type": "stream",
     "text": [
      "'etymologies'\n"
     ]
    },
    {
     "name": "stderr",
     "output_type": "stream",
     "text": [
      "\n",
      "\n",
      " 53%|█████▎    | 606/1141 [1:15:26<1:28:50,  9.96s/it]\u001b[A\u001b[A\n",
      "\n",
      " 53%|█████▎    | 607/1141 [1:15:31<1:17:00,  8.65s/it]\u001b[A\u001b[A\n",
      "\n",
      " 53%|█████▎    | 608/1141 [1:15:37<1:08:45,  7.74s/it]\u001b[A\u001b[A\n",
      "\n",
      " 53%|█████▎    | 609/1141 [1:15:43<1:02:51,  7.09s/it]\u001b[A\u001b[A\n",
      "\n",
      " 53%|█████▎    | 610/1141 [1:15:48<58:51,  6.65s/it]  \u001b[A\u001b[A"
     ]
    },
    {
     "name": "stdout",
     "output_type": "stream",
     "text": [
      "'etymologies'\n",
      "'examples'\n",
      "'etymologies'\n"
     ]
    },
    {
     "name": "stderr",
     "output_type": "stream",
     "text": [
      "\n",
      "\n",
      " 54%|█████▎    | 611/1141 [1:15:59<1:10:37,  8.00s/it]\u001b[A\u001b[A"
     ]
    },
    {
     "name": "stdout",
     "output_type": "stream",
     "text": [
      "'etymologies'\n"
     ]
    },
    {
     "name": "stderr",
     "output_type": "stream",
     "text": [
      "\n",
      "\n",
      " 54%|█████▎    | 612/1141 [1:16:05<1:04:00,  7.26s/it]\u001b[A\u001b[A"
     ]
    },
    {
     "name": "stdout",
     "output_type": "stream",
     "text": [
      "'examples'\n",
      "'etymologies'\n"
     ]
    },
    {
     "name": "stderr",
     "output_type": "stream",
     "text": [
      "\n",
      "\n",
      " 54%|█████▎    | 613/1141 [1:16:16<1:14:16,  8.44s/it]\u001b[A\u001b[A"
     ]
    },
    {
     "name": "stdout",
     "output_type": "stream",
     "text": [
      "'etymologies'\n"
     ]
    },
    {
     "name": "stderr",
     "output_type": "stream",
     "text": [
      "\n",
      "\n",
      " 54%|█████▍    | 614/1141 [1:16:22<1:06:37,  7.58s/it]\u001b[A\u001b[A\n",
      "\n",
      " 54%|█████▍    | 615/1141 [1:16:27<1:01:15,  6.99s/it]\u001b[A\u001b[A"
     ]
    },
    {
     "name": "stdout",
     "output_type": "stream",
     "text": [
      "'examples'\n"
     ]
    },
    {
     "name": "stderr",
     "output_type": "stream",
     "text": [
      "\n",
      "\n",
      " 54%|█████▍    | 616/1141 [1:16:38<1:12:06,  8.24s/it]\u001b[A\u001b[A"
     ]
    },
    {
     "name": "stdout",
     "output_type": "stream",
     "text": [
      "'examples'\n"
     ]
    },
    {
     "name": "stderr",
     "output_type": "stream",
     "text": [
      "\n",
      "\n",
      " 54%|█████▍    | 617/1141 [1:16:45<1:07:35,  7.74s/it]\u001b[A\u001b[A\n",
      "\n",
      " 54%|█████▍    | 618/1141 [1:16:51<1:01:52,  7.10s/it]\u001b[A\u001b[A"
     ]
    },
    {
     "name": "stdout",
     "output_type": "stream",
     "text": [
      "'results'\n",
      "'results'\n",
      "'results'\n",
      "'results'\n"
     ]
    },
    {
     "name": "stderr",
     "output_type": "stream",
     "text": [
      "\n",
      "\n",
      " 54%|█████▍    | 619/1141 [1:17:02<1:12:43,  8.36s/it]\u001b[A\u001b[A"
     ]
    },
    {
     "name": "stdout",
     "output_type": "stream",
     "text": [
      "'results'\n",
      "'results'\n",
      "'results'\n",
      "'results'\n",
      "'results'\n",
      "'results'\n",
      "'results'\n"
     ]
    },
    {
     "name": "stderr",
     "output_type": "stream",
     "text": [
      "\n",
      "\n",
      " 54%|█████▍    | 620/1141 [1:17:13<1:20:04,  9.22s/it]\u001b[A\u001b[A"
     ]
    },
    {
     "name": "stdout",
     "output_type": "stream",
     "text": [
      "'results'\n",
      "'results'\n",
      "'results'\n"
     ]
    },
    {
     "name": "stderr",
     "output_type": "stream",
     "text": [
      "\n",
      "\n",
      " 54%|█████▍    | 621/1141 [1:17:19<1:10:31,  8.14s/it]\u001b[A\u001b[A\n",
      "\n",
      " 55%|█████▍    | 622/1141 [1:17:24<1:03:43,  7.37s/it]\u001b[A\u001b[A"
     ]
    },
    {
     "name": "stdout",
     "output_type": "stream",
     "text": [
      "'results'\n",
      "'results'\n",
      "'results'\n",
      "'results'\n"
     ]
    },
    {
     "name": "stderr",
     "output_type": "stream",
     "text": [
      "\n",
      "\n",
      " 55%|█████▍    | 623/1141 [1:17:35<1:13:21,  8.50s/it]\u001b[A\u001b[A"
     ]
    },
    {
     "name": "stdout",
     "output_type": "stream",
     "text": [
      "'results'\n",
      "'results'\n",
      "'results'\n",
      "'results'\n",
      "'results'\n",
      "'results'\n",
      "'results'\n"
     ]
    },
    {
     "name": "stderr",
     "output_type": "stream",
     "text": [
      "\n",
      "\n",
      " 55%|█████▍    | 624/1141 [1:17:47<1:20:02,  9.29s/it]\u001b[A\u001b[A"
     ]
    },
    {
     "name": "stdout",
     "output_type": "stream",
     "text": [
      "'results'\n",
      "'results'\n",
      "'results'\n"
     ]
    },
    {
     "name": "stderr",
     "output_type": "stream",
     "text": [
      "\n",
      "\n",
      " 55%|█████▍    | 625/1141 [1:17:52<1:10:12,  8.16s/it]\u001b[A\u001b[A\n",
      "\n",
      " 55%|█████▍    | 626/1141 [1:17:58<1:03:26,  7.39s/it]\u001b[A\u001b[A\n",
      "\n",
      " 55%|█████▍    | 627/1141 [1:18:03<58:42,  6.85s/it]  \u001b[A\u001b[A\n",
      "\n",
      " 55%|█████▌    | 628/1141 [1:18:09<55:24,  6.48s/it]\u001b[A\u001b[A\n",
      "\n",
      " 55%|█████▌    | 629/1141 [1:18:14<52:58,  6.21s/it]\u001b[A\u001b[A\n",
      "\n",
      " 55%|█████▌    | 630/1141 [1:18:20<51:08,  6.00s/it]\u001b[A\u001b[A\n",
      "\n",
      " 55%|█████▌    | 631/1141 [1:18:27<54:04,  6.36s/it]\u001b[A\u001b[A"
     ]
    },
    {
     "name": "stdout",
     "output_type": "stream",
     "text": [
      "'examples'\n",
      "'audioFile'\n"
     ]
    },
    {
     "name": "stderr",
     "output_type": "stream",
     "text": [
      "\n",
      "\n",
      " 55%|█████▌    | 632/1141 [1:18:33<51:48,  6.11s/it]\u001b[A\u001b[A"
     ]
    },
    {
     "name": "stdout",
     "output_type": "stream",
     "text": [
      "'results'\n",
      "'results'\n",
      "'results'\n",
      "'results'\n",
      "'results'\n",
      "'results'\n",
      "'results'\n",
      "'results'\n",
      "'results'\n"
     ]
    },
    {
     "name": "stderr",
     "output_type": "stream",
     "text": [
      "\n",
      "\n",
      " 55%|█████▌    | 633/1141 [1:18:51<1:22:19,  9.72s/it]\u001b[A\u001b[A"
     ]
    },
    {
     "name": "stdout",
     "output_type": "stream",
     "text": [
      "'results'\n",
      "'results'\n",
      "'results'\n",
      "'results'\n",
      "'results'\n",
      "'results'\n",
      "'results'\n",
      "'results'\n",
      "'results'\n",
      "'results'\n",
      "'results'\n",
      "'results'\n"
     ]
    },
    {
     "name": "stderr",
     "output_type": "stream",
     "text": [
      "\n",
      "\n",
      " 56%|█████▌    | 634/1141 [1:19:09<1:44:03, 12.31s/it]\u001b[A\u001b[A"
     ]
    },
    {
     "name": "stdout",
     "output_type": "stream",
     "text": [
      "'results'\n",
      "'results'\n",
      "'results'\n",
      "'examples'\n",
      "'etymologies'\n"
     ]
    },
    {
     "name": "stderr",
     "output_type": "stream",
     "text": [
      "\n",
      "\n",
      " 56%|█████▌    | 635/1141 [1:19:20<1:40:55, 11.97s/it]\u001b[A\u001b[A"
     ]
    },
    {
     "name": "stdout",
     "output_type": "stream",
     "text": [
      "'etymologies'\n",
      "'examples'\n"
     ]
    },
    {
     "name": "stderr",
     "output_type": "stream",
     "text": [
      "\n",
      "\n",
      " 56%|█████▌    | 636/1141 [1:19:31<1:38:34, 11.71s/it]\u001b[A\u001b[A"
     ]
    },
    {
     "name": "stdout",
     "output_type": "stream",
     "text": [
      "'examples'\n",
      "'results'\n",
      "'results'\n",
      "'results'\n",
      "'results'\n",
      "'results'\n",
      "'results'\n",
      "'results'\n",
      "'results'\n",
      "'results'\n"
     ]
    },
    {
     "name": "stderr",
     "output_type": "stream",
     "text": [
      "\n",
      "\n",
      " 56%|█████▌    | 637/1141 [1:19:48<1:50:59, 13.21s/it]\u001b[A\u001b[A"
     ]
    },
    {
     "name": "stdout",
     "output_type": "stream",
     "text": [
      "'results'\n",
      "'results'\n",
      "'results'\n",
      "'etymologies'\n",
      "'phoneticSpelling'\n"
     ]
    },
    {
     "name": "stderr",
     "output_type": "stream",
     "text": [
      "\n",
      "\n",
      " 56%|█████▌    | 638/1141 [1:19:59<1:45:29, 12.58s/it]\u001b[A\u001b[A"
     ]
    },
    {
     "name": "stdout",
     "output_type": "stream",
     "text": [
      "'etymologies'\n",
      "'phoneticSpelling'\n",
      "'etymologies'\n"
     ]
    },
    {
     "name": "stderr",
     "output_type": "stream",
     "text": [
      "\n",
      "\n",
      " 56%|█████▌    | 639/1141 [1:20:11<1:41:55, 12.18s/it]\u001b[A\u001b[A"
     ]
    },
    {
     "name": "stdout",
     "output_type": "stream",
     "text": [
      "'etymologies'\n"
     ]
    },
    {
     "name": "stderr",
     "output_type": "stream",
     "text": [
      "\n",
      "\n",
      " 56%|█████▌    | 640/1141 [1:20:16<1:24:59, 10.18s/it]\u001b[A\u001b[A\n",
      "\n",
      " 56%|█████▌    | 641/1141 [1:20:22<1:13:16,  8.79s/it]\u001b[A\u001b[A\n",
      "\n",
      " 56%|█████▋    | 642/1141 [1:20:28<1:06:26,  7.99s/it]\u001b[A\u001b[A"
     ]
    },
    {
     "name": "stdout",
     "output_type": "stream",
     "text": [
      "'etymologies'\n"
     ]
    },
    {
     "name": "stderr",
     "output_type": "stream",
     "text": [
      "\n",
      "\n",
      " 56%|█████▋    | 643/1141 [1:20:39<1:15:08,  9.05s/it]\u001b[A\u001b[A"
     ]
    },
    {
     "name": "stdout",
     "output_type": "stream",
     "text": [
      "'etymologies'\n"
     ]
    },
    {
     "name": "stderr",
     "output_type": "stream",
     "text": [
      "\n",
      "\n",
      " 56%|█████▋    | 644/1141 [1:20:45<1:06:20,  8.01s/it]\u001b[A\u001b[A"
     ]
    },
    {
     "name": "stdout",
     "output_type": "stream",
     "text": [
      "'results'\n",
      "'results'\n",
      "'results'\n",
      "'results'\n",
      "'results'\n",
      "'results'\n",
      "'results'\n",
      "'results'\n",
      "'results'\n"
     ]
    },
    {
     "name": "stderr",
     "output_type": "stream",
     "text": [
      "\n",
      "\n",
      " 57%|█████▋    | 645/1141 [1:21:02<1:27:48, 10.62s/it]\u001b[A\u001b[A"
     ]
    },
    {
     "name": "stdout",
     "output_type": "stream",
     "text": [
      "'results'\n",
      "'results'\n",
      "'results'\n",
      "'etymologies'\n"
     ]
    },
    {
     "name": "stderr",
     "output_type": "stream",
     "text": [
      "\n",
      "\n",
      " 57%|█████▋    | 646/1141 [1:21:13<1:29:00, 10.79s/it]\u001b[A\u001b[A"
     ]
    },
    {
     "name": "stdout",
     "output_type": "stream",
     "text": [
      "'etymologies'\n"
     ]
    },
    {
     "name": "stderr",
     "output_type": "stream",
     "text": [
      "\n",
      "\n",
      " 57%|█████▋    | 647/1141 [1:21:18<1:16:02,  9.24s/it]\u001b[A\u001b[A\n",
      "\n",
      " 57%|█████▋    | 648/1141 [1:21:24<1:07:16,  8.19s/it]\u001b[A\u001b[A\n",
      "\n",
      " 57%|█████▋    | 649/1141 [1:21:30<1:01:01,  7.44s/it]\u001b[A\u001b[A\n",
      "\n",
      " 57%|█████▋    | 650/1141 [1:21:36<56:36,  6.92s/it]  \u001b[A\u001b[A"
     ]
    },
    {
     "name": "stdout",
     "output_type": "stream",
     "text": [
      "'examples'\n",
      "'etymologies'\n"
     ]
    },
    {
     "name": "stderr",
     "output_type": "stream",
     "text": [
      "\n",
      "\n",
      " 57%|█████▋    | 651/1141 [1:21:47<1:06:51,  8.19s/it]\u001b[A\u001b[A"
     ]
    },
    {
     "name": "stdout",
     "output_type": "stream",
     "text": [
      "'etymologies'\n"
     ]
    },
    {
     "name": "stderr",
     "output_type": "stream",
     "text": [
      "\n",
      "\n",
      " 57%|█████▋    | 652/1141 [1:21:52<1:00:12,  7.39s/it]\u001b[A\u001b[A\n",
      "\n",
      " 57%|█████▋    | 653/1141 [1:21:58<55:44,  6.85s/it]  \u001b[A\u001b[A"
     ]
    },
    {
     "name": "stdout",
     "output_type": "stream",
     "text": [
      "'etymologies'\n"
     ]
    },
    {
     "name": "stderr",
     "output_type": "stream",
     "text": [
      "\n",
      "\n",
      " 57%|█████▋    | 654/1141 [1:22:09<1:06:03,  8.14s/it]\u001b[A\u001b[A"
     ]
    },
    {
     "name": "stdout",
     "output_type": "stream",
     "text": [
      "'etymologies'\n"
     ]
    },
    {
     "name": "stderr",
     "output_type": "stream",
     "text": [
      "\n",
      "\n",
      " 57%|█████▋    | 655/1141 [1:22:15<59:44,  7.38s/it]  \u001b[A\u001b[A\n",
      "\n",
      " 57%|█████▋    | 656/1141 [1:22:20<55:19,  6.84s/it]\u001b[A\u001b[A\n",
      "\n",
      " 58%|█████▊    | 657/1141 [1:22:26<52:09,  6.47s/it]\u001b[A\u001b[A\n",
      "\n",
      " 58%|█████▊    | 658/1141 [1:22:31<49:54,  6.20s/it]\u001b[A\u001b[A"
     ]
    },
    {
     "name": "stdout",
     "output_type": "stream",
     "text": [
      "'results'\n",
      "'results'\n",
      "'results'\n",
      "'results'\n"
     ]
    },
    {
     "name": "stderr",
     "output_type": "stream",
     "text": [
      "\n",
      "\n",
      " 58%|█████▊    | 659/1141 [1:22:44<1:05:14,  8.12s/it]\u001b[A\u001b[A"
     ]
    },
    {
     "name": "stdout",
     "output_type": "stream",
     "text": [
      "'results'\n",
      "'results'\n",
      "'results'\n",
      "'etymologies'\n"
     ]
    },
    {
     "name": "stderr",
     "output_type": "stream",
     "text": [
      "\n",
      "\n",
      " 58%|█████▊    | 660/1141 [1:22:55<1:12:15,  9.01s/it]\u001b[A\u001b[A"
     ]
    },
    {
     "name": "stdout",
     "output_type": "stream",
     "text": [
      "'etymologies'\n"
     ]
    },
    {
     "name": "stderr",
     "output_type": "stream",
     "text": [
      "\n",
      "\n",
      " 58%|█████▊    | 661/1141 [1:23:01<1:03:51,  7.98s/it]\u001b[A\u001b[A"
     ]
    },
    {
     "name": "stdout",
     "output_type": "stream",
     "text": [
      "'results'\n",
      "'results'\n",
      "'results'\n",
      "'results'\n"
     ]
    },
    {
     "name": "stderr",
     "output_type": "stream",
     "text": [
      "\n",
      "\n",
      " 58%|█████▊    | 662/1141 [1:23:12<1:11:32,  8.96s/it]\u001b[A\u001b[A"
     ]
    },
    {
     "name": "stdout",
     "output_type": "stream",
     "text": [
      "'results'\n",
      "'results'\n",
      "'results'\n",
      "'etymologies'\n"
     ]
    },
    {
     "name": "stderr",
     "output_type": "stream",
     "text": [
      "\n",
      "\n",
      " 58%|█████▊    | 663/1141 [1:23:23<1:16:32,  9.61s/it]\u001b[A\u001b[A"
     ]
    },
    {
     "name": "stdout",
     "output_type": "stream",
     "text": [
      "'etymologies'\n"
     ]
    },
    {
     "name": "stderr",
     "output_type": "stream",
     "text": [
      "\n",
      "\n",
      " 58%|█████▊    | 664/1141 [1:23:29<1:06:49,  8.41s/it]\u001b[A\u001b[A\n",
      "\n",
      " 58%|█████▊    | 665/1141 [1:23:34<59:51,  7.55s/it]  \u001b[A\u001b[A"
     ]
    },
    {
     "name": "stdout",
     "output_type": "stream",
     "text": [
      "'results'\n",
      "'results'\n",
      "'results'\n",
      "'results'\n"
     ]
    },
    {
     "name": "stderr",
     "output_type": "stream",
     "text": [
      "\n",
      "\n",
      " 58%|█████▊    | 666/1141 [1:23:45<1:08:27,  8.65s/it]\u001b[A\u001b[A"
     ]
    },
    {
     "name": "stdout",
     "output_type": "stream",
     "text": [
      "'results'\n",
      "'results'\n",
      "'results'\n",
      "'results'\n",
      "'results'\n",
      "'results'\n",
      "'results'\n"
     ]
    },
    {
     "name": "stderr",
     "output_type": "stream",
     "text": [
      "\n",
      "\n",
      " 58%|█████▊    | 667/1141 [1:23:57<1:14:34,  9.44s/it]\u001b[A\u001b[A"
     ]
    },
    {
     "name": "stdout",
     "output_type": "stream",
     "text": [
      "'results'\n",
      "'results'\n",
      "'results'\n"
     ]
    },
    {
     "name": "stderr",
     "output_type": "stream",
     "text": [
      "\n",
      "\n",
      " 59%|█████▊    | 668/1141 [1:24:02<1:05:11,  8.27s/it]\u001b[A\u001b[A\n",
      "\n",
      " 59%|█████▊    | 669/1141 [1:24:08<58:46,  7.47s/it]  \u001b[A\u001b[A\n",
      "\n",
      " 59%|█████▊    | 670/1141 [1:24:13<54:06,  6.89s/it]\u001b[A\u001b[A"
     ]
    },
    {
     "name": "stdout",
     "output_type": "stream",
     "text": [
      "'examples'\n",
      "'etymologies'\n",
      "'audioFile'\n"
     ]
    },
    {
     "name": "stderr",
     "output_type": "stream",
     "text": [
      "\n",
      "\n",
      " 59%|█████▉    | 671/1141 [1:24:24<1:04:02,  8.18s/it]\u001b[A\u001b[A"
     ]
    },
    {
     "name": "stdout",
     "output_type": "stream",
     "text": [
      "'etymologies'\n",
      "'audioFile'\n",
      "'etymologies'\n"
     ]
    },
    {
     "name": "stderr",
     "output_type": "stream",
     "text": [
      "\n",
      "\n",
      " 59%|█████▉    | 672/1141 [1:24:36<1:10:49,  9.06s/it]\u001b[A\u001b[A"
     ]
    },
    {
     "name": "stdout",
     "output_type": "stream",
     "text": [
      "'etymologies'\n"
     ]
    },
    {
     "name": "stderr",
     "output_type": "stream",
     "text": [
      "\n",
      "\n",
      " 59%|█████▉    | 673/1141 [1:24:41<1:02:25,  8.00s/it]\u001b[A\u001b[A"
     ]
    },
    {
     "name": "stdout",
     "output_type": "stream",
     "text": [
      "'examples'\n"
     ]
    },
    {
     "name": "stderr",
     "output_type": "stream",
     "text": [
      "\n",
      "\n",
      " 59%|█████▉    | 674/1141 [1:24:47<56:40,  7.28s/it]  \u001b[A\u001b[A"
     ]
    },
    {
     "name": "stdout",
     "output_type": "stream",
     "text": [
      "'examples'\n"
     ]
    },
    {
     "name": "stderr",
     "output_type": "stream",
     "text": [
      "\n",
      "\n",
      " 59%|█████▉    | 675/1141 [1:24:52<52:36,  6.77s/it]\u001b[A\u001b[A\n",
      "\n",
      " 59%|█████▉    | 676/1141 [1:24:58<49:42,  6.41s/it]\u001b[A\u001b[A"
     ]
    },
    {
     "name": "stdout",
     "output_type": "stream",
     "text": [
      "'results'\n",
      "'results'\n",
      "'results'\n",
      "'results'\n",
      "'results'\n",
      "'results'\n",
      "'results'\n",
      "'results'\n",
      "'results'\n"
     ]
    },
    {
     "name": "stderr",
     "output_type": "stream",
     "text": [
      "\n",
      "\n",
      " 59%|█████▉    | 677/1141 [1:25:15<1:13:52,  9.55s/it]\u001b[A\u001b[A"
     ]
    },
    {
     "name": "stdout",
     "output_type": "stream",
     "text": [
      "'results'\n",
      "'results'\n",
      "'results'\n"
     ]
    },
    {
     "name": "stderr",
     "output_type": "stream",
     "text": [
      "\n",
      "\n",
      " 59%|█████▉    | 678/1141 [1:25:20<1:04:41,  8.38s/it]\u001b[A\u001b[A\n",
      "\n",
      " 60%|█████▉    | 679/1141 [1:25:26<58:05,  7.54s/it]  \u001b[A\u001b[A\n",
      "\n",
      " 60%|█████▉    | 680/1141 [1:25:32<53:34,  6.97s/it]\u001b[A\u001b[A"
     ]
    },
    {
     "name": "stdout",
     "output_type": "stream",
     "text": [
      "'etymologies'\n"
     ]
    },
    {
     "name": "stderr",
     "output_type": "stream",
     "text": [
      "\n",
      "\n",
      " 60%|█████▉    | 681/1141 [1:25:43<1:03:14,  8.25s/it]\u001b[A\u001b[A"
     ]
    },
    {
     "name": "stdout",
     "output_type": "stream",
     "text": [
      "'etymologies'\n"
     ]
    },
    {
     "name": "stderr",
     "output_type": "stream",
     "text": [
      "\n",
      "\n",
      " 60%|█████▉    | 682/1141 [1:25:48<56:56,  7.44s/it]  \u001b[A\u001b[A\n",
      "\n",
      " 60%|█████▉    | 683/1141 [1:25:54<52:29,  6.88s/it]\u001b[A\u001b[A"
     ]
    },
    {
     "name": "stdout",
     "output_type": "stream",
     "text": [
      "'results'\n",
      "'results'\n",
      "'results'\n",
      "'results'\n",
      "'results'\n"
     ]
    },
    {
     "name": "stderr",
     "output_type": "stream",
     "text": [
      "\n",
      "\n",
      " 60%|█████▉    | 684/1141 [1:26:15<1:25:51, 11.27s/it]\u001b[A\u001b[A"
     ]
    },
    {
     "name": "stdout",
     "output_type": "stream",
     "text": [
      "'examples'\n"
     ]
    },
    {
     "name": "stderr",
     "output_type": "stream",
     "text": [
      "\n",
      "\n",
      " 60%|██████    | 685/1141 [1:26:27<1:25:23, 11.23s/it]\u001b[A\u001b[A"
     ]
    },
    {
     "name": "stdout",
     "output_type": "stream",
     "text": [
      "'examples'\n"
     ]
    },
    {
     "name": "stderr",
     "output_type": "stream",
     "text": [
      "\n",
      "\n",
      " 60%|██████    | 686/1141 [1:26:32<1:12:16,  9.53s/it]\u001b[A\u001b[A\n",
      "\n",
      " 60%|██████    | 687/1141 [1:26:38<1:03:02,  8.33s/it]\u001b[A\u001b[A"
     ]
    },
    {
     "name": "stdout",
     "output_type": "stream",
     "text": [
      "'examples'\n"
     ]
    },
    {
     "name": "stderr",
     "output_type": "stream",
     "text": [
      "\n",
      "\n",
      " 60%|██████    | 688/1141 [1:26:43<56:44,  7.52s/it]  \u001b[A\u001b[A\n",
      "\n",
      " 60%|██████    | 689/1141 [1:26:49<52:17,  6.94s/it]\u001b[A\u001b[A"
     ]
    },
    {
     "name": "stdout",
     "output_type": "stream",
     "text": [
      "'examples'\n"
     ]
    },
    {
     "name": "stderr",
     "output_type": "stream",
     "text": [
      "\n",
      "\n",
      " 60%|██████    | 690/1141 [1:26:54<49:00,  6.52s/it]\u001b[A\u001b[A\n",
      "\n",
      " 61%|██████    | 691/1141 [1:27:00<46:43,  6.23s/it]\u001b[A\u001b[A"
     ]
    },
    {
     "name": "stdout",
     "output_type": "stream",
     "text": [
      "'results'\n",
      "'results'\n",
      "'results'\n",
      "'results'\n",
      "'results'\n",
      "'results'\n",
      "'results'\n",
      "'results'\n",
      "'results'\n"
     ]
    },
    {
     "name": "stderr",
     "output_type": "stream",
     "text": [
      "\n",
      "\n",
      " 61%|██████    | 692/1141 [1:27:17<1:10:07,  9.37s/it]\u001b[A\u001b[A"
     ]
    },
    {
     "name": "stdout",
     "output_type": "stream",
     "text": [
      "'results'\n",
      "'results'\n",
      "'results'\n"
     ]
    },
    {
     "name": "stderr",
     "output_type": "stream",
     "text": [
      "\n",
      "\n",
      " 61%|██████    | 693/1141 [1:27:22<1:01:21,  8.22s/it]\u001b[A\u001b[A\n",
      "\n",
      " 61%|██████    | 694/1141 [1:27:28<55:18,  7.42s/it]  \u001b[A\u001b[A\n",
      "\n",
      " 61%|██████    | 695/1141 [1:27:33<51:03,  6.87s/it]\u001b[A\u001b[A"
     ]
    },
    {
     "name": "stdout",
     "output_type": "stream",
     "text": [
      "'etymologies'\n",
      "'audioFile'\n"
     ]
    },
    {
     "name": "stderr",
     "output_type": "stream",
     "text": [
      "\n",
      "\n",
      " 61%|██████    | 696/1141 [1:27:39<48:00,  6.47s/it]\u001b[A\u001b[A"
     ]
    },
    {
     "name": "stdout",
     "output_type": "stream",
     "text": [
      "'etymologies'\n",
      "'etymologies'\n"
     ]
    },
    {
     "name": "stderr",
     "output_type": "stream",
     "text": [
      "\n",
      "\n",
      " 61%|██████    | 697/1141 [1:27:50<58:15,  7.87s/it]\u001b[A\u001b[A"
     ]
    },
    {
     "name": "stdout",
     "output_type": "stream",
     "text": [
      "'etymologies'\n"
     ]
    },
    {
     "name": "stderr",
     "output_type": "stream",
     "text": [
      "\n",
      "\n",
      " 61%|██████    | 698/1141 [1:27:56<53:03,  7.19s/it]\u001b[A\u001b[A"
     ]
    },
    {
     "name": "stdout",
     "output_type": "stream",
     "text": [
      "'results'\n",
      "'results'\n",
      "'results'\n",
      "'results'\n",
      "'results'\n",
      "'results'\n",
      "'results'\n",
      "'results'\n",
      "'results'\n"
     ]
    },
    {
     "name": "stderr",
     "output_type": "stream",
     "text": [
      "\n",
      "\n",
      " 61%|██████▏   | 699/1141 [1:28:14<1:17:35, 10.53s/it]\u001b[A\u001b[A"
     ]
    },
    {
     "name": "stdout",
     "output_type": "stream",
     "text": [
      "'results'\n",
      "'results'\n",
      "'results'\n"
     ]
    },
    {
     "name": "stderr",
     "output_type": "stream",
     "text": [
      "\n",
      "\n",
      " 61%|██████▏   | 700/1141 [1:28:20<1:06:25,  9.04s/it]\u001b[A\u001b[A\n",
      "\n",
      " 61%|██████▏   | 701/1141 [1:28:25<58:35,  7.99s/it]  \u001b[A\u001b[A\n",
      "\n",
      " 62%|██████▏   | 702/1141 [1:28:31<53:21,  7.29s/it]\u001b[A\u001b[A"
     ]
    },
    {
     "name": "stdout",
     "output_type": "stream",
     "text": [
      "'examples'\n"
     ]
    },
    {
     "name": "stderr",
     "output_type": "stream",
     "text": [
      "\n",
      "\n",
      " 62%|██████▏   | 703/1141 [1:28:42<1:01:44,  8.46s/it]\u001b[A\u001b[A"
     ]
    },
    {
     "name": "stdout",
     "output_type": "stream",
     "text": [
      "'examples'\n"
     ]
    },
    {
     "name": "stderr",
     "output_type": "stream",
     "text": [
      "\n",
      "\n",
      " 62%|██████▏   | 704/1141 [1:28:48<55:22,  7.60s/it]  \u001b[A\u001b[A\n",
      "\n",
      " 62%|██████▏   | 705/1141 [1:28:53<50:51,  7.00s/it]\u001b[A\u001b[A\n",
      "\n",
      " 62%|██████▏   | 706/1141 [1:28:59<47:37,  6.57s/it]\u001b[A\u001b[A\n",
      "\n",
      " 62%|██████▏   | 707/1141 [1:29:04<45:20,  6.27s/it]\u001b[A\u001b[A"
     ]
    },
    {
     "name": "stdout",
     "output_type": "stream",
     "text": [
      "'etymologies'\n"
     ]
    },
    {
     "name": "stderr",
     "output_type": "stream",
     "text": [
      "\n",
      "\n",
      " 62%|██████▏   | 708/1141 [1:29:15<55:36,  7.71s/it]\u001b[A\u001b[A"
     ]
    },
    {
     "name": "stdout",
     "output_type": "stream",
     "text": [
      "'etymologies'\n"
     ]
    },
    {
     "name": "stderr",
     "output_type": "stream",
     "text": [
      "\n",
      "\n",
      " 62%|██████▏   | 709/1141 [1:29:21<50:43,  7.04s/it]\u001b[A\u001b[A\n",
      "\n",
      " 62%|██████▏   | 710/1141 [1:29:26<47:33,  6.62s/it]\u001b[A\u001b[A"
     ]
    },
    {
     "name": "stdout",
     "output_type": "stream",
     "text": [
      "'examples'\n"
     ]
    },
    {
     "name": "stderr",
     "output_type": "stream",
     "text": [
      "\n",
      "\n",
      " 62%|██████▏   | 711/1141 [1:29:32<45:18,  6.32s/it]\u001b[A\u001b[A\n",
      "\n",
      " 62%|██████▏   | 712/1141 [1:29:38<43:47,  6.13s/it]\u001b[A\u001b[A\n",
      "\n",
      " 62%|██████▏   | 713/1141 [1:29:43<42:36,  5.97s/it]\u001b[A\u001b[A"
     ]
    },
    {
     "name": "stdout",
     "output_type": "stream",
     "text": [
      "'etymologies'\n"
     ]
    },
    {
     "name": "stderr",
     "output_type": "stream",
     "text": [
      "\n",
      "\n",
      " 63%|██████▎   | 714/1141 [1:29:55<53:52,  7.57s/it]\u001b[A\u001b[A"
     ]
    },
    {
     "name": "stdout",
     "output_type": "stream",
     "text": [
      "'etymologies'\n"
     ]
    },
    {
     "name": "stderr",
     "output_type": "stream",
     "text": [
      "\n",
      "\n",
      " 63%|██████▎   | 715/1141 [1:30:00<49:31,  6.98s/it]\u001b[A\u001b[A\n",
      "\n",
      " 63%|██████▎   | 716/1141 [1:30:06<46:33,  6.57s/it]\u001b[A\u001b[A\n",
      "\n",
      " 63%|██████▎   | 717/1141 [1:30:12<44:26,  6.29s/it]\u001b[A\u001b[A"
     ]
    },
    {
     "name": "stdout",
     "output_type": "stream",
     "text": [
      "'etymologies'\n"
     ]
    },
    {
     "name": "stderr",
     "output_type": "stream",
     "text": [
      "\n",
      "\n",
      " 63%|██████▎   | 718/1141 [1:30:23<54:39,  7.75s/it]\u001b[A\u001b[A"
     ]
    },
    {
     "name": "stdout",
     "output_type": "stream",
     "text": [
      "'etymologies'\n"
     ]
    },
    {
     "name": "stderr",
     "output_type": "stream",
     "text": [
      "\n",
      "\n",
      " 63%|██████▎   | 719/1141 [1:30:28<49:58,  7.11s/it]\u001b[A\u001b[A"
     ]
    },
    {
     "name": "stdout",
     "output_type": "stream",
     "text": [
      "'examples'\n"
     ]
    },
    {
     "name": "stderr",
     "output_type": "stream",
     "text": [
      "\n",
      "\n",
      " 63%|██████▎   | 720/1141 [1:30:39<58:17,  8.31s/it]\u001b[A\u001b[A"
     ]
    },
    {
     "name": "stdout",
     "output_type": "stream",
     "text": [
      "'examples'\n"
     ]
    },
    {
     "name": "stderr",
     "output_type": "stream",
     "text": [
      "\n",
      "\n",
      " 63%|██████▎   | 721/1141 [1:30:45<52:24,  7.49s/it]\u001b[A\u001b[A"
     ]
    },
    {
     "name": "stdout",
     "output_type": "stream",
     "text": [
      "'results'\n",
      "'results'\n",
      "'results'\n",
      "'results'\n",
      "'results'\n",
      "'results'\n",
      "'results'\n",
      "'results'\n",
      "'results'\n"
     ]
    },
    {
     "name": "stderr",
     "output_type": "stream",
     "text": [
      "\n",
      "\n",
      " 63%|██████▎   | 722/1141 [1:31:02<1:11:42, 10.27s/it]\u001b[A\u001b[A"
     ]
    },
    {
     "name": "stdout",
     "output_type": "stream",
     "text": [
      "'results'\n",
      "'results'\n",
      "'results'\n"
     ]
    },
    {
     "name": "stderr",
     "output_type": "stream",
     "text": [
      "\n",
      "\n",
      " 63%|██████▎   | 723/1141 [1:31:07<1:01:49,  8.87s/it]\u001b[A\u001b[A\n",
      "\n",
      " 63%|██████▎   | 724/1141 [1:31:13<54:55,  7.90s/it]  \u001b[A\u001b[A"
     ]
    },
    {
     "name": "stdout",
     "output_type": "stream",
     "text": [
      "'etymologies'\n",
      "'audioFile'\n"
     ]
    },
    {
     "name": "stderr",
     "output_type": "stream",
     "text": [
      "\n",
      "\n",
      " 64%|██████▎   | 725/1141 [1:31:24<1:01:32,  8.88s/it]\u001b[A\u001b[A"
     ]
    },
    {
     "name": "stdout",
     "output_type": "stream",
     "text": [
      "'etymologies'\n",
      "'audioFile'\n"
     ]
    },
    {
     "name": "stderr",
     "output_type": "stream",
     "text": [
      "\n",
      "\n",
      " 64%|██████▎   | 726/1141 [1:31:30<54:32,  7.89s/it]  \u001b[A\u001b[A\n",
      "\n",
      " 64%|██████▎   | 727/1141 [1:31:35<49:38,  7.19s/it]\u001b[A\u001b[A"
     ]
    },
    {
     "name": "stdout",
     "output_type": "stream",
     "text": [
      "'examples'\n"
     ]
    },
    {
     "name": "stderr",
     "output_type": "stream",
     "text": [
      "\n",
      "\n",
      " 64%|██████▍   | 728/1141 [1:31:46<57:39,  8.38s/it]\u001b[A\u001b[A"
     ]
    },
    {
     "name": "stdout",
     "output_type": "stream",
     "text": [
      "'examples'\n"
     ]
    },
    {
     "name": "stderr",
     "output_type": "stream",
     "text": [
      "\n",
      "\n",
      " 64%|██████▍   | 729/1141 [1:31:52<51:43,  7.53s/it]\u001b[A\u001b[A\n",
      "\n",
      " 64%|██████▍   | 730/1141 [1:31:58<47:46,  6.97s/it]\u001b[A\u001b[A\n",
      "\n",
      " 64%|██████▍   | 731/1141 [1:32:03<45:00,  6.59s/it]\u001b[A\u001b[A\n",
      "\n",
      " 64%|██████▍   | 732/1141 [1:32:09<42:48,  6.28s/it]\u001b[A\u001b[A"
     ]
    },
    {
     "name": "stdout",
     "output_type": "stream",
     "text": [
      "'etymologies'\n"
     ]
    },
    {
     "name": "stderr",
     "output_type": "stream",
     "text": [
      "\n",
      "\n",
      " 64%|██████▍   | 733/1141 [1:32:20<52:43,  7.75s/it]\u001b[A\u001b[A"
     ]
    },
    {
     "name": "stdout",
     "output_type": "stream",
     "text": [
      "'etymologies'\n",
      "'definitions'\n",
      "'examples'\n",
      "'etymologies'\n",
      "'examples'\n",
      "'etymologies'\n"
     ]
    },
    {
     "name": "stderr",
     "output_type": "stream",
     "text": [
      "\n",
      "\n",
      " 64%|██████▍   | 734/1141 [1:32:37<1:10:44, 10.43s/it]\u001b[A\u001b[A"
     ]
    },
    {
     "name": "stdout",
     "output_type": "stream",
     "text": [
      "'etymologies'\n"
     ]
    },
    {
     "name": "stderr",
     "output_type": "stream",
     "text": [
      "\n",
      "\n",
      " 64%|██████▍   | 735/1141 [1:32:42<1:00:40,  8.97s/it]\u001b[A\u001b[A\n",
      "\n",
      " 65%|██████▍   | 736/1141 [1:32:48<53:39,  7.95s/it]  \u001b[A\u001b[A"
     ]
    },
    {
     "name": "stdout",
     "output_type": "stream",
     "text": [
      "'definitions'\n",
      "'examples'\n"
     ]
    },
    {
     "name": "stderr",
     "output_type": "stream",
     "text": [
      "\n",
      "\n",
      " 65%|██████▍   | 737/1141 [1:32:59<1:00:15,  8.95s/it]\u001b[A\u001b[A"
     ]
    },
    {
     "name": "stdout",
     "output_type": "stream",
     "text": [
      "'examples'\n",
      "'results'\n",
      "'results'\n",
      "'results'\n",
      "'results'\n",
      "'results'\n",
      "'results'\n",
      "'results'\n",
      "'results'\n",
      "'results'\n"
     ]
    },
    {
     "name": "stderr",
     "output_type": "stream",
     "text": [
      "\n",
      "\n",
      " 65%|██████▍   | 738/1141 [1:33:18<1:19:58, 11.91s/it]\u001b[A\u001b[A"
     ]
    },
    {
     "name": "stdout",
     "output_type": "stream",
     "text": [
      "'results'\n",
      "'results'\n",
      "'results'\n",
      "'etymologies'\n"
     ]
    },
    {
     "name": "stderr",
     "output_type": "stream",
     "text": [
      "\n",
      "\n",
      " 65%|██████▍   | 739/1141 [1:33:29<1:18:08, 11.66s/it]\u001b[A\u001b[A"
     ]
    },
    {
     "name": "stdout",
     "output_type": "stream",
     "text": [
      "'etymologies'\n",
      "'examples'\n"
     ]
    },
    {
     "name": "stderr",
     "output_type": "stream",
     "text": [
      "\n",
      "\n",
      " 65%|██████▍   | 740/1141 [1:33:40<1:16:57, 11.52s/it]\u001b[A\u001b[A"
     ]
    },
    {
     "name": "stdout",
     "output_type": "stream",
     "text": [
      "'examples'\n"
     ]
    },
    {
     "name": "stderr",
     "output_type": "stream",
     "text": [
      "\n",
      "\n",
      " 65%|██████▍   | 741/1141 [1:33:46<1:04:59,  9.75s/it]\u001b[A\u001b[A"
     ]
    },
    {
     "name": "stdout",
     "output_type": "stream",
     "text": [
      "'etymologies'\n"
     ]
    },
    {
     "name": "stderr",
     "output_type": "stream",
     "text": [
      "\n",
      "\n",
      " 65%|██████▌   | 742/1141 [1:33:57<1:07:40, 10.18s/it]\u001b[A\u001b[A"
     ]
    },
    {
     "name": "stdout",
     "output_type": "stream",
     "text": [
      "'etymologies'\n"
     ]
    },
    {
     "name": "stderr",
     "output_type": "stream",
     "text": [
      "\n",
      "\n",
      " 65%|██████▌   | 743/1141 [1:34:03<58:28,  8.82s/it]  \u001b[A\u001b[A"
     ]
    },
    {
     "name": "stdout",
     "output_type": "stream",
     "text": [
      "'etymologies'\n"
     ]
    },
    {
     "name": "stderr",
     "output_type": "stream",
     "text": [
      "\n",
      "\n",
      " 65%|██████▌   | 744/1141 [1:34:14<1:03:14,  9.56s/it]\u001b[A\u001b[A"
     ]
    },
    {
     "name": "stdout",
     "output_type": "stream",
     "text": [
      "'etymologies'\n",
      "'examples'\n"
     ]
    },
    {
     "name": "stderr",
     "output_type": "stream",
     "text": [
      "\n",
      "\n",
      " 65%|██████▌   | 745/1141 [1:34:25<1:06:12, 10.03s/it]\u001b[A\u001b[A"
     ]
    },
    {
     "name": "stdout",
     "output_type": "stream",
     "text": [
      "'examples'\n"
     ]
    },
    {
     "name": "stderr",
     "output_type": "stream",
     "text": [
      "\n",
      "\n",
      " 65%|██████▌   | 746/1141 [1:34:31<57:16,  8.70s/it]  \u001b[A\u001b[A\n",
      "\n",
      " 65%|██████▌   | 747/1141 [1:34:36<50:57,  7.76s/it]\u001b[A\u001b[A\n",
      "\n",
      " 66%|██████▌   | 748/1141 [1:34:42<46:27,  7.09s/it]\u001b[A\u001b[A\n",
      "\n",
      " 66%|██████▌   | 749/1141 [1:34:47<43:23,  6.64s/it]\u001b[A\u001b[A"
     ]
    },
    {
     "name": "stdout",
     "output_type": "stream",
     "text": [
      "'etymologies'\n",
      "'pronunciations'\n",
      "'pronunciations'\n"
     ]
    },
    {
     "name": "stderr",
     "output_type": "stream",
     "text": [
      "\n",
      "\n",
      " 66%|██████▌   | 750/1141 [1:34:58<51:51,  7.96s/it]\u001b[A\u001b[A"
     ]
    },
    {
     "name": "stdout",
     "output_type": "stream",
     "text": [
      "'etymologies'\n",
      "'pronunciations'\n",
      "'pronunciations'\n",
      "'etymologies'\n"
     ]
    },
    {
     "name": "stderr",
     "output_type": "stream",
     "text": [
      "\n",
      "\n",
      " 66%|██████▌   | 751/1141 [1:35:09<57:47,  8.89s/it]\u001b[A\u001b[A"
     ]
    },
    {
     "name": "stdout",
     "output_type": "stream",
     "text": [
      "'etymologies'\n"
     ]
    },
    {
     "name": "stderr",
     "output_type": "stream",
     "text": [
      "\n",
      "\n",
      " 66%|██████▌   | 752/1141 [1:35:15<51:14,  7.90s/it]\u001b[A\u001b[A"
     ]
    },
    {
     "name": "stdout",
     "output_type": "stream",
     "text": [
      "'examples'\n"
     ]
    },
    {
     "name": "stderr",
     "output_type": "stream",
     "text": [
      "\n",
      "\n",
      " 66%|██████▌   | 753/1141 [1:35:21<46:35,  7.20s/it]\u001b[A\u001b[A"
     ]
    },
    {
     "name": "stdout",
     "output_type": "stream",
     "text": [
      "'results'\n",
      "'results'\n",
      "'results'\n",
      "'results'\n",
      "'results'\n",
      "'results'\n",
      "'results'\n",
      "'results'\n",
      "'results'\n"
     ]
    },
    {
     "name": "stderr",
     "output_type": "stream",
     "text": [
      "\n",
      "\n",
      " 66%|██████▌   | 754/1141 [1:35:37<1:04:59, 10.08s/it]\u001b[A\u001b[A"
     ]
    },
    {
     "name": "stdout",
     "output_type": "stream",
     "text": [
      "'results'\n",
      "'results'\n",
      "'results'\n",
      "'examples'\n"
     ]
    },
    {
     "name": "stderr",
     "output_type": "stream",
     "text": [
      "\n",
      "\n",
      " 66%|██████▌   | 755/1141 [1:35:49<1:06:55, 10.40s/it]\u001b[A\u001b[A"
     ]
    },
    {
     "name": "stdout",
     "output_type": "stream",
     "text": [
      "'examples'\n",
      "'etymologies'\n"
     ]
    },
    {
     "name": "stderr",
     "output_type": "stream",
     "text": [
      "\n",
      "\n",
      " 66%|██████▋   | 756/1141 [1:36:00<1:08:20, 10.65s/it]\u001b[A\u001b[A"
     ]
    },
    {
     "name": "stdout",
     "output_type": "stream",
     "text": [
      "'etymologies'\n"
     ]
    },
    {
     "name": "stderr",
     "output_type": "stream",
     "text": [
      "\n",
      "\n",
      " 66%|██████▋   | 757/1141 [1:36:05<58:22,  9.12s/it]  \u001b[A\u001b[A\n",
      "\n",
      " 66%|██████▋   | 758/1141 [1:36:11<51:31,  8.07s/it]\u001b[A\u001b[A"
     ]
    },
    {
     "name": "stdout",
     "output_type": "stream",
     "text": [
      "'results'\n",
      "'results'\n",
      "'results'\n",
      "'results'\n",
      "'results'\n",
      "'results'\n",
      "'results'\n",
      "'results'\n",
      "'results'\n"
     ]
    },
    {
     "name": "stderr",
     "output_type": "stream",
     "text": [
      "\n",
      "\n",
      " 67%|██████▋   | 759/1141 [1:36:28<1:07:51, 10.66s/it]\u001b[A\u001b[A"
     ]
    },
    {
     "name": "stdout",
     "output_type": "stream",
     "text": [
      "'results'\n",
      "'results'\n",
      "'results'\n"
     ]
    },
    {
     "name": "stderr",
     "output_type": "stream",
     "text": [
      "\n",
      "\n",
      " 67%|██████▋   | 760/1141 [1:36:33<58:03,  9.14s/it]  \u001b[A\u001b[A\n",
      "\n",
      " 67%|██████▋   | 761/1141 [1:36:39<51:09,  8.08s/it]\u001b[A\u001b[A\n",
      "\n",
      " 67%|██████▋   | 762/1141 [1:36:44<46:13,  7.32s/it]\u001b[A\u001b[A\n",
      "\n",
      " 67%|██████▋   | 763/1141 [1:36:50<42:47,  6.79s/it]\u001b[A\u001b[A\n",
      "\n",
      " 67%|██████▋   | 764/1141 [1:36:56<40:36,  6.46s/it]\u001b[A\u001b[A\n",
      "\n",
      " 67%|██████▋   | 765/1141 [1:37:01<38:46,  6.19s/it]\u001b[A\u001b[A\n",
      "\n",
      " 67%|██████▋   | 766/1141 [1:37:07<37:24,  5.99s/it]\u001b[A\u001b[A\n",
      "\n",
      " 67%|██████▋   | 767/1141 [1:37:12<36:35,  5.87s/it]\u001b[A\u001b[A\n",
      "\n",
      " 67%|██████▋   | 768/1141 [1:37:19<37:51,  6.09s/it]\u001b[A\u001b[A\n",
      "\n",
      " 67%|██████▋   | 769/1141 [1:37:25<36:49,  5.94s/it]\u001b[A\u001b[A"
     ]
    },
    {
     "name": "stdout",
     "output_type": "stream",
     "text": [
      "'results'\n",
      "'results'\n",
      "'results'\n"
     ]
    },
    {
     "name": "stderr",
     "output_type": "stream",
     "text": [
      "\n",
      "\n",
      " 67%|██████▋   | 770/1141 [1:37:30<35:58,  5.82s/it]\u001b[A\u001b[A\n",
      "\n",
      " 68%|██████▊   | 771/1141 [1:37:36<35:21,  5.73s/it]\u001b[A\u001b[A"
     ]
    },
    {
     "name": "stdout",
     "output_type": "stream",
     "text": [
      "'results'\n",
      "'results'\n",
      "'results'\n",
      "'results'\n",
      "'results'\n",
      "'results'\n",
      "'results'\n",
      "'results'\n",
      "'results'\n"
     ]
    },
    {
     "name": "stderr",
     "output_type": "stream",
     "text": [
      "\n",
      "\n",
      " 68%|██████▊   | 772/1141 [1:37:52<55:41,  9.06s/it]\u001b[A\u001b[A"
     ]
    },
    {
     "name": "stdout",
     "output_type": "stream",
     "text": [
      "'results'\n",
      "'results'\n",
      "'results'\n"
     ]
    },
    {
     "name": "stderr",
     "output_type": "stream",
     "text": [
      "\n",
      "\n",
      " 68%|██████▊   | 773/1141 [1:37:58<49:09,  8.02s/it]\u001b[A\u001b[A\n",
      "\n",
      " 68%|██████▊   | 774/1141 [1:38:04<44:33,  7.28s/it]\u001b[A\u001b[A\n",
      "\n",
      " 68%|██████▊   | 775/1141 [1:38:09<41:16,  6.77s/it]\u001b[A\u001b[A"
     ]
    },
    {
     "name": "stdout",
     "output_type": "stream",
     "text": [
      "'etymologies'\n"
     ]
    },
    {
     "name": "stderr",
     "output_type": "stream",
     "text": [
      "\n",
      "\n",
      " 68%|██████▊   | 776/1141 [1:38:20<49:24,  8.12s/it]\u001b[A\u001b[A"
     ]
    },
    {
     "name": "stdout",
     "output_type": "stream",
     "text": [
      "'etymologies'\n"
     ]
    },
    {
     "name": "stderr",
     "output_type": "stream",
     "text": [
      "\n",
      "\n",
      " 68%|██████▊   | 777/1141 [1:38:26<44:43,  7.37s/it]\u001b[A\u001b[A\n",
      "\n",
      " 68%|██████▊   | 778/1141 [1:38:32<41:13,  6.82s/it]\u001b[A\u001b[A"
     ]
    },
    {
     "name": "stdout",
     "output_type": "stream",
     "text": [
      "'etymologies'\n"
     ]
    },
    {
     "name": "stderr",
     "output_type": "stream",
     "text": [
      "\n",
      "\n",
      " 68%|██████▊   | 779/1141 [1:38:43<49:00,  8.12s/it]\u001b[A\u001b[A"
     ]
    },
    {
     "name": "stdout",
     "output_type": "stream",
     "text": [
      "'etymologies'\n"
     ]
    },
    {
     "name": "stderr",
     "output_type": "stream",
     "text": [
      "\n",
      "\n",
      " 68%|██████▊   | 780/1141 [1:38:48<44:12,  7.35s/it]\u001b[A\u001b[A"
     ]
    },
    {
     "name": "stdout",
     "output_type": "stream",
     "text": [
      "'results'\n",
      "'results'\n",
      "'results'\n",
      "'results'\n",
      "'results'\n",
      "'results'\n",
      "'results'\n",
      "'results'\n",
      "'results'\n"
     ]
    },
    {
     "name": "stderr",
     "output_type": "stream",
     "text": [
      "\n",
      "\n",
      " 68%|██████▊   | 781/1141 [1:39:05<1:00:49, 10.14s/it]\u001b[A\u001b[A"
     ]
    },
    {
     "name": "stdout",
     "output_type": "stream",
     "text": [
      "'results'\n",
      "'results'\n",
      "'results'\n"
     ]
    },
    {
     "name": "stderr",
     "output_type": "stream",
     "text": [
      "\n",
      "\n",
      " 69%|██████▊   | 782/1141 [1:39:11<52:32,  8.78s/it]  \u001b[A\u001b[A\n",
      "\n",
      " 69%|██████▊   | 783/1141 [1:39:16<46:54,  7.86s/it]\u001b[A\u001b[A"
     ]
    },
    {
     "name": "stdout",
     "output_type": "stream",
     "text": [
      "'examples'\n"
     ]
    },
    {
     "name": "stderr",
     "output_type": "stream",
     "text": [
      "\n",
      "\n",
      " 69%|██████▊   | 784/1141 [1:39:28<52:46,  8.87s/it]\u001b[A\u001b[A"
     ]
    },
    {
     "name": "stdout",
     "output_type": "stream",
     "text": [
      "'examples'\n"
     ]
    },
    {
     "name": "stderr",
     "output_type": "stream",
     "text": [
      "\n",
      "\n",
      " 69%|██████▉   | 785/1141 [1:39:33<46:42,  7.87s/it]\u001b[A\u001b[A"
     ]
    },
    {
     "name": "stdout",
     "output_type": "stream",
     "text": [
      "'results'\n",
      "'results'\n",
      "'results'\n",
      "'results'\n",
      "'results'\n",
      "'results'\n",
      "'results'\n",
      "'results'\n",
      "'results'\n"
     ]
    },
    {
     "name": "stderr",
     "output_type": "stream",
     "text": [
      "\n",
      "\n",
      " 69%|██████▉   | 786/1141 [1:39:50<1:02:30, 10.56s/it]\u001b[A\u001b[A"
     ]
    },
    {
     "name": "stdout",
     "output_type": "stream",
     "text": [
      "'results'\n",
      "'results'\n",
      "'results'\n"
     ]
    },
    {
     "name": "stderr",
     "output_type": "stream",
     "text": [
      "\n",
      "\n",
      " 69%|██████▉   | 787/1141 [1:39:57<56:02,  9.50s/it]  \u001b[A\u001b[A"
     ]
    },
    {
     "name": "stdout",
     "output_type": "stream",
     "text": [
      "'results'\n",
      "'results'\n",
      "'results'\n"
     ]
    },
    {
     "name": "stderr",
     "output_type": "stream",
     "text": [
      "\n",
      "\n",
      " 69%|██████▉   | 788/1141 [1:40:02<48:55,  8.32s/it]\u001b[A\u001b[A"
     ]
    },
    {
     "name": "stdout",
     "output_type": "stream",
     "text": [
      "'etymologies'\n",
      "'examples'\n",
      "'etymologies'\n"
     ]
    },
    {
     "name": "stderr",
     "output_type": "stream",
     "text": [
      "\n",
      "\n",
      " 69%|██████▉   | 789/1141 [1:40:14<53:34,  9.13s/it]\u001b[A\u001b[A"
     ]
    },
    {
     "name": "stdout",
     "output_type": "stream",
     "text": [
      "'etymologies'\n"
     ]
    },
    {
     "name": "stderr",
     "output_type": "stream",
     "text": [
      "\n",
      "\n",
      " 69%|██████▉   | 790/1141 [1:40:19<47:12,  8.07s/it]\u001b[A\u001b[A\n",
      "\n",
      " 69%|██████▉   | 791/1141 [1:40:25<42:53,  7.35s/it]\u001b[A\u001b[A\n",
      "\n",
      " 69%|██████▉   | 792/1141 [1:40:30<39:45,  6.84s/it]\u001b[A\u001b[A"
     ]
    },
    {
     "name": "stdout",
     "output_type": "stream",
     "text": [
      "'examples'\n"
     ]
    },
    {
     "name": "stderr",
     "output_type": "stream",
     "text": [
      "\n",
      "\n",
      " 70%|██████▉   | 793/1141 [1:40:36<37:38,  6.49s/it]\u001b[A\u001b[A\n",
      "\n",
      " 70%|██████▉   | 794/1141 [1:40:42<35:54,  6.21s/it]\u001b[A\u001b[A\n",
      "\n",
      " 70%|██████▉   | 795/1141 [1:40:47<34:45,  6.03s/it]\u001b[A\u001b[A\n",
      "\n",
      " 70%|██████▉   | 796/1141 [1:40:53<33:47,  5.88s/it]\u001b[A\u001b[A\n",
      "\n",
      " 70%|██████▉   | 797/1141 [1:40:58<33:03,  5.77s/it]\u001b[A\u001b[A"
     ]
    },
    {
     "name": "stdout",
     "output_type": "stream",
     "text": [
      "'etymologies'\n"
     ]
    },
    {
     "name": "stderr",
     "output_type": "stream",
     "text": [
      "\n",
      "\n",
      " 70%|██████▉   | 798/1141 [1:41:04<33:00,  5.77s/it]\u001b[A\u001b[A\n",
      "\n",
      " 70%|███████   | 799/1141 [1:41:10<32:31,  5.71s/it]\u001b[A\u001b[A"
     ]
    },
    {
     "name": "stdout",
     "output_type": "stream",
     "text": [
      "'results'\n",
      "'results'\n",
      "'results'\n",
      "'results'\n"
     ]
    },
    {
     "name": "stderr",
     "output_type": "stream",
     "text": [
      "\n",
      "\n",
      " 70%|███████   | 800/1141 [1:41:22<43:11,  7.60s/it]\u001b[A\u001b[A"
     ]
    },
    {
     "name": "stdout",
     "output_type": "stream",
     "text": [
      "'results'\n",
      "'results'\n",
      "'results'\n"
     ]
    },
    {
     "name": "stderr",
     "output_type": "stream",
     "text": [
      "\n",
      "\n",
      " 70%|███████   | 801/1141 [1:41:27<39:42,  7.01s/it]\u001b[A\u001b[A"
     ]
    },
    {
     "name": "stdout",
     "output_type": "stream",
     "text": [
      "'etymologies'\n"
     ]
    },
    {
     "name": "stderr",
     "output_type": "stream",
     "text": [
      "\n",
      "\n",
      " 70%|███████   | 802/1141 [1:41:38<46:43,  8.27s/it]\u001b[A\u001b[A"
     ]
    },
    {
     "name": "stdout",
     "output_type": "stream",
     "text": [
      "'etymologies'\n"
     ]
    },
    {
     "name": "stderr",
     "output_type": "stream",
     "text": [
      "\n",
      "\n",
      " 70%|███████   | 803/1141 [1:41:44<42:04,  7.47s/it]\u001b[A\u001b[A\n",
      "\n",
      " 70%|███████   | 804/1141 [1:41:50<38:44,  6.90s/it]\u001b[A\u001b[A"
     ]
    },
    {
     "name": "stdout",
     "output_type": "stream",
     "text": [
      "'examples'\n"
     ]
    },
    {
     "name": "stderr",
     "output_type": "stream",
     "text": [
      "\n",
      "\n",
      " 71%|███████   | 805/1141 [1:41:55<36:27,  6.51s/it]\u001b[A\u001b[A\n",
      "\n",
      " 71%|███████   | 806/1141 [1:42:01<34:46,  6.23s/it]\u001b[A\u001b[A\n",
      "\n",
      " 71%|███████   | 807/1141 [1:42:06<33:40,  6.05s/it]\u001b[A\u001b[A\n",
      "\n",
      " 71%|███████   | 808/1141 [1:42:12<32:45,  5.90s/it]\u001b[A\u001b[A\n",
      "\n",
      " 71%|███████   | 809/1141 [1:42:18<32:00,  5.79s/it]\u001b[A\u001b[A\n",
      "\n",
      " 71%|███████   | 810/1141 [1:42:23<31:50,  5.77s/it]\u001b[A\u001b[A\n",
      "\n",
      " 71%|███████   | 811/1141 [1:42:29<31:28,  5.72s/it]\u001b[A\u001b[A"
     ]
    },
    {
     "name": "stdout",
     "output_type": "stream",
     "text": [
      "'examples'\n",
      "'etymologies'\n"
     ]
    },
    {
     "name": "stderr",
     "output_type": "stream",
     "text": [
      "\n",
      "\n",
      " 71%|███████   | 812/1141 [1:42:40<40:17,  7.35s/it]\u001b[A\u001b[A"
     ]
    },
    {
     "name": "stdout",
     "output_type": "stream",
     "text": [
      "'etymologies'\n"
     ]
    },
    {
     "name": "stderr",
     "output_type": "stream",
     "text": [
      "\n",
      "\n",
      " 71%|███████▏  | 813/1141 [1:42:46<37:17,  6.82s/it]\u001b[A\u001b[A\n",
      "\n",
      " 71%|███████▏  | 814/1141 [1:42:51<35:14,  6.47s/it]\u001b[A\u001b[A\n",
      "\n",
      " 71%|███████▏  | 815/1141 [1:42:57<33:52,  6.23s/it]\u001b[A\u001b[A\n",
      "\n",
      " 72%|███████▏  | 816/1141 [1:43:03<32:41,  6.03s/it]\u001b[A\u001b[A"
     ]
    },
    {
     "name": "stdout",
     "output_type": "stream",
     "text": [
      "'etymologies'\n"
     ]
    },
    {
     "name": "stderr",
     "output_type": "stream",
     "text": [
      "\n",
      "\n",
      " 72%|███████▏  | 817/1141 [1:43:14<40:42,  7.54s/it]\u001b[A\u001b[A"
     ]
    },
    {
     "name": "stdout",
     "output_type": "stream",
     "text": [
      "'etymologies'\n"
     ]
    },
    {
     "name": "stderr",
     "output_type": "stream",
     "text": [
      "\n",
      "\n",
      " 72%|███████▏  | 818/1141 [1:43:19<37:24,  6.95s/it]\u001b[A\u001b[A"
     ]
    },
    {
     "name": "stdout",
     "output_type": "stream",
     "text": [
      "'etymologies'\n"
     ]
    },
    {
     "name": "stderr",
     "output_type": "stream",
     "text": [
      "\n",
      "\n",
      " 72%|███████▏  | 819/1141 [1:43:30<44:01,  8.20s/it]\u001b[A\u001b[A"
     ]
    },
    {
     "name": "stdout",
     "output_type": "stream",
     "text": [
      "'etymologies'\n"
     ]
    },
    {
     "name": "stderr",
     "output_type": "stream",
     "text": [
      "\n",
      "\n",
      " 72%|███████▏  | 820/1141 [1:43:36<39:45,  7.43s/it]\u001b[A\u001b[A"
     ]
    },
    {
     "name": "stdout",
     "output_type": "stream",
     "text": [
      "'etymologies'\n"
     ]
    },
    {
     "name": "stderr",
     "output_type": "stream",
     "text": [
      "\n",
      "\n",
      " 72%|███████▏  | 821/1141 [1:43:41<36:35,  6.86s/it]\u001b[A\u001b[A\n",
      "\n",
      " 72%|███████▏  | 822/1141 [1:43:47<34:23,  6.47s/it]\u001b[A\u001b[A\n",
      "\n",
      " 72%|███████▏  | 823/1141 [1:43:53<32:56,  6.22s/it]\u001b[A\u001b[A\n",
      "\n",
      " 72%|███████▏  | 824/1141 [1:43:58<31:53,  6.04s/it]\u001b[A\u001b[A\n",
      "\n",
      " 72%|███████▏  | 825/1141 [1:44:04<31:03,  5.90s/it]\u001b[A\u001b[A\n",
      "\n",
      " 72%|███████▏  | 826/1141 [1:44:09<30:25,  5.80s/it]\u001b[A\u001b[A"
     ]
    },
    {
     "name": "stdout",
     "output_type": "stream",
     "text": [
      "'etymologies'\n"
     ]
    },
    {
     "name": "stderr",
     "output_type": "stream",
     "text": [
      "\n",
      "\n",
      " 72%|███████▏  | 827/1141 [1:44:15<29:58,  5.73s/it]\u001b[A\u001b[A"
     ]
    },
    {
     "name": "stdout",
     "output_type": "stream",
     "text": [
      "'results'\n",
      "'results'\n",
      "'results'\n",
      "'results'\n",
      "'results'\n",
      "'results'\n",
      "'results'\n",
      "'results'\n",
      "'results'\n"
     ]
    },
    {
     "name": "stderr",
     "output_type": "stream",
     "text": [
      "\n",
      "\n",
      " 73%|███████▎  | 828/1141 [1:44:32<47:19,  9.07s/it]\u001b[A\u001b[A"
     ]
    },
    {
     "name": "stdout",
     "output_type": "stream",
     "text": [
      "'results'\n",
      "'results'\n",
      "'results'\n"
     ]
    },
    {
     "name": "stderr",
     "output_type": "stream",
     "text": [
      "\n",
      "\n",
      " 73%|███████▎  | 829/1141 [1:44:38<42:06,  8.10s/it]\u001b[A\u001b[A\n",
      "\n",
      " 73%|███████▎  | 830/1141 [1:44:43<38:06,  7.35s/it]\u001b[A\u001b[A\n",
      "\n",
      " 73%|███████▎  | 831/1141 [1:44:49<35:13,  6.82s/it]\u001b[A\u001b[A\n",
      "\n",
      " 73%|███████▎  | 832/1141 [1:44:54<33:08,  6.44s/it]\u001b[A\u001b[A"
     ]
    },
    {
     "name": "stdout",
     "output_type": "stream",
     "text": [
      "'results'\n",
      "'results'\n",
      "'results'\n",
      "'results'\n",
      "'results'\n",
      "'results'\n",
      "'results'\n",
      "'results'\n",
      "'results'\n"
     ]
    },
    {
     "name": "stderr",
     "output_type": "stream",
     "text": [
      "\n",
      "\n",
      " 73%|███████▎  | 833/1141 [1:45:11<49:01,  9.55s/it]\u001b[A\u001b[A"
     ]
    },
    {
     "name": "stdout",
     "output_type": "stream",
     "text": [
      "'results'\n",
      "'results'\n",
      "'results'\n"
     ]
    },
    {
     "name": "stderr",
     "output_type": "stream",
     "text": [
      "\n",
      "\n",
      " 73%|███████▎  | 834/1141 [1:45:17<42:49,  8.37s/it]\u001b[A\u001b[A\n",
      "\n",
      " 73%|███████▎  | 835/1141 [1:45:22<38:24,  7.53s/it]\u001b[A\u001b[A"
     ]
    },
    {
     "name": "stdout",
     "output_type": "stream",
     "text": [
      "'etymologies'\n"
     ]
    },
    {
     "name": "stderr",
     "output_type": "stream",
     "text": [
      "\n",
      "\n",
      " 73%|███████▎  | 836/1141 [1:45:34<44:23,  8.73s/it]\u001b[A\u001b[A"
     ]
    },
    {
     "name": "stdout",
     "output_type": "stream",
     "text": [
      "'etymologies'\n",
      "'etymologies'\n"
     ]
    },
    {
     "name": "stderr",
     "output_type": "stream",
     "text": [
      "\n",
      "\n",
      " 73%|███████▎  | 837/1141 [1:45:45<47:51,  9.45s/it]\u001b[A\u001b[A"
     ]
    },
    {
     "name": "stdout",
     "output_type": "stream",
     "text": [
      "'etymologies'\n"
     ]
    },
    {
     "name": "stderr",
     "output_type": "stream",
     "text": [
      "\n",
      "\n",
      " 73%|███████▎  | 838/1141 [1:45:51<41:50,  8.29s/it]\u001b[A\u001b[A"
     ]
    },
    {
     "name": "stdout",
     "output_type": "stream",
     "text": [
      "'examples'\n"
     ]
    },
    {
     "name": "stderr",
     "output_type": "stream",
     "text": [
      "\n",
      "\n",
      " 74%|███████▎  | 839/1141 [1:46:02<46:04,  9.15s/it]\u001b[A\u001b[A"
     ]
    },
    {
     "name": "stdout",
     "output_type": "stream",
     "text": [
      "'examples'\n"
     ]
    },
    {
     "name": "stderr",
     "output_type": "stream",
     "text": [
      "\n",
      "\n",
      " 74%|███████▎  | 840/1141 [1:46:07<40:34,  8.09s/it]\u001b[A\u001b[A"
     ]
    },
    {
     "name": "stdout",
     "output_type": "stream",
     "text": [
      "'etymologies'\n",
      "'examples'\n",
      "'etymologies'\n"
     ]
    },
    {
     "name": "stderr",
     "output_type": "stream",
     "text": [
      "\n",
      "\n",
      " 74%|███████▎  | 841/1141 [1:46:19<45:02,  9.01s/it]\u001b[A\u001b[A"
     ]
    },
    {
     "name": "stdout",
     "output_type": "stream",
     "text": [
      "'etymologies'\n"
     ]
    },
    {
     "name": "stderr",
     "output_type": "stream",
     "text": [
      "\n",
      "\n",
      " 74%|███████▍  | 842/1141 [1:46:24<39:40,  7.96s/it]\u001b[A\u001b[A\n",
      "\n",
      " 74%|███████▍  | 843/1141 [1:46:30<35:58,  7.24s/it]\u001b[A\u001b[A"
     ]
    },
    {
     "name": "stdout",
     "output_type": "stream",
     "text": [
      "'etymologies'\n"
     ]
    },
    {
     "name": "stderr",
     "output_type": "stream",
     "text": [
      "\n",
      "\n",
      " 74%|███████▍  | 844/1141 [1:46:35<33:25,  6.75s/it]\u001b[A\u001b[A"
     ]
    },
    {
     "name": "stdout",
     "output_type": "stream",
     "text": [
      "'examples'\n"
     ]
    },
    {
     "name": "stderr",
     "output_type": "stream",
     "text": [
      "\n",
      "\n",
      " 74%|███████▍  | 845/1141 [1:46:41<31:36,  6.41s/it]\u001b[A\u001b[A\n",
      "\n",
      " 74%|███████▍  | 846/1141 [1:46:46<30:15,  6.15s/it]\u001b[A\u001b[A\n",
      "\n",
      " 74%|███████▍  | 847/1141 [1:46:52<29:19,  5.98s/it]\u001b[A\u001b[A\n",
      "\n",
      " 74%|███████▍  | 848/1141 [1:46:57<28:32,  5.85s/it]\u001b[A\u001b[A\n",
      "\n",
      " 74%|███████▍  | 849/1141 [1:47:03<28:05,  5.77s/it]\u001b[A\u001b[A\n",
      "\n",
      " 74%|███████▍  | 850/1141 [1:47:09<27:45,  5.72s/it]\u001b[A\u001b[A\n",
      "\n",
      " 75%|███████▍  | 851/1141 [1:47:14<27:24,  5.67s/it]\u001b[A\u001b[A\n",
      "\n",
      " 75%|███████▍  | 852/1141 [1:47:20<27:08,  5.64s/it]\u001b[A\u001b[A\n",
      "\n",
      " 75%|███████▍  | 853/1141 [1:47:25<26:59,  5.62s/it]\u001b[A\u001b[A\n",
      "\n",
      " 75%|███████▍  | 854/1141 [1:47:31<26:46,  5.60s/it]\u001b[A\u001b[A"
     ]
    },
    {
     "name": "stdout",
     "output_type": "stream",
     "text": [
      "'etymologies'\n"
     ]
    },
    {
     "name": "stderr",
     "output_type": "stream",
     "text": [
      "\n",
      "\n",
      " 75%|███████▍  | 855/1141 [1:47:42<34:33,  7.25s/it]\u001b[A\u001b[A"
     ]
    },
    {
     "name": "stdout",
     "output_type": "stream",
     "text": [
      "'etymologies'\n"
     ]
    },
    {
     "name": "stderr",
     "output_type": "stream",
     "text": [
      "\n",
      "\n",
      " 75%|███████▌  | 856/1141 [1:47:48<32:00,  6.74s/it]\u001b[A\u001b[A\n",
      "\n",
      " 75%|███████▌  | 857/1141 [1:47:53<30:23,  6.42s/it]\u001b[A\u001b[A\n",
      "\n",
      " 75%|███████▌  | 858/1141 [1:47:59<29:02,  6.16s/it]\u001b[A\u001b[A\n",
      "\n",
      " 75%|███████▌  | 859/1141 [1:48:04<28:05,  5.98s/it]\u001b[A\u001b[A\n",
      "\n",
      " 75%|███████▌  | 860/1141 [1:48:10<27:24,  5.85s/it]\u001b[A\u001b[A"
     ]
    },
    {
     "name": "stdout",
     "output_type": "stream",
     "text": [
      "'examples'\n",
      "'examples'\n",
      "'etymologies'\n"
     ]
    },
    {
     "name": "stderr",
     "output_type": "stream",
     "text": [
      "\n",
      "\n",
      " 75%|███████▌  | 861/1141 [1:48:21<34:46,  7.45s/it]\u001b[A\u001b[A"
     ]
    },
    {
     "name": "stdout",
     "output_type": "stream",
     "text": [
      "'etymologies'\n"
     ]
    },
    {
     "name": "stderr",
     "output_type": "stream",
     "text": [
      "\n",
      "\n",
      " 76%|███████▌  | 862/1141 [1:48:27<32:02,  6.89s/it]\u001b[A\u001b[A"
     ]
    },
    {
     "name": "stdout",
     "output_type": "stream",
     "text": [
      "'etymologies'\n"
     ]
    },
    {
     "name": "stderr",
     "output_type": "stream",
     "text": [
      "\n",
      "\n",
      " 76%|███████▌  | 863/1141 [1:48:38<37:49,  8.17s/it]\u001b[A\u001b[A"
     ]
    },
    {
     "name": "stdout",
     "output_type": "stream",
     "text": [
      "'etymologies'\n"
     ]
    },
    {
     "name": "stderr",
     "output_type": "stream",
     "text": [
      "\n",
      "\n",
      " 76%|███████▌  | 864/1141 [1:48:43<34:11,  7.41s/it]\u001b[A\u001b[A\n",
      "\n",
      " 76%|███████▌  | 865/1141 [1:48:49<31:39,  6.88s/it]\u001b[A\u001b[A\n",
      "\n",
      " 76%|███████▌  | 866/1141 [1:48:55<29:50,  6.51s/it]\u001b[A\u001b[A\n",
      "\n",
      " 76%|███████▌  | 867/1141 [1:49:00<28:24,  6.22s/it]\u001b[A\u001b[A\n",
      "\n",
      " 76%|███████▌  | 868/1141 [1:49:06<27:22,  6.02s/it]\u001b[A\u001b[A"
     ]
    },
    {
     "name": "stdout",
     "output_type": "stream",
     "text": [
      "'results'\n",
      "'results'\n",
      "'results'\n",
      "'results'\n"
     ]
    },
    {
     "name": "stderr",
     "output_type": "stream",
     "text": [
      "\n",
      "\n",
      " 76%|███████▌  | 869/1141 [1:49:17<34:16,  7.56s/it]\u001b[A\u001b[A"
     ]
    },
    {
     "name": "stdout",
     "output_type": "stream",
     "text": [
      "'results'\n",
      "'results'\n",
      "'results'\n",
      "'etymologies'\n"
     ]
    },
    {
     "name": "stderr",
     "output_type": "stream",
     "text": [
      "\n",
      "\n",
      " 76%|███████▌  | 870/1141 [1:49:28<38:56,  8.62s/it]\u001b[A\u001b[A"
     ]
    },
    {
     "name": "stdout",
     "output_type": "stream",
     "text": [
      "'etymologies'\n"
     ]
    },
    {
     "name": "stderr",
     "output_type": "stream",
     "text": [
      "\n",
      "\n",
      " 76%|███████▋  | 871/1141 [1:49:34<34:46,  7.73s/it]\u001b[A\u001b[A"
     ]
    },
    {
     "name": "stdout",
     "output_type": "stream",
     "text": [
      "'etymologies'\n"
     ]
    },
    {
     "name": "stderr",
     "output_type": "stream",
     "text": [
      "\n",
      "\n",
      " 76%|███████▋  | 872/1141 [1:49:45<39:10,  8.74s/it]\u001b[A\u001b[A"
     ]
    },
    {
     "name": "stdout",
     "output_type": "stream",
     "text": [
      "'etymologies'\n"
     ]
    },
    {
     "name": "stderr",
     "output_type": "stream",
     "text": [
      "\n",
      "\n",
      " 77%|███████▋  | 873/1141 [1:49:50<34:53,  7.81s/it]\u001b[A\u001b[A\n",
      "\n",
      " 77%|███████▋  | 874/1141 [1:49:56<31:41,  7.12s/it]\u001b[A\u001b[A\n",
      "\n",
      " 77%|███████▋  | 875/1141 [1:50:02<29:35,  6.67s/it]\u001b[A\u001b[A\n",
      "\n",
      " 77%|███████▋  | 876/1141 [1:50:07<28:11,  6.38s/it]\u001b[A\u001b[A\n",
      "\n",
      " 77%|███████▋  | 877/1141 [1:50:13<26:58,  6.13s/it]\u001b[A\u001b[A"
     ]
    },
    {
     "name": "stdout",
     "output_type": "stream",
     "text": [
      "'etymologies'\n"
     ]
    },
    {
     "name": "stderr",
     "output_type": "stream",
     "text": [
      "\n",
      "\n",
      " 77%|███████▋  | 878/1141 [1:50:19<26:19,  6.01s/it]\u001b[A\u001b[A\n",
      "\n",
      " 77%|███████▋  | 879/1141 [1:50:24<25:36,  5.86s/it]\u001b[A\u001b[A"
     ]
    },
    {
     "name": "stdout",
     "output_type": "stream",
     "text": [
      "'etymologies'\n"
     ]
    },
    {
     "name": "stderr",
     "output_type": "stream",
     "text": [
      "\n",
      "\n",
      " 77%|███████▋  | 880/1141 [1:50:35<32:41,  7.51s/it]\u001b[A\u001b[A"
     ]
    },
    {
     "name": "stdout",
     "output_type": "stream",
     "text": [
      "'etymologies'\n",
      "'etymologies'\n"
     ]
    },
    {
     "name": "stderr",
     "output_type": "stream",
     "text": [
      "\n",
      "\n",
      " 77%|███████▋  | 881/1141 [1:50:47<37:22,  8.63s/it]\u001b[A\u001b[A"
     ]
    },
    {
     "name": "stdout",
     "output_type": "stream",
     "text": [
      "'etymologies'\n"
     ]
    },
    {
     "name": "stderr",
     "output_type": "stream",
     "text": [
      "\n",
      "\n",
      " 77%|███████▋  | 882/1141 [1:50:52<33:27,  7.75s/it]\u001b[A\u001b[A"
     ]
    },
    {
     "name": "stdout",
     "output_type": "stream",
     "text": [
      "'examples'\n",
      "'etymologies'\n"
     ]
    },
    {
     "name": "stderr",
     "output_type": "stream",
     "text": [
      "\n",
      "\n",
      " 77%|███████▋  | 883/1141 [1:51:04<37:41,  8.76s/it]\u001b[A\u001b[A"
     ]
    },
    {
     "name": "stdout",
     "output_type": "stream",
     "text": [
      "'etymologies'\n",
      "'etymologies'\n"
     ]
    },
    {
     "name": "stderr",
     "output_type": "stream",
     "text": [
      "\n",
      "\n",
      " 77%|███████▋  | 884/1141 [1:51:15<40:37,  9.49s/it]\u001b[A\u001b[A"
     ]
    },
    {
     "name": "stdout",
     "output_type": "stream",
     "text": [
      "'etymologies'\n",
      "'results'\n",
      "'results'\n",
      "'results'\n",
      "'results'\n",
      "'results'\n",
      "'results'\n",
      "'results'\n",
      "'results'\n",
      "'results'\n"
     ]
    },
    {
     "name": "stderr",
     "output_type": "stream",
     "text": [
      "\n",
      "\n",
      " 78%|███████▊  | 885/1141 [1:51:32<50:05, 11.74s/it]\u001b[A\u001b[A"
     ]
    },
    {
     "name": "stdout",
     "output_type": "stream",
     "text": [
      "'results'\n",
      "'results'\n",
      "'results'\n"
     ]
    },
    {
     "name": "stderr",
     "output_type": "stream",
     "text": [
      "\n",
      "\n",
      " 78%|███████▊  | 886/1141 [1:51:37<42:06,  9.91s/it]\u001b[A\u001b[A\n",
      "\n",
      " 78%|███████▊  | 887/1141 [1:51:43<36:33,  8.64s/it]\u001b[A\u001b[A\n",
      "\n",
      " 78%|███████▊  | 888/1141 [1:51:49<32:31,  7.72s/it]\u001b[A\u001b[A"
     ]
    },
    {
     "name": "stdout",
     "output_type": "stream",
     "text": [
      "'examples'\n"
     ]
    },
    {
     "name": "stderr",
     "output_type": "stream",
     "text": [
      "\n",
      "\n",
      " 78%|███████▊  | 889/1141 [1:52:00<36:43,  8.74s/it]\u001b[A\u001b[A"
     ]
    },
    {
     "name": "stdout",
     "output_type": "stream",
     "text": [
      "'examples'\n"
     ]
    },
    {
     "name": "stderr",
     "output_type": "stream",
     "text": [
      "\n",
      "\n",
      " 78%|███████▊  | 890/1141 [1:52:05<32:33,  7.78s/it]\u001b[A\u001b[A"
     ]
    },
    {
     "name": "stdout",
     "output_type": "stream",
     "text": [
      "'etymologies'\n"
     ]
    },
    {
     "name": "stderr",
     "output_type": "stream",
     "text": [
      "\n",
      "\n",
      " 78%|███████▊  | 891/1141 [1:52:16<36:36,  8.79s/it]\u001b[A\u001b[A"
     ]
    },
    {
     "name": "stdout",
     "output_type": "stream",
     "text": [
      "'etymologies'\n"
     ]
    },
    {
     "name": "stderr",
     "output_type": "stream",
     "text": [
      "\n",
      "\n",
      " 78%|███████▊  | 892/1141 [1:52:22<32:28,  7.82s/it]\u001b[A\u001b[A\n",
      "\n",
      " 78%|███████▊  | 893/1141 [1:52:28<29:29,  7.14s/it]\u001b[A\u001b[A\n",
      "\n",
      " 78%|███████▊  | 894/1141 [1:52:33<27:35,  6.70s/it]\u001b[A\u001b[A\n",
      "\n",
      " 78%|███████▊  | 895/1141 [1:52:39<26:15,  6.40s/it]\u001b[A\u001b[A"
     ]
    },
    {
     "name": "stdout",
     "output_type": "stream",
     "text": [
      "'etymologies'\n",
      "'phoneticSpelling'\n"
     ]
    },
    {
     "name": "stderr",
     "output_type": "stream",
     "text": [
      "\n",
      "\n",
      " 79%|███████▊  | 896/1141 [1:52:50<31:56,  7.82s/it]\u001b[A\u001b[A"
     ]
    },
    {
     "name": "stdout",
     "output_type": "stream",
     "text": [
      "'etymologies'\n",
      "'phoneticSpelling'\n",
      "'etymologies'\n"
     ]
    },
    {
     "name": "stderr",
     "output_type": "stream",
     "text": [
      "\n",
      "\n",
      " 79%|███████▊  | 897/1141 [1:53:01<36:05,  8.87s/it]\u001b[A\u001b[A"
     ]
    },
    {
     "name": "stdout",
     "output_type": "stream",
     "text": [
      "'etymologies'\n"
     ]
    },
    {
     "name": "stderr",
     "output_type": "stream",
     "text": [
      "\n",
      "\n",
      " 79%|███████▊  | 898/1141 [1:53:07<32:01,  7.91s/it]\u001b[A\u001b[A\n",
      "\n",
      " 79%|███████▉  | 899/1141 [1:53:13<29:15,  7.25s/it]\u001b[A\u001b[A\n",
      "\n",
      " 79%|███████▉  | 900/1141 [1:53:18<27:09,  6.76s/it]\u001b[A\u001b[A"
     ]
    },
    {
     "name": "stdout",
     "output_type": "stream",
     "text": [
      "'etymologies'\n"
     ]
    },
    {
     "name": "stderr",
     "output_type": "stream",
     "text": [
      "\n",
      "\n",
      " 79%|███████▉  | 901/1141 [1:53:30<32:27,  8.12s/it]\u001b[A\u001b[A"
     ]
    },
    {
     "name": "stdout",
     "output_type": "stream",
     "text": [
      "'etymologies'\n"
     ]
    },
    {
     "name": "stderr",
     "output_type": "stream",
     "text": [
      "\n",
      "\n",
      " 79%|███████▉  | 902/1141 [1:53:35<29:14,  7.34s/it]\u001b[A\u001b[A"
     ]
    },
    {
     "name": "stdout",
     "output_type": "stream",
     "text": [
      "'examples'\n"
     ]
    },
    {
     "name": "stderr",
     "output_type": "stream",
     "text": [
      "\n",
      "\n",
      " 79%|███████▉  | 903/1141 [1:53:46<33:37,  8.48s/it]\u001b[A\u001b[A"
     ]
    },
    {
     "name": "stdout",
     "output_type": "stream",
     "text": [
      "'examples'\n",
      "'etymologies'\n"
     ]
    },
    {
     "name": "stderr",
     "output_type": "stream",
     "text": [
      "\n",
      "\n",
      " 79%|███████▉  | 904/1141 [1:53:57<36:37,  9.27s/it]\u001b[A\u001b[A"
     ]
    },
    {
     "name": "stdout",
     "output_type": "stream",
     "text": [
      "'etymologies'\n",
      "'examples'\n"
     ]
    },
    {
     "name": "stderr",
     "output_type": "stream",
     "text": [
      "\n",
      "\n",
      " 79%|███████▉  | 905/1141 [1:54:09<39:45, 10.11s/it]\u001b[A\u001b[A"
     ]
    },
    {
     "name": "stdout",
     "output_type": "stream",
     "text": [
      "'examples'\n",
      "'etymologies'\n"
     ]
    },
    {
     "name": "stderr",
     "output_type": "stream",
     "text": [
      "\n",
      "\n",
      " 79%|███████▉  | 906/1141 [1:54:21<40:48, 10.42s/it]\u001b[A\u001b[A"
     ]
    },
    {
     "name": "stdout",
     "output_type": "stream",
     "text": [
      "'etymologies'\n"
     ]
    },
    {
     "name": "stderr",
     "output_type": "stream",
     "text": [
      "\n",
      "\n",
      " 79%|███████▉  | 907/1141 [1:54:26<35:13,  9.03s/it]\u001b[A\u001b[A\n",
      "\n",
      " 80%|███████▉  | 908/1141 [1:54:32<30:58,  7.97s/it]\u001b[A\u001b[A"
     ]
    },
    {
     "name": "stdout",
     "output_type": "stream",
     "text": [
      "'examples'\n"
     ]
    },
    {
     "name": "stderr",
     "output_type": "stream",
     "text": [
      "\n",
      "\n",
      " 80%|███████▉  | 909/1141 [1:54:43<34:35,  8.95s/it]\u001b[A\u001b[A"
     ]
    },
    {
     "name": "stdout",
     "output_type": "stream",
     "text": [
      "'examples'\n",
      "'examples'\n"
     ]
    },
    {
     "name": "stderr",
     "output_type": "stream",
     "text": [
      "\n",
      "\n",
      " 80%|███████▉  | 910/1141 [1:54:54<37:07,  9.64s/it]\u001b[A\u001b[A"
     ]
    },
    {
     "name": "stdout",
     "output_type": "stream",
     "text": [
      "'examples'\n"
     ]
    },
    {
     "name": "stderr",
     "output_type": "stream",
     "text": [
      "\n",
      "\n",
      " 80%|███████▉  | 911/1141 [1:55:00<32:21,  8.44s/it]\u001b[A\u001b[A\n",
      "\n",
      " 80%|███████▉  | 912/1141 [1:55:06<28:55,  7.58s/it]\u001b[A\u001b[A"
     ]
    },
    {
     "name": "stdout",
     "output_type": "stream",
     "text": [
      "'results'\n",
      "'results'\n",
      "'results'\n",
      "'results'\n"
     ]
    },
    {
     "name": "stderr",
     "output_type": "stream",
     "text": [
      "\n",
      "\n",
      " 80%|████████  | 913/1141 [1:55:18<33:55,  8.93s/it]\u001b[A\u001b[A"
     ]
    },
    {
     "name": "stdout",
     "output_type": "stream",
     "text": [
      "'results'\n",
      "'results'\n",
      "'results'\n"
     ]
    },
    {
     "name": "stderr",
     "output_type": "stream",
     "text": [
      "\n",
      "\n",
      " 80%|████████  | 914/1141 [1:55:23<30:11,  7.98s/it]\u001b[A\u001b[A\n",
      "\n",
      " 80%|████████  | 915/1141 [1:55:29<27:23,  7.27s/it]\u001b[A\u001b[A\n",
      "\n",
      " 80%|████████  | 916/1141 [1:55:35<25:26,  6.78s/it]\u001b[A\u001b[A\n",
      "\n",
      " 80%|████████  | 917/1141 [1:55:40<24:00,  6.43s/it]\u001b[A\u001b[A\n",
      "\n",
      " 80%|████████  | 918/1141 [1:55:46<22:59,  6.18s/it]\u001b[A\u001b[A"
     ]
    },
    {
     "name": "stdout",
     "output_type": "stream",
     "text": [
      "'examples'\n"
     ]
    },
    {
     "name": "stderr",
     "output_type": "stream",
     "text": [
      "\n",
      "\n",
      " 81%|████████  | 919/1141 [1:55:52<22:22,  6.05s/it]\u001b[A\u001b[A"
     ]
    },
    {
     "name": "stdout",
     "output_type": "stream",
     "text": [
      "'etymologies'\n"
     ]
    },
    {
     "name": "stderr",
     "output_type": "stream",
     "text": [
      "\n",
      "\n",
      " 81%|████████  | 920/1141 [1:56:03<27:58,  7.60s/it]\u001b[A\u001b[A"
     ]
    },
    {
     "name": "stdout",
     "output_type": "stream",
     "text": [
      "'etymologies'\n"
     ]
    },
    {
     "name": "stderr",
     "output_type": "stream",
     "text": [
      "\n",
      "\n",
      " 81%|████████  | 921/1141 [1:56:08<25:37,  6.99s/it]\u001b[A\u001b[A\n",
      "\n",
      " 81%|████████  | 922/1141 [1:56:14<23:57,  6.56s/it]\u001b[A\u001b[A\n",
      "\n",
      " 81%|████████  | 923/1141 [1:56:20<22:47,  6.27s/it]\u001b[A\u001b[A"
     ]
    },
    {
     "name": "stdout",
     "output_type": "stream",
     "text": [
      "'results'\n",
      "'results'\n",
      "'results'\n",
      "'results'\n"
     ]
    },
    {
     "name": "stderr",
     "output_type": "stream",
     "text": [
      "\n",
      "\n",
      " 81%|████████  | 924/1141 [1:56:31<28:06,  7.77s/it]\u001b[A\u001b[A"
     ]
    },
    {
     "name": "stdout",
     "output_type": "stream",
     "text": [
      "'results'\n",
      "'results'\n",
      "'results'\n"
     ]
    },
    {
     "name": "stderr",
     "output_type": "stream",
     "text": [
      "\n",
      "\n",
      " 81%|████████  | 925/1141 [1:56:36<25:36,  7.11s/it]\u001b[A\u001b[A\n",
      "\n",
      " 81%|████████  | 926/1141 [1:56:42<23:52,  6.66s/it]\u001b[A\u001b[A"
     ]
    },
    {
     "name": "stdout",
     "output_type": "stream",
     "text": [
      "'examples'\n"
     ]
    },
    {
     "name": "stderr",
     "output_type": "stream",
     "text": [
      "\n",
      "\n",
      " 81%|████████  | 927/1141 [1:56:48<22:33,  6.32s/it]\u001b[A\u001b[A"
     ]
    },
    {
     "name": "stdout",
     "output_type": "stream",
     "text": [
      "'examples'\n",
      "'results'\n",
      "'results'\n",
      "'results'\n",
      "'results'\n",
      "'results'\n",
      "'results'\n",
      "'results'\n",
      "'results'\n",
      "'results'\n"
     ]
    },
    {
     "name": "stderr",
     "output_type": "stream",
     "text": [
      "\n",
      "\n",
      " 81%|████████▏ | 928/1141 [1:57:04<33:37,  9.47s/it]\u001b[A\u001b[A"
     ]
    },
    {
     "name": "stdout",
     "output_type": "stream",
     "text": [
      "'results'\n",
      "'results'\n",
      "'results'\n",
      "'results'\n",
      "'results'\n",
      "'results'\n",
      "'results'\n",
      "'results'\n",
      "'results'\n",
      "'results'\n",
      "'results'\n",
      "'results'\n"
     ]
    },
    {
     "name": "stderr",
     "output_type": "stream",
     "text": [
      "\n",
      "\n",
      " 81%|████████▏ | 929/1141 [1:57:21<41:14, 11.67s/it]\u001b[A\u001b[A"
     ]
    },
    {
     "name": "stdout",
     "output_type": "stream",
     "text": [
      "'results'\n",
      "'results'\n",
      "'results'\n"
     ]
    },
    {
     "name": "stderr",
     "output_type": "stream",
     "text": [
      "\n",
      "\n",
      " 82%|████████▏ | 930/1141 [1:57:27<34:38,  9.85s/it]\u001b[A\u001b[A"
     ]
    },
    {
     "name": "stdout",
     "output_type": "stream",
     "text": [
      "'etymologies'\n"
     ]
    },
    {
     "name": "stderr",
     "output_type": "stream",
     "text": [
      "\n",
      "\n",
      " 82%|████████▏ | 931/1141 [1:57:38<35:55, 10.26s/it]\u001b[A\u001b[A"
     ]
    },
    {
     "name": "stdout",
     "output_type": "stream",
     "text": [
      "'etymologies'\n",
      "'results'\n",
      "'results'\n",
      "'results'\n",
      "'results'\n",
      "'results'\n",
      "'results'\n",
      "'results'\n",
      "'results'\n",
      "'results'\n"
     ]
    },
    {
     "name": "stderr",
     "output_type": "stream",
     "text": [
      "\n",
      "\n",
      " 82%|████████▏ | 932/1141 [1:57:55<42:30, 12.20s/it]\u001b[A\u001b[A"
     ]
    },
    {
     "name": "stdout",
     "output_type": "stream",
     "text": [
      "'results'\n",
      "'results'\n",
      "'results'\n"
     ]
    },
    {
     "name": "stderr",
     "output_type": "stream",
     "text": [
      "\n",
      "\n",
      " 82%|████████▏ | 933/1141 [1:58:00<35:23, 10.21s/it]\u001b[A\u001b[A\n",
      "\n",
      " 82%|████████▏ | 934/1141 [1:58:06<30:37,  8.88s/it]\u001b[A\u001b[A"
     ]
    },
    {
     "name": "stdout",
     "output_type": "stream",
     "text": [
      "'examples'\n"
     ]
    },
    {
     "name": "stderr",
     "output_type": "stream",
     "text": [
      "\n",
      "\n",
      " 82%|████████▏ | 935/1141 [1:58:12<27:06,  7.89s/it]\u001b[A\u001b[A\n",
      "\n",
      " 82%|████████▏ | 936/1141 [1:58:17<24:31,  7.18s/it]\u001b[A\u001b[A"
     ]
    },
    {
     "name": "stdout",
     "output_type": "stream",
     "text": [
      "'etymologies'\n"
     ]
    },
    {
     "name": "stderr",
     "output_type": "stream",
     "text": [
      "\n",
      "\n",
      " 82%|████████▏ | 937/1141 [1:58:28<28:27,  8.37s/it]\u001b[A\u001b[A"
     ]
    },
    {
     "name": "stdout",
     "output_type": "stream",
     "text": [
      "'etymologies'\n"
     ]
    },
    {
     "name": "stderr",
     "output_type": "stream",
     "text": [
      "\n",
      "\n",
      " 82%|████████▏ | 938/1141 [1:58:34<25:25,  7.52s/it]\u001b[A\u001b[A\n",
      "\n",
      " 82%|████████▏ | 939/1141 [1:58:40<23:31,  6.99s/it]\u001b[A\u001b[A"
     ]
    },
    {
     "name": "stdout",
     "output_type": "stream",
     "text": [
      "'etymologies'\n"
     ]
    },
    {
     "name": "stderr",
     "output_type": "stream",
     "text": [
      "\n",
      "\n",
      " 82%|████████▏ | 940/1141 [1:58:51<27:29,  8.21s/it]\u001b[A\u001b[A"
     ]
    },
    {
     "name": "stdout",
     "output_type": "stream",
     "text": [
      "'etymologies'\n"
     ]
    },
    {
     "name": "stderr",
     "output_type": "stream",
     "text": [
      "\n",
      "\n",
      " 82%|████████▏ | 941/1141 [1:58:56<24:45,  7.43s/it]\u001b[A\u001b[A"
     ]
    },
    {
     "name": "stdout",
     "output_type": "stream",
     "text": [
      "'examples'\n"
     ]
    },
    {
     "name": "stderr",
     "output_type": "stream",
     "text": [
      "\n",
      "\n",
      " 83%|████████▎ | 942/1141 [1:59:02<22:44,  6.86s/it]\u001b[A\u001b[A\n",
      "\n",
      " 83%|████████▎ | 943/1141 [1:59:07<21:20,  6.47s/it]\u001b[A\u001b[A\n",
      "\n",
      " 83%|████████▎ | 944/1141 [1:59:13<20:25,  6.22s/it]\u001b[A\u001b[A\n",
      "\n",
      " 83%|████████▎ | 945/1141 [1:59:19<19:44,  6.04s/it]\u001b[A\u001b[A\n",
      "\n",
      " 83%|████████▎ | 946/1141 [1:59:24<19:13,  5.91s/it]\u001b[A\u001b[A\n",
      "\n",
      " 83%|████████▎ | 947/1141 [1:59:30<18:48,  5.82s/it]\u001b[A\u001b[A\n",
      "\n",
      " 83%|████████▎ | 948/1141 [1:59:35<18:26,  5.73s/it]\u001b[A\u001b[A"
     ]
    },
    {
     "name": "stdout",
     "output_type": "stream",
     "text": [
      "'examples'\n"
     ]
    },
    {
     "name": "stderr",
     "output_type": "stream",
     "text": [
      "\n",
      "\n",
      " 83%|████████▎ | 949/1141 [1:59:46<23:25,  7.32s/it]\u001b[A\u001b[A"
     ]
    },
    {
     "name": "stdout",
     "output_type": "stream",
     "text": [
      "'examples'\n",
      "'examples'\n"
     ]
    },
    {
     "name": "stderr",
     "output_type": "stream",
     "text": [
      "\n",
      "\n",
      " 83%|████████▎ | 950/1141 [1:59:58<26:57,  8.47s/it]\u001b[A\u001b[A"
     ]
    },
    {
     "name": "stdout",
     "output_type": "stream",
     "text": [
      "'examples'\n",
      "'examples'\n"
     ]
    },
    {
     "name": "stderr",
     "output_type": "stream",
     "text": [
      "\n",
      "\n",
      " 83%|████████▎ | 951/1141 [2:00:09<29:21,  9.27s/it]\u001b[A\u001b[A"
     ]
    },
    {
     "name": "stdout",
     "output_type": "stream",
     "text": [
      "'examples'\n"
     ]
    },
    {
     "name": "stderr",
     "output_type": "stream",
     "text": [
      "\n",
      "\n",
      " 83%|████████▎ | 952/1141 [2:00:14<25:42,  8.16s/it]\u001b[A\u001b[A\n",
      "\n",
      " 84%|████████▎ | 953/1141 [2:00:20<23:07,  7.38s/it]\u001b[A\u001b[A\n",
      "\n",
      " 84%|████████▎ | 954/1141 [2:00:25<21:22,  6.86s/it]\u001b[A\u001b[A\n",
      "\n",
      " 84%|████████▎ | 955/1141 [2:00:31<20:05,  6.48s/it]\u001b[A\u001b[A"
     ]
    },
    {
     "name": "stdout",
     "output_type": "stream",
     "text": [
      "'etymologies'\n"
     ]
    },
    {
     "name": "stderr",
     "output_type": "stream",
     "text": [
      "\n",
      "\n",
      " 84%|████████▍ | 956/1141 [2:00:42<24:17,  7.88s/it]\u001b[A\u001b[A"
     ]
    },
    {
     "name": "stdout",
     "output_type": "stream",
     "text": [
      "'etymologies'\n"
     ]
    },
    {
     "name": "stderr",
     "output_type": "stream",
     "text": [
      "\n",
      "\n",
      " 84%|████████▍ | 957/1141 [2:00:48<22:05,  7.21s/it]\u001b[A\u001b[A\n",
      "\n",
      " 84%|████████▍ | 958/1141 [2:00:54<20:33,  6.74s/it]\u001b[A\u001b[A"
     ]
    },
    {
     "name": "stdout",
     "output_type": "stream",
     "text": [
      "'results'\n",
      "'results'\n",
      "'results'\n",
      "'results'\n",
      "'results'\n",
      "'results'\n",
      "'results'\n",
      "'results'\n",
      "'results'\n"
     ]
    },
    {
     "name": "stderr",
     "output_type": "stream",
     "text": [
      "\n",
      "\n",
      " 84%|████████▍ | 959/1141 [2:01:12<30:59, 10.22s/it]\u001b[A\u001b[A"
     ]
    },
    {
     "name": "stdout",
     "output_type": "stream",
     "text": [
      "'results'\n",
      "'results'\n",
      "'results'\n"
     ]
    },
    {
     "name": "stderr",
     "output_type": "stream",
     "text": [
      "\n",
      "\n",
      " 84%|████████▍ | 960/1141 [2:01:17<26:40,  8.84s/it]\u001b[A\u001b[A\n",
      "\n",
      " 84%|████████▍ | 961/1141 [2:01:23<23:37,  7.87s/it]\u001b[A\u001b[A\n",
      "\n",
      " 84%|████████▍ | 962/1141 [2:01:29<21:22,  7.16s/it]\u001b[A\u001b[A\n",
      "\n",
      " 84%|████████▍ | 963/1141 [2:01:34<19:50,  6.69s/it]\u001b[A\u001b[A"
     ]
    },
    {
     "name": "stdout",
     "output_type": "stream",
     "text": [
      "'etymologies'\n"
     ]
    },
    {
     "name": "stderr",
     "output_type": "stream",
     "text": [
      "\n",
      "\n",
      " 84%|████████▍ | 964/1141 [2:01:45<23:40,  8.02s/it]\u001b[A\u001b[A"
     ]
    },
    {
     "name": "stdout",
     "output_type": "stream",
     "text": [
      "'etymologies'\n"
     ]
    },
    {
     "name": "stderr",
     "output_type": "stream",
     "text": [
      "\n",
      "\n",
      " 85%|████████▍ | 965/1141 [2:01:51<21:20,  7.28s/it]\u001b[A\u001b[A\n",
      "\n",
      " 85%|████████▍ | 966/1141 [2:01:56<19:46,  6.78s/it]\u001b[A\u001b[A"
     ]
    },
    {
     "name": "stdout",
     "output_type": "stream",
     "text": [
      "'examples'\n"
     ]
    },
    {
     "name": "stderr",
     "output_type": "stream",
     "text": [
      "\n",
      "\n",
      " 85%|████████▍ | 967/1141 [2:02:02<18:38,  6.43s/it]\u001b[A\u001b[A\n",
      "\n",
      " 85%|████████▍ | 968/1141 [2:02:08<17:48,  6.18s/it]\u001b[A\u001b[A\n",
      "\n",
      " 85%|████████▍ | 969/1141 [2:02:13<17:08,  5.98s/it]\u001b[A\u001b[A\n",
      "\n",
      " 85%|████████▌ | 970/1141 [2:02:19<16:42,  5.86s/it]\u001b[A\u001b[A\n",
      "\n",
      " 85%|████████▌ | 971/1141 [2:02:24<16:20,  5.77s/it]\u001b[A\u001b[A"
     ]
    },
    {
     "name": "stdout",
     "output_type": "stream",
     "text": [
      "'definitions'\n",
      "'examples'\n",
      "'etymologies'\n",
      "'examples'\n",
      "'etymologies'\n"
     ]
    },
    {
     "name": "stderr",
     "output_type": "stream",
     "text": [
      "\n",
      "\n",
      " 85%|████████▌ | 972/1141 [2:02:41<25:27,  9.04s/it]\u001b[A\u001b[A"
     ]
    },
    {
     "name": "stdout",
     "output_type": "stream",
     "text": [
      "'etymologies'\n"
     ]
    },
    {
     "name": "stderr",
     "output_type": "stream",
     "text": [
      "\n",
      "\n",
      " 85%|████████▌ | 973/1141 [2:02:47<22:20,  7.98s/it]\u001b[A\u001b[A\n",
      "\n",
      " 85%|████████▌ | 974/1141 [2:02:52<20:14,  7.27s/it]\u001b[A\u001b[A\n",
      "\n",
      " 85%|████████▌ | 975/1141 [2:02:58<18:45,  6.78s/it]\u001b[A\u001b[A\n",
      "\n",
      " 86%|████████▌ | 976/1141 [2:03:03<17:38,  6.41s/it]\u001b[A\u001b[A\n",
      "\n",
      " 86%|████████▌ | 977/1141 [2:03:09<16:49,  6.16s/it]\u001b[A\u001b[A\n",
      "\n",
      " 86%|████████▌ | 978/1141 [2:03:14<16:16,  5.99s/it]\u001b[A\u001b[A"
     ]
    },
    {
     "name": "stdout",
     "output_type": "stream",
     "text": [
      "'examples'\n",
      "'etymologies'\n"
     ]
    },
    {
     "name": "stderr",
     "output_type": "stream",
     "text": [
      "\n",
      "\n",
      " 86%|████████▌ | 979/1141 [2:03:26<20:21,  7.54s/it]\u001b[A\u001b[A"
     ]
    },
    {
     "name": "stdout",
     "output_type": "stream",
     "text": [
      "'etymologies'\n",
      "'results'\n",
      "'results'\n",
      "'results'\n",
      "'results'\n"
     ]
    },
    {
     "name": "stderr",
     "output_type": "stream",
     "text": [
      "\n",
      "\n",
      " 86%|████████▌ | 980/1141 [2:03:37<23:18,  8.68s/it]\u001b[A\u001b[A"
     ]
    },
    {
     "name": "stdout",
     "output_type": "stream",
     "text": [
      "'results'\n",
      "'results'\n",
      "'results'\n",
      "'etymologies'\n"
     ]
    },
    {
     "name": "stderr",
     "output_type": "stream",
     "text": [
      "\n",
      "\n",
      " 86%|████████▌ | 981/1141 [2:03:48<25:04,  9.40s/it]\u001b[A\u001b[A"
     ]
    },
    {
     "name": "stdout",
     "output_type": "stream",
     "text": [
      "'etymologies'\n"
     ]
    },
    {
     "name": "stderr",
     "output_type": "stream",
     "text": [
      "\n",
      "\n",
      " 86%|████████▌ | 982/1141 [2:03:54<21:52,  8.26s/it]\u001b[A\u001b[A\n",
      "\n",
      " 86%|████████▌ | 983/1141 [2:03:59<19:36,  7.45s/it]\u001b[A\u001b[A\n",
      "\n",
      " 86%|████████▌ | 984/1141 [2:04:05<18:05,  6.91s/it]\u001b[A\u001b[A"
     ]
    },
    {
     "name": "stdout",
     "output_type": "stream",
     "text": [
      "'examples'\n",
      "'examples'\n",
      "'etymologies'\n",
      "'examples'\n",
      "'etymologies'\n"
     ]
    },
    {
     "name": "stderr",
     "output_type": "stream",
     "text": [
      "\n",
      "\n",
      " 86%|████████▋ | 985/1141 [2:04:22<25:38,  9.86s/it]\u001b[A\u001b[A"
     ]
    },
    {
     "name": "stdout",
     "output_type": "stream",
     "text": [
      "'etymologies'\n"
     ]
    },
    {
     "name": "stderr",
     "output_type": "stream",
     "text": [
      "\n",
      "\n",
      " 86%|████████▋ | 986/1141 [2:04:27<22:10,  8.59s/it]\u001b[A\u001b[A"
     ]
    },
    {
     "name": "stdout",
     "output_type": "stream",
     "text": [
      "'results'\n",
      "'results'\n",
      "'results'\n",
      "'results'\n",
      "'results'\n",
      "'results'\n",
      "'results'\n",
      "'results'\n",
      "'results'\n"
     ]
    },
    {
     "name": "stderr",
     "output_type": "stream",
     "text": [
      "\n",
      "\n",
      " 87%|████████▋ | 987/1141 [2:04:44<28:19, 11.04s/it]\u001b[A\u001b[A"
     ]
    },
    {
     "name": "stdout",
     "output_type": "stream",
     "text": [
      "'results'\n",
      "'results'\n",
      "'results'\n",
      "'examples'\n",
      "'etymologies'\n",
      "'examples'\n",
      "'etymologies'\n"
     ]
    },
    {
     "name": "stderr",
     "output_type": "stream",
     "text": [
      "\n",
      "\n",
      " 87%|████████▋ | 988/1141 [2:05:01<32:29, 12.74s/it]\u001b[A\u001b[A"
     ]
    },
    {
     "name": "stdout",
     "output_type": "stream",
     "text": [
      "'etymologies'\n",
      "'examples'\n"
     ]
    },
    {
     "name": "stderr",
     "output_type": "stream",
     "text": [
      "\n",
      "\n",
      " 87%|████████▋ | 989/1141 [2:05:12<31:07, 12.28s/it]\u001b[A\u001b[A"
     ]
    },
    {
     "name": "stdout",
     "output_type": "stream",
     "text": [
      "'examples'\n",
      "'definitions'\n",
      "'examples'\n"
     ]
    },
    {
     "name": "stderr",
     "output_type": "stream",
     "text": [
      "\n",
      "\n",
      " 87%|████████▋ | 990/1141 [2:05:23<30:10, 11.99s/it]\u001b[A\u001b[A"
     ]
    },
    {
     "name": "stdout",
     "output_type": "stream",
     "text": [
      "'examples'\n"
     ]
    },
    {
     "name": "stderr",
     "output_type": "stream",
     "text": [
      "\n",
      "\n",
      " 87%|████████▋ | 991/1141 [2:05:29<25:14, 10.09s/it]\u001b[A\u001b[A"
     ]
    },
    {
     "name": "stdout",
     "output_type": "stream",
     "text": [
      "'examples'\n",
      "'etymologies'\n",
      "'examples'\n",
      "'etymologies'\n"
     ]
    },
    {
     "name": "stderr",
     "output_type": "stream",
     "text": [
      "\n",
      "\n",
      " 87%|████████▋ | 992/1141 [2:05:46<30:01, 12.09s/it]\u001b[A\u001b[A"
     ]
    },
    {
     "name": "stdout",
     "output_type": "stream",
     "text": [
      "'etymologies'\n"
     ]
    },
    {
     "name": "stderr",
     "output_type": "stream",
     "text": [
      "\n",
      "\n",
      " 87%|████████▋ | 993/1141 [2:05:51<25:01, 10.14s/it]\u001b[A\u001b[A"
     ]
    },
    {
     "name": "stdout",
     "output_type": "stream",
     "text": [
      "'examples'\n",
      "'etymologies'\n",
      "'examples'\n",
      "'etymologies'\n"
     ]
    },
    {
     "name": "stderr",
     "output_type": "stream",
     "text": [
      "\n",
      "\n",
      " 87%|████████▋ | 994/1141 [2:06:08<29:42, 12.13s/it]\u001b[A\u001b[A"
     ]
    },
    {
     "name": "stdout",
     "output_type": "stream",
     "text": [
      "'etymologies'\n"
     ]
    },
    {
     "name": "stderr",
     "output_type": "stream",
     "text": [
      "\n",
      "\n",
      " 87%|████████▋ | 995/1141 [2:06:14<24:46, 10.18s/it]\u001b[A\u001b[A"
     ]
    },
    {
     "name": "stdout",
     "output_type": "stream",
     "text": [
      "'examples'\n"
     ]
    },
    {
     "name": "stderr",
     "output_type": "stream",
     "text": [
      "\n",
      "\n",
      " 87%|████████▋ | 996/1141 [2:06:25<25:20, 10.48s/it]\u001b[A\u001b[A"
     ]
    },
    {
     "name": "stdout",
     "output_type": "stream",
     "text": [
      "'examples'\n",
      "'examples'\n",
      "'etymologies'\n",
      "'examples'\n",
      "'etymologies'\n"
     ]
    },
    {
     "name": "stderr",
     "output_type": "stream",
     "text": [
      "\n",
      "\n",
      " 87%|████████▋ | 997/1141 [2:06:42<29:40, 12.36s/it]\u001b[A\u001b[A"
     ]
    },
    {
     "name": "stdout",
     "output_type": "stream",
     "text": [
      "'etymologies'\n"
     ]
    },
    {
     "name": "stderr",
     "output_type": "stream",
     "text": [
      "\n",
      "\n",
      " 87%|████████▋ | 998/1141 [2:06:47<24:36, 10.32s/it]\u001b[A\u001b[A\n",
      "\n",
      " 88%|████████▊ | 999/1141 [2:06:53<21:04,  8.91s/it]\u001b[A\u001b[A\n",
      "\n",
      " 88%|████████▊ | 1000/1141 [2:06:59<18:50,  8.02s/it]\u001b[A\u001b[A\n",
      "\n",
      " 88%|████████▊ | 1001/1141 [2:07:04<16:59,  7.28s/it]\u001b[A\u001b[A"
     ]
    },
    {
     "name": "stdout",
     "output_type": "stream",
     "text": [
      "'etymologies'\n"
     ]
    },
    {
     "name": "stderr",
     "output_type": "stream",
     "text": [
      "\n",
      "\n",
      " 88%|████████▊ | 1002/1141 [2:07:15<19:33,  8.44s/it]\u001b[A\u001b[A"
     ]
    },
    {
     "name": "stdout",
     "output_type": "stream",
     "text": [
      "'etymologies'\n",
      "'etymologies'\n"
     ]
    },
    {
     "name": "stderr",
     "output_type": "stream",
     "text": [
      "\n",
      "\n",
      " 88%|████████▊ | 1003/1141 [2:07:27<21:18,  9.26s/it]\u001b[A\u001b[A"
     ]
    },
    {
     "name": "stdout",
     "output_type": "stream",
     "text": [
      "'etymologies'\n",
      "'etymologies'\n"
     ]
    },
    {
     "name": "stderr",
     "output_type": "stream",
     "text": [
      "\n",
      "\n",
      " 88%|████████▊ | 1004/1141 [2:07:38<22:25,  9.82s/it]\u001b[A\u001b[A"
     ]
    },
    {
     "name": "stdout",
     "output_type": "stream",
     "text": [
      "'etymologies'\n",
      "'etymologies'\n"
     ]
    },
    {
     "name": "stderr",
     "output_type": "stream",
     "text": [
      "\n",
      "\n",
      " 88%|████████▊ | 1005/1141 [2:07:49<23:08, 10.21s/it]\u001b[A\u001b[A"
     ]
    },
    {
     "name": "stdout",
     "output_type": "stream",
     "text": [
      "'etymologies'\n",
      "'etymologies'\n",
      "'phoneticSpelling'\n"
     ]
    },
    {
     "name": "stderr",
     "output_type": "stream",
     "text": [
      "\n",
      "\n",
      " 88%|████████▊ | 1006/1141 [2:08:01<24:14, 10.77s/it]\u001b[A\u001b[A"
     ]
    },
    {
     "name": "stdout",
     "output_type": "stream",
     "text": [
      "'etymologies'\n",
      "'phoneticSpelling'\n",
      "'results'\n",
      "'results'\n",
      "'results'\n",
      "'results'\n"
     ]
    },
    {
     "name": "stderr",
     "output_type": "stream",
     "text": [
      "\n",
      "\n",
      " 88%|████████▊ | 1007/1141 [2:08:13<25:04, 11.23s/it]\u001b[A\u001b[A"
     ]
    },
    {
     "name": "stdout",
     "output_type": "stream",
     "text": [
      "'results'\n",
      "'results'\n",
      "'results'\n",
      "'results'\n",
      "'results'\n",
      "'results'\n",
      "'results'\n"
     ]
    },
    {
     "name": "stderr",
     "output_type": "stream",
     "text": [
      "\n",
      "\n",
      " 88%|████████▊ | 1008/1141 [2:08:24<24:53, 11.23s/it]\u001b[A\u001b[A"
     ]
    },
    {
     "name": "stdout",
     "output_type": "stream",
     "text": [
      "'results'\n",
      "'results'\n",
      "'results'\n",
      "'results'\n",
      "'results'\n",
      "'results'\n",
      "'results'\n"
     ]
    },
    {
     "name": "stderr",
     "output_type": "stream",
     "text": [
      "\n",
      "\n",
      " 88%|████████▊ | 1009/1141 [2:08:36<24:44, 11.25s/it]\u001b[A\u001b[A"
     ]
    },
    {
     "name": "stdout",
     "output_type": "stream",
     "text": [
      "'results'\n",
      "'results'\n",
      "'results'\n",
      "'results'\n",
      "'results'\n",
      "'results'\n",
      "'results'\n",
      "'results'\n",
      "'results'\n",
      "'results'\n",
      "'results'\n",
      "'results'\n"
     ]
    },
    {
     "name": "stderr",
     "output_type": "stream",
     "text": [
      "\n",
      "\n",
      " 89%|████████▊ | 1010/1141 [2:08:52<28:09, 12.89s/it]\u001b[A\u001b[A"
     ]
    },
    {
     "name": "stdout",
     "output_type": "stream",
     "text": [
      "'results'\n",
      "'results'\n",
      "'results'\n"
     ]
    },
    {
     "name": "stderr",
     "output_type": "stream",
     "text": [
      "\n",
      "\n",
      " 89%|████████▊ | 1011/1141 [2:08:58<23:10, 10.69s/it]\u001b[A\u001b[A"
     ]
    },
    {
     "name": "stdout",
     "output_type": "stream",
     "text": [
      "'etymologies'\n"
     ]
    },
    {
     "name": "stderr",
     "output_type": "stream",
     "text": [
      "\n",
      "\n",
      " 89%|████████▊ | 1012/1141 [2:09:09<23:18, 10.84s/it]\u001b[A\u001b[A"
     ]
    },
    {
     "name": "stdout",
     "output_type": "stream",
     "text": [
      "'etymologies'\n"
     ]
    },
    {
     "name": "stderr",
     "output_type": "stream",
     "text": [
      "\n",
      "\n",
      " 89%|████████▉ | 1013/1141 [2:09:15<19:45,  9.26s/it]\u001b[A\u001b[A"
     ]
    },
    {
     "name": "stdout",
     "output_type": "stream",
     "text": [
      "'etymologies'\n"
     ]
    },
    {
     "name": "stderr",
     "output_type": "stream",
     "text": [
      "\n",
      "\n",
      " 89%|████████▉ | 1014/1141 [2:09:26<20:48,  9.83s/it]\u001b[A\u001b[A"
     ]
    },
    {
     "name": "stdout",
     "output_type": "stream",
     "text": [
      "'etymologies'\n"
     ]
    },
    {
     "name": "stderr",
     "output_type": "stream",
     "text": [
      "\n",
      "\n",
      " 89%|████████▉ | 1015/1141 [2:09:32<17:57,  8.55s/it]\u001b[A\u001b[A"
     ]
    },
    {
     "name": "stdout",
     "output_type": "stream",
     "text": [
      "'results'\n",
      "'results'\n",
      "'results'\n",
      "'results'\n"
     ]
    },
    {
     "name": "stderr",
     "output_type": "stream",
     "text": [
      "\n",
      "\n",
      " 89%|████████▉ | 1016/1141 [2:09:43<19:27,  9.34s/it]\u001b[A\u001b[A"
     ]
    },
    {
     "name": "stdout",
     "output_type": "stream",
     "text": [
      "'results'\n",
      "'results'\n",
      "'results'\n"
     ]
    },
    {
     "name": "stderr",
     "output_type": "stream",
     "text": [
      "\n",
      "\n",
      " 89%|████████▉ | 1017/1141 [2:09:48<16:55,  8.19s/it]\u001b[A\u001b[A"
     ]
    },
    {
     "name": "stdout",
     "output_type": "stream",
     "text": [
      "'examples'\n"
     ]
    },
    {
     "name": "stderr",
     "output_type": "stream",
     "text": [
      "\n",
      "\n",
      " 89%|████████▉ | 1018/1141 [2:09:54<15:12,  7.42s/it]\u001b[A\u001b[A"
     ]
    },
    {
     "name": "stdout",
     "output_type": "stream",
     "text": [
      "'examples'\n"
     ]
    },
    {
     "name": "stderr",
     "output_type": "stream",
     "text": [
      "\n",
      "\n",
      " 89%|████████▉ | 1019/1141 [2:09:59<13:56,  6.85s/it]\u001b[A\u001b[A\n",
      "\n",
      " 89%|████████▉ | 1020/1141 [2:10:05<13:00,  6.45s/it]\u001b[A\u001b[A"
     ]
    },
    {
     "name": "stdout",
     "output_type": "stream",
     "text": [
      "'results'\n",
      "'results'\n",
      "'results'\n",
      "'results'\n",
      "'results'\n",
      "'results'\n",
      "'results'\n",
      "'results'\n",
      "'results'\n"
     ]
    },
    {
     "name": "stderr",
     "output_type": "stream",
     "text": [
      "\n",
      "\n",
      " 89%|████████▉ | 1021/1141 [2:10:22<19:08,  9.57s/it]\u001b[A\u001b[A"
     ]
    },
    {
     "name": "stdout",
     "output_type": "stream",
     "text": [
      "'results'\n",
      "'results'\n",
      "'results'\n"
     ]
    },
    {
     "name": "stderr",
     "output_type": "stream",
     "text": [
      "\n",
      "\n",
      " 90%|████████▉ | 1022/1141 [2:10:28<16:43,  8.44s/it]\u001b[A\u001b[A\n",
      "\n",
      " 90%|████████▉ | 1023/1141 [2:10:33<14:55,  7.59s/it]\u001b[A\u001b[A\n",
      "\n",
      " 90%|████████▉ | 1024/1141 [2:10:39<13:36,  6.98s/it]\u001b[A\u001b[A"
     ]
    },
    {
     "name": "stdout",
     "output_type": "stream",
     "text": [
      "'etymologies'\n"
     ]
    },
    {
     "name": "stderr",
     "output_type": "stream",
     "text": [
      "\n",
      "\n",
      " 90%|████████▉ | 1025/1141 [2:10:50<16:01,  8.29s/it]\u001b[A\u001b[A"
     ]
    },
    {
     "name": "stdout",
     "output_type": "stream",
     "text": [
      "'etymologies'\n"
     ]
    },
    {
     "name": "stderr",
     "output_type": "stream",
     "text": [
      "\n",
      "\n",
      " 90%|████████▉ | 1026/1141 [2:10:56<14:22,  7.50s/it]\u001b[A\u001b[A"
     ]
    },
    {
     "name": "stdout",
     "output_type": "stream",
     "text": [
      "'results'\n",
      "'results'\n",
      "'results'\n",
      "'results'\n",
      "'results'\n",
      "'results'\n",
      "'results'\n",
      "'results'\n",
      "'results'\n"
     ]
    },
    {
     "name": "stderr",
     "output_type": "stream",
     "text": [
      "\n",
      "\n",
      " 90%|█████████ | 1027/1141 [2:11:12<19:28, 10.25s/it]\u001b[A\u001b[A"
     ]
    },
    {
     "name": "stdout",
     "output_type": "stream",
     "text": [
      "'results'\n",
      "'results'\n",
      "'results'\n"
     ]
    },
    {
     "name": "stderr",
     "output_type": "stream",
     "text": [
      "\n",
      "\n",
      " 90%|█████████ | 1028/1141 [2:11:18<16:39,  8.84s/it]\u001b[A\u001b[A"
     ]
    },
    {
     "name": "stdout",
     "output_type": "stream",
     "text": [
      "'examples'\n"
     ]
    },
    {
     "name": "stderr",
     "output_type": "stream",
     "text": [
      "\n",
      "\n",
      " 90%|█████████ | 1029/1141 [2:11:29<17:44,  9.51s/it]\u001b[A\u001b[A"
     ]
    },
    {
     "name": "stdout",
     "output_type": "stream",
     "text": [
      "'examples'\n"
     ]
    },
    {
     "name": "stderr",
     "output_type": "stream",
     "text": [
      "\n",
      "\n",
      " 90%|█████████ | 1030/1141 [2:11:35<15:26,  8.34s/it]\u001b[A\u001b[A"
     ]
    },
    {
     "name": "stdout",
     "output_type": "stream",
     "text": [
      "'examples'\n",
      "'etymologies'\n",
      "'examples'\n",
      "'etymologies'\n"
     ]
    },
    {
     "name": "stderr",
     "output_type": "stream",
     "text": [
      "\n",
      "\n",
      " 90%|█████████ | 1031/1141 [2:11:51<19:51, 10.83s/it]\u001b[A\u001b[A"
     ]
    },
    {
     "name": "stdout",
     "output_type": "stream",
     "text": [
      "'etymologies'\n",
      "'examples'\n"
     ]
    },
    {
     "name": "stderr",
     "output_type": "stream",
     "text": [
      "\n",
      "\n",
      " 90%|█████████ | 1032/1141 [2:12:02<19:49, 10.92s/it]\u001b[A\u001b[A"
     ]
    },
    {
     "name": "stdout",
     "output_type": "stream",
     "text": [
      "'examples'\n",
      "'examples'\n"
     ]
    },
    {
     "name": "stderr",
     "output_type": "stream",
     "text": [
      "\n",
      "\n",
      " 91%|█████████ | 1033/1141 [2:12:13<19:46, 10.99s/it]\u001b[A\u001b[A"
     ]
    },
    {
     "name": "stdout",
     "output_type": "stream",
     "text": [
      "'examples'\n",
      "'etymologies'\n"
     ]
    },
    {
     "name": "stderr",
     "output_type": "stream",
     "text": [
      "\n",
      "\n",
      " 91%|█████████ | 1034/1141 [2:12:25<19:40, 11.03s/it]\u001b[A\u001b[A"
     ]
    },
    {
     "name": "stdout",
     "output_type": "stream",
     "text": [
      "'etymologies'\n",
      "'definitions'\n",
      "'etymologies'\n"
     ]
    },
    {
     "name": "stderr",
     "output_type": "stream",
     "text": [
      "\n",
      "\n",
      " 91%|█████████ | 1035/1141 [2:12:36<19:29, 11.04s/it]\u001b[A\u001b[A"
     ]
    },
    {
     "name": "stdout",
     "output_type": "stream",
     "text": [
      "'etymologies'\n"
     ]
    },
    {
     "name": "stderr",
     "output_type": "stream",
     "text": [
      "\n",
      "\n",
      " 91%|█████████ | 1036/1141 [2:12:41<16:29,  9.43s/it]\u001b[A\u001b[A"
     ]
    },
    {
     "name": "stdout",
     "output_type": "stream",
     "text": [
      "'etymologies'\n"
     ]
    },
    {
     "name": "stderr",
     "output_type": "stream",
     "text": [
      "\n",
      "\n",
      " 91%|█████████ | 1037/1141 [2:12:52<17:11,  9.92s/it]\u001b[A\u001b[A"
     ]
    },
    {
     "name": "stdout",
     "output_type": "stream",
     "text": [
      "'etymologies'\n"
     ]
    },
    {
     "name": "stderr",
     "output_type": "stream",
     "text": [
      "\n",
      "\n",
      " 91%|█████████ | 1038/1141 [2:12:58<14:46,  8.61s/it]\u001b[A\u001b[A"
     ]
    },
    {
     "name": "stdout",
     "output_type": "stream",
     "text": [
      "'etymologies'\n"
     ]
    },
    {
     "name": "stderr",
     "output_type": "stream",
     "text": [
      "\n",
      "\n",
      " 91%|█████████ | 1039/1141 [2:13:04<13:08,  7.73s/it]\u001b[A\u001b[A\n",
      "\n",
      " 91%|█████████ | 1040/1141 [2:13:09<11:53,  7.06s/it]\u001b[A\u001b[A"
     ]
    },
    {
     "name": "stdout",
     "output_type": "stream",
     "text": [
      "'examples'\n",
      "'etymologies'\n",
      "'examples'\n",
      "'etymologies'\n"
     ]
    },
    {
     "name": "stderr",
     "output_type": "stream",
     "text": [
      "\n",
      "\n",
      " 91%|█████████ | 1041/1141 [2:13:26<16:36,  9.97s/it]\u001b[A\u001b[A"
     ]
    },
    {
     "name": "stdout",
     "output_type": "stream",
     "text": [
      "'etymologies'\n",
      "'etymologies'\n"
     ]
    },
    {
     "name": "stderr",
     "output_type": "stream",
     "text": [
      "\n",
      "\n",
      " 91%|█████████▏| 1042/1141 [2:13:37<17:00, 10.31s/it]\u001b[A\u001b[A"
     ]
    },
    {
     "name": "stdout",
     "output_type": "stream",
     "text": [
      "'etymologies'\n"
     ]
    },
    {
     "name": "stderr",
     "output_type": "stream",
     "text": [
      "\n",
      "\n",
      " 91%|█████████▏| 1043/1141 [2:13:43<14:32,  8.90s/it]\u001b[A\u001b[A\n",
      "\n",
      " 91%|█████████▏| 1044/1141 [2:13:48<12:47,  7.91s/it]\u001b[A\u001b[A"
     ]
    },
    {
     "name": "stdout",
     "output_type": "stream",
     "text": [
      "'examples'\n"
     ]
    },
    {
     "name": "stderr",
     "output_type": "stream",
     "text": [
      "\n",
      "\n",
      " 92%|█████████▏| 1045/1141 [2:13:59<14:12,  8.88s/it]\u001b[A\u001b[A"
     ]
    },
    {
     "name": "stdout",
     "output_type": "stream",
     "text": [
      "'examples'\n",
      "'etymologies'\n"
     ]
    },
    {
     "name": "stderr",
     "output_type": "stream",
     "text": [
      "\n",
      "\n",
      " 92%|█████████▏| 1046/1141 [2:14:11<15:08,  9.56s/it]\u001b[A\u001b[A"
     ]
    },
    {
     "name": "stdout",
     "output_type": "stream",
     "text": [
      "'etymologies'\n",
      "'examples'\n"
     ]
    },
    {
     "name": "stderr",
     "output_type": "stream",
     "text": [
      "\n",
      "\n",
      " 92%|█████████▏| 1047/1141 [2:14:22<15:45, 10.05s/it]\u001b[A\u001b[A"
     ]
    },
    {
     "name": "stdout",
     "output_type": "stream",
     "text": [
      "'examples'\n"
     ]
    },
    {
     "name": "stderr",
     "output_type": "stream",
     "text": [
      "\n",
      "\n",
      " 92%|█████████▏| 1048/1141 [2:14:27<13:32,  8.74s/it]\u001b[A\u001b[A\n",
      "\n",
      " 92%|█████████▏| 1049/1141 [2:14:33<12:06,  7.90s/it]\u001b[A\u001b[A"
     ]
    },
    {
     "name": "stdout",
     "output_type": "stream",
     "text": [
      "'etymologies'\n"
     ]
    },
    {
     "name": "stderr",
     "output_type": "stream",
     "text": [
      "\n",
      "\n",
      " 92%|█████████▏| 1050/1141 [2:14:44<13:28,  8.88s/it]\u001b[A\u001b[A"
     ]
    },
    {
     "name": "stdout",
     "output_type": "stream",
     "text": [
      "'etymologies'\n"
     ]
    },
    {
     "name": "stderr",
     "output_type": "stream",
     "text": [
      "\n",
      "\n",
      " 92%|█████████▏| 1051/1141 [2:14:50<11:49,  7.88s/it]\u001b[A\u001b[A"
     ]
    },
    {
     "name": "stdout",
     "output_type": "stream",
     "text": [
      "'examples'\n"
     ]
    },
    {
     "name": "stderr",
     "output_type": "stream",
     "text": [
      "\n",
      "\n",
      " 92%|█████████▏| 1052/1141 [2:15:01<13:14,  8.92s/it]\u001b[A\u001b[A"
     ]
    },
    {
     "name": "stdout",
     "output_type": "stream",
     "text": [
      "'examples'\n",
      "'etymologies'\n"
     ]
    },
    {
     "name": "stderr",
     "output_type": "stream",
     "text": [
      "\n",
      "\n",
      " 92%|█████████▏| 1053/1141 [2:15:12<14:02,  9.58s/it]\u001b[A\u001b[A"
     ]
    },
    {
     "name": "stdout",
     "output_type": "stream",
     "text": [
      "'etymologies'\n"
     ]
    },
    {
     "name": "stderr",
     "output_type": "stream",
     "text": [
      "\n",
      "\n",
      " 92%|█████████▏| 1054/1141 [2:15:18<12:11,  8.41s/it]\u001b[A\u001b[A\n",
      "\n",
      " 92%|█████████▏| 1055/1141 [2:15:24<10:51,  7.58s/it]\u001b[A\u001b[A"
     ]
    },
    {
     "name": "stdout",
     "output_type": "stream",
     "text": [
      "'etymologies'\n"
     ]
    },
    {
     "name": "stderr",
     "output_type": "stream",
     "text": [
      "\n",
      "\n",
      " 93%|█████████▎| 1056/1141 [2:15:35<12:15,  8.66s/it]\u001b[A\u001b[A"
     ]
    },
    {
     "name": "stdout",
     "output_type": "stream",
     "text": [
      "'etymologies'\n"
     ]
    },
    {
     "name": "stderr",
     "output_type": "stream",
     "text": [
      "\n",
      "\n",
      " 93%|█████████▎| 1057/1141 [2:15:41<10:48,  7.72s/it]\u001b[A\u001b[A"
     ]
    },
    {
     "name": "stdout",
     "output_type": "stream",
     "text": [
      "'etymologies'\n"
     ]
    },
    {
     "name": "stderr",
     "output_type": "stream",
     "text": [
      "\n",
      "\n",
      " 93%|█████████▎| 1058/1141 [2:15:52<12:02,  8.71s/it]\u001b[A\u001b[A"
     ]
    },
    {
     "name": "stdout",
     "output_type": "stream",
     "text": [
      "'etymologies'\n"
     ]
    },
    {
     "name": "stderr",
     "output_type": "stream",
     "text": [
      "\n",
      "\n",
      " 93%|█████████▎| 1059/1141 [2:15:57<10:37,  7.78s/it]\u001b[A\u001b[A"
     ]
    },
    {
     "name": "stdout",
     "output_type": "stream",
     "text": [
      "'results'\n",
      "'results'\n",
      "'results'\n",
      "'results'\n",
      "'results'\n",
      "'results'\n",
      "'results'\n",
      "'results'\n",
      "'results'\n"
     ]
    },
    {
     "name": "stderr",
     "output_type": "stream",
     "text": [
      "\n",
      "\n",
      " 93%|█████████▎| 1060/1141 [2:16:15<14:29, 10.74s/it]\u001b[A\u001b[A"
     ]
    },
    {
     "name": "stdout",
     "output_type": "stream",
     "text": [
      "'results'\n",
      "'results'\n",
      "'results'\n",
      "'examples'\n"
     ]
    },
    {
     "name": "stderr",
     "output_type": "stream",
     "text": [
      "\n",
      "\n",
      " 93%|█████████▎| 1061/1141 [2:16:26<14:28, 10.86s/it]\u001b[A\u001b[A"
     ]
    },
    {
     "name": "stdout",
     "output_type": "stream",
     "text": [
      "'examples'\n"
     ]
    },
    {
     "name": "stderr",
     "output_type": "stream",
     "text": [
      "\n",
      "\n",
      " 93%|█████████▎| 1062/1141 [2:16:31<12:11,  9.26s/it]\u001b[A\u001b[A\n",
      "\n",
      " 93%|█████████▎| 1063/1141 [2:16:37<10:38,  8.18s/it]\u001b[A\u001b[A\n",
      "\n",
      " 93%|█████████▎| 1064/1141 [2:16:43<09:33,  7.45s/it]\u001b[A\u001b[A\n",
      "\n",
      " 93%|█████████▎| 1065/1141 [2:16:48<08:43,  6.89s/it]\u001b[A\u001b[A\n",
      "\n",
      " 93%|█████████▎| 1066/1141 [2:16:54<08:08,  6.51s/it]\u001b[A\u001b[A"
     ]
    },
    {
     "name": "stdout",
     "output_type": "stream",
     "text": [
      "'pronunciations'\n",
      "'pronunciations'\n"
     ]
    },
    {
     "name": "stderr",
     "output_type": "stream",
     "text": [
      "\n",
      "\n",
      " 94%|█████████▎| 1067/1141 [2:17:00<07:40,  6.22s/it]\u001b[A\u001b[A\n",
      "\n",
      " 94%|█████████▎| 1068/1141 [2:17:05<07:19,  6.02s/it]\u001b[A\u001b[A"
     ]
    },
    {
     "name": "stdout",
     "output_type": "stream",
     "text": [
      "'examples'\n"
     ]
    },
    {
     "name": "stderr",
     "output_type": "stream",
     "text": [
      "\n",
      "\n",
      " 94%|█████████▎| 1069/1141 [2:17:11<07:02,  5.87s/it]\u001b[A\u001b[A\n",
      "\n",
      " 94%|█████████▍| 1070/1141 [2:17:16<06:50,  5.78s/it]\u001b[A\u001b[A\n",
      "\n",
      " 94%|█████████▍| 1071/1141 [2:17:22<06:39,  5.70s/it]\u001b[A\u001b[A"
     ]
    },
    {
     "name": "stdout",
     "output_type": "stream",
     "text": [
      "'etymologies'\n"
     ]
    },
    {
     "name": "stderr",
     "output_type": "stream",
     "text": [
      "\n",
      "\n",
      " 94%|█████████▍| 1072/1141 [2:17:33<08:26,  7.34s/it]\u001b[A\u001b[A"
     ]
    },
    {
     "name": "stdout",
     "output_type": "stream",
     "text": [
      "'etymologies'\n"
     ]
    },
    {
     "name": "stderr",
     "output_type": "stream",
     "text": [
      "\n",
      "\n",
      " 94%|█████████▍| 1073/1141 [2:17:39<07:43,  6.82s/it]\u001b[A\u001b[A"
     ]
    },
    {
     "name": "stdout",
     "output_type": "stream",
     "text": [
      "'results'\n",
      "'results'\n",
      "'results'\n",
      "'results'\n",
      "'results'\n",
      "'results'\n",
      "'results'\n",
      "'results'\n",
      "'results'\n"
     ]
    },
    {
     "name": "stderr",
     "output_type": "stream",
     "text": [
      "\n",
      "\n",
      " 94%|█████████▍| 1074/1141 [2:17:57<11:30, 10.30s/it]\u001b[A\u001b[A"
     ]
    },
    {
     "name": "stdout",
     "output_type": "stream",
     "text": [
      "'results'\n",
      "'results'\n",
      "'results'\n",
      "'results'\n",
      "'results'\n",
      "'results'\n",
      "'results'\n",
      "'results'\n",
      "'results'\n",
      "'results'\n",
      "'results'\n",
      "'results'\n"
     ]
    },
    {
     "name": "stderr",
     "output_type": "stream",
     "text": [
      "\n",
      "\n",
      " 94%|█████████▍| 1075/1141 [2:18:14<13:29, 12.26s/it]\u001b[A\u001b[A"
     ]
    },
    {
     "name": "stdout",
     "output_type": "stream",
     "text": [
      "'results'\n",
      "'results'\n",
      "'results'\n"
     ]
    },
    {
     "name": "stderr",
     "output_type": "stream",
     "text": [
      "\n",
      "\n",
      " 94%|█████████▍| 1076/1141 [2:18:19<11:05, 10.23s/it]\u001b[A\u001b[A\n",
      "\n",
      " 94%|█████████▍| 1077/1141 [2:18:25<09:28,  8.89s/it]\u001b[A\u001b[A"
     ]
    },
    {
     "name": "stdout",
     "output_type": "stream",
     "text": [
      "'results'\n",
      "'results'\n",
      "'results'\n",
      "'results'\n",
      "'results'\n",
      "'results'\n",
      "'results'\n",
      "'results'\n",
      "'results'\n"
     ]
    },
    {
     "name": "stderr",
     "output_type": "stream",
     "text": [
      "\n",
      "\n",
      " 94%|█████████▍| 1078/1141 [2:18:42<11:47, 11.22s/it]\u001b[A\u001b[A"
     ]
    },
    {
     "name": "stdout",
     "output_type": "stream",
     "text": [
      "'results'\n",
      "'results'\n",
      "'results'\n"
     ]
    },
    {
     "name": "stderr",
     "output_type": "stream",
     "text": [
      "\n",
      "\n",
      " 95%|█████████▍| 1079/1141 [2:18:47<09:51,  9.53s/it]\u001b[A\u001b[A\n",
      "\n",
      " 95%|█████████▍| 1080/1141 [2:18:53<08:28,  8.34s/it]\u001b[A\u001b[A\n",
      "\n",
      " 95%|█████████▍| 1081/1141 [2:18:59<07:32,  7.54s/it]\u001b[A\u001b[A"
     ]
    },
    {
     "name": "stdout",
     "output_type": "stream",
     "text": [
      "'results'\n",
      "'results'\n",
      "'results'\n",
      "'results'\n",
      "'results'\n",
      "'results'\n",
      "'results'\n",
      "'results'\n",
      "'results'\n"
     ]
    },
    {
     "name": "stderr",
     "output_type": "stream",
     "text": [
      "\n",
      "\n",
      " 95%|█████████▍| 1082/1141 [2:19:15<10:07, 10.30s/it]\u001b[A\u001b[A"
     ]
    },
    {
     "name": "stdout",
     "output_type": "stream",
     "text": [
      "'results'\n",
      "'results'\n",
      "'results'\n",
      "'examples'\n"
     ]
    },
    {
     "name": "stderr",
     "output_type": "stream",
     "text": [
      "\n",
      "\n",
      " 95%|█████████▍| 1083/1141 [2:19:26<10:11, 10.54s/it]\u001b[A\u001b[A"
     ]
    },
    {
     "name": "stdout",
     "output_type": "stream",
     "text": [
      "'examples'\n",
      "'examples'\n"
     ]
    },
    {
     "name": "stderr",
     "output_type": "stream",
     "text": [
      "\n",
      "\n",
      " 95%|█████████▌| 1084/1141 [2:19:38<10:22, 10.93s/it]\u001b[A\u001b[A"
     ]
    },
    {
     "name": "stdout",
     "output_type": "stream",
     "text": [
      "'examples'\n",
      "'results'\n",
      "'results'\n",
      "'results'\n",
      "'results'\n",
      "'results'\n",
      "'results'\n",
      "'results'\n",
      "'results'\n",
      "'results'\n"
     ]
    },
    {
     "name": "stderr",
     "output_type": "stream",
     "text": [
      "\n",
      "\n",
      " 95%|█████████▌| 1085/1141 [2:19:55<11:48, 12.66s/it]\u001b[A\u001b[A"
     ]
    },
    {
     "name": "stdout",
     "output_type": "stream",
     "text": [
      "'results'\n",
      "'results'\n",
      "'results'\n",
      "'etymologies'\n"
     ]
    },
    {
     "name": "stderr",
     "output_type": "stream",
     "text": [
      "\n",
      "\n",
      " 95%|█████████▌| 1086/1141 [2:20:06<11:10, 12.18s/it]\u001b[A\u001b[A"
     ]
    },
    {
     "name": "stdout",
     "output_type": "stream",
     "text": [
      "'etymologies'\n",
      "'etymologies'\n"
     ]
    },
    {
     "name": "stderr",
     "output_type": "stream",
     "text": [
      "\n",
      "\n",
      " 95%|█████████▌| 1087/1141 [2:20:17<10:40, 11.86s/it]\u001b[A\u001b[A"
     ]
    },
    {
     "name": "stdout",
     "output_type": "stream",
     "text": [
      "'etymologies'\n"
     ]
    },
    {
     "name": "stderr",
     "output_type": "stream",
     "text": [
      "\n",
      "\n",
      " 95%|█████████▌| 1088/1141 [2:20:23<08:47,  9.96s/it]\u001b[A\u001b[A"
     ]
    },
    {
     "name": "stdout",
     "output_type": "stream",
     "text": [
      "'etymologies'\n"
     ]
    },
    {
     "name": "stderr",
     "output_type": "stream",
     "text": [
      "\n",
      "\n",
      " 95%|█████████▌| 1089/1141 [2:20:34<08:57, 10.35s/it]\u001b[A\u001b[A"
     ]
    },
    {
     "name": "stdout",
     "output_type": "stream",
     "text": [
      "'etymologies'\n",
      "'examples'\n",
      "'etymologies'\n",
      "'examples'\n",
      "'etymologies'\n"
     ]
    },
    {
     "name": "stderr",
     "output_type": "stream",
     "text": [
      "\n",
      "\n",
      " 96%|█████████▌| 1090/1141 [2:20:51<10:24, 12.24s/it]\u001b[A\u001b[A"
     ]
    },
    {
     "name": "stdout",
     "output_type": "stream",
     "text": [
      "'etymologies'\n"
     ]
    },
    {
     "name": "stderr",
     "output_type": "stream",
     "text": [
      "\n",
      "\n",
      " 96%|█████████▌| 1091/1141 [2:20:56<08:32, 10.25s/it]\u001b[A\u001b[A\n",
      "\n",
      " 96%|█████████▌| 1092/1141 [2:21:02<07:14,  8.87s/it]\u001b[A\u001b[A\n",
      "\n",
      " 96%|█████████▌| 1093/1141 [2:21:08<06:20,  7.92s/it]\u001b[A\u001b[A"
     ]
    },
    {
     "name": "stdout",
     "output_type": "stream",
     "text": [
      "'etymologies'\n"
     ]
    },
    {
     "name": "stderr",
     "output_type": "stream",
     "text": [
      "\n",
      "\n",
      " 96%|█████████▌| 1094/1141 [2:21:19<06:57,  8.88s/it]\u001b[A\u001b[A"
     ]
    },
    {
     "name": "stdout",
     "output_type": "stream",
     "text": [
      "'etymologies'\n",
      "'examples'\n"
     ]
    },
    {
     "name": "stderr",
     "output_type": "stream",
     "text": [
      "\n",
      "\n",
      " 96%|█████████▌| 1095/1141 [2:21:30<07:21,  9.60s/it]\u001b[A\u001b[A"
     ]
    },
    {
     "name": "stdout",
     "output_type": "stream",
     "text": [
      "'examples'\n"
     ]
    },
    {
     "name": "stderr",
     "output_type": "stream",
     "text": [
      "\n",
      "\n",
      " 96%|█████████▌| 1096/1141 [2:21:36<06:17,  8.40s/it]\u001b[A\u001b[A"
     ]
    },
    {
     "name": "stdout",
     "output_type": "stream",
     "text": [
      "'examples'\n"
     ]
    },
    {
     "name": "stderr",
     "output_type": "stream",
     "text": [
      "\n",
      "\n",
      " 96%|█████████▌| 1097/1141 [2:21:47<06:46,  9.24s/it]\u001b[A\u001b[A"
     ]
    },
    {
     "name": "stdout",
     "output_type": "stream",
     "text": [
      "'examples'\n"
     ]
    },
    {
     "name": "stderr",
     "output_type": "stream",
     "text": [
      "\n",
      "\n",
      " 96%|█████████▌| 1098/1141 [2:21:52<05:49,  8.13s/it]\u001b[A\u001b[A\n",
      "\n",
      " 96%|█████████▋| 1099/1141 [2:21:58<05:08,  7.34s/it]\u001b[A\u001b[A"
     ]
    },
    {
     "name": "stdout",
     "output_type": "stream",
     "text": [
      "'etymologies'\n"
     ]
    },
    {
     "name": "stderr",
     "output_type": "stream",
     "text": [
      "\n",
      "\n",
      " 96%|█████████▋| 1100/1141 [2:22:09<05:47,  8.48s/it]\u001b[A\u001b[A"
     ]
    },
    {
     "name": "stdout",
     "output_type": "stream",
     "text": [
      "'etymologies'\n"
     ]
    },
    {
     "name": "stderr",
     "output_type": "stream",
     "text": [
      "\n",
      "\n",
      " 96%|█████████▋| 1101/1141 [2:22:15<05:06,  7.66s/it]\u001b[A\u001b[A"
     ]
    },
    {
     "name": "stdout",
     "output_type": "stream",
     "text": [
      "'results'\n",
      "'results'\n",
      "'results'\n",
      "'results'\n",
      "'results'\n",
      "'results'\n",
      "'results'\n",
      "'results'\n",
      "'results'\n"
     ]
    },
    {
     "name": "stderr",
     "output_type": "stream",
     "text": [
      "\n",
      "\n",
      " 97%|█████████▋| 1102/1141 [2:22:32<06:48, 10.48s/it]\u001b[A\u001b[A"
     ]
    },
    {
     "name": "stdout",
     "output_type": "stream",
     "text": [
      "'results'\n",
      "'results'\n",
      "'results'\n",
      "'etymologies'\n"
     ]
    },
    {
     "name": "stderr",
     "output_type": "stream",
     "text": [
      "\n",
      "\n",
      " 97%|█████████▋| 1103/1141 [2:22:43<06:46, 10.70s/it]\u001b[A\u001b[A"
     ]
    },
    {
     "name": "stdout",
     "output_type": "stream",
     "text": [
      "'etymologies'\n"
     ]
    },
    {
     "name": "stderr",
     "output_type": "stream",
     "text": [
      "\n",
      "\n",
      " 97%|█████████▋| 1104/1141 [2:22:48<05:38,  9.15s/it]\u001b[A\u001b[A"
     ]
    },
    {
     "name": "stdout",
     "output_type": "stream",
     "text": [
      "'examples'\n"
     ]
    },
    {
     "name": "stderr",
     "output_type": "stream",
     "text": [
      "\n",
      "\n",
      " 97%|█████████▋| 1105/1141 [2:23:00<05:51,  9.76s/it]\u001b[A\u001b[A"
     ]
    },
    {
     "name": "stdout",
     "output_type": "stream",
     "text": [
      "'examples'\n"
     ]
    },
    {
     "name": "stderr",
     "output_type": "stream",
     "text": [
      "\n",
      "\n",
      " 97%|█████████▋| 1106/1141 [2:23:05<04:58,  8.52s/it]\u001b[A\u001b[A"
     ]
    },
    {
     "name": "stdout",
     "output_type": "stream",
     "text": [
      "'results'\n",
      "'results'\n",
      "'results'\n",
      "'results'\n",
      "'results'\n",
      "'results'\n",
      "'results'\n",
      "'results'\n",
      "'results'\n"
     ]
    },
    {
     "name": "stderr",
     "output_type": "stream",
     "text": [
      "\n",
      "\n",
      " 97%|█████████▋| 1107/1141 [2:23:22<06:13, 10.98s/it]\u001b[A\u001b[A"
     ]
    },
    {
     "name": "stdout",
     "output_type": "stream",
     "text": [
      "'results'\n",
      "'results'\n",
      "'results'\n",
      "'definitions'\n",
      "'examples'\n"
     ]
    },
    {
     "name": "stderr",
     "output_type": "stream",
     "text": [
      "\n",
      "\n",
      " 97%|█████████▋| 1108/1141 [2:23:33<06:03, 11.02s/it]\u001b[A\u001b[A"
     ]
    },
    {
     "name": "stdout",
     "output_type": "stream",
     "text": [
      "'examples'\n"
     ]
    },
    {
     "name": "stderr",
     "output_type": "stream",
     "text": [
      "\n",
      "\n",
      " 97%|█████████▋| 1109/1141 [2:23:39<05:00,  9.39s/it]\u001b[A\u001b[A\n",
      "\n",
      " 97%|█████████▋| 1110/1141 [2:23:44<04:16,  8.27s/it]\u001b[A\u001b[A"
     ]
    },
    {
     "name": "stdout",
     "output_type": "stream",
     "text": [
      "'examples'\n"
     ]
    },
    {
     "name": "stderr",
     "output_type": "stream",
     "text": [
      "\n",
      "\n",
      " 97%|█████████▋| 1111/1141 [2:23:55<04:34,  9.15s/it]\u001b[A\u001b[A"
     ]
    },
    {
     "name": "stdout",
     "output_type": "stream",
     "text": [
      "'examples'\n"
     ]
    },
    {
     "name": "stderr",
     "output_type": "stream",
     "text": [
      "\n",
      "\n",
      " 97%|█████████▋| 1112/1141 [2:24:01<03:53,  8.06s/it]\u001b[A\u001b[A\n",
      "\n",
      " 98%|█████████▊| 1113/1141 [2:24:07<03:24,  7.31s/it]\u001b[A\u001b[A\n",
      "\n",
      " 98%|█████████▊| 1114/1141 [2:24:12<03:03,  6.80s/it]\u001b[A\u001b[A"
     ]
    },
    {
     "name": "stdout",
     "output_type": "stream",
     "text": [
      "'examples'\n",
      "'etymologies'\n",
      "'examples'\n",
      "'etymologies'\n"
     ]
    },
    {
     "name": "stderr",
     "output_type": "stream",
     "text": [
      "\n",
      "\n",
      " 98%|█████████▊| 1115/1141 [2:24:29<04:14,  9.80s/it]\u001b[A\u001b[A"
     ]
    },
    {
     "name": "stdout",
     "output_type": "stream",
     "text": [
      "'etymologies'\n"
     ]
    },
    {
     "name": "stderr",
     "output_type": "stream",
     "text": [
      "\n",
      "\n",
      " 98%|█████████▊| 1116/1141 [2:24:35<03:33,  8.53s/it]\u001b[A\u001b[A"
     ]
    },
    {
     "name": "stdout",
     "output_type": "stream",
     "text": [
      "'etymologies'\n"
     ]
    },
    {
     "name": "stderr",
     "output_type": "stream",
     "text": [
      "\n",
      "\n",
      " 98%|█████████▊| 1117/1141 [2:24:46<03:44,  9.36s/it]\u001b[A\u001b[A"
     ]
    },
    {
     "name": "stdout",
     "output_type": "stream",
     "text": [
      "'etymologies'\n"
     ]
    },
    {
     "name": "stderr",
     "output_type": "stream",
     "text": [
      "\n",
      "\n",
      " 98%|█████████▊| 1118/1141 [2:24:51<03:09,  8.23s/it]\u001b[A\u001b[A"
     ]
    },
    {
     "name": "stdout",
     "output_type": "stream",
     "text": [
      "'results'\n",
      "'results'\n",
      "'results'\n",
      "'results'\n",
      "'results'\n",
      "'results'\n",
      "'results'\n",
      "'results'\n",
      "'results'\n"
     ]
    },
    {
     "name": "stderr",
     "output_type": "stream",
     "text": [
      "\n",
      "\n",
      " 98%|█████████▊| 1119/1141 [2:25:08<03:57, 10.79s/it]\u001b[A\u001b[A"
     ]
    },
    {
     "name": "stdout",
     "output_type": "stream",
     "text": [
      "'results'\n",
      "'results'\n",
      "'results'\n"
     ]
    },
    {
     "name": "stderr",
     "output_type": "stream",
     "text": [
      "\n",
      "\n",
      " 98%|█████████▊| 1120/1141 [2:25:14<03:13,  9.21s/it]\u001b[A\u001b[A\n",
      "\n",
      " 98%|█████████▊| 1121/1141 [2:25:19<02:42,  8.11s/it]\u001b[A\u001b[A"
     ]
    },
    {
     "name": "stdout",
     "output_type": "stream",
     "text": [
      "'results'\n",
      "'results'\n",
      "'results'\n",
      "'results'\n",
      "'results'\n",
      "'results'\n",
      "'results'\n",
      "'results'\n",
      "'results'\n"
     ]
    },
    {
     "name": "stderr",
     "output_type": "stream",
     "text": [
      "\n",
      "\n",
      " 98%|█████████▊| 1122/1141 [2:25:36<03:23, 10.71s/it]\u001b[A\u001b[A"
     ]
    },
    {
     "name": "stdout",
     "output_type": "stream",
     "text": [
      "'results'\n",
      "'results'\n",
      "'results'\n",
      "'examples'\n"
     ]
    },
    {
     "name": "stderr",
     "output_type": "stream",
     "text": [
      "\n",
      "\n",
      " 98%|█████████▊| 1123/1141 [2:25:47<03:14, 10.82s/it]\u001b[A\u001b[A"
     ]
    },
    {
     "name": "stdout",
     "output_type": "stream",
     "text": [
      "'examples'\n",
      "'etymologies'\n"
     ]
    },
    {
     "name": "stderr",
     "output_type": "stream",
     "text": [
      "\n",
      "\n",
      " 99%|█████████▊| 1124/1141 [2:25:58<03:05, 10.92s/it]\u001b[A\u001b[A"
     ]
    },
    {
     "name": "stdout",
     "output_type": "stream",
     "text": [
      "'etymologies'\n",
      "'etymologies'\n"
     ]
    },
    {
     "name": "stderr",
     "output_type": "stream",
     "text": [
      "\n",
      "\n",
      " 99%|█████████▊| 1125/1141 [2:26:09<02:55, 10.96s/it]\u001b[A\u001b[A"
     ]
    },
    {
     "name": "stdout",
     "output_type": "stream",
     "text": [
      "'etymologies'\n"
     ]
    },
    {
     "name": "stderr",
     "output_type": "stream",
     "text": [
      "\n",
      "\n",
      " 99%|█████████▊| 1126/1141 [2:26:15<02:20,  9.37s/it]\u001b[A\u001b[A\n",
      "\n",
      " 99%|█████████▉| 1127/1141 [2:26:21<01:55,  8.22s/it]\u001b[A\u001b[A\n",
      "\n",
      " 99%|█████████▉| 1128/1141 [2:26:26<01:36,  7.44s/it]\u001b[A\u001b[A"
     ]
    },
    {
     "name": "stdout",
     "output_type": "stream",
     "text": [
      "'etymologies'\n"
     ]
    },
    {
     "name": "stderr",
     "output_type": "stream",
     "text": [
      "\n",
      "\n",
      " 99%|█████████▉| 1129/1141 [2:26:37<01:42,  8.57s/it]\u001b[A\u001b[A"
     ]
    },
    {
     "name": "stdout",
     "output_type": "stream",
     "text": [
      "'etymologies'\n"
     ]
    },
    {
     "name": "stderr",
     "output_type": "stream",
     "text": [
      "\n",
      "\n",
      " 99%|█████████▉| 1130/1141 [2:26:43<01:24,  7.71s/it]\u001b[A\u001b[A"
     ]
    },
    {
     "name": "stdout",
     "output_type": "stream",
     "text": [
      "'examples'\n"
     ]
    },
    {
     "name": "stderr",
     "output_type": "stream",
     "text": [
      "\n",
      "\n",
      " 99%|█████████▉| 1131/1141 [2:26:54<01:27,  8.73s/it]\u001b[A\u001b[A"
     ]
    },
    {
     "name": "stdout",
     "output_type": "stream",
     "text": [
      "'examples'\n",
      "'results'\n",
      "'results'\n",
      "'results'\n",
      "'results'\n",
      "'results'\n",
      "'results'\n",
      "'results'\n",
      "'results'\n",
      "'results'\n"
     ]
    },
    {
     "name": "stderr",
     "output_type": "stream",
     "text": [
      "\n",
      "\n",
      " 99%|█████████▉| 1132/1141 [2:27:12<01:44, 11.61s/it]\u001b[A\u001b[A"
     ]
    },
    {
     "name": "stdout",
     "output_type": "stream",
     "text": [
      "'results'\n",
      "'results'\n",
      "'results'\n"
     ]
    },
    {
     "name": "stderr",
     "output_type": "stream",
     "text": [
      "\n",
      "\n",
      " 99%|█████████▉| 1133/1141 [2:27:18<01:18,  9.80s/it]\u001b[A\u001b[A"
     ]
    },
    {
     "name": "stdout",
     "output_type": "stream",
     "text": [
      "'etymologies'\n"
     ]
    },
    {
     "name": "stderr",
     "output_type": "stream",
     "text": [
      "\n",
      "\n",
      " 99%|█████████▉| 1134/1141 [2:27:29<01:11, 10.20s/it]\u001b[A\u001b[A"
     ]
    },
    {
     "name": "stdout",
     "output_type": "stream",
     "text": [
      "'etymologies'\n",
      "'etymologies'\n"
     ]
    },
    {
     "name": "stderr",
     "output_type": "stream",
     "text": [
      "\n",
      "\n",
      " 99%|█████████▉| 1135/1141 [2:27:40<01:03, 10.50s/it]\u001b[A\u001b[A"
     ]
    },
    {
     "name": "stdout",
     "output_type": "stream",
     "text": [
      "'etymologies'\n",
      "'results'\n",
      "'results'\n",
      "'results'\n",
      "'results'\n",
      "'results'\n",
      "'results'\n",
      "'results'\n",
      "'results'\n",
      "'results'\n"
     ]
    },
    {
     "name": "stderr",
     "output_type": "stream",
     "text": [
      "\n",
      "\n",
      "100%|█████████▉| 1136/1141 [2:27:59<01:03, 12.78s/it]\u001b[A\u001b[A"
     ]
    },
    {
     "name": "stdout",
     "output_type": "stream",
     "text": [
      "'results'\n",
      "'results'\n",
      "'results'\n",
      "'etymologies'\n"
     ]
    },
    {
     "name": "stderr",
     "output_type": "stream",
     "text": [
      "\n",
      "\n",
      "100%|█████████▉| 1137/1141 [2:28:10<00:49, 12.27s/it]\u001b[A\u001b[A"
     ]
    },
    {
     "name": "stdout",
     "output_type": "stream",
     "text": [
      "'etymologies'\n"
     ]
    },
    {
     "name": "stderr",
     "output_type": "stream",
     "text": [
      "\n",
      "\n",
      "100%|█████████▉| 1138/1141 [2:28:15<00:30, 10.29s/it]\u001b[A\u001b[A\n",
      "\n",
      "100%|█████████▉| 1139/1141 [2:28:21<00:17,  8.86s/it]\u001b[A\u001b[A\n",
      "\n",
      "100%|█████████▉| 1140/1141 [2:28:26<00:07,  7.88s/it]\u001b[A\u001b[A\n",
      "\n",
      "100%|██████████| 1141/1141 [2:28:32<00:00,  7.81s/it]\u001b[A\u001b[A\n"
     ]
    }
   ],
   "source": [
    "for index in tqdm(df.index):\n",
    "    word_id=df.loc[index,'Word']\n",
    "    word_id=word_id.strip(' ')\n",
    "    word_id=word_id.lower()\n",
    "    if df.loc[index,'Meaning in Japanese']=='':\n",
    "        df.loc[index,'Meaning in Japanese']=weblio_crawler(word_id)\n",
    "    if df.loc[index,'Meaning in English']=='':\n",
    "        info=Oxford_caller(word_id)\n",
    "        df.loc[index,'Meaning in English']=Oxford_info_processor(info,'meaning')\n",
    "        #print(Oxford_info_processor(info,'meaning'))\n",
    "        if df.loc[index,'Example']=='':\n",
    "            df.loc[index,'Example']=Oxford_info_processor(info,'example')\n",
    "        if df.loc[index,'Origin']=='':\n",
    "            df.loc[index,'Origin']=Oxford_info_processor(info,'origin')\n",
    "            df.loc[index,'phonic']=Oxford_info_processor(info,'phonic')\n",
    "            #print(Oxford_info_processor(info,'phonic'))\n",
    "            df.loc[index,'mp3']=Oxford_info_processor(info,'mp3')\n",
    "    if df.loc[index,'Example']=='':\n",
    "        info=Oxford_caller(word_id)\n",
    "        df.loc[index,'Example']=Oxford_info_processor(info,'example')\n",
    "        if df.loc[index,'Origin']=='':\n",
    "            df.loc[index,'Origin']=Oxford_info_processor(info,'origin')\n",
    "            df.loc[index,'phonic']=Oxford_info_processor(info,'phonic')\n",
    "            df.loc[index,'mp3']=Oxford_info_processor(info,'mp3')\n",
    "    if df.loc[index,'Origin']=='':\n",
    "        info=Oxford_caller(word_id)\n",
    "        df.loc[index,'Origin']=Oxford_info_processor(info,'origin')\n",
    "        df.loc[index,'phonic']=Oxford_info_processor(info,'phonic')\n",
    "        df.loc[index,'mp3']=Oxford_info_processor(info,'mp3')\n",
    "    \n",
    "        "
   ]
  },
  {
   "cell_type": "code",
   "execution_count": 35,
   "metadata": {},
   "outputs": [],
   "source": [
    "spread.df_to_sheet(df, index=True, sheet='result', start='A1', replace=True)"
   ]
  },
  {
   "cell_type": "code",
   "execution_count": 36,
   "metadata": {},
   "outputs": [
    {
     "data": {
      "text/html": [
       "<div>\n",
       "<style scoped>\n",
       "    .dataframe tbody tr th:only-of-type {\n",
       "        vertical-align: middle;\n",
       "    }\n",
       "\n",
       "    .dataframe tbody tr th {\n",
       "        vertical-align: top;\n",
       "    }\n",
       "\n",
       "    .dataframe thead th {\n",
       "        text-align: right;\n",
       "    }\n",
       "</style>\n",
       "<table border=\"1\" class=\"dataframe\">\n",
       "  <thead>\n",
       "    <tr style=\"text-align: right;\">\n",
       "      <th></th>\n",
       "      <th>Word</th>\n",
       "      <th>Importance</th>\n",
       "      <th>Meaning in Japanese</th>\n",
       "      <th>Meaning in English</th>\n",
       "      <th>Example</th>\n",
       "      <th>Origin</th>\n",
       "      <th>phonic</th>\n",
       "      <th>mp3</th>\n",
       "    </tr>\n",
       "    <tr>\n",
       "      <th>order</th>\n",
       "      <th></th>\n",
       "      <th></th>\n",
       "      <th></th>\n",
       "      <th></th>\n",
       "      <th></th>\n",
       "      <th></th>\n",
       "      <th></th>\n",
       "      <th></th>\n",
       "    </tr>\n",
       "  </thead>\n",
       "  <tbody>\n",
       "    <tr>\n",
       "      <td>1</td>\n",
       "      <td>retaliate</td>\n",
       "      <td>3</td>\n",
       "      <td>仕返しする</td>\n",
       "      <td>1: make an attack in return for a similar atta...</td>\n",
       "      <td>1: the blow stung and she retaliated immediate...</td>\n",
       "      <td>early 17th century: from Latin retaliat-‘retur...</td>\n",
       "      <td>rɪˈtalɪeɪt</td>\n",
       "      <td>http://audio.oxforddictionaries.com/en/mp3/ret...</td>\n",
       "    </tr>\n",
       "    <tr>\n",
       "      <td>2</td>\n",
       "      <td>detain</td>\n",
       "      <td>3</td>\n",
       "      <td>拘束する</td>\n",
       "      <td>keep (someone) from proceeding by holding them...</td>\n",
       "      <td>1: she made to open the door, but he detained ...</td>\n",
       "      <td>late Middle English (in the sense ‘be afflicte...</td>\n",
       "      <td>dɪˈteɪn</td>\n",
       "      <td>http://audio.oxforddictionaries.com/en/mp3/det...</td>\n",
       "    </tr>\n",
       "    <tr>\n",
       "      <td>3</td>\n",
       "      <td>resilient</td>\n",
       "      <td>3</td>\n",
       "      <td>はね返る、弾力のある、たちまち元気を回復する、快活な、溌刺(はつらつ)とした</td>\n",
       "      <td>(of a person or animal) able to withstand or r...</td>\n",
       "      <td>1: babies are generally far more resilient tha...</td>\n",
       "      <td>mid 17th century: from Latin resilient-‘leapin...</td>\n",
       "      <td>rɪˈzɪlɪənt</td>\n",
       "      <td>http://audio.oxforddictionaries.com/en/mp3/res...</td>\n",
       "    </tr>\n",
       "    <tr>\n",
       "      <td>4</td>\n",
       "      <td>lineage</td>\n",
       "      <td>4</td>\n",
       "      <td>血統、系統、家柄</td>\n",
       "      <td>direct descent from an ancestor; ancestry or p...</td>\n",
       "      <td>1: a Dutch nobleman of ancient lineage  2: the...</td>\n",
       "      <td>Middle English: from Old French lignage, from ...</td>\n",
       "      <td>ˈlɪnɪɪdʒ</td>\n",
       "      <td>http://audio.oxforddictionaries.com/en/mp3/lin...</td>\n",
       "    </tr>\n",
       "    <tr>\n",
       "      <td>5</td>\n",
       "      <td>migration</td>\n",
       "      <td>1</td>\n",
       "      <td>移住、転住、渡り、移住者群、移動する動物の群</td>\n",
       "      <td>1: seasonal movement of animals from one regio...</td>\n",
       "      <td>1: this butterfly's annual migration across No...</td>\n",
       "      <td></td>\n",
       "      <td>mʌɪˈɡreɪʃ(ə)n</td>\n",
       "      <td>http://audio.oxforddictionaries.com/en/mp3/mig...</td>\n",
       "    </tr>\n",
       "    <tr>\n",
       "      <td>...</td>\n",
       "      <td>...</td>\n",
       "      <td>...</td>\n",
       "      <td>...</td>\n",
       "      <td>...</td>\n",
       "      <td>...</td>\n",
       "      <td>...</td>\n",
       "      <td>...</td>\n",
       "      <td>...</td>\n",
       "    </tr>\n",
       "    <tr>\n",
       "      <td>1148</td>\n",
       "      <td>thorny</td>\n",
       "      <td></td>\n",
       "      <td>とげの多い、とげのような、困難な、苦しい</td>\n",
       "      <td>1: having many thorns or thorn bushes \\r\\n2: c...</td>\n",
       "      <td>1: tangled thorny branches \\r\\n2: a thorny pro...</td>\n",
       "      <td></td>\n",
       "      <td>ˈθɔːni</td>\n",
       "      <td>http://audio.oxforddictionaries.com/en/mp3/tho...</td>\n",
       "    </tr>\n",
       "    <tr>\n",
       "      <td>1149</td>\n",
       "      <td>fold</td>\n",
       "      <td></td>\n",
       "      <td>折る、折り重ねる、折りたたむ、折り曲げる、折り返す、収める、組む、組み合わせる、(…に)巻き...</td>\n",
       "      <td>1: bend (something flexible and relatively fla...</td>\n",
       "      <td>1: Sam folded up the map \\r\\n2: a bag was fold...</td>\n",
       "      <td>Old English falden, fealden, of Germanic origi...</td>\n",
       "      <td>fəʊld</td>\n",
       "      <td>http://audio.oxforddictionaries.com/en/mp3/fol...</td>\n",
       "    </tr>\n",
       "    <tr>\n",
       "      <td>1150</td>\n",
       "      <td>ambush</td>\n",
       "      <td></td>\n",
       "      <td>待ち伏せ、待ち伏せ攻撃、待ち伏せ場所、伏兵、伏せ勢</td>\n",
       "      <td>1: a surprise attack by people lying in wait i...</td>\n",
       "      <td>1: seven members of a patrol were killed in an...</td>\n",
       "      <td>Middle English (in the sense ‘place troops in ...</td>\n",
       "      <td>ˈambʊʃ</td>\n",
       "      <td>http://audio.oxforddictionaries.com/en/mp3/amb...</td>\n",
       "    </tr>\n",
       "    <tr>\n",
       "      <td>1151</td>\n",
       "      <td>perceive</td>\n",
       "      <td></td>\n",
       "      <td>(…を)知覚する、認める、(…に)気づく、(…が)気がつく、(…を)理解する、了解する、看取...</td>\n",
       "      <td>1: become aware or conscious of (something); c...</td>\n",
       "      <td>1: his mouth fell open as he perceived the tru...</td>\n",
       "      <td>Middle English: from a variant of Old French p...</td>\n",
       "      <td>pəˈsiːv</td>\n",
       "      <td>http://audio.oxforddictionaries.com/en/mp3/per...</td>\n",
       "    </tr>\n",
       "    <tr>\n",
       "      <td>1152</td>\n",
       "      <td>devastate</td>\n",
       "      <td></td>\n",
       "      <td>荒らす、荒廃させる、途方に暮れさせる、困惑させる、驚かす</td>\n",
       "      <td>1: destroy or ruin \\r\\n2: cause (someone) seve...</td>\n",
       "      <td>1: the city was devastated by a huge earthquak...</td>\n",
       "      <td>mid 17th century: from Latin devastat-‘laid wa...</td>\n",
       "      <td>ˈdɛvəsteɪt</td>\n",
       "      <td>http://audio.oxforddictionaries.com/en/mp3/dev...</td>\n",
       "    </tr>\n",
       "  </tbody>\n",
       "</table>\n",
       "<p>1141 rows × 8 columns</p>\n",
       "</div>"
      ],
      "text/plain": [
       "             Word Importance  \\\n",
       "order                          \n",
       "1       retaliate          3   \n",
       "2          detain          3   \n",
       "3       resilient          3   \n",
       "4         lineage          4   \n",
       "5       migration          1   \n",
       "...           ...        ...   \n",
       "1148       thorny              \n",
       "1149         fold              \n",
       "1150       ambush              \n",
       "1151     perceive              \n",
       "1152   devastate               \n",
       "\n",
       "                                     Meaning in Japanese  \\\n",
       "order                                                      \n",
       "1                                                  仕返しする   \n",
       "2                                                   拘束する   \n",
       "3                 はね返る、弾力のある、たちまち元気を回復する、快活な、溌刺(はつらつ)とした   \n",
       "4                                               血統、系統、家柄   \n",
       "5                                 移住、転住、渡り、移住者群、移動する動物の群   \n",
       "...                                                  ...   \n",
       "1148                                とげの多い、とげのような、困難な、苦しい   \n",
       "1149   折る、折り重ねる、折りたたむ、折り曲げる、折り返す、収める、組む、組み合わせる、(…に)巻き...   \n",
       "1150                           待ち伏せ、待ち伏せ攻撃、待ち伏せ場所、伏兵、伏せ勢   \n",
       "1151   (…を)知覚する、認める、(…に)気づく、(…が)気がつく、(…を)理解する、了解する、看取...   \n",
       "1152                        荒らす、荒廃させる、途方に暮れさせる、困惑させる、驚かす   \n",
       "\n",
       "                                      Meaning in English  \\\n",
       "order                                                      \n",
       "1      1: make an attack in return for a similar atta...   \n",
       "2      keep (someone) from proceeding by holding them...   \n",
       "3      (of a person or animal) able to withstand or r...   \n",
       "4      direct descent from an ancestor; ancestry or p...   \n",
       "5      1: seasonal movement of animals from one regio...   \n",
       "...                                                  ...   \n",
       "1148   1: having many thorns or thorn bushes \\r\\n2: c...   \n",
       "1149   1: bend (something flexible and relatively fla...   \n",
       "1150   1: a surprise attack by people lying in wait i...   \n",
       "1151   1: become aware or conscious of (something); c...   \n",
       "1152   1: destroy or ruin \\r\\n2: cause (someone) seve...   \n",
       "\n",
       "                                                 Example  \\\n",
       "order                                                      \n",
       "1      1: the blow stung and she retaliated immediate...   \n",
       "2      1: she made to open the door, but he detained ...   \n",
       "3      1: babies are generally far more resilient tha...   \n",
       "4      1: a Dutch nobleman of ancient lineage  2: the...   \n",
       "5      1: this butterfly's annual migration across No...   \n",
       "...                                                  ...   \n",
       "1148   1: tangled thorny branches \\r\\n2: a thorny pro...   \n",
       "1149   1: Sam folded up the map \\r\\n2: a bag was fold...   \n",
       "1150   1: seven members of a patrol were killed in an...   \n",
       "1151   1: his mouth fell open as he perceived the tru...   \n",
       "1152   1: the city was devastated by a huge earthquak...   \n",
       "\n",
       "                                                  Origin         phonic  \\\n",
       "order                                                                     \n",
       "1      early 17th century: from Latin retaliat-‘retur...     rɪˈtalɪeɪt   \n",
       "2      late Middle English (in the sense ‘be afflicte...        dɪˈteɪn   \n",
       "3      mid 17th century: from Latin resilient-‘leapin...     rɪˈzɪlɪənt   \n",
       "4      Middle English: from Old French lignage, from ...       ˈlɪnɪɪdʒ   \n",
       "5                                                         mʌɪˈɡreɪʃ(ə)n   \n",
       "...                                                  ...            ...   \n",
       "1148                                                             ˈθɔːni   \n",
       "1149   Old English falden, fealden, of Germanic origi...          fəʊld   \n",
       "1150   Middle English (in the sense ‘place troops in ...         ˈambʊʃ   \n",
       "1151   Middle English: from a variant of Old French p...        pəˈsiːv   \n",
       "1152   mid 17th century: from Latin devastat-‘laid wa...     ˈdɛvəsteɪt   \n",
       "\n",
       "                                                     mp3  \n",
       "order                                                     \n",
       "1      http://audio.oxforddictionaries.com/en/mp3/ret...  \n",
       "2      http://audio.oxforddictionaries.com/en/mp3/det...  \n",
       "3      http://audio.oxforddictionaries.com/en/mp3/res...  \n",
       "4      http://audio.oxforddictionaries.com/en/mp3/lin...  \n",
       "5      http://audio.oxforddictionaries.com/en/mp3/mig...  \n",
       "...                                                  ...  \n",
       "1148   http://audio.oxforddictionaries.com/en/mp3/tho...  \n",
       "1149   http://audio.oxforddictionaries.com/en/mp3/fol...  \n",
       "1150   http://audio.oxforddictionaries.com/en/mp3/amb...  \n",
       "1151   http://audio.oxforddictionaries.com/en/mp3/per...  \n",
       "1152   http://audio.oxforddictionaries.com/en/mp3/dev...  \n",
       "\n",
       "[1141 rows x 8 columns]"
      ]
     },
     "execution_count": 36,
     "metadata": {},
     "output_type": "execute_result"
    }
   ],
   "source": [
    "df"
   ]
  },
  {
   "cell_type": "code",
   "execution_count": null,
   "metadata": {},
   "outputs": [],
   "source": []
  }
 ],
 "metadata": {
  "kernelspec": {
   "display_name": "Python 3",
   "language": "python",
   "name": "python3"
  },
  "language_info": {
   "codemirror_mode": {
    "name": "ipython",
    "version": 3
   },
   "file_extension": ".py",
   "mimetype": "text/x-python",
   "name": "python",
   "nbconvert_exporter": "python",
   "pygments_lexer": "ipython3",
   "version": "3.5.3"
  }
 },
 "nbformat": 4,
 "nbformat_minor": 2
}
