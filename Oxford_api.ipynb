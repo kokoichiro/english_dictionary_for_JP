{
 "cells": [
  {
   "cell_type": "code",
   "execution_count": 29,
   "metadata": {},
   "outputs": [],
   "source": [
    "import  requests\n",
    "import json\n",
    "import yaml"
   ]
  },
  {
   "cell_type": "code",
   "execution_count": 31,
   "metadata": {},
   "outputs": [],
   "source": [
    "with open('./credential/learning_english.yaml','r') as ymlfile:\n",
    "    cfg = yaml.load(ymlfile,Loader=yaml.BaseLoader)"
   ]
  },
  {
   "cell_type": "code",
   "execution_count": 33,
   "metadata": {},
   "outputs": [],
   "source": [
    "app_id = cfg['OxfordAPI']['app_id']\n",
    "app_key = cfg['OxfordAPI']['app_key']\n",
    "language = 'en'"
   ]
  },
  {
   "cell_type": "code",
   "execution_count": 34,
   "metadata": {},
   "outputs": [],
   "source": [
    "# TODO: replace with your own app_id and app_key\n",
    "\n",
    "word_id = 'flop'\n",
    "url = 'https://od-api.oxforddictionaries.com:443/api/v2/entries/'  + language + '/'  + word_id.lower()\n",
    "#url Normalized frequency\n",
    "urlFR = 'https://od-api.oxforddictionaries.com:443/api/v2/stats/frequency/word/'  + language + '/?corpus=nmc&lemma=' + word_id.lower()\n",
    "r = requests.get(url, headers = {'app_id' : app_id, 'app_key' : app_key})\n",
    "#print(\"code {}\\n\".format(r.status_code))\n",
    "#print(\"text \\n\" + r.text)\n",
    "#print(\"json \\n\" + json.dumps(r.json()))"
   ]
  },
  {
   "cell_type": "code",
   "execution_count": 21,
   "metadata": {},
   "outputs": [
    {
     "data": {
      "text/plain": [
       "[{'id': 'flop',\n",
       "  'language': 'en-gb',\n",
       "  'lexicalEntries': [{'entries': [{'etymologies': ['early 17th century: variant of flap'],\n",
       "      'grammaticalFeatures': [{'id': 'intransitive',\n",
       "        'text': 'Intransitive',\n",
       "        'type': 'Subcategorization'}],\n",
       "      'senses': [{'definitions': ['fall, move, or hang in a loose and ungainly way'],\n",
       "        'examples': [{'text': 'his blond hair flopped over his eyes'}],\n",
       "        'id': 'm_en_gbus0373070.009',\n",
       "        'notes': [{'text': 'with adverbial', 'type': 'grammaticalNote'}],\n",
       "        'shortDefinitions': ['fall, hang, etc. in loose or ungainly way'],\n",
       "        'subsenses': [{'definitions': ['sit or lie down heavily and suddenly, especially when very tired'],\n",
       "          'examples': [{'text': 'Liz flopped down into the armchair'}],\n",
       "          'id': 'm_en_gbus0373070.015',\n",
       "          'shortDefinitions': ['sit or lie down heavily and suddenly'],\n",
       "          'thesaurusLinks': [{'entry_id': 'flop',\n",
       "            'sense_id': 't_en_gb0005800.001'}]},\n",
       "         {'definitions': ['rest or sleep in a specified place'],\n",
       "          'examples': [{'text': \"I'm going to flop here for the night\"}],\n",
       "          'id': 'm_en_gbus0373070.016',\n",
       "          'registers': [{'id': 'informal', 'text': 'Informal'}],\n",
       "          'shortDefinitions': ['rest or sleep somewhere']},\n",
       "         {'definitions': ['deliberately fall or stumble in order to give the appearance of being fouled by an opponent'],\n",
       "          'domains': [{'id': 'basketball', 'text': 'Basketball'}],\n",
       "          'examples': [{'text': 'nearly everyone watching the game in Chicago believed James flopped'}],\n",
       "          'id': 'm_en_gbus0373070.017',\n",
       "          'registers': [{'id': 'informal', 'text': 'Informal'}],\n",
       "          'shortDefinitions': ['deliberately fall to give appearance of being fouled']}],\n",
       "        'thesaurusLinks': [{'entry_id': 'flop',\n",
       "          'sense_id': 't_en_gb0005800.002'}]},\n",
       "       {'definitions': ['(of a performer or show) be completely unsuccessful; fail totally'],\n",
       "        'examples': [{'text': 'the show flopped in London'}],\n",
       "        'id': 'm_en_gbus0373070.019',\n",
       "        'registers': [{'id': 'informal', 'text': 'Informal'}],\n",
       "        'shortDefinitions': ['fail totally'],\n",
       "        'thesaurusLinks': [{'entry_id': 'flop',\n",
       "          'sense_id': 't_en_gb0005800.003'}]}]}],\n",
       "    'language': 'en-gb',\n",
       "    'lexicalCategory': {'id': 'verb', 'text': 'Verb'},\n",
       "    'pronunciations': [{'audioFile': 'http://audio.oxforddictionaries.com/en/mp3/flop_gb_1.mp3',\n",
       "      'dialects': ['British English'],\n",
       "      'phoneticNotation': 'IPA',\n",
       "      'phoneticSpelling': 'flɒp'}],\n",
       "    'text': 'flop'},\n",
       "   {'entries': [{'senses': [{'definitions': ['a heavy, loose, and ungainly movement, or a sound made by it'],\n",
       "        'examples': [{'text': 'they hit the ground with a flop'}],\n",
       "        'id': 'm_en_gbus0373070.024',\n",
       "        'shortDefinitions': ['heavy or ungainly movement']},\n",
       "       {'definitions': ['a total failure'],\n",
       "        'examples': [{'text': 'the play had been a flop'}],\n",
       "        'id': 'm_en_gbus0373070.028',\n",
       "        'registers': [{'id': 'informal', 'text': 'Informal'}],\n",
       "        'shortDefinitions': ['total failure'],\n",
       "        'thesaurusLinks': [{'entry_id': 'flop',\n",
       "          'sense_id': 't_en_gb0005800.004'}]},\n",
       "       {'definitions': ['a cheap place to sleep.'],\n",
       "        'id': 'm_en_gbus0373070.030',\n",
       "        'regions': [{'id': 'us', 'text': 'Us'}],\n",
       "        'registers': [{'id': 'informal', 'text': 'Informal'}],\n",
       "        'shortDefinitions': ['cheap place to sleep']}]}],\n",
       "    'language': 'en-gb',\n",
       "    'lexicalCategory': {'id': 'noun', 'text': 'Noun'},\n",
       "    'pronunciations': [{'audioFile': 'http://audio.oxforddictionaries.com/en/mp3/flop_gb_1.mp3',\n",
       "      'dialects': ['British English'],\n",
       "      'phoneticNotation': 'IPA',\n",
       "      'phoneticSpelling': 'flɒp'}],\n",
       "    'text': 'flop'}],\n",
       "  'type': 'headword',\n",
       "  'word': 'flop'}]"
      ]
     },
     "execution_count": 21,
     "metadata": {},
     "output_type": "execute_result"
    }
   ],
   "source": [
    "info=r.json()\n",
    "info[\"results\"]"
   ]
  },
  {
   "cell_type": "code",
   "execution_count": 22,
   "metadata": {},
   "outputs": [
    {
     "data": {
      "text/plain": [
       "'early 17th century: variant of flap'"
      ]
     },
     "execution_count": 22,
     "metadata": {},
     "output_type": "execute_result"
    }
   ],
   "source": [
    "info[\"results\"][0]['lexicalEntries'][0]['entries'][0]['etymologies'][0]"
   ]
  },
  {
   "cell_type": "code",
   "execution_count": 23,
   "metadata": {},
   "outputs": [
    {
     "data": {
      "text/plain": [
       "{'entries': [{'etymologies': ['early 17th century: variant of flap'],\n",
       "   'grammaticalFeatures': [{'id': 'intransitive',\n",
       "     'text': 'Intransitive',\n",
       "     'type': 'Subcategorization'}],\n",
       "   'senses': [{'definitions': ['fall, move, or hang in a loose and ungainly way'],\n",
       "     'examples': [{'text': 'his blond hair flopped over his eyes'}],\n",
       "     'id': 'm_en_gbus0373070.009',\n",
       "     'notes': [{'text': 'with adverbial', 'type': 'grammaticalNote'}],\n",
       "     'shortDefinitions': ['fall, hang, etc. in loose or ungainly way'],\n",
       "     'subsenses': [{'definitions': ['sit or lie down heavily and suddenly, especially when very tired'],\n",
       "       'examples': [{'text': 'Liz flopped down into the armchair'}],\n",
       "       'id': 'm_en_gbus0373070.015',\n",
       "       'shortDefinitions': ['sit or lie down heavily and suddenly'],\n",
       "       'thesaurusLinks': [{'entry_id': 'flop',\n",
       "         'sense_id': 't_en_gb0005800.001'}]},\n",
       "      {'definitions': ['rest or sleep in a specified place'],\n",
       "       'examples': [{'text': \"I'm going to flop here for the night\"}],\n",
       "       'id': 'm_en_gbus0373070.016',\n",
       "       'registers': [{'id': 'informal', 'text': 'Informal'}],\n",
       "       'shortDefinitions': ['rest or sleep somewhere']},\n",
       "      {'definitions': ['deliberately fall or stumble in order to give the appearance of being fouled by an opponent'],\n",
       "       'domains': [{'id': 'basketball', 'text': 'Basketball'}],\n",
       "       'examples': [{'text': 'nearly everyone watching the game in Chicago believed James flopped'}],\n",
       "       'id': 'm_en_gbus0373070.017',\n",
       "       'registers': [{'id': 'informal', 'text': 'Informal'}],\n",
       "       'shortDefinitions': ['deliberately fall to give appearance of being fouled']}],\n",
       "     'thesaurusLinks': [{'entry_id': 'flop',\n",
       "       'sense_id': 't_en_gb0005800.002'}]},\n",
       "    {'definitions': ['(of a performer or show) be completely unsuccessful; fail totally'],\n",
       "     'examples': [{'text': 'the show flopped in London'}],\n",
       "     'id': 'm_en_gbus0373070.019',\n",
       "     'registers': [{'id': 'informal', 'text': 'Informal'}],\n",
       "     'shortDefinitions': ['fail totally'],\n",
       "     'thesaurusLinks': [{'entry_id': 'flop',\n",
       "       'sense_id': 't_en_gb0005800.003'}]}]}],\n",
       " 'language': 'en-gb',\n",
       " 'lexicalCategory': {'id': 'verb', 'text': 'Verb'},\n",
       " 'pronunciations': [{'audioFile': 'http://audio.oxforddictionaries.com/en/mp3/flop_gb_1.mp3',\n",
       "   'dialects': ['British English'],\n",
       "   'phoneticNotation': 'IPA',\n",
       "   'phoneticSpelling': 'flɒp'}],\n",
       " 'text': 'flop'}"
      ]
     },
     "execution_count": 23,
     "metadata": {},
     "output_type": "execute_result"
    }
   ],
   "source": [
    "info[\"results\"][0]['lexicalEntries'][0]"
   ]
  },
  {
   "cell_type": "code",
   "execution_count": 24,
   "metadata": {},
   "outputs": [
    {
     "data": {
      "text/plain": [
       "'flɒp'"
      ]
     },
     "execution_count": 24,
     "metadata": {},
     "output_type": "execute_result"
    }
   ],
   "source": [
    "info[\"results\"][0]['lexicalEntries'][0][\"pronunciations\"][0][\"audioFile\"]\n",
    "info[\"results\"][0]['lexicalEntries'][0][\"pronunciations\"][0][\"phoneticSpelling\"]"
   ]
  },
  {
   "cell_type": "code",
   "execution_count": 25,
   "metadata": {},
   "outputs": [
    {
     "data": {
      "text/plain": [
       "[{'audioFile': 'http://audio.oxforddictionaries.com/en/mp3/flop_gb_1.mp3',\n",
       "  'dialects': ['British English'],\n",
       "  'phoneticNotation': 'IPA',\n",
       "  'phoneticSpelling': 'flɒp'}]"
      ]
     },
     "execution_count": 25,
     "metadata": {},
     "output_type": "execute_result"
    }
   ],
   "source": [
    "info[\"results\"][0]['lexicalEntries'][0][\"pronunciations\"]"
   ]
  },
  {
   "cell_type": "code",
   "execution_count": 26,
   "metadata": {},
   "outputs": [
    {
     "data": {
      "text/plain": [
       "{'definitions': ['fall, move, or hang in a loose and ungainly way'],\n",
       " 'examples': [{'text': 'his blond hair flopped over his eyes'}],\n",
       " 'id': 'm_en_gbus0373070.009',\n",
       " 'notes': [{'text': 'with adverbial', 'type': 'grammaticalNote'}],\n",
       " 'shortDefinitions': ['fall, hang, etc. in loose or ungainly way'],\n",
       " 'subsenses': [{'definitions': ['sit or lie down heavily and suddenly, especially when very tired'],\n",
       "   'examples': [{'text': 'Liz flopped down into the armchair'}],\n",
       "   'id': 'm_en_gbus0373070.015',\n",
       "   'shortDefinitions': ['sit or lie down heavily and suddenly'],\n",
       "   'thesaurusLinks': [{'entry_id': 'flop', 'sense_id': 't_en_gb0005800.001'}]},\n",
       "  {'definitions': ['rest or sleep in a specified place'],\n",
       "   'examples': [{'text': \"I'm going to flop here for the night\"}],\n",
       "   'id': 'm_en_gbus0373070.016',\n",
       "   'registers': [{'id': 'informal', 'text': 'Informal'}],\n",
       "   'shortDefinitions': ['rest or sleep somewhere']},\n",
       "  {'definitions': ['deliberately fall or stumble in order to give the appearance of being fouled by an opponent'],\n",
       "   'domains': [{'id': 'basketball', 'text': 'Basketball'}],\n",
       "   'examples': [{'text': 'nearly everyone watching the game in Chicago believed James flopped'}],\n",
       "   'id': 'm_en_gbus0373070.017',\n",
       "   'registers': [{'id': 'informal', 'text': 'Informal'}],\n",
       "   'shortDefinitions': ['deliberately fall to give appearance of being fouled']}],\n",
       " 'thesaurusLinks': [{'entry_id': 'flop', 'sense_id': 't_en_gb0005800.002'}]}"
      ]
     },
     "execution_count": 26,
     "metadata": {},
     "output_type": "execute_result"
    }
   ],
   "source": [
    "info[\"results\"][0]['lexicalEntries'][0][\"entries\"][0][\"senses\"][0]"
   ]
  },
  {
   "cell_type": "code",
   "execution_count": 27,
   "metadata": {},
   "outputs": [
    {
     "name": "stdout",
     "output_type": "stream",
     "text": [
      "1: fall, move, or hang in a loose and ungainly way\n",
      "2: (of a performer or show) be completely unsuccessful; fail totally\n"
     ]
    }
   ],
   "source": [
    "x=1\n",
    "for i in info[\"results\"][0]['lexicalEntries'][0][\"entries\"][0][\"senses\"]:\n",
    "    print(str(x)+': '+str(i[\"definitions\"][0]))\n",
    "    x+=1\n",
    "    "
   ]
  },
  {
   "cell_type": "code",
   "execution_count": 28,
   "metadata": {},
   "outputs": [
    {
     "data": {
      "text/plain": [
       "'fall, move, or hang in a loose and ungainly way'"
      ]
     },
     "execution_count": 28,
     "metadata": {},
     "output_type": "execute_result"
    }
   ],
   "source": [
    "info[\"results\"][0]['lexicalEntries'][0][\"entries\"][0][\"senses\"][0][\"definitions\"][0]"
   ]
  },
  {
   "cell_type": "code",
   "execution_count": 17,
   "metadata": {},
   "outputs": [
    {
     "data": {
      "text/plain": [
       "'she gave him presents and clothes'"
      ]
     },
     "execution_count": 17,
     "metadata": {},
     "output_type": "execute_result"
    }
   ],
   "source": [
    "info[\"results\"][0]['lexicalEntries'][0][\"entries\"][0][\"senses\"][0][\"examples\"][0][\"text\"]"
   ]
  },
  {
   "cell_type": "code",
   "execution_count": null,
   "metadata": {},
   "outputs": [],
   "source": []
  }
 ],
 "metadata": {
  "kernelspec": {
   "display_name": "Python 3",
   "language": "python",
   "name": "python3"
  },
  "language_info": {
   "codemirror_mode": {
    "name": "ipython",
    "version": 3
   },
   "file_extension": ".py",
   "mimetype": "text/x-python",
   "name": "python",
   "nbconvert_exporter": "python",
   "pygments_lexer": "ipython3",
   "version": "3.5.3"
  }
 },
 "nbformat": 4,
 "nbformat_minor": 2
}
