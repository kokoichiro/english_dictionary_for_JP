{
 "cells": [
  {
   "cell_type": "code",
   "execution_count": 1,
   "metadata": {},
   "outputs": [],
   "source": [
    "from __future__ import print_function\n",
    "import pandas as pd\n",
    "import gspread_pandas\n",
    "from oauth2client.service_account import ServiceAccountCredentials\n",
    "import requests\n",
    "from bs4 import BeautifulSoup\n",
    "from urllib.request import urlopen\n",
    "import json\n",
    "from tqdm import tqdm\n",
    "from time import sleep\n",
    "import yaml"
   ]
  },
  {
   "cell_type": "code",
   "execution_count": 2,
   "metadata": {},
   "outputs": [],
   "source": [
    "config=gspread_pandas.conf.get_config(conf_dir='/home/dev-cory/learning_english/credential/',file_name='client_secret_english_crawl.json')\n",
    "#gspread_pandas.conf.get_config\n",
    "gspread_pandas.conf.get_config\n",
    "with open('./credential/learning_english.yaml','r') as ymlfile:\n",
    "    cfg = yaml.load(ymlfile,Loader=yaml.BaseLoader)\n",
    "app_id = cfg['OxfordAPI']['app_id']\n",
    "app_key = cfg['OxfordAPI']['app_key']\n",
    "language = 'en'"
   ]
  },
  {
   "cell_type": "code",
   "execution_count": 3,
   "metadata": {},
   "outputs": [],
   "source": [
    "spread = gspread_pandas.Spread('Oxford vocabulary',config=config)"
   ]
  },
  {
   "cell_type": "code",
   "execution_count": 4,
   "metadata": {},
   "outputs": [],
   "source": [
    "df=spread.sheet_to_df(sheet='vocab')"
   ]
  },
  {
   "cell_type": "code",
   "execution_count": 5,
   "metadata": {},
   "outputs": [
    {
     "data": {
      "text/html": [
       "<div>\n",
       "<style scoped>\n",
       "    .dataframe tbody tr th:only-of-type {\n",
       "        vertical-align: middle;\n",
       "    }\n",
       "\n",
       "    .dataframe tbody tr th {\n",
       "        vertical-align: top;\n",
       "    }\n",
       "\n",
       "    .dataframe thead th {\n",
       "        text-align: right;\n",
       "    }\n",
       "</style>\n",
       "<table border=\"1\" class=\"dataframe\">\n",
       "  <thead>\n",
       "    <tr style=\"text-align: right;\">\n",
       "      <th></th>\n",
       "      <th>Word</th>\n",
       "      <th>Importance</th>\n",
       "      <th>Meaning in Japanese</th>\n",
       "      <th>Meaning in English</th>\n",
       "      <th>Example</th>\n",
       "      <th>Origin</th>\n",
       "      <th>phonic</th>\n",
       "      <th>mp3</th>\n",
       "    </tr>\n",
       "    <tr>\n",
       "      <th>ru</th>\n",
       "      <th></th>\n",
       "      <th></th>\n",
       "      <th></th>\n",
       "      <th></th>\n",
       "      <th></th>\n",
       "      <th></th>\n",
       "      <th></th>\n",
       "      <th></th>\n",
       "    </tr>\n",
       "  </thead>\n",
       "  <tbody>\n",
       "    <tr>\n",
       "      <td>1</td>\n",
       "      <td>retaliate</td>\n",
       "      <td>☆</td>\n",
       "      <td>仕返しする</td>\n",
       "      <td>1: make an attack in return for a similar atta...</td>\n",
       "      <td>It is still unclear who started the violence b...</td>\n",
       "      <td>early 17th century: from Latin retaliat-‘retur...</td>\n",
       "      <td>rɪˈtalɪeɪt</td>\n",
       "      <td>http://audio.oxforddictionaries.com/en/mp3/ret...</td>\n",
       "    </tr>\n",
       "    <tr>\n",
       "      <td>2</td>\n",
       "      <td>detain</td>\n",
       "      <td>3</td>\n",
       "      <td>拘束する</td>\n",
       "      <td>keep (someone) from proceeding by holding them...</td>\n",
       "      <td>Image caption Yang Hengjun, a popular blogger ...</td>\n",
       "      <td>late Middle English (in the sense ‘be afflicte...</td>\n",
       "      <td>dɪˈteɪn</td>\n",
       "      <td>http://audio.oxforddictionaries.com/en/mp3/det...</td>\n",
       "    </tr>\n",
       "    <tr>\n",
       "      <td>3</td>\n",
       "      <td>resilient</td>\n",
       "      <td>3</td>\n",
       "      <td>はね返る、弾力のある、たちまち元気を回復する、快活な、溌刺(はつらつ)とした</td>\n",
       "      <td>(of a person or animal) able to withstand or r...</td>\n",
       "      <td></td>\n",
       "      <td>mid 17th century: from Latin resilient-‘leapin...</td>\n",
       "      <td>rɪˈzɪlɪənt</td>\n",
       "      <td>http://audio.oxforddictionaries.com/en/mp3/res...</td>\n",
       "    </tr>\n",
       "    <tr>\n",
       "      <td>4</td>\n",
       "      <td>lineage</td>\n",
       "      <td>4</td>\n",
       "      <td>血統、系統、家柄</td>\n",
       "      <td>direct descent from an ancestor; ancestry or p...</td>\n",
       "      <td></td>\n",
       "      <td>Middle English: from Old French lignage, from ...</td>\n",
       "      <td>ˈlɪnɪɪdʒ</td>\n",
       "      <td>http://audio.oxforddictionaries.com/en/mp3/lin...</td>\n",
       "    </tr>\n",
       "    <tr>\n",
       "      <td>5</td>\n",
       "      <td>migration</td>\n",
       "      <td>1</td>\n",
       "      <td>移住、転住、渡り、移住者群、移動する動物の群</td>\n",
       "      <td>1: seasonal movement of animals from one regio...</td>\n",
       "      <td></td>\n",
       "      <td></td>\n",
       "      <td>mʌɪˈɡreɪʃ(ə)n</td>\n",
       "      <td>http://audio.oxforddictionaries.com/en/mp3/mig...</td>\n",
       "    </tr>\n",
       "    <tr>\n",
       "      <td>...</td>\n",
       "      <td>...</td>\n",
       "      <td>...</td>\n",
       "      <td>...</td>\n",
       "      <td>...</td>\n",
       "      <td>...</td>\n",
       "      <td>...</td>\n",
       "      <td>...</td>\n",
       "      <td>...</td>\n",
       "    </tr>\n",
       "    <tr>\n",
       "      <td>1835</td>\n",
       "      <td>dignitary</td>\n",
       "      <td></td>\n",
       "      <td></td>\n",
       "      <td></td>\n",
       "      <td>Visiting dignitaries brush shoulders with wome...</td>\n",
       "      <td></td>\n",
       "      <td></td>\n",
       "      <td></td>\n",
       "    </tr>\n",
       "    <tr>\n",
       "      <td>1836</td>\n",
       "      <td>municipality</td>\n",
       "      <td></td>\n",
       "      <td></td>\n",
       "      <td></td>\n",
       "      <td>Another problem is the split between native ho...</td>\n",
       "      <td></td>\n",
       "      <td></td>\n",
       "      <td></td>\n",
       "    </tr>\n",
       "    <tr>\n",
       "      <td>1837</td>\n",
       "      <td>evict</td>\n",
       "      <td></td>\n",
       "      <td></td>\n",
       "      <td></td>\n",
       "      <td>Each year from November 1st to March 31st Fran...</td>\n",
       "      <td></td>\n",
       "      <td></td>\n",
       "      <td></td>\n",
       "    </tr>\n",
       "    <tr>\n",
       "      <td>1838</td>\n",
       "      <td>eavesdrop</td>\n",
       "      <td></td>\n",
       "      <td></td>\n",
       "      <td></td>\n",
       "      <td>The Times said it understood that the eavesdro...</td>\n",
       "      <td></td>\n",
       "      <td></td>\n",
       "      <td></td>\n",
       "    </tr>\n",
       "    <tr>\n",
       "      <td>1839</td>\n",
       "      <td>dissemination</td>\n",
       "      <td></td>\n",
       "      <td></td>\n",
       "      <td></td>\n",
       "      <td>The Bank of England is usually very careful in...</td>\n",
       "      <td></td>\n",
       "      <td></td>\n",
       "      <td></td>\n",
       "    </tr>\n",
       "  </tbody>\n",
       "</table>\n",
       "<p>1822 rows × 8 columns</p>\n",
       "</div>"
      ],
      "text/plain": [
       "               Word Importance                     Meaning in Japanese  \\\n",
       "ru                                                                       \n",
       "1         retaliate          ☆                                   仕返しする   \n",
       "2            detain          3                                    拘束する   \n",
       "3         resilient          3  はね返る、弾力のある、たちまち元気を回復する、快活な、溌刺(はつらつ)とした   \n",
       "4           lineage          4                                血統、系統、家柄   \n",
       "5         migration          1                  移住、転住、渡り、移住者群、移動する動物の群   \n",
       "...             ...        ...                                     ...   \n",
       "1835      dignitary                                                      \n",
       "1836   municipality                                                      \n",
       "1837          evict                                                      \n",
       "1838      eavesdrop                                                      \n",
       "1839  dissemination                                                      \n",
       "\n",
       "                                     Meaning in English  \\\n",
       "ru                                                        \n",
       "1     1: make an attack in return for a similar atta...   \n",
       "2     keep (someone) from proceeding by holding them...   \n",
       "3     (of a person or animal) able to withstand or r...   \n",
       "4     direct descent from an ancestor; ancestry or p...   \n",
       "5     1: seasonal movement of animals from one regio...   \n",
       "...                                                 ...   \n",
       "1835                                                      \n",
       "1836                                                      \n",
       "1837                                                      \n",
       "1838                                                      \n",
       "1839                                                      \n",
       "\n",
       "                                                Example  \\\n",
       "ru                                                        \n",
       "1     It is still unclear who started the violence b...   \n",
       "2     Image caption Yang Hengjun, a popular blogger ...   \n",
       "3                                                         \n",
       "4                                                         \n",
       "5                                                         \n",
       "...                                                 ...   \n",
       "1835  Visiting dignitaries brush shoulders with wome...   \n",
       "1836  Another problem is the split between native ho...   \n",
       "1837  Each year from November 1st to March 31st Fran...   \n",
       "1838  The Times said it understood that the eavesdro...   \n",
       "1839  The Bank of England is usually very careful in...   \n",
       "\n",
       "                                                 Origin         phonic  \\\n",
       "ru                                                                       \n",
       "1     early 17th century: from Latin retaliat-‘retur...     rɪˈtalɪeɪt   \n",
       "2     late Middle English (in the sense ‘be afflicte...        dɪˈteɪn   \n",
       "3     mid 17th century: from Latin resilient-‘leapin...     rɪˈzɪlɪənt   \n",
       "4     Middle English: from Old French lignage, from ...       ˈlɪnɪɪdʒ   \n",
       "5                                                        mʌɪˈɡreɪʃ(ə)n   \n",
       "...                                                 ...            ...   \n",
       "1835                                                                     \n",
       "1836                                                                     \n",
       "1837                                                                     \n",
       "1838                                                                     \n",
       "1839                                                                     \n",
       "\n",
       "                                                    mp3  \n",
       "ru                                                       \n",
       "1     http://audio.oxforddictionaries.com/en/mp3/ret...  \n",
       "2     http://audio.oxforddictionaries.com/en/mp3/det...  \n",
       "3     http://audio.oxforddictionaries.com/en/mp3/res...  \n",
       "4     http://audio.oxforddictionaries.com/en/mp3/lin...  \n",
       "5     http://audio.oxforddictionaries.com/en/mp3/mig...  \n",
       "...                                                 ...  \n",
       "1835                                                     \n",
       "1836                                                     \n",
       "1837                                                     \n",
       "1838                                                     \n",
       "1839                                                     \n",
       "\n",
       "[1822 rows x 8 columns]"
      ]
     },
     "execution_count": 5,
     "metadata": {},
     "output_type": "execute_result"
    }
   ],
   "source": [
    "df"
   ]
  },
  {
   "cell_type": "code",
   "execution_count": 6,
   "metadata": {},
   "outputs": [
    {
     "data": {
      "text/plain": [
       "'血統、系統、家柄'"
      ]
     },
     "execution_count": 6,
     "metadata": {},
     "output_type": "execute_result"
    }
   ],
   "source": [
    " df.loc['4','Meaning in Japanese']"
   ]
  },
  {
   "cell_type": "code",
   "execution_count": 7,
   "metadata": {},
   "outputs": [],
   "source": [
    "def weblio_crawler(word_id):\n",
    "    url ='https://ejje.weblio.jp/content/'+word_id\n",
    "    try:\n",
    "        html_page = urlopen(url)\n",
    "        soup = BeautifulSoup(html_page)\n",
    "        text=soup.find('td',attrs={\"class\", \"content-explanation ej\"})\n",
    "        answer=text.contents[0]\n",
    "    except:\n",
    "        answer=''\n",
    "    return answer"
   ]
  },
  {
   "cell_type": "code",
   "execution_count": 8,
   "metadata": {},
   "outputs": [],
   "source": [
    "def Oxford_definition_caller(word_id,app_id=app_id,app_key=app_key,language ='en'):\n",
    "    url = 'https://od-api.oxforddictionaries.com:443/api/v2/entries/'  + language + '/'  + word_id.lower()\n",
    "    urlFR = 'https://od-api.oxforddictionaries.com:443/api/v2/stats/frequency/word/'  + language + '/?corpus=nmc&lemma=' + word_id.lower()\n",
    "    try:\n",
    "        r = requests.get(url, headers = {'app_id' : app_id, 'app_key' : app_key})\n",
    "        info=r.json()\n",
    "        x=1\n",
    "        answer=''\n",
    "        for i in info[\"results\"][0]['lexicalEntries'][0][\"entries\"][0][\"senses\"]:\n",
    "            answer=answer +str(x)+': '+str(i[\"definitions\"][0])+'  '\n",
    "            x+=1\n",
    "            sleep(5)\n",
    "    except:\n",
    "        answer=''\n",
    "    return answer"
   ]
  },
  {
   "cell_type": "code",
   "execution_count": 9,
   "metadata": {},
   "outputs": [],
   "source": [
    "def Oxford_caller(word_id,app_id=app_id,app_key=app_key,language ='en'):\n",
    "    url = 'https://od-api.oxforddictionaries.com:443/api/v2/entries/'  + language + '/'  + word_id.lower()\n",
    "    urlFR = 'https://od-api.oxforddictionaries.com:443/api/v2/stats/frequency/word/'  + language + '/?corpus=nmc&lemma=' + word_id.lower()\n",
    "    try:\n",
    "        r = requests.get(url, headers = {'app_id' : app_id, 'app_key' : app_key})\n",
    "        info=r.json()\n",
    "        sleep(5)\n",
    "    except Exception as e:\n",
    "        print(e)\n",
    "        info=''\n",
    "    return info"
   ]
  },
  {
   "cell_type": "code",
   "execution_count": 10,
   "metadata": {},
   "outputs": [],
   "source": [
    "def Oxford_example_caller(word_id,app_id=app_id,app_key=app_key,language ='en'):\n",
    "    url = 'https://od-api.oxforddictionaries.com:443/api/v2/entries/'  + language + '/'  + word_id.lower()\n",
    "    urlFR = 'https://od-api.oxforddictionaries.com:443/api/v2/stats/frequency/word/'  + language + '/?corpus=nmc&lemma=' + word_id.lower()\n",
    "    try:\n",
    "        r = requests.get(url, headers = {'app_id' : app_id, 'app_key' : app_key})\n",
    "        info=r.json()\n",
    "        x=1\n",
    "        answer=''\n",
    "        for i in info[\"results\"][0]['lexicalEntries'][0][\"entries\"][0][\"senses\"]:\n",
    "            answer=answer +str(x)+': '+str(i[\"examples\"][0][\"text\"])+'  '\n",
    "            x+=1\n",
    "            sleep(5)\n",
    "    except:\n",
    "        answer=''\n",
    "    return answer"
   ]
  },
  {
   "cell_type": "code",
   "execution_count": 11,
   "metadata": {},
   "outputs": [],
   "source": [
    "def Oxford_info_processor(info,target):\n",
    "    try:\n",
    "        answer=''\n",
    "        if target=='meaning':\n",
    "            x=1\n",
    "            for i in info[\"results\"][0]['lexicalEntries'][0][\"entries\"][0][\"senses\"]:\n",
    "                answer=answer +str(x)+': '+str(i[\"definitions\"][0])+' \\r\\n'\n",
    "                x+=1       \n",
    "        elif target=='phonic':\n",
    "            answer=info[\"results\"][0]['lexicalEntries'][0][\"pronunciations\"][0][\"phoneticSpelling\"]\n",
    "        elif target=='example':\n",
    "            x=1\n",
    "            for i in info[\"results\"][0]['lexicalEntries'][0][\"entries\"][0][\"senses\"]:\n",
    "                answer=answer +str(x)+': '+str(i[\"examples\"][0][\"text\"])+' \\r\\n'\n",
    "                x+=1\n",
    "        elif target=='mp3':\n",
    "            answer=info[\"results\"][0]['lexicalEntries'][0][\"pronunciations\"][0][\"audioFile\"]\n",
    "        elif target=='origin':\n",
    "            answer=info[\"results\"][0]['lexicalEntries'][0]['entries'][0]['etymologies'][0]\n",
    "    except Exception as e:\n",
    "        print(e)\n",
    "        answer=''\n",
    "    return answer"
   ]
  },
  {
   "cell_type": "code",
   "execution_count": 12,
   "metadata": {},
   "outputs": [
    {
     "name": "stderr",
     "output_type": "stream",
     "text": [
      "  2%|▏         | 32/1822 [00:05<05:23,  5.53it/s]"
     ]
    },
    {
     "name": "stdout",
     "output_type": "stream",
     "text": [
      "'definitions'\n",
      "'examples'\n"
     ]
    },
    {
     "name": "stderr",
     "output_type": "stream",
     "text": [
      "\r",
      "  2%|▏         | 41/1822 [00:11<09:22,  3.17it/s]"
     ]
    },
    {
     "name": "stdout",
     "output_type": "stream",
     "text": [
      "'definitions'\n",
      "'examples'\n",
      "'etymologies'\n"
     ]
    },
    {
     "name": "stderr",
     "output_type": "stream",
     "text": [
      "\r",
      "  7%|▋         | 134/1822 [00:17<06:43,  4.18it/s]"
     ]
    },
    {
     "name": "stdout",
     "output_type": "stream",
     "text": [
      "'results'\n",
      "'results'\n",
      "'results'\n",
      "'results'\n",
      "'results'\n"
     ]
    },
    {
     "name": "stderr",
     "output_type": "stream",
     "text": [
      " 10%|█         | 183/1822 [00:24<05:21,  5.10it/s]"
     ]
    },
    {
     "name": "stdout",
     "output_type": "stream",
     "text": [
      "'results'\n",
      "'results'\n",
      "'results'\n",
      "'results'\n",
      "'results'\n"
     ]
    },
    {
     "name": "stderr",
     "output_type": "stream",
     "text": [
      " 15%|█▍        | 269/1822 [00:30<04:32,  5.69it/s]"
     ]
    },
    {
     "name": "stdout",
     "output_type": "stream",
     "text": [
      "'results'\n",
      "'results'\n",
      "'results'\n",
      "'results'\n",
      "'results'\n"
     ]
    },
    {
     "name": "stderr",
     "output_type": "stream",
     "text": [
      "\r",
      " 15%|█▍        | 273/1822 [00:36<14:01,  1.84it/s]"
     ]
    },
    {
     "name": "stdout",
     "output_type": "stream",
     "text": [
      "'results'\n",
      "'results'\n",
      "'results'\n",
      "'results'\n",
      "'results'\n"
     ]
    },
    {
     "name": "stderr",
     "output_type": "stream",
     "text": [
      " 15%|█▌        | 279/1822 [00:43<20:17,  1.27it/s]"
     ]
    },
    {
     "name": "stdout",
     "output_type": "stream",
     "text": [
      "'definitions'\n",
      "'examples'\n",
      "'etymologies'\n"
     ]
    },
    {
     "name": "stderr",
     "output_type": "stream",
     "text": [
      "\r",
      " 16%|█▌        | 290/1822 [00:50<19:03,  1.34it/s]"
     ]
    },
    {
     "name": "stdout",
     "output_type": "stream",
     "text": [
      "'results'\n",
      "'results'\n",
      "'results'\n",
      "'results'\n",
      "'results'\n"
     ]
    },
    {
     "name": "stderr",
     "output_type": "stream",
     "text": [
      "\r",
      " 16%|█▌        | 291/1822 [00:55<57:35,  2.26s/it]"
     ]
    },
    {
     "name": "stdout",
     "output_type": "stream",
     "text": [
      "'definitions'\n",
      "'examples'\n",
      "'etymologies'\n"
     ]
    },
    {
     "name": "stderr",
     "output_type": "stream",
     "text": [
      "\r",
      " 17%|█▋        | 308/1822 [01:01<42:22,  1.68s/it]"
     ]
    },
    {
     "name": "stdout",
     "output_type": "stream",
     "text": [
      "'results'\n",
      "'results'\n",
      "'results'\n",
      "'results'\n",
      "'results'\n"
     ]
    },
    {
     "name": "stderr",
     "output_type": "stream",
     "text": [
      "\r",
      " 17%|█▋        | 315/1822 [01:07<35:38,  1.42s/it]"
     ]
    },
    {
     "name": "stdout",
     "output_type": "stream",
     "text": [
      "'results'\n",
      "'results'\n",
      "'results'\n",
      "'results'\n",
      "'results'\n"
     ]
    },
    {
     "name": "stderr",
     "output_type": "stream",
     "text": [
      "\r",
      " 17%|█▋        | 318/1822 [01:12<38:54,  1.55s/it]"
     ]
    },
    {
     "name": "stdout",
     "output_type": "stream",
     "text": [
      "'results'\n",
      "'results'\n",
      "'results'\n",
      "'results'\n",
      "'results'\n"
     ]
    },
    {
     "name": "stderr",
     "output_type": "stream",
     "text": [
      "\r",
      " 18%|█▊        | 322/1822 [01:19<40:27,  1.62s/it]"
     ]
    },
    {
     "name": "stdout",
     "output_type": "stream",
     "text": [
      "'results'\n",
      "'results'\n",
      "'results'\n",
      "'results'\n",
      "'results'\n"
     ]
    },
    {
     "name": "stderr",
     "output_type": "stream",
     "text": [
      "\r",
      " 19%|█▉        | 345/1822 [01:25<29:41,  1.21s/it]"
     ]
    },
    {
     "name": "stdout",
     "output_type": "stream",
     "text": [
      "'results'\n",
      "'results'\n",
      "'results'\n",
      "'results'\n",
      "'results'\n"
     ]
    },
    {
     "name": "stderr",
     "output_type": "stream",
     "text": [
      "\r",
      " 19%|█▉        | 348/1822 [01:31<34:32,  1.41s/it]"
     ]
    },
    {
     "name": "stdout",
     "output_type": "stream",
     "text": [
      "'results'\n",
      "'results'\n",
      "'results'\n",
      "'results'\n",
      "'results'\n"
     ]
    },
    {
     "name": "stderr",
     "output_type": "stream",
     "text": [
      " 20%|██        | 368/1822 [01:38<17:10,  1.41it/s]"
     ]
    },
    {
     "name": "stdout",
     "output_type": "stream",
     "text": [
      "'results'\n",
      "'results'\n",
      "'results'\n",
      "'results'\n",
      "'results'\n"
     ]
    },
    {
     "name": "stderr",
     "output_type": "stream",
     "text": [
      "\r",
      " 22%|██▏       | 394/1822 [01:46<13:50,  1.72it/s]"
     ]
    },
    {
     "name": "stdout",
     "output_type": "stream",
     "text": [
      "'results'\n",
      "'results'\n",
      "'results'\n",
      "'results'\n",
      "'results'\n"
     ]
    },
    {
     "name": "stderr",
     "output_type": "stream",
     "text": [
      "\r",
      " 23%|██▎       | 410/1822 [01:53<12:56,  1.82it/s]"
     ]
    },
    {
     "name": "stdout",
     "output_type": "stream",
     "text": [
      "'results'\n",
      "'results'\n",
      "'results'\n",
      "'results'\n",
      "'results'\n"
     ]
    },
    {
     "name": "stderr",
     "output_type": "stream",
     "text": [
      "\r",
      " 24%|██▍       | 444/1822 [01:59<09:57,  2.30it/s]"
     ]
    },
    {
     "name": "stdout",
     "output_type": "stream",
     "text": [
      "'results'\n",
      "'results'\n",
      "'results'\n",
      "'results'\n",
      "'results'\n"
     ]
    },
    {
     "name": "stderr",
     "output_type": "stream",
     "text": [
      "\r",
      " 24%|██▍       | 445/1822 [02:04<45:23,  1.98s/it]"
     ]
    },
    {
     "name": "stdout",
     "output_type": "stream",
     "text": [
      "'definitions'\n"
     ]
    },
    {
     "name": "stderr",
     "output_type": "stream",
     "text": [
      "\r",
      " 26%|██▌       | 469/1822 [02:12<33:13,  1.47s/it]"
     ]
    },
    {
     "name": "stdout",
     "output_type": "stream",
     "text": [
      "'results'\n",
      "'results'\n",
      "'results'\n",
      "'results'\n",
      "'results'\n"
     ]
    },
    {
     "name": "stderr",
     "output_type": "stream",
     "text": [
      "\r",
      " 26%|██▌       | 473/1822 [02:19<35:11,  1.57s/it]"
     ]
    },
    {
     "name": "stdout",
     "output_type": "stream",
     "text": [
      "'results'\n",
      "'results'\n",
      "'results'\n",
      "'results'\n",
      "'results'\n"
     ]
    },
    {
     "name": "stderr",
     "output_type": "stream",
     "text": [
      "\r",
      " 26%|██▋       | 482/1822 [02:24<28:39,  1.28s/it]"
     ]
    },
    {
     "name": "stdout",
     "output_type": "stream",
     "text": [
      "'definitions'\n",
      "'examples'\n",
      "'etymologies'\n",
      "'pronunciations'\n",
      "'pronunciations'\n"
     ]
    },
    {
     "name": "stderr",
     "output_type": "stream",
     "text": [
      " 30%|███       | 551/1822 [02:31<14:17,  1.48it/s]"
     ]
    },
    {
     "name": "stdout",
     "output_type": "stream",
     "text": [
      "'results'\n",
      "'results'\n",
      "'results'\n",
      "'results'\n",
      "'results'\n"
     ]
    },
    {
     "name": "stderr",
     "output_type": "stream",
     "text": [
      "\r",
      " 31%|███       | 557/1822 [02:36<15:52,  1.33it/s]"
     ]
    },
    {
     "name": "stdout",
     "output_type": "stream",
     "text": [
      "'results'\n",
      "'results'\n",
      "'results'\n",
      "'results'\n",
      "'results'\n"
     ]
    },
    {
     "name": "stderr",
     "output_type": "stream",
     "text": [
      "\r",
      " 31%|███       | 568/1822 [02:44<15:06,  1.38it/s]"
     ]
    },
    {
     "name": "stdout",
     "output_type": "stream",
     "text": [
      "'results'\n",
      "'results'\n",
      "'results'\n",
      "'results'\n",
      "'results'\n"
     ]
    },
    {
     "name": "stderr",
     "output_type": "stream",
     "text": [
      "\r",
      " 31%|███▏      | 570/1822 [02:50<30:46,  1.47s/it]"
     ]
    },
    {
     "name": "stdout",
     "output_type": "stream",
     "text": [
      "'results'\n",
      "'results'\n",
      "'results'\n",
      "'results'\n",
      "'results'\n"
     ]
    },
    {
     "name": "stderr",
     "output_type": "stream",
     "text": [
      "\r",
      " 32%|███▏      | 578/1822 [02:57<26:28,  1.28s/it]"
     ]
    },
    {
     "name": "stdout",
     "output_type": "stream",
     "text": [
      "'results'\n",
      "'results'\n",
      "'results'\n",
      "'results'\n",
      "'results'\n"
     ]
    },
    {
     "name": "stderr",
     "output_type": "stream",
     "text": [
      "\r",
      " 32%|███▏      | 583/1822 [03:02<25:24,  1.23s/it]"
     ]
    },
    {
     "name": "stdout",
     "output_type": "stream",
     "text": [
      "'results'\n",
      "'results'\n",
      "'results'\n",
      "'results'\n",
      "'results'\n"
     ]
    },
    {
     "name": "stderr",
     "output_type": "stream",
     "text": [
      "\r",
      " 32%|███▏      | 584/1822 [03:09<59:21,  2.88s/it]"
     ]
    },
    {
     "name": "stdout",
     "output_type": "stream",
     "text": [
      "'results'\n",
      "'results'\n",
      "'results'\n",
      "'results'\n",
      "'results'\n"
     ]
    },
    {
     "name": "stderr",
     "output_type": "stream",
     "text": [
      "\r",
      " 32%|███▏      | 585/1822 [03:15<1:21:58,  3.98s/it]"
     ]
    },
    {
     "name": "stdout",
     "output_type": "stream",
     "text": [
      "'results'\n",
      "'results'\n",
      "'results'\n",
      "'results'\n",
      "'results'\n"
     ]
    },
    {
     "name": "stderr",
     "output_type": "stream",
     "text": [
      " 32%|███▏      | 587/1822 [03:23<1:26:19,  4.19s/it]"
     ]
    },
    {
     "name": "stdout",
     "output_type": "stream",
     "text": [
      "'results'\n",
      "'results'\n",
      "'results'\n",
      "'results'\n",
      "'results'\n"
     ]
    },
    {
     "name": "stderr",
     "output_type": "stream",
     "text": [
      " 33%|███▎      | 597/1822 [03:37<55:29,  2.72s/it]  "
     ]
    },
    {
     "name": "stdout",
     "output_type": "stream",
     "text": [
      "'results'\n",
      "'results'\n",
      "'results'\n",
      "'results'\n",
      "'results'\n"
     ]
    },
    {
     "name": "stderr",
     "output_type": "stream",
     "text": [
      "\r",
      " 33%|███▎      | 599/1822 [03:42<55:50,  2.74s/it]"
     ]
    },
    {
     "name": "stdout",
     "output_type": "stream",
     "text": [
      "'results'\n",
      "'results'\n",
      "'results'\n",
      "'results'\n",
      "'results'\n"
     ]
    },
    {
     "name": "stderr",
     "output_type": "stream",
     "text": [
      " 35%|███▍      | 630/1822 [03:55<41:19,  2.08s/it]"
     ]
    },
    {
     "name": "stdout",
     "output_type": "stream",
     "text": [
      "'results'\n",
      "'results'\n",
      "'results'\n",
      "'results'\n",
      "'results'\n"
     ]
    },
    {
     "name": "stderr",
     "output_type": "stream",
     "text": [
      "\r",
      " 35%|███▍      | 631/1822 [04:02<1:10:57,  3.57s/it]"
     ]
    },
    {
     "name": "stdout",
     "output_type": "stream",
     "text": [
      "'results'\n",
      "'results'\n",
      "'results'\n",
      "'results'\n",
      "'results'\n"
     ]
    },
    {
     "name": "stderr",
     "output_type": "stream",
     "text": [
      "\r",
      " 35%|███▍      | 634/1822 [04:08<1:00:36,  3.06s/it]"
     ]
    },
    {
     "name": "stdout",
     "output_type": "stream",
     "text": [
      "'results'\n",
      "'results'\n",
      "'results'\n",
      "'results'\n",
      "'results'\n"
     ]
    },
    {
     "name": "stderr",
     "output_type": "stream",
     "text": [
      "\r",
      " 35%|███▌      | 642/1822 [04:14<46:22,  2.36s/it]  "
     ]
    },
    {
     "name": "stdout",
     "output_type": "stream",
     "text": [
      "'etymologies'\n"
     ]
    },
    {
     "name": "stderr",
     "output_type": "stream",
     "text": [
      " 37%|███▋      | 674/1822 [04:21<24:20,  1.27s/it]"
     ]
    },
    {
     "name": "stdout",
     "output_type": "stream",
     "text": [
      "'results'\n",
      "'results'\n",
      "'results'\n",
      "'results'\n",
      "'results'\n"
     ]
    },
    {
     "name": "stderr",
     "output_type": "stream",
     "text": [
      " 38%|███▊      | 689/1822 [04:32<19:02,  1.01s/it]"
     ]
    },
    {
     "name": "stdout",
     "output_type": "stream",
     "text": [
      "'results'\n",
      "'results'\n",
      "'results'\n",
      "'results'\n"
     ]
    },
    {
     "name": "stderr",
     "output_type": "stream",
     "text": [
      "\r",
      " 38%|███▊      | 696/1822 [04:40<19:20,  1.03s/it]"
     ]
    },
    {
     "name": "stdout",
     "output_type": "stream",
     "text": [
      "'results'\n",
      "'results'\n",
      "'results'\n",
      "'results'\n"
     ]
    },
    {
     "name": "stderr",
     "output_type": "stream",
     "text": [
      "\r",
      " 39%|███▉      | 718/1822 [04:46<14:43,  1.25it/s]"
     ]
    },
    {
     "name": "stdout",
     "output_type": "stream",
     "text": [
      "'results'\n",
      "'results'\n",
      "'results'\n",
      "'results'\n",
      "'results'\n"
     ]
    },
    {
     "name": "stderr",
     "output_type": "stream",
     "text": [
      "\r",
      " 40%|████      | 730/1822 [04:51<12:46,  1.42it/s]"
     ]
    },
    {
     "name": "stdout",
     "output_type": "stream",
     "text": [
      "'definitions'\n",
      "'examples'\n",
      "'etymologies'\n"
     ]
    },
    {
     "name": "stderr",
     "output_type": "stream",
     "text": [
      "\r",
      " 40%|████      | 733/1822 [04:57<19:24,  1.07s/it]"
     ]
    },
    {
     "name": "stdout",
     "output_type": "stream",
     "text": [
      "'definitions'\n",
      "'examples'\n"
     ]
    },
    {
     "name": "stderr",
     "output_type": "stream",
     "text": [
      "\r",
      " 40%|████      | 734/1822 [05:03<44:13,  2.44s/it]"
     ]
    },
    {
     "name": "stdout",
     "output_type": "stream",
     "text": [
      "'results'\n",
      "'results'\n",
      "'results'\n",
      "'results'\n",
      "'results'\n"
     ]
    },
    {
     "name": "stderr",
     "output_type": "stream",
     "text": [
      "\r",
      " 41%|████      | 750/1822 [05:08<32:26,  1.82s/it]"
     ]
    },
    {
     "name": "stdout",
     "output_type": "stream",
     "text": [
      "'results'\n",
      "'results'\n",
      "'results'\n",
      "'results'\n",
      "'results'\n"
     ]
    },
    {
     "name": "stderr",
     "output_type": "stream",
     "text": [
      "\r",
      " 41%|████▏     | 755/1822 [05:14<28:43,  1.61s/it]"
     ]
    },
    {
     "name": "stdout",
     "output_type": "stream",
     "text": [
      "'results'\n",
      "'results'\n",
      "'results'\n",
      "'results'\n",
      "'results'\n"
     ]
    },
    {
     "name": "stderr",
     "output_type": "stream",
     "text": [
      "\r",
      " 42%|████▏     | 768/1822 [05:20<22:07,  1.26s/it]"
     ]
    },
    {
     "name": "stdout",
     "output_type": "stream",
     "text": [
      "'results'\n",
      "'results'\n",
      "'results'\n",
      "'results'\n",
      "'results'\n"
     ]
    },
    {
     "name": "stderr",
     "output_type": "stream",
     "text": [
      "\r",
      " 43%|████▎     | 777/1822 [05:26<18:41,  1.07s/it]"
     ]
    },
    {
     "name": "stdout",
     "output_type": "stream",
     "text": [
      "'results'\n",
      "'results'\n",
      "'results'\n",
      "'results'\n",
      "'results'\n"
     ]
    },
    {
     "name": "stderr",
     "output_type": "stream",
     "text": [
      "\r",
      " 43%|████▎     | 782/1822 [05:31<18:49,  1.09s/it]"
     ]
    },
    {
     "name": "stdout",
     "output_type": "stream",
     "text": [
      "'results'\n",
      "'results'\n",
      "'results'\n",
      "'results'\n",
      "'results'\n"
     ]
    },
    {
     "name": "stderr",
     "output_type": "stream",
     "text": [
      " 45%|████▌     | 824/1822 [05:39<11:08,  1.49it/s]"
     ]
    },
    {
     "name": "stdout",
     "output_type": "stream",
     "text": [
      "'results'\n",
      "'results'\n",
      "'results'\n",
      "'results'\n",
      "'results'\n"
     ]
    },
    {
     "name": "stderr",
     "output_type": "stream",
     "text": [
      "\r",
      " 45%|████▌     | 829/1822 [05:45<13:19,  1.24it/s]"
     ]
    },
    {
     "name": "stdout",
     "output_type": "stream",
     "text": [
      "'results'\n",
      "'results'\n",
      "'results'\n",
      "'results'\n",
      "'results'\n"
     ]
    },
    {
     "name": "stderr",
     "output_type": "stream",
     "text": [
      "\r",
      " 48%|████▊     | 881/1822 [05:50<09:21,  1.68it/s]"
     ]
    },
    {
     "name": "stdout",
     "output_type": "stream",
     "text": [
      "'results'\n",
      "'results'\n",
      "'results'\n",
      "'results'\n",
      "'results'\n"
     ]
    },
    {
     "name": "stderr",
     "output_type": "stream",
     "text": [
      " 51%|█████     | 924/1822 [05:57<06:08,  2.44it/s]"
     ]
    },
    {
     "name": "stdout",
     "output_type": "stream",
     "text": [
      "'results'\n",
      "'results'\n",
      "'results'\n",
      "'results'\n",
      "'results'\n"
     ]
    },
    {
     "name": "stderr",
     "output_type": "stream",
     "text": [
      "\r",
      " 51%|█████     | 925/1822 [06:03<29:20,  1.96s/it]"
     ]
    },
    {
     "name": "stdout",
     "output_type": "stream",
     "text": [
      "'results'\n",
      "'results'\n",
      "'results'\n",
      "'results'\n",
      "'results'\n"
     ]
    },
    {
     "name": "stderr",
     "output_type": "stream",
     "text": [
      "\r",
      " 51%|█████     | 928/1822 [06:08<28:52,  1.94s/it]"
     ]
    },
    {
     "name": "stdout",
     "output_type": "stream",
     "text": [
      "'results'\n",
      "'results'\n",
      "'results'\n",
      "'results'\n",
      "'results'\n"
     ]
    },
    {
     "name": "stderr",
     "output_type": "stream",
     "text": [
      "\r",
      " 52%|█████▏    | 955/1822 [06:16<20:54,  1.45s/it]"
     ]
    },
    {
     "name": "stdout",
     "output_type": "stream",
     "text": [
      "'etymologies'\n"
     ]
    },
    {
     "name": "stderr",
     "output_type": "stream",
     "text": [
      "\r",
      " 53%|█████▎    | 968/1822 [06:22<16:15,  1.14s/it]"
     ]
    },
    {
     "name": "stdout",
     "output_type": "stream",
     "text": [
      "'definitions'\n",
      "'etymologies'\n"
     ]
    },
    {
     "name": "stderr",
     "output_type": "stream",
     "text": [
      "\r",
      " 54%|█████▍    | 983/1822 [06:28<12:45,  1.10it/s]"
     ]
    },
    {
     "name": "stdout",
     "output_type": "stream",
     "text": [
      "'results'\n",
      "'results'\n",
      "'results'\n",
      "'results'\n",
      "'results'\n"
     ]
    },
    {
     "name": "stderr",
     "output_type": "stream",
     "text": [
      "\r",
      " 54%|█████▍    | 986/1822 [06:34<17:21,  1.25s/it]"
     ]
    },
    {
     "name": "stdout",
     "output_type": "stream",
     "text": [
      "'definitions'\n",
      "'examples'\n"
     ]
    },
    {
     "name": "stderr",
     "output_type": "stream",
     "text": [
      " 55%|█████▌    | 1006/1822 [06:41<16:23,  1.21s/it]"
     ]
    },
    {
     "name": "stdout",
     "output_type": "stream",
     "text": [
      "'results'\n",
      "'results'\n",
      "'results'\n",
      "'results'\n",
      "'results'\n"
     ]
    },
    {
     "name": "stderr",
     "output_type": "stream",
     "text": [
      "\r",
      " 56%|█████▌    | 1017/1822 [06:47<13:25,  1.00s/it]"
     ]
    },
    {
     "name": "stdout",
     "output_type": "stream",
     "text": [
      "'results'\n",
      "'results'\n",
      "'results'\n",
      "'results'\n",
      "'results'\n"
     ]
    },
    {
     "name": "stderr",
     "output_type": "stream",
     "text": [
      "\r",
      " 56%|█████▌    | 1023/1822 [06:53<13:06,  1.02it/s]"
     ]
    },
    {
     "name": "stdout",
     "output_type": "stream",
     "text": [
      "'results'\n",
      "'results'\n",
      "'results'\n",
      "'results'\n",
      "'results'\n"
     ]
    },
    {
     "name": "stderr",
     "output_type": "stream",
     "text": [
      "\r",
      " 57%|█████▋    | 1031/1822 [06:58<11:55,  1.11it/s]"
     ]
    },
    {
     "name": "stdout",
     "output_type": "stream",
     "text": [
      "'definitions'\n",
      "'etymologies'\n"
     ]
    },
    {
     "name": "stderr",
     "output_type": "stream",
     "text": [
      " 58%|█████▊    | 1055/1822 [07:10<10:48,  1.18it/s]"
     ]
    },
    {
     "name": "stdout",
     "output_type": "stream",
     "text": [
      "'results'\n",
      "'results'\n",
      "'results'\n",
      "'results'\n"
     ]
    },
    {
     "name": "stderr",
     "output_type": "stream",
     "text": [
      "\r",
      " 59%|█████▊    | 1069/1822 [07:17<09:26,  1.33it/s]"
     ]
    },
    {
     "name": "stdout",
     "output_type": "stream",
     "text": [
      "'results'\n",
      "'results'\n",
      "'results'\n",
      "'results'\n",
      "'results'\n"
     ]
    },
    {
     "name": "stderr",
     "output_type": "stream",
     "text": [
      "\r",
      " 59%|█████▊    | 1070/1822 [07:23<27:32,  2.20s/it]"
     ]
    },
    {
     "name": "stdout",
     "output_type": "stream",
     "text": [
      "'results'\n",
      "'results'\n",
      "'results'\n",
      "'results'\n"
     ]
    },
    {
     "name": "stderr",
     "output_type": "stream",
     "text": [
      "\r",
      " 59%|█████▉    | 1073/1822 [07:28<26:19,  2.11s/it]"
     ]
    },
    {
     "name": "stdout",
     "output_type": "stream",
     "text": [
      "'results'\n",
      "'results'\n",
      "'results'\n",
      "'results'\n"
     ]
    },
    {
     "name": "stderr",
     "output_type": "stream",
     "text": [
      "\r",
      " 59%|█████▉    | 1077/1822 [07:34<23:30,  1.89s/it]"
     ]
    },
    {
     "name": "stdout",
     "output_type": "stream",
     "text": [
      "'results'\n",
      "'results'\n",
      "'results'\n",
      "'results'\n"
     ]
    },
    {
     "name": "stderr",
     "output_type": "stream",
     "text": [
      "\r",
      " 59%|█████▉    | 1080/1822 [07:40<23:24,  1.89s/it]"
     ]
    },
    {
     "name": "stdout",
     "output_type": "stream",
     "text": [
      "'results'\n",
      "'results'\n",
      "'results'\n",
      "'results'\n"
     ]
    },
    {
     "name": "stderr",
     "output_type": "stream",
     "text": [
      "\r",
      " 60%|██████    | 1097/1822 [07:45<17:13,  1.43s/it]"
     ]
    },
    {
     "name": "stdout",
     "output_type": "stream",
     "text": [
      "'results'\n",
      "'results'\n",
      "'results'\n",
      "'results'\n"
     ]
    },
    {
     "name": "stderr",
     "output_type": "stream",
     "text": [
      "\r",
      " 60%|██████    | 1102/1822 [07:51<16:03,  1.34s/it]"
     ]
    },
    {
     "name": "stdout",
     "output_type": "stream",
     "text": [
      "'results'\n",
      "'results'\n",
      "'results'\n",
      "'results'\n"
     ]
    },
    {
     "name": "stderr",
     "output_type": "stream",
     "text": [
      "\r",
      " 61%|██████    | 1103/1822 [07:57<31:13,  2.61s/it]"
     ]
    },
    {
     "name": "stdout",
     "output_type": "stream",
     "text": [
      "'definitions'\n"
     ]
    },
    {
     "name": "stderr",
     "output_type": "stream",
     "text": [
      "\r",
      " 61%|██████    | 1114/1822 [08:02<23:19,  1.98s/it]"
     ]
    },
    {
     "name": "stdout",
     "output_type": "stream",
     "text": [
      "'results'\n",
      "'results'\n",
      "'results'\n",
      "'results'\n"
     ]
    },
    {
     "name": "stderr",
     "output_type": "stream",
     "text": [
      "\r",
      " 61%|██████▏   | 1117/1822 [08:08<22:55,  1.95s/it]"
     ]
    },
    {
     "name": "stdout",
     "output_type": "stream",
     "text": [
      "'results'\n",
      "'results'\n",
      "'results'\n",
      "'results'\n"
     ]
    },
    {
     "name": "stderr",
     "output_type": "stream",
     "text": [
      "\r",
      " 62%|██████▏   | 1127/1822 [08:15<18:16,  1.58s/it]"
     ]
    },
    {
     "name": "stdout",
     "output_type": "stream",
     "text": [
      "'results'\n",
      "'results'\n",
      "'results'\n",
      "'results'\n"
     ]
    },
    {
     "name": "stderr",
     "output_type": "stream",
     "text": [
      " 62%|██████▏   | 1131/1822 [08:24<23:06,  2.01s/it]"
     ]
    },
    {
     "name": "stdout",
     "output_type": "stream",
     "text": [
      "'results'\n",
      "'results'\n",
      "'results'\n",
      "'results'\n"
     ]
    },
    {
     "name": "stderr",
     "output_type": "stream",
     "text": [
      "\r",
      " 63%|██████▎   | 1139/1822 [08:29<18:24,  1.62s/it]"
     ]
    },
    {
     "name": "stdout",
     "output_type": "stream",
     "text": [
      "'results'\n",
      "'results'\n",
      "'results'\n",
      "'results'\n"
     ]
    },
    {
     "name": "stderr",
     "output_type": "stream",
     "text": [
      "\r",
      " 63%|██████▎   | 1147/1822 [08:35<15:06,  1.34s/it]"
     ]
    },
    {
     "name": "stdout",
     "output_type": "stream",
     "text": [
      "'results'\n",
      "'results'\n",
      "'results'\n",
      "'results'\n"
     ]
    },
    {
     "name": "stderr",
     "output_type": "stream",
     "text": [
      "\r",
      " 63%|██████▎   | 1149/1822 [08:41<20:00,  1.78s/it]"
     ]
    },
    {
     "name": "stdout",
     "output_type": "stream",
     "text": [
      "'results'\n",
      "'results'\n",
      "'results'\n",
      "'results'\n"
     ]
    },
    {
     "name": "stderr",
     "output_type": "stream",
     "text": [
      "\r",
      " 64%|██████▎   | 1161/1822 [08:46<15:20,  1.39s/it]"
     ]
    },
    {
     "name": "stdout",
     "output_type": "stream",
     "text": [
      "'definitions'\n"
     ]
    },
    {
     "name": "stderr",
     "output_type": "stream",
     "text": [
      "\r",
      " 65%|██████▍   | 1176/1822 [08:52<11:41,  1.09s/it]"
     ]
    },
    {
     "name": "stdout",
     "output_type": "stream",
     "text": [
      "'results'\n",
      "'results'\n",
      "'results'\n",
      "'results'\n"
     ]
    },
    {
     "name": "stderr",
     "output_type": "stream",
     "text": [
      "\r",
      " 65%|██████▍   | 1178/1822 [08:59<19:40,  1.83s/it]"
     ]
    },
    {
     "name": "stdout",
     "output_type": "stream",
     "text": [
      "'results'\n",
      "'results'\n",
      "'results'\n",
      "'results'\n"
     ]
    },
    {
     "name": "stderr",
     "output_type": "stream",
     "text": [
      "\r",
      " 65%|██████▍   | 1184/1822 [09:05<16:38,  1.57s/it]"
     ]
    },
    {
     "name": "stdout",
     "output_type": "stream",
     "text": [
      "'results'\n",
      "'results'\n",
      "'results'\n",
      "'results'\n"
     ]
    },
    {
     "name": "stderr",
     "output_type": "stream",
     "text": [
      "\r",
      " 65%|██████▌   | 1188/1822 [09:12<17:11,  1.63s/it]"
     ]
    },
    {
     "name": "stdout",
     "output_type": "stream",
     "text": [
      "'results'\n",
      "'results'\n",
      "'results'\n",
      "'results'\n"
     ]
    },
    {
     "name": "stderr",
     "output_type": "stream",
     "text": [
      "\r",
      " 66%|██████▌   | 1200/1822 [09:17<13:15,  1.28s/it]"
     ]
    },
    {
     "name": "stdout",
     "output_type": "stream",
     "text": [
      "'results'\n",
      "'results'\n",
      "'results'\n",
      "'results'\n"
     ]
    },
    {
     "name": "stderr",
     "output_type": "stream",
     "text": [
      "\r",
      " 66%|██████▌   | 1203/1822 [09:23<15:03,  1.46s/it]"
     ]
    },
    {
     "name": "stdout",
     "output_type": "stream",
     "text": [
      "'results'\n",
      "'results'\n",
      "'results'\n",
      "'results'\n"
     ]
    },
    {
     "name": "stderr",
     "output_type": "stream",
     "text": [
      " 67%|██████▋   | 1221/1822 [09:38<30:32,  3.05s/it]"
     ]
    },
    {
     "name": "stdout",
     "output_type": "stream",
     "text": [
      "'etymologies'\n"
     ]
    },
    {
     "name": "stderr",
     "output_type": "stream",
     "text": [
      "\r",
      " 68%|██████▊   | 1235/1822 [09:46<22:26,  2.29s/it]"
     ]
    },
    {
     "name": "stdout",
     "output_type": "stream",
     "text": [
      "'etymologies'\n"
     ]
    },
    {
     "name": "stderr",
     "output_type": "stream",
     "text": [
      "\r",
      " 68%|██████▊   | 1246/1822 [09:53<17:18,  1.80s/it]"
     ]
    },
    {
     "name": "stdout",
     "output_type": "stream",
     "text": [
      "'results'\n",
      "'results'\n",
      "'results'\n",
      "'results'\n"
     ]
    },
    {
     "name": "stderr",
     "output_type": "stream",
     "text": [
      " 69%|██████▉   | 1264/1822 [10:04<11:46,  1.27s/it]"
     ]
    },
    {
     "name": "stdout",
     "output_type": "stream",
     "text": [
      "'definitions'\n",
      "'etymologies'\n"
     ]
    },
    {
     "name": "stderr",
     "output_type": "stream",
     "text": [
      "\r",
      " 69%|██████▉   | 1265/1822 [10:12<28:45,  3.10s/it]"
     ]
    },
    {
     "name": "stdout",
     "output_type": "stream",
     "text": [
      "'results'\n",
      "'results'\n",
      "'results'\n",
      "'results'\n"
     ]
    },
    {
     "name": "stderr",
     "output_type": "stream",
     "text": [
      "\r",
      " 70%|██████▉   | 1267/1822 [10:17<27:58,  3.02s/it]"
     ]
    },
    {
     "name": "stdout",
     "output_type": "stream",
     "text": [
      "'results'\n",
      "'results'\n",
      "'results'\n",
      "'results'\n"
     ]
    },
    {
     "name": "stderr",
     "output_type": "stream",
     "text": [
      "\r",
      " 70%|██████▉   | 1268/1822 [10:23<35:28,  3.84s/it]"
     ]
    },
    {
     "name": "stdout",
     "output_type": "stream",
     "text": [
      "'results'\n",
      "'results'\n",
      "'results'\n",
      "'results'\n"
     ]
    },
    {
     "name": "stderr",
     "output_type": "stream",
     "text": [
      "\r",
      " 70%|███████   | 1284/1822 [10:30<25:21,  2.83s/it]"
     ]
    },
    {
     "name": "stdout",
     "output_type": "stream",
     "text": [
      "'etymologies'\n"
     ]
    },
    {
     "name": "stderr",
     "output_type": "stream",
     "text": [
      "\r",
      " 71%|███████   | 1290/1822 [10:36<20:02,  2.26s/it]"
     ]
    },
    {
     "name": "stdout",
     "output_type": "stream",
     "text": [
      "'results'\n",
      "'results'\n",
      "'results'\n",
      "'results'\n"
     ]
    },
    {
     "name": "stderr",
     "output_type": "stream",
     "text": [
      "\r",
      " 71%|███████   | 1297/1822 [10:42<15:59,  1.83s/it]"
     ]
    },
    {
     "name": "stdout",
     "output_type": "stream",
     "text": [
      "'results'\n",
      "'results'\n",
      "'results'\n",
      "'results'\n"
     ]
    },
    {
     "name": "stderr",
     "output_type": "stream",
     "text": [
      "\r",
      " 71%|███████▏  | 1299/1822 [10:48<18:44,  2.15s/it]"
     ]
    },
    {
     "name": "stdout",
     "output_type": "stream",
     "text": [
      "'definitions'\n"
     ]
    },
    {
     "name": "stderr",
     "output_type": "stream",
     "text": [
      " 72%|███████▏  | 1316/1822 [11:09<22:42,  2.69s/it]"
     ]
    },
    {
     "name": "stdout",
     "output_type": "stream",
     "text": [
      "'etymologies'\n"
     ]
    },
    {
     "name": "stderr",
     "output_type": "stream",
     "text": [
      " 73%|███████▎  | 1335/1822 [11:22<25:01,  3.08s/it]"
     ]
    },
    {
     "name": "stdout",
     "output_type": "stream",
     "text": [
      "'results'\n",
      "'results'\n",
      "'results'\n",
      "'results'\n"
     ]
    },
    {
     "name": "stderr",
     "output_type": "stream",
     "text": [
      "\r",
      " 74%|███████▍  | 1346/1822 [11:30<18:48,  2.37s/it]"
     ]
    },
    {
     "name": "stdout",
     "output_type": "stream",
     "text": [
      "'etymologies'\n"
     ]
    },
    {
     "name": "stderr",
     "output_type": "stream",
     "text": [
      "\r",
      " 74%|███████▍  | 1347/1822 [11:36<26:38,  3.37s/it]"
     ]
    },
    {
     "name": "stdout",
     "output_type": "stream",
     "text": [
      "'definitions'\n",
      "'etymologies'\n"
     ]
    },
    {
     "name": "stderr",
     "output_type": "stream",
     "text": [
      "\r",
      " 74%|███████▍  | 1349/1822 [11:42<25:14,  3.20s/it]"
     ]
    },
    {
     "name": "stdout",
     "output_type": "stream",
     "text": [
      "'results'\n",
      "'results'\n",
      "'results'\n",
      "'results'\n"
     ]
    },
    {
     "name": "stderr",
     "output_type": "stream",
     "text": [
      "\r",
      " 74%|███████▍  | 1352/1822 [11:47<22:03,  2.82s/it]"
     ]
    },
    {
     "name": "stdout",
     "output_type": "stream",
     "text": [
      "'definitions'\n",
      "'etymologies'\n"
     ]
    },
    {
     "name": "stderr",
     "output_type": "stream",
     "text": [
      "\r",
      " 75%|███████▍  | 1365/1822 [11:53<16:00,  2.10s/it]"
     ]
    },
    {
     "name": "stdout",
     "output_type": "stream",
     "text": [
      "'results'\n",
      "'results'\n",
      "'results'\n",
      "'results'\n",
      "'results'\n"
     ]
    },
    {
     "name": "stderr",
     "output_type": "stream",
     "text": [
      "\r",
      " 76%|███████▌  | 1388/1822 [11:59<11:10,  1.55s/it]"
     ]
    },
    {
     "name": "stdout",
     "output_type": "stream",
     "text": [
      "'results'\n",
      "'results'\n",
      "'results'\n",
      "'results'\n"
     ]
    },
    {
     "name": "stderr",
     "output_type": "stream",
     "text": [
      "\r",
      " 77%|███████▋  | 1394/1822 [12:04<09:45,  1.37s/it]"
     ]
    },
    {
     "name": "stdout",
     "output_type": "stream",
     "text": [
      "'results'\n",
      "'results'\n",
      "'results'\n",
      "'results'\n"
     ]
    },
    {
     "name": "stderr",
     "output_type": "stream",
     "text": [
      " 78%|███████▊  | 1421/1822 [12:13<05:36,  1.19it/s]"
     ]
    },
    {
     "name": "stdout",
     "output_type": "stream",
     "text": [
      "'results'\n",
      "'results'\n",
      "'results'\n",
      "'results'\n"
     ]
    },
    {
     "name": "stderr",
     "output_type": "stream",
     "text": [
      "\r",
      " 78%|███████▊  | 1428/1822 [12:20<05:52,  1.12it/s]"
     ]
    },
    {
     "name": "stdout",
     "output_type": "stream",
     "text": [
      "'results'\n",
      "'results'\n",
      "'results'\n",
      "'results'\n"
     ]
    },
    {
     "name": "stderr",
     "output_type": "stream",
     "text": [
      " 80%|███████▉  | 1451/1822 [12:33<04:57,  1.25it/s]"
     ]
    },
    {
     "name": "stdout",
     "output_type": "stream",
     "text": [
      "'definitions'\n"
     ]
    },
    {
     "name": "stderr",
     "output_type": "stream",
     "text": [
      "\r",
      " 80%|███████▉  | 1452/1822 [12:40<16:29,  2.67s/it]"
     ]
    },
    {
     "name": "stdout",
     "output_type": "stream",
     "text": [
      "'results'\n",
      "'results'\n",
      "'results'\n",
      "'results'\n"
     ]
    },
    {
     "name": "stderr",
     "output_type": "stream",
     "text": [
      "\r",
      " 81%|████████  | 1472/1822 [12:48<11:32,  1.98s/it]"
     ]
    },
    {
     "name": "stdout",
     "output_type": "stream",
     "text": [
      "'results'\n",
      "'results'\n",
      "'results'\n",
      "'results'\n"
     ]
    },
    {
     "name": "stderr",
     "output_type": "stream",
     "text": [
      "\r",
      " 81%|████████  | 1474/1822 [12:53<13:01,  2.24s/it]"
     ]
    },
    {
     "name": "stdout",
     "output_type": "stream",
     "text": [
      "'definitions'\n"
     ]
    },
    {
     "name": "stderr",
     "output_type": "stream",
     "text": [
      " 82%|████████▏ | 1489/1822 [13:00<07:21,  1.33s/it]"
     ]
    },
    {
     "name": "stdout",
     "output_type": "stream",
     "text": [
      "'results'\n",
      "'results'\n",
      "'results'\n",
      "'results'\n",
      "'results'\n"
     ]
    },
    {
     "name": "stderr",
     "output_type": "stream",
     "text": [
      "\r",
      " 82%|████████▏ | 1490/1822 [13:06<14:27,  2.61s/it]"
     ]
    },
    {
     "name": "stdout",
     "output_type": "stream",
     "text": [
      "'results'\n",
      "'results'\n",
      "'results'\n",
      "'results'\n"
     ]
    },
    {
     "name": "stderr",
     "output_type": "stream",
     "text": [
      "\r",
      " 83%|████████▎ | 1504/1822 [13:13<10:30,  1.98s/it]"
     ]
    },
    {
     "name": "stdout",
     "output_type": "stream",
     "text": [
      "'definitions'\n",
      "'etymologies'\n",
      "'pronunciations'\n",
      "'pronunciations'\n"
     ]
    },
    {
     "name": "stderr",
     "output_type": "stream",
     "text": [
      "\r",
      " 83%|████████▎ | 1506/1822 [13:19<11:44,  2.23s/it]"
     ]
    },
    {
     "name": "stdout",
     "output_type": "stream",
     "text": [
      "'definitions'\n",
      "'etymologies'\n"
     ]
    },
    {
     "name": "stderr",
     "output_type": "stream",
     "text": [
      "\r",
      " 83%|████████▎ | 1507/1822 [13:26<20:05,  3.83s/it]"
     ]
    },
    {
     "name": "stdout",
     "output_type": "stream",
     "text": [
      "'results'\n",
      "'results'\n",
      "'results'\n",
      "'results'\n",
      "'results'\n"
     ]
    },
    {
     "name": "stderr",
     "output_type": "stream",
     "text": [
      "\r",
      " 83%|████████▎ | 1513/1822 [13:34<15:45,  3.06s/it]"
     ]
    },
    {
     "name": "stdout",
     "output_type": "stream",
     "text": [
      "'results'\n",
      "'results'\n",
      "'results'\n",
      "'results'\n"
     ]
    },
    {
     "name": "stderr",
     "output_type": "stream",
     "text": [
      "\r",
      " 83%|████████▎ | 1519/1822 [13:40<12:15,  2.43s/it]"
     ]
    },
    {
     "name": "stdout",
     "output_type": "stream",
     "text": [
      "'results'\n",
      "'results'\n",
      "'results'\n",
      "'results'\n"
     ]
    },
    {
     "name": "stderr",
     "output_type": "stream",
     "text": [
      "\r",
      " 84%|████████▎ | 1524/1822 [13:48<10:48,  2.18s/it]"
     ]
    },
    {
     "name": "stdout",
     "output_type": "stream",
     "text": [
      "'results'\n",
      "'results'\n",
      "'results'\n",
      "'results'\n"
     ]
    },
    {
     "name": "stderr",
     "output_type": "stream",
     "text": [
      "\r",
      " 84%|████████▍ | 1526/1822 [13:54<11:56,  2.42s/it]"
     ]
    },
    {
     "name": "stdout",
     "output_type": "stream",
     "text": [
      "'definitions'\n"
     ]
    },
    {
     "name": "stderr",
     "output_type": "stream",
     "text": [
      "\r",
      " 84%|████████▍ | 1527/1822 [14:01<18:52,  3.84s/it]"
     ]
    },
    {
     "name": "stdout",
     "output_type": "stream",
     "text": [
      "'results'\n",
      "'results'\n",
      "'results'\n",
      "'results'\n"
     ]
    },
    {
     "name": "stderr",
     "output_type": "stream",
     "text": [
      "\r",
      " 84%|████████▍ | 1535/1822 [14:06<13:52,  2.90s/it]"
     ]
    },
    {
     "name": "stdout",
     "output_type": "stream",
     "text": [
      "'definitions'\n",
      "'etymologies'\n"
     ]
    },
    {
     "name": "stderr",
     "output_type": "stream",
     "text": [
      "\r",
      " 85%|████████▍ | 1545/1822 [14:12<10:10,  2.21s/it]"
     ]
    },
    {
     "name": "stdout",
     "output_type": "stream",
     "text": [
      "'results'\n",
      "'results'\n",
      "'results'\n",
      "'results'\n"
     ]
    },
    {
     "name": "stderr",
     "output_type": "stream",
     "text": [
      "\r",
      " 86%|████████▌ | 1560/1822 [14:19<07:22,  1.69s/it]"
     ]
    },
    {
     "name": "stdout",
     "output_type": "stream",
     "text": [
      "'results'\n",
      "'results'\n",
      "'results'\n",
      "'results'\n"
     ]
    },
    {
     "name": "stderr",
     "output_type": "stream",
     "text": [
      "\r",
      " 86%|████████▌ | 1563/1822 [14:26<08:09,  1.89s/it]"
     ]
    },
    {
     "name": "stdout",
     "output_type": "stream",
     "text": [
      "'results'\n",
      "'results'\n",
      "'results'\n",
      "'results'\n"
     ]
    },
    {
     "name": "stderr",
     "output_type": "stream",
     "text": [
      "\r",
      " 86%|████████▌ | 1565/1822 [14:32<09:24,  2.19s/it]"
     ]
    },
    {
     "name": "stdout",
     "output_type": "stream",
     "text": [
      "'results'\n",
      "'results'\n",
      "'results'\n",
      "'results'\n"
     ]
    },
    {
     "name": "stderr",
     "output_type": "stream",
     "text": [
      "\r",
      " 87%|████████▋ | 1578/1822 [14:38<06:46,  1.67s/it]"
     ]
    },
    {
     "name": "stdout",
     "output_type": "stream",
     "text": [
      "'results'\n",
      "'results'\n",
      "'results'\n",
      "'results'\n"
     ]
    },
    {
     "name": "stderr",
     "output_type": "stream",
     "text": [
      "\r",
      " 88%|████████▊ | 1598/1822 [14:45<04:45,  1.28s/it]"
     ]
    },
    {
     "name": "stdout",
     "output_type": "stream",
     "text": [
      "'results'\n",
      "'results'\n",
      "'results'\n",
      "'results'\n"
     ]
    },
    {
     "name": "stderr",
     "output_type": "stream",
     "text": [
      "\r",
      " 89%|████████▉ | 1619/1822 [14:51<03:18,  1.02it/s]"
     ]
    },
    {
     "name": "stdout",
     "output_type": "stream",
     "text": [
      "'definitions'\n",
      "'etymologies'\n"
     ]
    },
    {
     "name": "stderr",
     "output_type": "stream",
     "text": [
      "\r",
      " 89%|████████▉ | 1620/1822 [14:57<07:58,  2.37s/it]"
     ]
    },
    {
     "name": "stdout",
     "output_type": "stream",
     "text": [
      "'results'\n",
      "'results'\n",
      "'results'\n",
      "'results'\n"
     ]
    },
    {
     "name": "stderr",
     "output_type": "stream",
     "text": [
      "\r",
      " 90%|████████▉ | 1631/1822 [15:02<05:46,  1.82s/it]"
     ]
    },
    {
     "name": "stdout",
     "output_type": "stream",
     "text": [
      "'definitions'\n",
      "'etymologies'\n"
     ]
    },
    {
     "name": "stderr",
     "output_type": "stream",
     "text": [
      "\r",
      " 91%|█████████ | 1654/1822 [15:08<03:46,  1.35s/it]"
     ]
    },
    {
     "name": "stdout",
     "output_type": "stream",
     "text": [
      "'definitions'\n",
      "'etymologies'\n"
     ]
    },
    {
     "name": "stderr",
     "output_type": "stream",
     "text": [
      "\r",
      " 91%|█████████▏| 1663/1822 [15:15<03:07,  1.18s/it]"
     ]
    },
    {
     "name": "stdout",
     "output_type": "stream",
     "text": [
      "'results'\n",
      "'results'\n",
      "'results'\n",
      "'results'\n"
     ]
    },
    {
     "name": "stderr",
     "output_type": "stream",
     "text": [
      "\r",
      " 92%|█████████▏| 1668/1822 [15:21<03:02,  1.18s/it]"
     ]
    },
    {
     "name": "stdout",
     "output_type": "stream",
     "text": [
      "'results'\n",
      "'results'\n",
      "'results'\n",
      "'results'\n"
     ]
    },
    {
     "name": "stderr",
     "output_type": "stream",
     "text": [
      "\r",
      " 92%|█████████▏| 1678/1822 [15:29<02:30,  1.05s/it]"
     ]
    },
    {
     "name": "stdout",
     "output_type": "stream",
     "text": [
      "'results'\n",
      "'results'\n",
      "'results'\n",
      "'results'\n"
     ]
    },
    {
     "name": "stderr",
     "output_type": "stream",
     "text": [
      "\r",
      " 92%|█████████▏| 1682/1822 [15:34<02:41,  1.16s/it]"
     ]
    },
    {
     "name": "stdout",
     "output_type": "stream",
     "text": [
      "'definitions'\n",
      "'etymologies'\n",
      "'pronunciations'\n",
      "'pronunciations'\n"
     ]
    },
    {
     "name": "stderr",
     "output_type": "stream",
     "text": [
      "\r",
      " 92%|█████████▏| 1685/1822 [15:41<03:28,  1.52s/it]"
     ]
    },
    {
     "name": "stdout",
     "output_type": "stream",
     "text": [
      "'results'\n",
      "'results'\n",
      "'results'\n",
      "'results'\n",
      "'results'\n"
     ]
    },
    {
     "name": "stderr",
     "output_type": "stream",
     "text": [
      " 93%|█████████▎| 1689/1822 [16:12<13:41,  6.18s/it]"
     ]
    },
    {
     "name": "stdout",
     "output_type": "stream",
     "text": [
      "'etymologies'\n"
     ]
    },
    {
     "name": "stderr",
     "output_type": "stream",
     "text": [
      "\r",
      " 93%|█████████▎| 1690/1822 [16:20<14:44,  6.70s/it]"
     ]
    },
    {
     "name": "stdout",
     "output_type": "stream",
     "text": [
      "'etymologies'\n"
     ]
    },
    {
     "name": "stderr",
     "output_type": "stream",
     "text": [
      "\r",
      " 93%|█████████▎| 1691/1822 [16:28<15:07,  6.93s/it]"
     ]
    },
    {
     "name": "stdout",
     "output_type": "stream",
     "text": [
      "'results'\n",
      "'results'\n",
      "'results'\n",
      "'results'\n"
     ]
    },
    {
     "name": "stderr",
     "output_type": "stream",
     "text": [
      " 93%|█████████▎| 1693/1822 [16:42<15:25,  7.17s/it]"
     ]
    },
    {
     "name": "stdout",
     "output_type": "stream",
     "text": [
      "'etymologies'\n"
     ]
    },
    {
     "name": "stderr",
     "output_type": "stream",
     "text": [
      " 93%|█████████▎| 1697/1822 [17:13<15:34,  7.47s/it]"
     ]
    },
    {
     "name": "stdout",
     "output_type": "stream",
     "text": [
      "'etymologies'\n"
     ]
    },
    {
     "name": "stderr",
     "output_type": "stream",
     "text": [
      "\r",
      " 93%|█████████▎| 1698/1822 [17:20<15:10,  7.34s/it]"
     ]
    },
    {
     "name": "stdout",
     "output_type": "stream",
     "text": [
      "'results'\n",
      "'results'\n",
      "'results'\n",
      "'results'\n"
     ]
    },
    {
     "name": "stderr",
     "output_type": "stream",
     "text": [
      "\r",
      " 93%|█████████▎| 1699/1822 [17:27<14:54,  7.27s/it]"
     ]
    },
    {
     "name": "stdout",
     "output_type": "stream",
     "text": [
      "'results'\n",
      "'results'\n",
      "'results'\n",
      "'results'\n"
     ]
    },
    {
     "name": "stderr",
     "output_type": "stream",
     "text": [
      "\r",
      " 93%|█████████▎| 1700/1822 [17:34<14:55,  7.34s/it]"
     ]
    },
    {
     "name": "stdout",
     "output_type": "stream",
     "text": [
      "'results'\n",
      "'results'\n",
      "'results'\n",
      "'results'\n"
     ]
    },
    {
     "name": "stderr",
     "output_type": "stream",
     "text": [
      " 93%|█████████▎| 1702/1822 [17:49<14:35,  7.30s/it]"
     ]
    },
    {
     "name": "stdout",
     "output_type": "stream",
     "text": [
      "'results'\n",
      "'results'\n",
      "'results'\n",
      "'results'\n"
     ]
    },
    {
     "name": "stderr",
     "output_type": "stream",
     "text": [
      "\r",
      " 93%|█████████▎| 1703/1822 [17:56<14:27,  7.29s/it]"
     ]
    },
    {
     "name": "stdout",
     "output_type": "stream",
     "text": [
      "'results'\n",
      "'results'\n",
      "'results'\n",
      "'results'\n"
     ]
    },
    {
     "name": "stderr",
     "output_type": "stream",
     "text": [
      " 94%|█████████▎| 1706/1822 [18:19<14:26,  7.47s/it]"
     ]
    },
    {
     "name": "stdout",
     "output_type": "stream",
     "text": [
      "'etymologies'\n"
     ]
    },
    {
     "name": "stderr",
     "output_type": "stream",
     "text": [
      " 94%|█████████▎| 1708/1822 [18:34<14:25,  7.59s/it]"
     ]
    },
    {
     "name": "stdout",
     "output_type": "stream",
     "text": [
      "'etymologies'\n"
     ]
    },
    {
     "name": "stderr",
     "output_type": "stream",
     "text": [
      "\r",
      " 94%|█████████▍| 1709/1822 [18:42<14:13,  7.55s/it]"
     ]
    },
    {
     "name": "stdout",
     "output_type": "stream",
     "text": [
      "'etymologies'\n"
     ]
    },
    {
     "name": "stderr",
     "output_type": "stream",
     "text": [
      " 94%|█████████▍| 1714/1822 [19:19<13:28,  7.48s/it]"
     ]
    },
    {
     "name": "stdout",
     "output_type": "stream",
     "text": [
      "'results'\n",
      "'results'\n",
      "'results'\n",
      "'results'\n"
     ]
    },
    {
     "name": "stderr",
     "output_type": "stream",
     "text": [
      " 94%|█████████▍| 1716/1822 [19:34<13:07,  7.43s/it]"
     ]
    },
    {
     "name": "stdout",
     "output_type": "stream",
     "text": [
      "'definitions'\n",
      "'etymologies'\n",
      "'pronunciations'\n",
      "'pronunciations'\n"
     ]
    },
    {
     "name": "stderr",
     "output_type": "stream",
     "text": [
      "\r",
      " 94%|█████████▍| 1717/1822 [19:42<13:00,  7.44s/it]"
     ]
    },
    {
     "name": "stdout",
     "output_type": "stream",
     "text": [
      "'etymologies'\n"
     ]
    },
    {
     "name": "stderr",
     "output_type": "stream",
     "text": [
      "\r",
      " 94%|█████████▍| 1718/1822 [19:49<12:55,  7.46s/it]"
     ]
    },
    {
     "name": "stdout",
     "output_type": "stream",
     "text": [
      "'etymologies'\n"
     ]
    },
    {
     "name": "stderr",
     "output_type": "stream",
     "text": [
      " 95%|█████████▍| 1722/1822 [20:20<12:36,  7.57s/it]"
     ]
    },
    {
     "name": "stdout",
     "output_type": "stream",
     "text": [
      "'etymologies'\n"
     ]
    },
    {
     "name": "stderr",
     "output_type": "stream",
     "text": [
      "\r",
      " 95%|█████████▍| 1723/1822 [20:27<12:17,  7.45s/it]"
     ]
    },
    {
     "name": "stdout",
     "output_type": "stream",
     "text": [
      "'etymologies'\n"
     ]
    },
    {
     "name": "stderr",
     "output_type": "stream",
     "text": [
      " 95%|█████████▍| 1725/1822 [20:41<11:50,  7.33s/it]"
     ]
    },
    {
     "name": "stdout",
     "output_type": "stream",
     "text": [
      "'results'\n",
      "'results'\n",
      "'results'\n",
      "'results'\n"
     ]
    },
    {
     "name": "stderr",
     "output_type": "stream",
     "text": [
      "\r",
      " 95%|█████████▍| 1726/1822 [20:49<11:46,  7.36s/it]"
     ]
    },
    {
     "name": "stdout",
     "output_type": "stream",
     "text": [
      "'etymologies'\n"
     ]
    },
    {
     "name": "stderr",
     "output_type": "stream",
     "text": [
      " 95%|█████████▌| 1732/1822 [21:35<11:16,  7.51s/it]"
     ]
    },
    {
     "name": "stdout",
     "output_type": "stream",
     "text": [
      "'etymologies'\n"
     ]
    },
    {
     "name": "stderr",
     "output_type": "stream",
     "text": [
      " 95%|█████████▌| 1734/1822 [21:50<10:56,  7.46s/it]"
     ]
    },
    {
     "name": "stdout",
     "output_type": "stream",
     "text": [
      "'etymologies'\n"
     ]
    },
    {
     "name": "stderr",
     "output_type": "stream",
     "text": [
      "\r",
      " 95%|█████████▌| 1735/1822 [21:57<10:54,  7.53s/it]"
     ]
    },
    {
     "name": "stdout",
     "output_type": "stream",
     "text": [
      "'etymologies'\n"
     ]
    },
    {
     "name": "stderr",
     "output_type": "stream",
     "text": [
      " 95%|█████████▌| 1738/1822 [22:20<10:39,  7.62s/it]"
     ]
    },
    {
     "name": "stdout",
     "output_type": "stream",
     "text": [
      "'etymologies'\n"
     ]
    },
    {
     "name": "stderr",
     "output_type": "stream",
     "text": [
      "\r",
      " 95%|█████████▌| 1739/1822 [22:28<10:25,  7.54s/it]"
     ]
    },
    {
     "name": "stdout",
     "output_type": "stream",
     "text": [
      "'etymologies'\n"
     ]
    },
    {
     "name": "stderr",
     "output_type": "stream",
     "text": [
      " 96%|█████████▌| 1743/1822 [22:58<09:52,  7.51s/it]"
     ]
    },
    {
     "name": "stdout",
     "output_type": "stream",
     "text": [
      "'etymologies'\n"
     ]
    },
    {
     "name": "stderr",
     "output_type": "stream",
     "text": [
      " 96%|█████████▌| 1746/1822 [23:20<09:25,  7.44s/it]"
     ]
    },
    {
     "name": "stdout",
     "output_type": "stream",
     "text": [
      "'etymologies'\n"
     ]
    },
    {
     "name": "stderr",
     "output_type": "stream",
     "text": [
      "\r",
      " 96%|█████████▌| 1747/1822 [23:27<09:16,  7.42s/it]"
     ]
    },
    {
     "name": "stdout",
     "output_type": "stream",
     "text": [
      "'definitions'\n"
     ]
    },
    {
     "name": "stderr",
     "output_type": "stream",
     "text": [
      " 96%|█████████▌| 1750/1822 [23:50<08:52,  7.39s/it]"
     ]
    },
    {
     "name": "stdout",
     "output_type": "stream",
     "text": [
      "'etymologies'\n"
     ]
    },
    {
     "name": "stderr",
     "output_type": "stream",
     "text": [
      "\r",
      " 96%|█████████▌| 1751/1822 [23:57<08:44,  7.38s/it]"
     ]
    },
    {
     "name": "stdout",
     "output_type": "stream",
     "text": [
      "'etymologies'\n"
     ]
    },
    {
     "name": "stderr",
     "output_type": "stream",
     "text": [
      "\r",
      " 96%|█████████▌| 1752/1822 [24:04<08:31,  7.30s/it]"
     ]
    },
    {
     "name": "stdout",
     "output_type": "stream",
     "text": [
      "'results'\n",
      "'results'\n",
      "'results'\n",
      "'results'\n"
     ]
    },
    {
     "name": "stderr",
     "output_type": "stream",
     "text": [
      "\r",
      " 96%|█████████▌| 1753/1822 [24:11<08:22,  7.29s/it]"
     ]
    },
    {
     "name": "stdout",
     "output_type": "stream",
     "text": [
      "'etymologies'\n"
     ]
    },
    {
     "name": "stderr",
     "output_type": "stream",
     "text": [
      " 96%|█████████▋| 1756/1822 [24:35<08:26,  7.68s/it]"
     ]
    },
    {
     "name": "stdout",
     "output_type": "stream",
     "text": [
      "'etymologies'\n"
     ]
    },
    {
     "name": "stderr",
     "output_type": "stream",
     "text": [
      " 96%|█████████▋| 1758/1822 [24:50<08:05,  7.59s/it]"
     ]
    },
    {
     "name": "stdout",
     "output_type": "stream",
     "text": [
      "'etymologies'\n"
     ]
    },
    {
     "name": "stderr",
     "output_type": "stream",
     "text": [
      " 97%|█████████▋| 1763/1822 [25:28<07:22,  7.50s/it]"
     ]
    },
    {
     "name": "stdout",
     "output_type": "stream",
     "text": [
      "'etymologies'\n"
     ]
    },
    {
     "name": "stderr",
     "output_type": "stream",
     "text": [
      " 97%|█████████▋| 1773/1822 [26:45<06:16,  7.68s/it]"
     ]
    },
    {
     "name": "stdout",
     "output_type": "stream",
     "text": [
      "'etymologies'\n"
     ]
    },
    {
     "name": "stderr",
     "output_type": "stream",
     "text": [
      "\r",
      " 97%|█████████▋| 1774/1822 [26:53<06:08,  7.69s/it]"
     ]
    },
    {
     "name": "stdout",
     "output_type": "stream",
     "text": [
      "'etymologies'\n"
     ]
    },
    {
     "name": "stderr",
     "output_type": "stream",
     "text": [
      " 98%|█████████▊| 1777/1822 [27:16<05:42,  7.62s/it]"
     ]
    },
    {
     "name": "stdout",
     "output_type": "stream",
     "text": [
      "'definitions'\n",
      "'etymologies'\n",
      "'audioFile'\n"
     ]
    },
    {
     "name": "stderr",
     "output_type": "stream",
     "text": [
      " 98%|█████████▊| 1779/1822 [27:30<05:21,  7.48s/it]"
     ]
    },
    {
     "name": "stdout",
     "output_type": "stream",
     "text": [
      "'results'\n",
      "'results'\n",
      "'results'\n",
      "'results'\n"
     ]
    },
    {
     "name": "stderr",
     "output_type": "stream",
     "text": [
      "\r",
      " 98%|█████████▊| 1780/1822 [27:38<05:12,  7.45s/it]"
     ]
    },
    {
     "name": "stdout",
     "output_type": "stream",
     "text": [
      "'etymologies'\n"
     ]
    },
    {
     "name": "stderr",
     "output_type": "stream",
     "text": [
      " 98%|█████████▊| 1789/1822 [28:48<04:17,  7.81s/it]"
     ]
    },
    {
     "name": "stdout",
     "output_type": "stream",
     "text": [
      "'etymologies'\n"
     ]
    },
    {
     "name": "stderr",
     "output_type": "stream",
     "text": [
      " 98%|█████████▊| 1793/1822 [29:19<03:41,  7.65s/it]"
     ]
    },
    {
     "name": "stdout",
     "output_type": "stream",
     "text": [
      "'results'\n",
      "'results'\n",
      "'results'\n",
      "'results'\n"
     ]
    },
    {
     "name": "stderr",
     "output_type": "stream",
     "text": [
      " 99%|█████████▊| 1795/1822 [29:34<03:25,  7.62s/it]"
     ]
    },
    {
     "name": "stdout",
     "output_type": "stream",
     "text": [
      "'pronunciations'\n",
      "'pronunciations'\n"
     ]
    },
    {
     "name": "stderr",
     "output_type": "stream",
     "text": [
      " 99%|█████████▊| 1798/1822 [29:57<03:01,  7.58s/it]"
     ]
    },
    {
     "name": "stdout",
     "output_type": "stream",
     "text": [
      "'definitions'\n",
      "'etymologies'\n"
     ]
    },
    {
     "name": "stderr",
     "output_type": "stream",
     "text": [
      "\r",
      " 99%|█████████▊| 1799/1822 [30:04<02:54,  7.57s/it]"
     ]
    },
    {
     "name": "stdout",
     "output_type": "stream",
     "text": [
      "'etymologies'\n"
     ]
    },
    {
     "name": "stderr",
     "output_type": "stream",
     "text": [
      "\r",
      " 99%|█████████▉| 1800/1822 [30:11<02:43,  7.45s/it]"
     ]
    },
    {
     "name": "stdout",
     "output_type": "stream",
     "text": [
      "'etymologies'\n"
     ]
    },
    {
     "name": "stderr",
     "output_type": "stream",
     "text": [
      " 99%|█████████▉| 1802/1822 [30:28<02:34,  7.75s/it]"
     ]
    },
    {
     "name": "stdout",
     "output_type": "stream",
     "text": [
      "'etymologies'\n"
     ]
    },
    {
     "name": "stderr",
     "output_type": "stream",
     "text": [
      "\r",
      " 99%|█████████▉| 1803/1822 [30:35<02:24,  7.58s/it]"
     ]
    },
    {
     "name": "stdout",
     "output_type": "stream",
     "text": [
      "'etymologies'\n"
     ]
    },
    {
     "name": "stderr",
     "output_type": "stream",
     "text": [
      "\r",
      " 99%|█████████▉| 1804/1822 [30:43<02:16,  7.56s/it]"
     ]
    },
    {
     "name": "stdout",
     "output_type": "stream",
     "text": [
      "'etymologies'\n",
      "'audioFile'\n"
     ]
    },
    {
     "name": "stderr",
     "output_type": "stream",
     "text": [
      " 99%|█████████▉| 1807/1822 [31:06<01:54,  7.60s/it]"
     ]
    },
    {
     "name": "stdout",
     "output_type": "stream",
     "text": [
      "'etymologies'\n"
     ]
    },
    {
     "name": "stderr",
     "output_type": "stream",
     "text": [
      "\r",
      " 99%|█████████▉| 1808/1822 [31:13<01:46,  7.60s/it]"
     ]
    },
    {
     "name": "stdout",
     "output_type": "stream",
     "text": [
      "'etymologies'\n"
     ]
    },
    {
     "name": "stderr",
     "output_type": "stream",
     "text": [
      "\r",
      " 99%|█████████▉| 1809/1822 [31:21<01:38,  7.61s/it]"
     ]
    },
    {
     "name": "stdout",
     "output_type": "stream",
     "text": [
      "'etymologies'\n"
     ]
    },
    {
     "name": "stderr",
     "output_type": "stream",
     "text": [
      "\r",
      " 99%|█████████▉| 1810/1822 [31:29<01:32,  7.68s/it]"
     ]
    },
    {
     "name": "stdout",
     "output_type": "stream",
     "text": [
      "'results'\n",
      "'results'\n",
      "'results'\n",
      "'results'\n"
     ]
    },
    {
     "name": "stderr",
     "output_type": "stream",
     "text": [
      " 99%|█████████▉| 1812/1822 [31:44<01:15,  7.54s/it]"
     ]
    },
    {
     "name": "stdout",
     "output_type": "stream",
     "text": [
      "'results'\n",
      "'results'\n",
      "'results'\n",
      "'results'\n"
     ]
    },
    {
     "name": "stderr",
     "output_type": "stream",
     "text": [
      "100%|█████████▉| 1817/1822 [32:22<00:38,  7.65s/it]"
     ]
    },
    {
     "name": "stdout",
     "output_type": "stream",
     "text": [
      "'etymologies'\n"
     ]
    },
    {
     "name": "stderr",
     "output_type": "stream",
     "text": [
      "100%|██████████| 1822/1822 [33:00<00:00,  1.09s/it]"
     ]
    },
    {
     "name": "stdout",
     "output_type": "stream",
     "text": [
      "'etymologies'\n"
     ]
    },
    {
     "name": "stderr",
     "output_type": "stream",
     "text": [
      "\n"
     ]
    }
   ],
   "source": [
    "for index in tqdm(df.index):\n",
    "    word_id=df.loc[index,'Word']\n",
    "    word_id=word_id.strip(' ')\n",
    "    word_id=word_id.lower()\n",
    "    if df.loc[index,'Meaning in Japanese']=='':\n",
    "        df.loc[index,'Meaning in Japanese']=weblio_crawler(word_id)\n",
    "    if df.loc[index,'Meaning in English']=='':\n",
    "        info=Oxford_caller(word_id)\n",
    "        df.loc[index,'Meaning in English']=Oxford_info_processor(info,'meaning')\n",
    "        #print(Oxford_info_processor(info,'meaning'))\n",
    "        if df.loc[index,'Example']=='':\n",
    "            df.loc[index,'Example']=Oxford_info_processor(info,'example')\n",
    "        if df.loc[index,'Origin']=='':\n",
    "            df.loc[index,'Origin']=Oxford_info_processor(info,'origin')\n",
    "            df.loc[index,'phonic']=Oxford_info_processor(info,'phonic')\n",
    "            #print(Oxford_info_processor(info,'phonic'))\n",
    "            df.loc[index,'mp3']=Oxford_info_processor(info,'mp3')\n",
    "    '''\n",
    "    if df.loc[index,'Example']=='':\n",
    "        info=Oxford_caller(word_id)\n",
    "        df.loc[index,'Example']=Oxford_info_processor(info,'example')\n",
    "        if df.loc[index,'Origin']=='':\n",
    "            df.loc[index,'Origin']=Oxford_info_processor(info,'origin')\n",
    "            df.loc[index,'phonic']=Oxford_info_processor(info,'phonic')\n",
    "            df.loc[index,'mp3']=Oxford_info_processor(info,'mp3')\n",
    "    if df.loc[index,'Origin']=='':\n",
    "        info=Oxford_caller(word_id)\n",
    "        df.loc[index,'Origin']=Oxford_info_processor(info,'origin')\n",
    "        df.loc[index,'phonic']=Oxford_info_processor(info,'phonic')\n",
    "        df.loc[index,'mp3']=Oxford_info_processor(info,'mp3')\n",
    "    '''\n",
    "    \n",
    "        "
   ]
  },
  {
   "cell_type": "code",
   "execution_count": 13,
   "metadata": {},
   "outputs": [],
   "source": [
    "spread.df_to_sheet(df, index=True, sheet='result', start='A1', replace=True)"
   ]
  },
  {
   "cell_type": "code",
   "execution_count": null,
   "metadata": {},
   "outputs": [],
   "source": [
    "df"
   ]
  },
  {
   "cell_type": "code",
   "execution_count": null,
   "metadata": {},
   "outputs": [],
   "source": []
  }
 ],
 "metadata": {
  "kernelspec": {
   "display_name": "Python 3",
   "language": "python",
   "name": "python3"
  },
  "language_info": {
   "codemirror_mode": {
    "name": "ipython",
    "version": 3
   },
   "file_extension": ".py",
   "mimetype": "text/x-python",
   "name": "python",
   "nbconvert_exporter": "python",
   "pygments_lexer": "ipython3",
   "version": "3.5.3"
  }
 },
 "nbformat": 4,
 "nbformat_minor": 2
}
