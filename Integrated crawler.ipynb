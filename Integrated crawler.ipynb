{
 "cells": [
  {
   "cell_type": "code",
   "execution_count": 23,
   "metadata": {},
   "outputs": [],
   "source": [
    "from __future__ import print_function\n",
    "import pandas as pd\n",
    "import gspread_pandas\n",
    "from oauth2client.service_account import ServiceAccountCredentials\n",
    "import requests\n",
    "from bs4 import BeautifulSoup\n",
    "from urllib.request import urlopen\n",
    "import json\n",
    "from tqdm import tqdm\n",
    "from time import sleep"
   ]
  },
  {
   "cell_type": "code",
   "execution_count": 2,
   "metadata": {},
   "outputs": [
    {
     "data": {
      "text/plain": [
       "<function gspread_pandas.conf.get_config(conf_dir=None, file_name='google_secret.json')>"
      ]
     },
     "execution_count": 2,
     "metadata": {},
     "output_type": "execute_result"
    }
   ],
   "source": [
    "config=gspread_pandas.conf.get_config(conf_dir='/home/dev-cory/learning_english/credential/',file_name='client_secret_english_crawl.json')\n",
    "#gspread_pandas.conf.get_config\n",
    "gspread_pandas.conf.get_config\n",
    "with open('./credential/learning_english.yaml','r') as ymlfile:\n",
    "    cfg = yaml.load(ymlfile,Loader=yaml.BaseLoader)\n",
    "app_id = cfg['OxfordAPI']['app_id']\n",
    "app_key = cfg['OxfordAPI']['app_key']\n",
    "language = 'en'"
   ]
  },
  {
   "cell_type": "code",
   "execution_count": 4,
   "metadata": {},
   "outputs": [],
   "source": [
    "spread = gspread_pandas.Spread('Programming experiment of Oxford vocabulary',config=config)"
   ]
  },
  {
   "cell_type": "code",
   "execution_count": 5,
   "metadata": {},
   "outputs": [],
   "source": [
    "df=spread.sheet_to_df(sheet='vocab')"
   ]
  },
  {
   "cell_type": "code",
   "execution_count": 6,
   "metadata": {},
   "outputs": [
    {
     "data": {
      "text/html": [
       "<div>\n",
       "<style scoped>\n",
       "    .dataframe tbody tr th:only-of-type {\n",
       "        vertical-align: middle;\n",
       "    }\n",
       "\n",
       "    .dataframe tbody tr th {\n",
       "        vertical-align: top;\n",
       "    }\n",
       "\n",
       "    .dataframe thead th {\n",
       "        text-align: right;\n",
       "    }\n",
       "</style>\n",
       "<table border=\"1\" class=\"dataframe\">\n",
       "  <thead>\n",
       "    <tr style=\"text-align: right;\">\n",
       "      <th></th>\n",
       "      <th>Word</th>\n",
       "      <th>Importance</th>\n",
       "      <th>Meaning in Japanese</th>\n",
       "      <th>Meaning in English</th>\n",
       "      <th>Example</th>\n",
       "      <th>Origin</th>\n",
       "      <th>phonic</th>\n",
       "      <th>mp3</th>\n",
       "    </tr>\n",
       "    <tr>\n",
       "      <th>order</th>\n",
       "      <th></th>\n",
       "      <th></th>\n",
       "      <th></th>\n",
       "      <th></th>\n",
       "      <th></th>\n",
       "      <th></th>\n",
       "      <th></th>\n",
       "      <th></th>\n",
       "    </tr>\n",
       "  </thead>\n",
       "  <tbody>\n",
       "    <tr>\n",
       "      <td>1</td>\n",
       "      <td>retaliate</td>\n",
       "      <td>3</td>\n",
       "      <td>仕返しする</td>\n",
       "      <td>1: make an attack in return for a similar atta...</td>\n",
       "      <td>1: the blow stung and she retaliated immediate...</td>\n",
       "      <td></td>\n",
       "      <td></td>\n",
       "      <td></td>\n",
       "    </tr>\n",
       "    <tr>\n",
       "      <td>2</td>\n",
       "      <td>detain</td>\n",
       "      <td>3</td>\n",
       "      <td>拘束する</td>\n",
       "      <td>keep (someone) from proceeding by holding them...</td>\n",
       "      <td>1: she made to open the door, but he detained ...</td>\n",
       "      <td></td>\n",
       "      <td></td>\n",
       "      <td></td>\n",
       "    </tr>\n",
       "    <tr>\n",
       "      <td>3</td>\n",
       "      <td>resilient</td>\n",
       "      <td>3</td>\n",
       "      <td>はね返る、弾力のある、たちまち元気を回復する、快活な、溌刺(はつらつ)とした</td>\n",
       "      <td>(of a person or animal) able to withstand or r...</td>\n",
       "      <td>1: babies are generally far more resilient tha...</td>\n",
       "      <td></td>\n",
       "      <td></td>\n",
       "      <td></td>\n",
       "    </tr>\n",
       "    <tr>\n",
       "      <td>4</td>\n",
       "      <td>lineage</td>\n",
       "      <td>4</td>\n",
       "      <td>血統、系統、家柄</td>\n",
       "      <td>direct descent from an ancestor; ancestry or p...</td>\n",
       "      <td>1: a Dutch nobleman of ancient lineage  2: the...</td>\n",
       "      <td></td>\n",
       "      <td></td>\n",
       "      <td></td>\n",
       "    </tr>\n",
       "    <tr>\n",
       "      <td>5</td>\n",
       "      <td>migration</td>\n",
       "      <td>1</td>\n",
       "      <td>移住、転住、渡り、移住者群、移動する動物の群</td>\n",
       "      <td>1: seasonal movement of animals from one regio...</td>\n",
       "      <td>1: this butterfly's annual migration across No...</td>\n",
       "      <td></td>\n",
       "      <td></td>\n",
       "      <td></td>\n",
       "    </tr>\n",
       "    <tr>\n",
       "      <td>...</td>\n",
       "      <td>...</td>\n",
       "      <td>...</td>\n",
       "      <td>...</td>\n",
       "      <td>...</td>\n",
       "      <td>...</td>\n",
       "      <td>...</td>\n",
       "      <td>...</td>\n",
       "      <td>...</td>\n",
       "    </tr>\n",
       "    <tr>\n",
       "      <td>1148</td>\n",
       "      <td>thorny</td>\n",
       "      <td></td>\n",
       "      <td>とげの多い、とげのような、困難な、苦しい</td>\n",
       "      <td></td>\n",
       "      <td>This bilateral pact is more limited in scope, ...</td>\n",
       "      <td></td>\n",
       "      <td></td>\n",
       "      <td></td>\n",
       "    </tr>\n",
       "    <tr>\n",
       "      <td>1149</td>\n",
       "      <td>fold</td>\n",
       "      <td></td>\n",
       "      <td>折る、折り重ねる、折りたたむ、折り曲げる、折り返す、収める、組む、組み合わせる、(…に)巻き...</td>\n",
       "      <td></td>\n",
       "      <td>News that PizzaExpress might fold unless it ca...</td>\n",
       "      <td></td>\n",
       "      <td></td>\n",
       "      <td></td>\n",
       "    </tr>\n",
       "    <tr>\n",
       "      <td>1150</td>\n",
       "      <td>ambush</td>\n",
       "      <td></td>\n",
       "      <td>待ち伏せ、待ち伏せ攻撃、待ち伏せ場所、伏兵、伏せ勢</td>\n",
       "      <td></td>\n",
       "      <td>We have verified with the Hong Kong Cybersecur...</td>\n",
       "      <td></td>\n",
       "      <td></td>\n",
       "      <td></td>\n",
       "    </tr>\n",
       "    <tr>\n",
       "      <td>1151</td>\n",
       "      <td>perceive</td>\n",
       "      <td></td>\n",
       "      <td>(…を)知覚する、認める、(…に)気づく、(…が)気がつく、(…を)理解する、了解する、看取...</td>\n",
       "      <td></td>\n",
       "      <td>Hong Kong protesters, meanwhile, the other han...</td>\n",
       "      <td></td>\n",
       "      <td></td>\n",
       "      <td></td>\n",
       "    </tr>\n",
       "    <tr>\n",
       "      <td>1152</td>\n",
       "      <td>devastate</td>\n",
       "      <td></td>\n",
       "      <td></td>\n",
       "      <td></td>\n",
       "      <td></td>\n",
       "      <td></td>\n",
       "      <td></td>\n",
       "      <td></td>\n",
       "    </tr>\n",
       "  </tbody>\n",
       "</table>\n",
       "<p>1141 rows × 8 columns</p>\n",
       "</div>"
      ],
      "text/plain": [
       "             Word Importance  \\\n",
       "order                          \n",
       "1       retaliate          3   \n",
       "2          detain          3   \n",
       "3       resilient          3   \n",
       "4         lineage          4   \n",
       "5       migration          1   \n",
       "...           ...        ...   \n",
       "1148       thorny              \n",
       "1149         fold              \n",
       "1150       ambush              \n",
       "1151     perceive              \n",
       "1152   devastate               \n",
       "\n",
       "                                     Meaning in Japanese  \\\n",
       "order                                                      \n",
       "1                                                  仕返しする   \n",
       "2                                                   拘束する   \n",
       "3                 はね返る、弾力のある、たちまち元気を回復する、快活な、溌刺(はつらつ)とした   \n",
       "4                                               血統、系統、家柄   \n",
       "5                                 移住、転住、渡り、移住者群、移動する動物の群   \n",
       "...                                                  ...   \n",
       "1148                                とげの多い、とげのような、困難な、苦しい   \n",
       "1149   折る、折り重ねる、折りたたむ、折り曲げる、折り返す、収める、組む、組み合わせる、(…に)巻き...   \n",
       "1150                           待ち伏せ、待ち伏せ攻撃、待ち伏せ場所、伏兵、伏せ勢   \n",
       "1151   (…を)知覚する、認める、(…に)気づく、(…が)気がつく、(…を)理解する、了解する、看取...   \n",
       "1152                                                       \n",
       "\n",
       "                                      Meaning in English  \\\n",
       "order                                                      \n",
       "1      1: make an attack in return for a similar atta...   \n",
       "2      keep (someone) from proceeding by holding them...   \n",
       "3      (of a person or animal) able to withstand or r...   \n",
       "4      direct descent from an ancestor; ancestry or p...   \n",
       "5      1: seasonal movement of animals from one regio...   \n",
       "...                                                  ...   \n",
       "1148                                                       \n",
       "1149                                                       \n",
       "1150                                                       \n",
       "1151                                                       \n",
       "1152                                                       \n",
       "\n",
       "                                                 Example Origin phonic mp3  \n",
       "order                                                                       \n",
       "1      1: the blow stung and she retaliated immediate...                    \n",
       "2      1: she made to open the door, but he detained ...                    \n",
       "3      1: babies are generally far more resilient tha...                    \n",
       "4      1: a Dutch nobleman of ancient lineage  2: the...                    \n",
       "5      1: this butterfly's annual migration across No...                    \n",
       "...                                                  ...    ...    ...  ..  \n",
       "1148   This bilateral pact is more limited in scope, ...                    \n",
       "1149   News that PizzaExpress might fold unless it ca...                    \n",
       "1150   We have verified with the Hong Kong Cybersecur...                    \n",
       "1151   Hong Kong protesters, meanwhile, the other han...                    \n",
       "1152                                                                        \n",
       "\n",
       "[1141 rows x 8 columns]"
      ]
     },
     "execution_count": 6,
     "metadata": {},
     "output_type": "execute_result"
    }
   ],
   "source": [
    "df"
   ]
  },
  {
   "cell_type": "code",
   "execution_count": 11,
   "metadata": {},
   "outputs": [
    {
     "data": {
      "text/plain": [
       "'血統、系統、家柄'"
      ]
     },
     "execution_count": 11,
     "metadata": {},
     "output_type": "execute_result"
    }
   ],
   "source": [
    " df.loc['4','Meaning in Japanese']"
   ]
  },
  {
   "cell_type": "code",
   "execution_count": 7,
   "metadata": {},
   "outputs": [],
   "source": [
    "def weblio_crawler(word_id):\n",
    "    url ='https://ejje.weblio.jp/content/'+word_id\n",
    "    try:\n",
    "        html_page = urlopen(url)\n",
    "        soup = BeautifulSoup(html_page)\n",
    "        text=soup.find('td',attrs={\"class\", \"content-explanation ej\"})\n",
    "        answer=text.contents[0]\n",
    "    except:\n",
    "        answer=''\n",
    "    return answer"
   ]
  },
  {
   "cell_type": "code",
   "execution_count": 8,
   "metadata": {},
   "outputs": [],
   "source": [
    "def Oxford_definition_caller(word_id,app_id=app_id,app_key=app_key,language ='en'):\n",
    "    url = 'https://od-api.oxforddictionaries.com:443/api/v2/entries/'  + language + '/'  + word_id.lower()\n",
    "    urlFR = 'https://od-api.oxforddictionaries.com:443/api/v2/stats/frequency/word/'  + language + '/?corpus=nmc&lemma=' + word_id.lower()\n",
    "    try:\n",
    "        r = requests.get(url, headers = {'app_id' : app_id, 'app_key' : app_key})\n",
    "        info=r.json()\n",
    "        x=1\n",
    "        answer=''\n",
    "        for i in info[\"results\"][0]['lexicalEntries'][0][\"entries\"][0][\"senses\"]:\n",
    "            answer=answer +str(x)+': '+str(i[\"definitions\"][0])+'  '\n",
    "            x+=1\n",
    "            sleep(5)\n",
    "    except:\n",
    "        answer=''\n",
    "    return answer"
   ]
  },
  {
   "cell_type": "code",
   "execution_count": 31,
   "metadata": {},
   "outputs": [],
   "source": [
    "def Oxford_caller(word_id,app_id=app_id,app_key=app_key,language ='en'):\n",
    "    url = 'https://od-api.oxforddictionaries.com:443/api/v2/entries/'  + language + '/'  + word_id.lower()\n",
    "    urlFR = 'https://od-api.oxforddictionaries.com:443/api/v2/stats/frequency/word/'  + language + '/?corpus=nmc&lemma=' + word_id.lower()\n",
    "    try:\n",
    "        r = requests.get(url, headers = {'app_id' : app_id, 'app_key' : app_key})\n",
    "        info=r.json()\n",
    "        sleep(5)\n",
    "    except Exception as e:\n",
    "        print(e)\n",
    "        info=''\n",
    "    return info"
   ]
  },
  {
   "cell_type": "code",
   "execution_count": 32,
   "metadata": {},
   "outputs": [],
   "source": [
    "def Oxford_example_caller(word_id,app_id=app_id,app_key=app_key,language ='en'):\n",
    "    url = 'https://od-api.oxforddictionaries.com:443/api/v2/entries/'  + language + '/'  + word_id.lower()\n",
    "    urlFR = 'https://od-api.oxforddictionaries.com:443/api/v2/stats/frequency/word/'  + language + '/?corpus=nmc&lemma=' + word_id.lower()\n",
    "    try:\n",
    "        r = requests.get(url, headers = {'app_id' : app_id, 'app_key' : app_key})\n",
    "        info=r.json()\n",
    "        x=1\n",
    "        answer=''\n",
    "        for i in info[\"results\"][0]['lexicalEntries'][0][\"entries\"][0][\"senses\"]:\n",
    "            answer=answer +str(x)+': '+str(i[\"examples\"][0][\"text\"])+'  '\n",
    "            x+=1\n",
    "            sleep(5)\n",
    "    except:\n",
    "        answer=''\n",
    "    return answer"
   ]
  },
  {
   "cell_type": "code",
   "execution_count": 33,
   "metadata": {},
   "outputs": [],
   "source": [
    "def Oxford_info_processor(info,target):\n",
    "    try:\n",
    "        answer=''\n",
    "        if target=='meaning':\n",
    "            x=1\n",
    "            for i in info[\"results\"][0]['lexicalEntries'][0][\"entries\"][0][\"senses\"]:\n",
    "                answer=answer +str(x)+': '+str(i[\"definitions\"][0])+' \\r\\n'\n",
    "                x+=1       \n",
    "        elif target=='phonic':\n",
    "            answer=info[\"results\"][0]['lexicalEntries'][0][\"pronunciations\"][0][\"phoneticSpelling\"]\n",
    "        elif target=='example':\n",
    "            x=1\n",
    "            for i in info[\"results\"][0]['lexicalEntries'][0][\"entries\"][0][\"senses\"]:\n",
    "                answer=answer +str(x)+': '+str(i[\"examples\"][0][\"text\"])+' \\r\\n'\n",
    "                x+=1\n",
    "        elif target=='mp3':\n",
    "            answer=info[\"results\"][0]['lexicalEntries'][0][\"pronunciations\"][0][\"audioFile\"]\n",
    "        elif target=='origin':\n",
    "            answer=info[\"results\"][0]['lexicalEntries'][0]['entries'][0]['etymologies'][0]\n",
    "    except Exception as e:\n",
    "        print(e)\n",
    "        answer=''\n",
    "    return answer"
   ]
  },
  {
   "cell_type": "code",
   "execution_count": null,
   "metadata": {},
   "outputs": [
    {
     "name": "stderr",
     "output_type": "stream",
     "text": [
      "\n",
      "\n",
      "  0%|          | 0/1141 [00:00<?, ?it/s]\u001b[A\u001b[A\n",
      "\n",
      "  0%|          | 4/1141 [00:05<26:29,  1.40s/it]\u001b[A\u001b[A\n",
      "\n",
      "  0%|          | 5/1141 [00:11<49:51,  2.63s/it]\u001b[A\u001b[A"
     ]
    },
    {
     "name": "stdout",
     "output_type": "stream",
     "text": [
      "'etymologies'\n"
     ]
    },
    {
     "name": "stderr",
     "output_type": "stream",
     "text": [
      "\n",
      "\n",
      "  1%|          | 6/1141 [00:16<1:06:26,  3.51s/it]\u001b[A\u001b[A\n",
      "\n",
      "  1%|          | 7/1141 [00:22<1:17:42,  4.11s/it]\u001b[A\u001b[A\n",
      "\n",
      "  1%|          | 8/1141 [00:28<1:27:43,  4.65s/it]\u001b[A\u001b[A"
     ]
    },
    {
     "name": "stdout",
     "output_type": "stream",
     "text": [
      "'pronunciations'\n",
      "'pronunciations'\n"
     ]
    },
    {
     "name": "stderr",
     "output_type": "stream",
     "text": [
      "\n",
      "\n",
      "  1%|          | 9/1141 [00:33<1:32:43,  4.91s/it]\u001b[A\u001b[A\n",
      "\n",
      "  1%|          | 10/1141 [00:39<1:36:30,  5.12s/it]\u001b[A\u001b[A\n",
      "\n",
      "  1%|          | 11/1141 [00:44<1:39:27,  5.28s/it]\u001b[A\u001b[A\n",
      "\n",
      "  1%|          | 12/1141 [00:50<1:41:06,  5.37s/it]\u001b[A\u001b[A\n",
      "\n",
      "  1%|          | 13/1141 [00:56<1:42:14,  5.44s/it]\u001b[A\u001b[A\n",
      "\n",
      "  1%|          | 14/1141 [01:01<1:43:02,  5.49s/it]\u001b[A\u001b[A\n",
      "\n",
      "  1%|▏         | 15/1141 [01:07<1:43:27,  5.51s/it]\u001b[A\u001b[A\n",
      "\n",
      "  1%|▏         | 16/1141 [01:12<1:43:40,  5.53s/it]\u001b[A\u001b[A\n",
      "\n",
      "  1%|▏         | 17/1141 [01:18<1:43:27,  5.52s/it]\u001b[A\u001b[A"
     ]
    },
    {
     "name": "stdout",
     "output_type": "stream",
     "text": [
      "'etymologies'\n"
     ]
    },
    {
     "name": "stderr",
     "output_type": "stream",
     "text": [
      "\n",
      "\n",
      "  2%|▏         | 18/1141 [01:23<1:43:20,  5.52s/it]\u001b[A\u001b[A\n",
      "\n",
      "  2%|▏         | 19/1141 [01:29<1:43:40,  5.54s/it]\u001b[A\u001b[A"
     ]
    },
    {
     "name": "stdout",
     "output_type": "stream",
     "text": [
      "'etymologies'\n"
     ]
    },
    {
     "name": "stderr",
     "output_type": "stream",
     "text": [
      "\n",
      "\n",
      "  2%|▏         | 20/1141 [01:34<1:43:36,  5.55s/it]\u001b[A\u001b[A\n",
      "\n",
      "  2%|▏         | 21/1141 [01:40<1:44:04,  5.58s/it]\u001b[A\u001b[A\n",
      "\n",
      "  2%|▏         | 22/1141 [01:46<1:45:02,  5.63s/it]\u001b[A\u001b[A"
     ]
    },
    {
     "name": "stdout",
     "output_type": "stream",
     "text": [
      "'examples'\n"
     ]
    },
    {
     "name": "stderr",
     "output_type": "stream",
     "text": [
      "\n",
      "\n",
      "  2%|▏         | 23/1141 [01:52<1:45:52,  5.68s/it]\u001b[A\u001b[A\n",
      "\n",
      "  2%|▏         | 24/1141 [01:57<1:45:18,  5.66s/it]\u001b[A\u001b[A\n",
      "\n",
      "  2%|▏         | 25/1141 [02:03<1:44:58,  5.64s/it]\u001b[A\u001b[A\n",
      "\n",
      "  2%|▏         | 26/1141 [02:08<1:44:08,  5.60s/it]\u001b[A\u001b[A"
     ]
    },
    {
     "name": "stdout",
     "output_type": "stream",
     "text": [
      "'examples'\n",
      "'etymologies'\n",
      "'examples'\n",
      "'etymologies'\n"
     ]
    },
    {
     "name": "stderr",
     "output_type": "stream",
     "text": [
      "\n",
      "\n",
      "  2%|▏         | 27/1141 [02:25<2:45:45,  8.93s/it]\u001b[A\u001b[A"
     ]
    },
    {
     "name": "stdout",
     "output_type": "stream",
     "text": [
      "'etymologies'\n"
     ]
    },
    {
     "name": "stderr",
     "output_type": "stream",
     "text": [
      "\n",
      "\n",
      "  2%|▏         | 28/1141 [02:31<2:26:58,  7.92s/it]\u001b[A\u001b[A"
     ]
    },
    {
     "name": "stdout",
     "output_type": "stream",
     "text": [
      "'examples'\n",
      "'etymologies'\n",
      "'examples'\n",
      "'etymologies'\n"
     ]
    },
    {
     "name": "stderr",
     "output_type": "stream",
     "text": [
      "\n",
      "\n",
      "  3%|▎         | 29/1141 [02:47<3:16:16, 10.59s/it]\u001b[A\u001b[A"
     ]
    },
    {
     "name": "stdout",
     "output_type": "stream",
     "text": [
      "'etymologies'\n"
     ]
    },
    {
     "name": "stderr",
     "output_type": "stream",
     "text": [
      "\n",
      "\n",
      "  3%|▎         | 30/1141 [02:53<2:48:20,  9.09s/it]\u001b[A\u001b[A\n",
      "\n",
      "  3%|▎         | 31/1141 [02:59<2:28:50,  8.05s/it]\u001b[A\u001b[A"
     ]
    },
    {
     "name": "stdout",
     "output_type": "stream",
     "text": [
      "'definitions'\n",
      "'examples'\n"
     ]
    },
    {
     "name": "stderr",
     "output_type": "stream",
     "text": [
      "\n",
      "\n",
      "  3%|▎         | 32/1141 [03:10<2:46:23,  9.00s/it]\u001b[A\u001b[A"
     ]
    },
    {
     "name": "stdout",
     "output_type": "stream",
     "text": [
      "'examples'\n"
     ]
    },
    {
     "name": "stderr",
     "output_type": "stream",
     "text": [
      "\n",
      "\n",
      "  3%|▎         | 33/1141 [03:15<2:27:03,  7.96s/it]\u001b[A\u001b[A\n",
      "\n",
      "  3%|▎         | 34/1141 [03:21<2:13:31,  7.24s/it]\u001b[A\u001b[A\n",
      "\n",
      "  3%|▎         | 35/1141 [03:27<2:05:10,  6.79s/it]\u001b[A\u001b[A\n",
      "\n",
      "  3%|▎         | 36/1141 [03:32<1:58:35,  6.44s/it]\u001b[A\u001b[A\n",
      "\n",
      "  3%|▎         | 37/1141 [03:38<1:53:39,  6.18s/it]\u001b[A\u001b[A\n",
      "\n",
      "  3%|▎         | 38/1141 [03:43<1:49:55,  5.98s/it]\u001b[A\u001b[A"
     ]
    },
    {
     "name": "stdout",
     "output_type": "stream",
     "text": [
      "'examples'\n",
      "'examples'\n",
      "'etymologies'\n"
     ]
    },
    {
     "name": "stderr",
     "output_type": "stream",
     "text": [
      "\n",
      "\n",
      "  3%|▎         | 39/1141 [03:55<2:18:14,  7.53s/it]\u001b[A\u001b[A"
     ]
    },
    {
     "name": "stdout",
     "output_type": "stream",
     "text": [
      "'etymologies'\n"
     ]
    },
    {
     "name": "stderr",
     "output_type": "stream",
     "text": [
      "\n",
      "\n",
      "  4%|▎         | 40/1141 [04:00<2:07:11,  6.93s/it]\u001b[A\u001b[A"
     ]
    },
    {
     "name": "stdout",
     "output_type": "stream",
     "text": [
      "'definitions'\n",
      "'examples'\n",
      "'etymologies'\n",
      "'examples'\n",
      "'etymologies'\n"
     ]
    },
    {
     "name": "stderr",
     "output_type": "stream",
     "text": [
      "\n",
      "\n",
      "  4%|▎         | 41/1141 [04:17<3:01:10,  9.88s/it]\u001b[A\u001b[A"
     ]
    },
    {
     "name": "stdout",
     "output_type": "stream",
     "text": [
      "'etymologies'\n"
     ]
    },
    {
     "name": "stderr",
     "output_type": "stream",
     "text": [
      "\n",
      "\n",
      "  4%|▎         | 42/1141 [04:23<2:37:56,  8.62s/it]\u001b[A\u001b[A"
     ]
    },
    {
     "name": "stdout",
     "output_type": "stream",
     "text": [
      "'examples'\n"
     ]
    },
    {
     "name": "stderr",
     "output_type": "stream",
     "text": [
      "\n",
      "\n",
      "  4%|▍         | 43/1141 [04:28<2:20:58,  7.70s/it]\u001b[A\u001b[A\n",
      "\n",
      "  4%|▍         | 44/1141 [04:34<2:09:03,  7.06s/it]\u001b[A\u001b[A\n",
      "\n",
      "  4%|▍         | 45/1141 [04:39<2:01:30,  6.65s/it]\u001b[A\u001b[A"
     ]
    },
    {
     "name": "stdout",
     "output_type": "stream",
     "text": [
      "'examples'\n"
     ]
    },
    {
     "name": "stderr",
     "output_type": "stream",
     "text": [
      "\n",
      "\n",
      "  4%|▍         | 46/1141 [04:45<1:56:25,  6.38s/it]\u001b[A\u001b[A\n",
      "\n",
      "  4%|▍         | 47/1141 [04:51<1:52:06,  6.15s/it]\u001b[A\u001b[A\n",
      "\n",
      "  4%|▍         | 48/1141 [04:56<1:49:22,  6.00s/it]\u001b[A\u001b[A"
     ]
    },
    {
     "name": "stdout",
     "output_type": "stream",
     "text": [
      "'examples'\n",
      "'etymologies'\n"
     ]
    },
    {
     "name": "stderr",
     "output_type": "stream",
     "text": [
      "\n",
      "\n",
      "  4%|▍         | 49/1141 [05:08<2:17:53,  7.58s/it]\u001b[A\u001b[A"
     ]
    },
    {
     "name": "stdout",
     "output_type": "stream",
     "text": [
      "'etymologies'\n"
     ]
    },
    {
     "name": "stderr",
     "output_type": "stream",
     "text": [
      "\n",
      "\n",
      "  4%|▍         | 50/1141 [05:13<2:06:43,  6.97s/it]\u001b[A\u001b[A"
     ]
    },
    {
     "name": "stdout",
     "output_type": "stream",
     "text": [
      "'etymologies'\n"
     ]
    },
    {
     "name": "stderr",
     "output_type": "stream",
     "text": [
      "\n",
      "\n",
      "  4%|▍         | 51/1141 [05:24<2:29:27,  8.23s/it]\u001b[A\u001b[A"
     ]
    },
    {
     "name": "stdout",
     "output_type": "stream",
     "text": [
      "'etymologies'\n"
     ]
    },
    {
     "name": "stderr",
     "output_type": "stream",
     "text": [
      "\n",
      "\n",
      "  5%|▍         | 52/1141 [05:30<2:14:59,  7.44s/it]\u001b[A\u001b[A\n",
      "\n",
      "  5%|▍         | 53/1141 [05:36<2:04:54,  6.89s/it]\u001b[A\u001b[A\n",
      "\n",
      "  5%|▍         | 54/1141 [05:41<1:57:51,  6.51s/it]\u001b[A\u001b[A"
     ]
    },
    {
     "name": "stdout",
     "output_type": "stream",
     "text": [
      "'examples'\n"
     ]
    },
    {
     "name": "stderr",
     "output_type": "stream",
     "text": [
      "\n",
      "\n",
      "  5%|▍         | 55/1141 [05:47<1:53:20,  6.26s/it]\u001b[A\u001b[A"
     ]
    },
    {
     "name": "stdout",
     "output_type": "stream",
     "text": [
      "'examples'\n"
     ]
    },
    {
     "name": "stderr",
     "output_type": "stream",
     "text": [
      "\n",
      "\n",
      "  5%|▍         | 56/1141 [05:52<1:49:46,  6.07s/it]\u001b[A\u001b[A\n",
      "\n",
      "  5%|▍         | 57/1141 [05:58<1:46:51,  5.91s/it]\u001b[A\u001b[A\n",
      "\n",
      "  5%|▌         | 58/1141 [06:04<1:46:09,  5.88s/it]\u001b[A\u001b[A\n",
      "\n",
      "  5%|▌         | 59/1141 [06:09<1:44:04,  5.77s/it]\u001b[A\u001b[A\n",
      "\n",
      "  5%|▌         | 60/1141 [06:15<1:42:50,  5.71s/it]\u001b[A\u001b[A\n",
      "\n",
      "  5%|▌         | 61/1141 [06:20<1:41:51,  5.66s/it]\u001b[A\u001b[A"
     ]
    },
    {
     "name": "stdout",
     "output_type": "stream",
     "text": [
      "'etymologies'\n"
     ]
    },
    {
     "name": "stderr",
     "output_type": "stream",
     "text": [
      "\n",
      "\n",
      "  5%|▌         | 62/1141 [06:26<1:41:09,  5.63s/it]\u001b[A\u001b[A\n",
      "\n",
      "  6%|▌         | 63/1141 [06:32<1:41:09,  5.63s/it]\u001b[A\u001b[A\n",
      "\n",
      "  6%|▌         | 64/1141 [06:37<1:40:56,  5.62s/it]\u001b[A\u001b[A\n",
      "\n",
      "  6%|▌         | 65/1141 [06:43<1:41:08,  5.64s/it]\u001b[A\u001b[A"
     ]
    },
    {
     "name": "stdout",
     "output_type": "stream",
     "text": [
      "'etymologies'\n"
     ]
    },
    {
     "name": "stderr",
     "output_type": "stream",
     "text": [
      "\n",
      "\n",
      "  6%|▌         | 66/1141 [06:49<1:40:48,  5.63s/it]\u001b[A\u001b[A"
     ]
    },
    {
     "name": "stdout",
     "output_type": "stream",
     "text": [
      "'etymologies'\n"
     ]
    },
    {
     "name": "stderr",
     "output_type": "stream",
     "text": [
      "\n",
      "\n",
      "  6%|▌         | 67/1141 [06:54<1:41:05,  5.65s/it]\u001b[A\u001b[A\n",
      "\n",
      "  6%|▌         | 68/1141 [07:00<1:40:21,  5.61s/it]\u001b[A\u001b[A\n",
      "\n",
      "  6%|▌         | 69/1141 [07:05<1:40:46,  5.64s/it]\u001b[A\u001b[A"
     ]
    },
    {
     "name": "stdout",
     "output_type": "stream",
     "text": [
      "'examples'\n",
      "'etymologies'\n"
     ]
    },
    {
     "name": "stderr",
     "output_type": "stream",
     "text": [
      "\n",
      "\n",
      "  6%|▌         | 70/1141 [07:17<2:09:47,  7.27s/it]\u001b[A\u001b[A"
     ]
    },
    {
     "name": "stdout",
     "output_type": "stream",
     "text": [
      "'etymologies'\n"
     ]
    },
    {
     "name": "stderr",
     "output_type": "stream",
     "text": [
      "\n",
      "\n",
      "  6%|▌         | 71/1141 [07:22<2:00:38,  6.76s/it]\u001b[A\u001b[A\n",
      "\n",
      "  6%|▋         | 72/1141 [07:28<1:54:30,  6.43s/it]\u001b[A\u001b[A"
     ]
    },
    {
     "name": "stdout",
     "output_type": "stream",
     "text": [
      "'etymologies'\n",
      "'examples'\n",
      "'etymologies'\n"
     ]
    },
    {
     "name": "stderr",
     "output_type": "stream",
     "text": [
      "\n",
      "\n",
      "  6%|▋         | 73/1141 [07:39<2:19:38,  7.85s/it]\u001b[A\u001b[A"
     ]
    },
    {
     "name": "stdout",
     "output_type": "stream",
     "text": [
      "'etymologies'\n"
     ]
    },
    {
     "name": "stderr",
     "output_type": "stream",
     "text": [
      "\n",
      "\n",
      "  6%|▋         | 74/1141 [07:45<2:07:47,  7.19s/it]\u001b[A\u001b[A"
     ]
    },
    {
     "name": "stdout",
     "output_type": "stream",
     "text": [
      "'examples'\n",
      "'examples'\n",
      "'etymologies'\n"
     ]
    },
    {
     "name": "stderr",
     "output_type": "stream",
     "text": [
      "\n",
      "\n",
      "  7%|▋         | 75/1141 [07:56<2:28:37,  8.36s/it]\u001b[A\u001b[A"
     ]
    },
    {
     "name": "stdout",
     "output_type": "stream",
     "text": [
      "'etymologies'\n"
     ]
    },
    {
     "name": "stderr",
     "output_type": "stream",
     "text": [
      "\n",
      "\n",
      "  7%|▋         | 76/1141 [08:01<2:13:14,  7.51s/it]\u001b[A\u001b[A"
     ]
    },
    {
     "name": "stdout",
     "output_type": "stream",
     "text": [
      "'etymologies'\n"
     ]
    },
    {
     "name": "stderr",
     "output_type": "stream",
     "text": [
      "\n",
      "\n",
      "  7%|▋         | 77/1141 [08:07<2:02:30,  6.91s/it]\u001b[A\u001b[A\n",
      "\n",
      "  7%|▋         | 78/1141 [08:12<1:55:26,  6.52s/it]\u001b[A\u001b[A\n",
      "\n",
      "  7%|▋         | 79/1141 [08:18<1:50:21,  6.24s/it]\u001b[A\u001b[A"
     ]
    },
    {
     "name": "stdout",
     "output_type": "stream",
     "text": [
      "'etymologies'\n"
     ]
    },
    {
     "name": "stderr",
     "output_type": "stream",
     "text": [
      "\n",
      "\n",
      "  7%|▋         | 80/1141 [08:23<1:46:34,  6.03s/it]\u001b[A\u001b[A\n",
      "\n",
      "  7%|▋         | 81/1141 [08:29<1:45:32,  5.97s/it]\u001b[A\u001b[A\n",
      "\n",
      "  7%|▋         | 82/1141 [08:35<1:43:19,  5.85s/it]\u001b[A\u001b[A"
     ]
    },
    {
     "name": "stdout",
     "output_type": "stream",
     "text": [
      "'examples'\n"
     ]
    },
    {
     "name": "stderr",
     "output_type": "stream",
     "text": [
      "\n",
      "\n",
      "  7%|▋         | 83/1141 [08:41<1:42:10,  5.79s/it]\u001b[A\u001b[A\n",
      "\n",
      "  7%|▋         | 84/1141 [08:46<1:40:40,  5.71s/it]\u001b[A\u001b[A\n",
      "\n",
      "  7%|▋         | 85/1141 [08:52<1:40:00,  5.68s/it]\u001b[A\u001b[A\n",
      "\n",
      "  8%|▊         | 86/1141 [08:57<1:39:10,  5.64s/it]\u001b[A\u001b[A\n",
      "\n",
      "  8%|▊         | 87/1141 [09:03<1:38:55,  5.63s/it]\u001b[A\u001b[A\n",
      "\n",
      "  8%|▊         | 88/1141 [09:08<1:38:32,  5.62s/it]\u001b[A\u001b[A\n",
      "\n",
      "  8%|▊         | 89/1141 [09:14<1:38:36,  5.62s/it]\u001b[A\u001b[A\n",
      "\n",
      "  8%|▊         | 90/1141 [09:20<1:37:49,  5.58s/it]\u001b[A\u001b[A\n",
      "\n",
      "  8%|▊         | 91/1141 [09:25<1:37:54,  5.60s/it]\u001b[A\u001b[A\n",
      "\n",
      "  8%|▊         | 92/1141 [09:31<1:38:06,  5.61s/it]\u001b[A\u001b[A"
     ]
    },
    {
     "name": "stdout",
     "output_type": "stream",
     "text": [
      "'examples'\n"
     ]
    },
    {
     "name": "stderr",
     "output_type": "stream",
     "text": [
      "\n",
      "\n",
      "  8%|▊         | 93/1141 [09:36<1:38:01,  5.61s/it]\u001b[A\u001b[A"
     ]
    },
    {
     "name": "stdout",
     "output_type": "stream",
     "text": [
      "'etymologies'\n"
     ]
    },
    {
     "name": "stderr",
     "output_type": "stream",
     "text": [
      "\n",
      "\n",
      "  8%|▊         | 94/1141 [09:42<1:38:01,  5.62s/it]\u001b[A\u001b[A\n",
      "\n",
      "  8%|▊         | 95/1141 [09:48<1:37:37,  5.60s/it]\u001b[A\u001b[A"
     ]
    },
    {
     "name": "stdout",
     "output_type": "stream",
     "text": [
      "'etymologies'\n"
     ]
    },
    {
     "name": "stderr",
     "output_type": "stream",
     "text": [
      "\n",
      "\n",
      "  8%|▊         | 96/1141 [09:53<1:37:16,  5.59s/it]\u001b[A\u001b[A"
     ]
    },
    {
     "name": "stdout",
     "output_type": "stream",
     "text": [
      "'etymologies'\n"
     ]
    },
    {
     "name": "stderr",
     "output_type": "stream",
     "text": [
      "\n",
      "\n",
      "  9%|▊         | 97/1141 [09:59<1:37:07,  5.58s/it]\u001b[A\u001b[A\n",
      "\n",
      "  9%|▊         | 98/1141 [10:04<1:37:03,  5.58s/it]\u001b[A\u001b[A"
     ]
    },
    {
     "name": "stdout",
     "output_type": "stream",
     "text": [
      "'etymologies'\n"
     ]
    },
    {
     "name": "stderr",
     "output_type": "stream",
     "text": [
      "\n",
      "\n",
      "  9%|▊         | 99/1141 [10:10<1:36:59,  5.58s/it]\u001b[A\u001b[A"
     ]
    },
    {
     "name": "stdout",
     "output_type": "stream",
     "text": [
      "'etymologies'\n",
      "'examples'\n",
      "'etymologies'\n"
     ]
    },
    {
     "name": "stderr",
     "output_type": "stream",
     "text": [
      "\n",
      "\n",
      "  9%|▉         | 100/1141 [10:21<2:06:16,  7.28s/it]\u001b[A\u001b[A"
     ]
    },
    {
     "name": "stdout",
     "output_type": "stream",
     "text": [
      "'etymologies'\n"
     ]
    },
    {
     "name": "stderr",
     "output_type": "stream",
     "text": [
      "\n",
      "\n",
      "  9%|▉         | 101/1141 [10:27<1:57:50,  6.80s/it]\u001b[A\u001b[A\n",
      "\n",
      "  9%|▉         | 102/1141 [10:32<1:51:27,  6.44s/it]\u001b[A\u001b[A\n",
      "\n",
      "  9%|▉         | 103/1141 [10:38<1:46:55,  6.18s/it]\u001b[A\u001b[A\n",
      "\n",
      "  9%|▉         | 104/1141 [10:44<1:43:43,  6.00s/it]\u001b[A\u001b[A\n",
      "\n",
      "  9%|▉         | 105/1141 [10:49<1:41:38,  5.89s/it]\u001b[A\u001b[A\n",
      "\n",
      "  9%|▉         | 106/1141 [10:55<1:39:38,  5.78s/it]\u001b[A\u001b[A\n",
      "\n",
      "  9%|▉         | 107/1141 [11:00<1:38:40,  5.73s/it]\u001b[A\u001b[A\n",
      "\n",
      "  9%|▉         | 108/1141 [11:06<1:38:12,  5.70s/it]\u001b[A\u001b[A"
     ]
    },
    {
     "name": "stdout",
     "output_type": "stream",
     "text": [
      "'examples'\n"
     ]
    },
    {
     "name": "stderr",
     "output_type": "stream",
     "text": [
      "\n",
      "\n",
      " 10%|▉         | 109/1141 [11:11<1:37:19,  5.66s/it]\u001b[A\u001b[A\n",
      "\n",
      " 10%|▉         | 110/1141 [11:17<1:36:50,  5.64s/it]\u001b[A\u001b[A"
     ]
    },
    {
     "name": "stdout",
     "output_type": "stream",
     "text": [
      "'examples'\n"
     ]
    },
    {
     "name": "stderr",
     "output_type": "stream",
     "text": [
      "\n",
      "\n",
      " 10%|▉         | 111/1141 [11:23<1:36:33,  5.62s/it]\u001b[A\u001b[A\n",
      "\n",
      " 10%|▉         | 112/1141 [11:28<1:36:53,  5.65s/it]\u001b[A\u001b[A"
     ]
    },
    {
     "name": "stdout",
     "output_type": "stream",
     "text": [
      "'examples'\n"
     ]
    },
    {
     "name": "stderr",
     "output_type": "stream",
     "text": [
      "\n",
      "\n",
      " 10%|▉         | 113/1141 [11:34<1:36:33,  5.64s/it]\u001b[A\u001b[A\n",
      "\n",
      " 10%|▉         | 114/1141 [11:40<1:36:14,  5.62s/it]\u001b[A\u001b[A"
     ]
    },
    {
     "name": "stdout",
     "output_type": "stream",
     "text": [
      "'etymologies'\n"
     ]
    },
    {
     "name": "stderr",
     "output_type": "stream",
     "text": [
      "\n",
      "\n",
      " 10%|█         | 115/1141 [11:45<1:35:48,  5.60s/it]\u001b[A\u001b[A\n",
      "\n",
      " 10%|█         | 116/1141 [11:51<1:35:51,  5.61s/it]\u001b[A\u001b[A\n",
      "\n",
      " 10%|█         | 117/1141 [11:56<1:35:17,  5.58s/it]\u001b[A\u001b[A\n",
      "\n",
      " 10%|█         | 118/1141 [12:02<1:35:08,  5.58s/it]\u001b[A\u001b[A\n",
      "\n",
      " 10%|█         | 119/1141 [12:07<1:35:15,  5.59s/it]\u001b[A\u001b[A"
     ]
    },
    {
     "name": "stdout",
     "output_type": "stream",
     "text": [
      "'examples'\n"
     ]
    },
    {
     "name": "stderr",
     "output_type": "stream",
     "text": [
      "\n",
      "\n",
      " 11%|█         | 120/1141 [12:13<1:35:05,  5.59s/it]\u001b[A\u001b[A"
     ]
    },
    {
     "name": "stdout",
     "output_type": "stream",
     "text": [
      "'examples'\n"
     ]
    },
    {
     "name": "stderr",
     "output_type": "stream",
     "text": [
      "\n",
      "\n",
      " 11%|█         | 121/1141 [12:24<2:04:03,  7.30s/it]\u001b[A\u001b[A"
     ]
    },
    {
     "name": "stdout",
     "output_type": "stream",
     "text": [
      "'examples'\n",
      "'examples'\n"
     ]
    },
    {
     "name": "stderr",
     "output_type": "stream",
     "text": [
      "\n",
      "\n",
      " 11%|█         | 122/1141 [12:36<2:23:36,  8.46s/it]\u001b[A\u001b[A"
     ]
    },
    {
     "name": "stdout",
     "output_type": "stream",
     "text": [
      "'examples'\n"
     ]
    },
    {
     "name": "stderr",
     "output_type": "stream",
     "text": [
      "\n",
      "\n",
      " 11%|█         | 123/1141 [12:41<2:08:27,  7.57s/it]\u001b[A\u001b[A\n",
      "\n",
      " 11%|█         | 124/1141 [12:47<1:58:37,  7.00s/it]\u001b[A\u001b[A"
     ]
    },
    {
     "name": "stdout",
     "output_type": "stream",
     "text": [
      "'examples'\n"
     ]
    },
    {
     "name": "stderr",
     "output_type": "stream",
     "text": [
      "\n",
      "\n",
      " 11%|█         | 125/1141 [12:52<1:51:17,  6.57s/it]\u001b[A\u001b[A\n",
      "\n",
      " 11%|█         | 126/1141 [12:58<1:46:25,  6.29s/it]\u001b[A\u001b[A\n",
      "\n",
      " 11%|█         | 127/1141 [13:03<1:42:47,  6.08s/it]\u001b[A\u001b[A\n",
      "\n",
      " 11%|█         | 128/1141 [13:09<1:40:07,  5.93s/it]\u001b[A\u001b[A\n",
      "\n",
      " 11%|█▏        | 129/1141 [13:15<1:38:08,  5.82s/it]\u001b[A\u001b[A\n",
      "\n",
      " 11%|█▏        | 130/1141 [13:20<1:37:01,  5.76s/it]\u001b[A\u001b[A\n",
      "\n",
      " 11%|█▏        | 131/1141 [13:26<1:35:46,  5.69s/it]\u001b[A\u001b[A\n",
      "\n",
      " 12%|█▏        | 132/1141 [13:31<1:35:22,  5.67s/it]\u001b[A\u001b[A"
     ]
    },
    {
     "name": "stdout",
     "output_type": "stream",
     "text": [
      "'examples'\n"
     ]
    },
    {
     "name": "stderr",
     "output_type": "stream",
     "text": [
      "\n",
      "\n",
      " 12%|█▏        | 133/1141 [13:37<1:34:35,  5.63s/it]\u001b[A\u001b[A"
     ]
    },
    {
     "name": "stdout",
     "output_type": "stream",
     "text": [
      "'etymologies'\n"
     ]
    },
    {
     "name": "stderr",
     "output_type": "stream",
     "text": [
      "\n",
      "\n",
      " 12%|█▏        | 134/1141 [13:42<1:34:09,  5.61s/it]\u001b[A\u001b[A"
     ]
    },
    {
     "name": "stdout",
     "output_type": "stream",
     "text": [
      "'results'\n",
      "'results'\n",
      "'results'\n",
      "'results'\n",
      "'results'\n",
      "'results'\n",
      "'results'\n",
      "'results'\n",
      "'results'\n"
     ]
    },
    {
     "name": "stderr",
     "output_type": "stream",
     "text": [
      "\n",
      "\n",
      " 12%|█▏        | 135/1141 [13:59<2:30:00,  8.95s/it]\u001b[A\u001b[A"
     ]
    },
    {
     "name": "stdout",
     "output_type": "stream",
     "text": [
      "'results'\n",
      "'results'\n",
      "'results'\n"
     ]
    },
    {
     "name": "stderr",
     "output_type": "stream",
     "text": [
      "\n",
      "\n",
      " 12%|█▏        | 136/1141 [14:05<2:13:02,  7.94s/it]\u001b[A\u001b[A\n",
      "\n",
      " 12%|█▏        | 137/1141 [14:10<2:00:45,  7.22s/it]\u001b[A\u001b[A"
     ]
    },
    {
     "name": "stdout",
     "output_type": "stream",
     "text": [
      "'etymologies'\n"
     ]
    },
    {
     "name": "stderr",
     "output_type": "stream",
     "text": [
      "\n",
      "\n",
      " 12%|█▏        | 138/1141 [14:16<1:52:03,  6.70s/it]\u001b[A\u001b[A\n",
      "\n",
      " 12%|█▏        | 139/1141 [14:22<1:46:43,  6.39s/it]\u001b[A\u001b[A\n",
      "\n",
      " 12%|█▏        | 140/1141 [14:27<1:42:23,  6.14s/it]\u001b[A\u001b[A\n",
      "\n",
      " 12%|█▏        | 141/1141 [14:33<1:39:58,  6.00s/it]\u001b[A\u001b[A\n",
      "\n",
      " 12%|█▏        | 142/1141 [14:38<1:37:43,  5.87s/it]\u001b[A\u001b[A\n",
      "\n",
      " 13%|█▎        | 143/1141 [14:44<1:35:52,  5.76s/it]\u001b[A\u001b[A\n",
      "\n",
      " 13%|█▎        | 144/1141 [14:51<1:43:14,  6.21s/it]\u001b[A\u001b[A\n",
      "\n",
      " 13%|█▎        | 145/1141 [14:57<1:39:54,  6.02s/it]\u001b[A\u001b[A\n",
      "\n",
      " 13%|█▎        | 146/1141 [15:02<1:37:43,  5.89s/it]\u001b[A\u001b[A\n",
      "\n",
      " 13%|█▎        | 147/1141 [15:08<1:36:18,  5.81s/it]\u001b[A\u001b[A\n",
      "\n",
      " 13%|█▎        | 148/1141 [15:13<1:34:47,  5.73s/it]\u001b[A\u001b[A"
     ]
    },
    {
     "name": "stdout",
     "output_type": "stream",
     "text": [
      "'etymologies'\n"
     ]
    },
    {
     "name": "stderr",
     "output_type": "stream",
     "text": [
      "\n",
      "\n",
      " 13%|█▎        | 149/1141 [15:19<1:34:16,  5.70s/it]\u001b[A\u001b[A\n",
      "\n",
      " 13%|█▎        | 150/1141 [15:25<1:33:32,  5.66s/it]\u001b[A\u001b[A"
     ]
    },
    {
     "name": "stdout",
     "output_type": "stream",
     "text": [
      "'examples'\n"
     ]
    },
    {
     "name": "stderr",
     "output_type": "stream",
     "text": [
      "\n",
      "\n",
      " 13%|█▎        | 151/1141 [15:30<1:32:54,  5.63s/it]\u001b[A\u001b[A\n",
      "\n",
      " 13%|█▎        | 152/1141 [15:36<1:32:51,  5.63s/it]\u001b[A\u001b[A\n",
      "\n",
      " 13%|█▎        | 153/1141 [15:41<1:33:00,  5.65s/it]\u001b[A\u001b[A\n",
      "\n",
      " 13%|█▎        | 154/1141 [15:47<1:32:25,  5.62s/it]\u001b[A\u001b[A"
     ]
    },
    {
     "name": "stdout",
     "output_type": "stream",
     "text": [
      "'etymologies'\n"
     ]
    },
    {
     "name": "stderr",
     "output_type": "stream",
     "text": [
      "\n",
      "\n",
      " 14%|█▎        | 155/1141 [15:53<1:32:06,  5.61s/it]\u001b[A\u001b[A\n",
      "\n",
      " 14%|█▎        | 156/1141 [15:58<1:31:49,  5.59s/it]\u001b[A\u001b[A"
     ]
    },
    {
     "name": "stdout",
     "output_type": "stream",
     "text": [
      "'examples'\n"
     ]
    },
    {
     "name": "stderr",
     "output_type": "stream",
     "text": [
      "\n",
      "\n",
      " 14%|█▍        | 157/1141 [16:09<1:59:13,  7.27s/it]\u001b[A\u001b[A"
     ]
    },
    {
     "name": "stdout",
     "output_type": "stream",
     "text": [
      "'examples'\n"
     ]
    },
    {
     "name": "stderr",
     "output_type": "stream",
     "text": [
      "\n",
      "\n",
      " 14%|█▍        | 158/1141 [16:15<1:50:42,  6.76s/it]\u001b[A\u001b[A\n",
      "\n",
      " 14%|█▍        | 159/1141 [16:20<1:44:45,  6.40s/it]\u001b[A\u001b[A\n",
      "\n",
      " 14%|█▍        | 160/1141 [16:26<1:41:00,  6.18s/it]\u001b[A\u001b[A\n",
      "\n",
      " 14%|█▍        | 161/1141 [16:32<1:37:51,  5.99s/it]\u001b[A\u001b[A\n",
      "\n",
      " 14%|█▍        | 162/1141 [16:37<1:35:41,  5.86s/it]\u001b[A\u001b[A\n",
      "\n",
      " 14%|█▍        | 163/1141 [16:43<1:34:12,  5.78s/it]\u001b[A\u001b[A\n",
      "\n",
      " 14%|█▍        | 164/1141 [16:48<1:33:17,  5.73s/it]\u001b[A\u001b[A"
     ]
    },
    {
     "name": "stdout",
     "output_type": "stream",
     "text": [
      "'etymologies'\n"
     ]
    },
    {
     "name": "stderr",
     "output_type": "stream",
     "text": [
      "\n",
      "\n",
      " 14%|█▍        | 165/1141 [16:54<1:32:21,  5.68s/it]\u001b[A\u001b[A\n",
      "\n",
      " 15%|█▍        | 166/1141 [17:00<1:31:57,  5.66s/it]\u001b[A\u001b[A\n",
      "\n",
      " 15%|█▍        | 167/1141 [17:05<1:31:21,  5.63s/it]\u001b[A\u001b[A\n",
      "\n",
      " 15%|█▍        | 168/1141 [17:11<1:31:12,  5.62s/it]\u001b[A\u001b[A"
     ]
    },
    {
     "name": "stdout",
     "output_type": "stream",
     "text": [
      "'examples'\n"
     ]
    },
    {
     "name": "stderr",
     "output_type": "stream",
     "text": [
      "\n",
      "\n",
      " 15%|█▍        | 169/1141 [17:16<1:30:46,  5.60s/it]\u001b[A\u001b[A"
     ]
    },
    {
     "name": "stdout",
     "output_type": "stream",
     "text": [
      "'etymologies'\n"
     ]
    },
    {
     "name": "stderr",
     "output_type": "stream",
     "text": [
      "\n",
      "\n",
      " 15%|█▍        | 170/1141 [17:22<1:30:34,  5.60s/it]\u001b[A\u001b[A\n",
      "\n",
      " 15%|█▍        | 171/1141 [17:28<1:30:18,  5.59s/it]\u001b[A\u001b[A\n",
      "\n",
      " 15%|█▌        | 172/1141 [17:33<1:29:54,  5.57s/it]\u001b[A\u001b[A"
     ]
    },
    {
     "name": "stdout",
     "output_type": "stream",
     "text": [
      "'etymologies'\n",
      "'examples'\n",
      "'etymologies'\n"
     ]
    },
    {
     "name": "stderr",
     "output_type": "stream",
     "text": [
      "\n",
      "\n",
      " 15%|█▌        | 173/1141 [17:44<1:56:54,  7.25s/it]\u001b[A\u001b[A"
     ]
    },
    {
     "name": "stdout",
     "output_type": "stream",
     "text": [
      "'etymologies'\n",
      "'examples'\n",
      "'etymologies'\n"
     ]
    },
    {
     "name": "stderr",
     "output_type": "stream",
     "text": [
      "\n",
      "\n",
      " 15%|█▌        | 174/1141 [17:55<2:15:33,  8.41s/it]\u001b[A\u001b[A"
     ]
    },
    {
     "name": "stdout",
     "output_type": "stream",
     "text": [
      "'etymologies'\n"
     ]
    },
    {
     "name": "stderr",
     "output_type": "stream",
     "text": [
      "\n",
      "\n",
      " 15%|█▌        | 175/1141 [18:01<2:01:42,  7.56s/it]\u001b[A\u001b[A"
     ]
    },
    {
     "name": "stdout",
     "output_type": "stream",
     "text": [
      "'examples'\n"
     ]
    },
    {
     "name": "stderr",
     "output_type": "stream",
     "text": [
      "\n",
      "\n",
      " 15%|█▌        | 176/1141 [18:06<1:51:44,  6.95s/it]\u001b[A\u001b[A\n",
      "\n",
      " 16%|█▌        | 177/1141 [18:12<1:45:07,  6.54s/it]\u001b[A\u001b[A\n",
      "\n",
      " 16%|█▌        | 178/1141 [18:18<1:40:26,  6.26s/it]\u001b[A\u001b[A"
     ]
    },
    {
     "name": "stdout",
     "output_type": "stream",
     "text": [
      "'etymologies'\n"
     ]
    },
    {
     "name": "stderr",
     "output_type": "stream",
     "text": [
      "\n",
      "\n",
      " 16%|█▌        | 179/1141 [18:23<1:36:49,  6.04s/it]\u001b[A\u001b[A\n",
      "\n",
      " 16%|█▌        | 180/1141 [18:29<1:34:09,  5.88s/it]\u001b[A\u001b[A\n",
      "\n",
      " 16%|█▌        | 181/1141 [18:34<1:32:21,  5.77s/it]\u001b[A\u001b[A\n",
      "\n",
      " 16%|█▌        | 182/1141 [18:40<1:31:13,  5.71s/it]\u001b[A\u001b[A\n",
      "\n",
      " 16%|█▌        | 183/1141 [18:45<1:30:31,  5.67s/it]\u001b[A\u001b[A"
     ]
    },
    {
     "name": "stdout",
     "output_type": "stream",
     "text": [
      "'etymologies'\n",
      "'results'\n",
      "'results'\n",
      "'results'\n",
      "'results'\n",
      "'results'\n",
      "'results'\n",
      "'results'\n",
      "'results'\n",
      "'results'\n"
     ]
    },
    {
     "name": "stderr",
     "output_type": "stream",
     "text": [
      "\n",
      "\n",
      " 16%|█▌        | 184/1141 [19:02<2:23:17,  8.98s/it]\u001b[A\u001b[A"
     ]
    },
    {
     "name": "stdout",
     "output_type": "stream",
     "text": [
      "'results'\n",
      "'results'\n",
      "'results'\n"
     ]
    },
    {
     "name": "stderr",
     "output_type": "stream",
     "text": [
      "\n",
      "\n",
      " 16%|█▌        | 185/1141 [19:08<2:06:54,  7.96s/it]\u001b[A\u001b[A"
     ]
    },
    {
     "name": "stdout",
     "output_type": "stream",
     "text": [
      "'examples'\n"
     ]
    },
    {
     "name": "stderr",
     "output_type": "stream",
     "text": [
      "\n",
      "\n",
      " 16%|█▋        | 186/1141 [19:13<1:55:20,  7.25s/it]\u001b[A\u001b[A\n",
      "\n",
      " 16%|█▋        | 187/1141 [19:19<1:47:16,  6.75s/it]\u001b[A\u001b[A\n",
      "\n",
      " 16%|█▋        | 188/1141 [19:24<1:41:33,  6.39s/it]\u001b[A\u001b[A\n",
      "\n",
      " 17%|█▋        | 189/1141 [19:30<1:37:32,  6.15s/it]\u001b[A\u001b[A\n",
      "\n",
      " 17%|█▋        | 190/1141 [19:36<1:35:32,  6.03s/it]\u001b[A\u001b[A\n",
      "\n",
      " 17%|█▋        | 191/1141 [19:41<1:32:59,  5.87s/it]\u001b[A\u001b[A\n",
      "\n",
      " 17%|█▋        | 192/1141 [19:47<1:31:22,  5.78s/it]\u001b[A\u001b[A\n",
      "\n",
      " 17%|█▋        | 193/1141 [19:52<1:30:01,  5.70s/it]\u001b[A\u001b[A"
     ]
    },
    {
     "name": "stdout",
     "output_type": "stream",
     "text": [
      "'examples'\n"
     ]
    },
    {
     "name": "stderr",
     "output_type": "stream",
     "text": [
      "\n",
      "\n",
      " 17%|█▋        | 194/1141 [20:03<1:55:38,  7.33s/it]\u001b[A\u001b[A"
     ]
    },
    {
     "name": "stdout",
     "output_type": "stream",
     "text": [
      "'examples'\n"
     ]
    },
    {
     "name": "stderr",
     "output_type": "stream",
     "text": [
      "\n",
      "\n",
      " 17%|█▋        | 195/1141 [20:09<1:47:26,  6.81s/it]\u001b[A\u001b[A\n",
      "\n",
      " 17%|█▋        | 196/1141 [20:15<1:41:34,  6.45s/it]\u001b[A\u001b[A\n",
      "\n",
      " 17%|█▋        | 197/1141 [20:20<1:37:01,  6.17s/it]\u001b[A\u001b[A"
     ]
    },
    {
     "name": "stdout",
     "output_type": "stream",
     "text": [
      "'etymologies'\n"
     ]
    },
    {
     "name": "stderr",
     "output_type": "stream",
     "text": [
      "\n",
      "\n",
      " 17%|█▋        | 198/1141 [20:26<1:34:22,  6.01s/it]\u001b[A\u001b[A\n",
      "\n",
      " 17%|█▋        | 199/1141 [20:31<1:32:10,  5.87s/it]\u001b[A\u001b[A\n",
      "\n",
      " 18%|█▊        | 200/1141 [20:37<1:30:40,  5.78s/it]\u001b[A\u001b[A"
     ]
    },
    {
     "name": "stdout",
     "output_type": "stream",
     "text": [
      "'examples'\n"
     ]
    },
    {
     "name": "stderr",
     "output_type": "stream",
     "text": [
      "\n",
      "\n",
      " 18%|█▊        | 201/1141 [20:42<1:29:42,  5.73s/it]\u001b[A\u001b[A\n",
      "\n",
      " 18%|█▊        | 202/1141 [20:48<1:29:02,  5.69s/it]\u001b[A\u001b[A"
     ]
    },
    {
     "name": "stdout",
     "output_type": "stream",
     "text": [
      "'examples'\n"
     ]
    },
    {
     "name": "stderr",
     "output_type": "stream",
     "text": [
      "\n",
      "\n",
      " 18%|█▊        | 203/1141 [20:54<1:28:40,  5.67s/it]\u001b[A\u001b[A"
     ]
    },
    {
     "name": "stdout",
     "output_type": "stream",
     "text": [
      "'examples'\n"
     ]
    },
    {
     "name": "stderr",
     "output_type": "stream",
     "text": [
      "\n",
      "\n",
      " 18%|█▊        | 204/1141 [20:59<1:28:49,  5.69s/it]\u001b[A\u001b[A\n",
      "\n",
      " 18%|█▊        | 205/1141 [21:05<1:28:01,  5.64s/it]\u001b[A\u001b[A\n",
      "\n",
      " 18%|█▊        | 206/1141 [21:11<1:27:38,  5.62s/it]\u001b[A\u001b[A\n",
      "\n",
      " 18%|█▊        | 207/1141 [21:16<1:27:31,  5.62s/it]\u001b[A\u001b[A\n",
      "\n",
      " 18%|█▊        | 208/1141 [21:22<1:27:18,  5.61s/it]\u001b[A\u001b[A\n",
      "\n",
      " 18%|█▊        | 209/1141 [21:27<1:26:43,  5.58s/it]\u001b[A\u001b[A"
     ]
    },
    {
     "name": "stdout",
     "output_type": "stream",
     "text": [
      "'examples'\n"
     ]
    },
    {
     "name": "stderr",
     "output_type": "stream",
     "text": [
      "\n",
      "\n",
      " 18%|█▊        | 210/1141 [21:33<1:26:35,  5.58s/it]\u001b[A\u001b[A\n",
      "\n",
      " 18%|█▊        | 211/1141 [21:38<1:26:10,  5.56s/it]\u001b[A\u001b[A\n",
      "\n",
      " 19%|█▊        | 212/1141 [21:44<1:25:56,  5.55s/it]\u001b[A\u001b[A"
     ]
    },
    {
     "name": "stdout",
     "output_type": "stream",
     "text": [
      "'etymologies'\n"
     ]
    },
    {
     "name": "stderr",
     "output_type": "stream",
     "text": [
      "\n",
      "\n",
      " 19%|█▊        | 213/1141 [21:49<1:25:46,  5.55s/it]\u001b[A\u001b[A"
     ]
    },
    {
     "name": "stdout",
     "output_type": "stream",
     "text": [
      "'etymologies'\n"
     ]
    },
    {
     "name": "stderr",
     "output_type": "stream",
     "text": [
      "\n",
      "\n",
      " 19%|█▉        | 214/1141 [22:01<1:51:41,  7.23s/it]\u001b[A\u001b[A"
     ]
    },
    {
     "name": "stdout",
     "output_type": "stream",
     "text": [
      "'etymologies'\n"
     ]
    },
    {
     "name": "stderr",
     "output_type": "stream",
     "text": [
      "\n",
      "\n",
      " 19%|█▉        | 215/1141 [22:06<1:43:36,  6.71s/it]\u001b[A\u001b[A\n",
      "\n",
      " 19%|█▉        | 216/1141 [22:12<1:37:56,  6.35s/it]\u001b[A\u001b[A\n",
      "\n",
      " 19%|█▉        | 217/1141 [22:17<1:34:02,  6.11s/it]\u001b[A\u001b[A\n",
      "\n",
      " 19%|█▉        | 218/1141 [22:23<1:31:19,  5.94s/it]\u001b[A\u001b[A\n",
      "\n",
      " 19%|█▉        | 219/1141 [22:28<1:29:19,  5.81s/it]\u001b[A\u001b[A\n",
      "\n",
      " 19%|█▉        | 220/1141 [22:34<1:28:17,  5.75s/it]\u001b[A\u001b[A\n",
      "\n",
      " 19%|█▉        | 221/1141 [22:39<1:27:42,  5.72s/it]\u001b[A\u001b[A"
     ]
    },
    {
     "name": "stdout",
     "output_type": "stream",
     "text": [
      "'examples'\n"
     ]
    },
    {
     "name": "stderr",
     "output_type": "stream",
     "text": [
      "\n",
      "\n",
      " 19%|█▉        | 222/1141 [22:45<1:26:46,  5.67s/it]\u001b[A\u001b[A"
     ]
    },
    {
     "name": "stdout",
     "output_type": "stream",
     "text": [
      "'etymologies'\n"
     ]
    },
    {
     "name": "stderr",
     "output_type": "stream",
     "text": [
      "\n",
      "\n",
      " 20%|█▉        | 223/1141 [22:51<1:26:39,  5.66s/it]\u001b[A\u001b[A\n",
      "\n",
      " 20%|█▉        | 224/1141 [22:56<1:26:04,  5.63s/it]\u001b[A\u001b[A"
     ]
    },
    {
     "name": "stdout",
     "output_type": "stream",
     "text": [
      "'etymologies'\n"
     ]
    },
    {
     "name": "stderr",
     "output_type": "stream",
     "text": [
      "\n",
      "\n",
      " 20%|█▉        | 225/1141 [23:02<1:26:17,  5.65s/it]\u001b[A\u001b[A\n",
      "\n",
      " 20%|█▉        | 226/1141 [23:08<1:26:25,  5.67s/it]\u001b[A\u001b[A\n",
      "\n",
      " 20%|█▉        | 227/1141 [23:13<1:26:03,  5.65s/it]\u001b[A\u001b[A"
     ]
    },
    {
     "name": "stdout",
     "output_type": "stream",
     "text": [
      "'etymologies'\n"
     ]
    },
    {
     "name": "stderr",
     "output_type": "stream",
     "text": [
      "\n",
      "\n",
      " 20%|█▉        | 228/1141 [23:19<1:25:52,  5.64s/it]\u001b[A\u001b[A\n",
      "\n",
      " 20%|██        | 229/1141 [23:25<1:26:21,  5.68s/it]\u001b[A\u001b[A"
     ]
    },
    {
     "name": "stdout",
     "output_type": "stream",
     "text": [
      "'examples'\n"
     ]
    },
    {
     "name": "stderr",
     "output_type": "stream",
     "text": [
      "\n",
      "\n",
      " 20%|██        | 230/1141 [23:30<1:25:59,  5.66s/it]\u001b[A\u001b[A\n",
      "\n",
      " 20%|██        | 231/1141 [23:36<1:25:44,  5.65s/it]\u001b[A\u001b[A"
     ]
    },
    {
     "name": "stdout",
     "output_type": "stream",
     "text": [
      "'etymologies'\n"
     ]
    },
    {
     "name": "stderr",
     "output_type": "stream",
     "text": [
      "\n",
      "\n",
      " 20%|██        | 232/1141 [23:41<1:25:29,  5.64s/it]\u001b[A\u001b[A"
     ]
    },
    {
     "name": "stdout",
     "output_type": "stream",
     "text": [
      "'pronunciations'\n",
      "'pronunciations'\n"
     ]
    },
    {
     "name": "stderr",
     "output_type": "stream",
     "text": [
      "\n",
      "\n",
      " 20%|██        | 233/1141 [23:47<1:25:22,  5.64s/it]\u001b[A\u001b[A\n",
      "\n",
      " 21%|██        | 234/1141 [23:53<1:25:04,  5.63s/it]\u001b[A\u001b[A\n",
      "\n",
      " 21%|██        | 235/1141 [23:58<1:24:33,  5.60s/it]\u001b[A\u001b[A"
     ]
    },
    {
     "name": "stdout",
     "output_type": "stream",
     "text": [
      "'examples'\n"
     ]
    },
    {
     "name": "stderr",
     "output_type": "stream",
     "text": [
      "\n",
      "\n",
      " 21%|██        | 236/1141 [24:04<1:24:20,  5.59s/it]\u001b[A\u001b[A"
     ]
    },
    {
     "name": "stdout",
     "output_type": "stream",
     "text": [
      "'etymologies'\n",
      "'audioFile'\n"
     ]
    },
    {
     "name": "stderr",
     "output_type": "stream",
     "text": [
      "\n",
      "\n",
      " 21%|██        | 237/1141 [24:09<1:24:14,  5.59s/it]\u001b[A\u001b[A"
     ]
    },
    {
     "name": "stdout",
     "output_type": "stream",
     "text": [
      "'examples'\n"
     ]
    },
    {
     "name": "stderr",
     "output_type": "stream",
     "text": [
      "\n",
      "\n",
      " 21%|██        | 238/1141 [24:15<1:24:10,  5.59s/it]\u001b[A\u001b[A\n",
      "\n",
      " 21%|██        | 239/1141 [24:21<1:23:55,  5.58s/it]\u001b[A\u001b[A"
     ]
    },
    {
     "name": "stdout",
     "output_type": "stream",
     "text": [
      "'examples'\n"
     ]
    },
    {
     "name": "stderr",
     "output_type": "stream",
     "text": [
      "\n",
      "\n",
      " 21%|██        | 240/1141 [24:26<1:24:24,  5.62s/it]\u001b[A\u001b[A"
     ]
    },
    {
     "name": "stdout",
     "output_type": "stream",
     "text": [
      "'examples'\n"
     ]
    },
    {
     "name": "stderr",
     "output_type": "stream",
     "text": [
      "\n",
      "\n",
      " 21%|██        | 241/1141 [24:32<1:24:26,  5.63s/it]\u001b[A\u001b[A"
     ]
    },
    {
     "name": "stdout",
     "output_type": "stream",
     "text": [
      "'etymologies'\n"
     ]
    },
    {
     "name": "stderr",
     "output_type": "stream",
     "text": [
      "\n",
      "\n",
      " 21%|██        | 242/1141 [24:37<1:23:50,  5.60s/it]\u001b[A\u001b[A"
     ]
    },
    {
     "name": "stdout",
     "output_type": "stream",
     "text": [
      "'examples'\n"
     ]
    },
    {
     "name": "stderr",
     "output_type": "stream",
     "text": [
      "\n",
      "\n",
      " 21%|██▏       | 243/1141 [24:43<1:23:21,  5.57s/it]\u001b[A\u001b[A"
     ]
    },
    {
     "name": "stdout",
     "output_type": "stream",
     "text": [
      "'examples'\n",
      "'etymologies'\n"
     ]
    },
    {
     "name": "stderr",
     "output_type": "stream",
     "text": [
      "\n",
      "\n",
      " 21%|██▏       | 244/1141 [24:54<1:48:17,  7.24s/it]\u001b[A\u001b[A"
     ]
    },
    {
     "name": "stdout",
     "output_type": "stream",
     "text": [
      "'etymologies'\n"
     ]
    },
    {
     "name": "stderr",
     "output_type": "stream",
     "text": [
      "\n",
      "\n",
      " 21%|██▏       | 245/1141 [25:00<1:40:30,  6.73s/it]\u001b[A\u001b[A\n",
      "\n",
      " 22%|██▏       | 246/1141 [25:05<1:35:35,  6.41s/it]\u001b[A\u001b[A"
     ]
    },
    {
     "name": "stdout",
     "output_type": "stream",
     "text": [
      "'examples'\n"
     ]
    },
    {
     "name": "stderr",
     "output_type": "stream",
     "text": [
      "\n",
      "\n",
      " 22%|██▏       | 247/1141 [25:11<1:31:38,  6.15s/it]\u001b[A\u001b[A"
     ]
    },
    {
     "name": "stdout",
     "output_type": "stream",
     "text": [
      "'etymologies'\n",
      "'examples'\n",
      "'etymologies'\n",
      "'phoneticSpelling'\n"
     ]
    },
    {
     "name": "stderr",
     "output_type": "stream",
     "text": [
      "\n",
      "\n",
      " 22%|██▏       | 248/1141 [25:23<1:57:33,  7.90s/it]\u001b[A\u001b[A"
     ]
    },
    {
     "name": "stdout",
     "output_type": "stream",
     "text": [
      "'etymologies'\n",
      "'phoneticSpelling'\n"
     ]
    },
    {
     "name": "stderr",
     "output_type": "stream",
     "text": [
      "\n",
      "\n",
      " 22%|██▏       | 249/1141 [25:28<1:46:57,  7.19s/it]\u001b[A\u001b[A"
     ]
    },
    {
     "name": "stdout",
     "output_type": "stream",
     "text": [
      "'etymologies'\n"
     ]
    },
    {
     "name": "stderr",
     "output_type": "stream",
     "text": [
      "\n",
      "\n",
      " 22%|██▏       | 250/1141 [25:39<2:04:13,  8.37s/it]\u001b[A\u001b[A"
     ]
    },
    {
     "name": "stdout",
     "output_type": "stream",
     "text": [
      "'etymologies'\n",
      "'etymologies'\n"
     ]
    },
    {
     "name": "stderr",
     "output_type": "stream",
     "text": [
      "\n",
      "\n",
      " 22%|██▏       | 251/1141 [25:51<2:16:29,  9.20s/it]\u001b[A\u001b[A"
     ]
    },
    {
     "name": "stdout",
     "output_type": "stream",
     "text": [
      "'etymologies'\n",
      "'examples'\n"
     ]
    },
    {
     "name": "stderr",
     "output_type": "stream",
     "text": [
      "\n",
      "\n",
      " 22%|██▏       | 252/1141 [26:02<2:24:53,  9.78s/it]\u001b[A\u001b[A"
     ]
    },
    {
     "name": "stdout",
     "output_type": "stream",
     "text": [
      "'examples'\n"
     ]
    },
    {
     "name": "stderr",
     "output_type": "stream",
     "text": [
      "\n",
      "\n",
      " 22%|██▏       | 253/1141 [26:07<2:06:03,  8.52s/it]\u001b[A\u001b[A\n",
      "\n",
      " 22%|██▏       | 254/1141 [26:13<1:53:30,  7.68s/it]\u001b[A\u001b[A\n",
      "\n",
      " 22%|██▏       | 255/1141 [26:19<1:44:04,  7.05s/it]\u001b[A\u001b[A\n",
      "\n",
      " 22%|██▏       | 256/1141 [26:24<1:37:13,  6.59s/it]\u001b[A\u001b[A"
     ]
    },
    {
     "name": "stdout",
     "output_type": "stream",
     "text": [
      "'examples'\n"
     ]
    },
    {
     "name": "stderr",
     "output_type": "stream",
     "text": [
      "\n",
      "\n",
      " 23%|██▎       | 257/1141 [26:30<1:32:35,  6.28s/it]\u001b[A\u001b[A"
     ]
    },
    {
     "name": "stdout",
     "output_type": "stream",
     "text": [
      "'examples'\n"
     ]
    },
    {
     "name": "stderr",
     "output_type": "stream",
     "text": [
      "\n",
      "\n",
      " 23%|██▎       | 258/1141 [26:35<1:29:22,  6.07s/it]\u001b[A\u001b[A\n",
      "\n",
      " 23%|██▎       | 259/1141 [26:41<1:27:04,  5.92s/it]\u001b[A\u001b[A\n",
      "\n",
      " 23%|██▎       | 260/1141 [26:46<1:25:24,  5.82s/it]\u001b[A\u001b[A\n",
      "\n",
      " 23%|██▎       | 261/1141 [26:52<1:24:34,  5.77s/it]\u001b[A\u001b[A\n",
      "\n",
      " 23%|██▎       | 262/1141 [26:58<1:23:41,  5.71s/it]\u001b[A\u001b[A\n",
      "\n",
      " 23%|██▎       | 263/1141 [27:03<1:22:53,  5.66s/it]\u001b[A\u001b[A"
     ]
    },
    {
     "name": "stdout",
     "output_type": "stream",
     "text": [
      "'examples'\n"
     ]
    },
    {
     "name": "stderr",
     "output_type": "stream",
     "text": [
      "\n",
      "\n",
      " 23%|██▎       | 264/1141 [27:09<1:22:25,  5.64s/it]\u001b[A\u001b[A"
     ]
    },
    {
     "name": "stdout",
     "output_type": "stream",
     "text": [
      "'etymologies'\n"
     ]
    },
    {
     "name": "stderr",
     "output_type": "stream",
     "text": [
      "\n",
      "\n",
      " 23%|██▎       | 265/1141 [27:14<1:22:05,  5.62s/it]\u001b[A\u001b[A\n",
      "\n",
      " 23%|██▎       | 266/1141 [27:20<1:21:32,  5.59s/it]\u001b[A\u001b[A\n",
      "\n",
      " 23%|██▎       | 267/1141 [27:25<1:21:29,  5.59s/it]\u001b[A\u001b[A\n",
      "\n",
      " 23%|██▎       | 268/1141 [27:31<1:21:10,  5.58s/it]\u001b[A\u001b[A"
     ]
    },
    {
     "name": "stdout",
     "output_type": "stream",
     "text": [
      "'etymologies'\n"
     ]
    },
    {
     "name": "stderr",
     "output_type": "stream",
     "text": [
      "\n",
      "\n",
      " 24%|██▎       | 269/1141 [27:42<1:45:27,  7.26s/it]\u001b[A\u001b[A"
     ]
    },
    {
     "name": "stdout",
     "output_type": "stream",
     "text": [
      "'etymologies'\n",
      "'results'\n",
      "'results'\n",
      "'results'\n",
      "'results'\n",
      "'results'\n",
      "'results'\n",
      "'results'\n",
      "'results'\n",
      "'results'\n"
     ]
    },
    {
     "name": "stderr",
     "output_type": "stream",
     "text": [
      "\n",
      "\n",
      " 24%|██▎       | 270/1141 [27:59<2:26:20, 10.08s/it]\u001b[A\u001b[A"
     ]
    },
    {
     "name": "stdout",
     "output_type": "stream",
     "text": [
      "'results'\n",
      "'results'\n",
      "'results'\n",
      "'results'\n",
      "'results'\n",
      "'results'\n",
      "'results'\n",
      "'results'\n",
      "'results'\n",
      "'results'\n",
      "'results'\n",
      "'results'\n"
     ]
    },
    {
     "name": "stderr",
     "output_type": "stream",
     "text": [
      "\n",
      "\n",
      " 24%|██▍       | 274/1141 [28:16<2:00:05,  8.31s/it]\u001b[A\u001b[A"
     ]
    },
    {
     "name": "stdout",
     "output_type": "stream",
     "text": [
      "'results'\n",
      "'results'\n",
      "'results'\n",
      "'etymologies'\n"
     ]
    },
    {
     "name": "stderr",
     "output_type": "stream",
     "text": [
      "\n",
      "\n",
      " 24%|██▍       | 275/1141 [28:27<2:12:56,  9.21s/it]\u001b[A\u001b[A"
     ]
    },
    {
     "name": "stdout",
     "output_type": "stream",
     "text": [
      "'etymologies'\n",
      "'examples'\n",
      "'etymologies'\n",
      "'phoneticSpelling'\n",
      "'examples'\n",
      "'etymologies'\n",
      "'phoneticSpelling'\n"
     ]
    },
    {
     "name": "stderr",
     "output_type": "stream",
     "text": [
      "\n",
      "\n",
      " 24%|██▍       | 276/1141 [28:44<2:48:43, 11.70s/it]\u001b[A\u001b[A"
     ]
    },
    {
     "name": "stdout",
     "output_type": "stream",
     "text": [
      "'etymologies'\n",
      "'phoneticSpelling'\n"
     ]
    },
    {
     "name": "stderr",
     "output_type": "stream",
     "text": [
      "\n",
      "\n",
      " 24%|██▍       | 277/1141 [28:50<2:22:27,  9.89s/it]\u001b[A\u001b[A\n",
      "\n",
      " 24%|██▍       | 278/1141 [28:56<2:03:28,  8.58s/it]\u001b[A\u001b[A\n",
      "\n",
      " 24%|██▍       | 279/1141 [29:01<1:50:42,  7.71s/it]\u001b[A\u001b[A"
     ]
    },
    {
     "name": "stdout",
     "output_type": "stream",
     "text": [
      "'definitions'\n",
      "'examples'\n",
      "'etymologies'\n",
      "'examples'\n",
      "'etymologies'\n"
     ]
    },
    {
     "name": "stderr",
     "output_type": "stream",
     "text": [
      "\n",
      "\n",
      " 25%|██▍       | 280/1141 [29:18<2:29:49, 10.44s/it]\u001b[A\u001b[A"
     ]
    },
    {
     "name": "stdout",
     "output_type": "stream",
     "text": [
      "'etymologies'\n"
     ]
    },
    {
     "name": "stderr",
     "output_type": "stream",
     "text": [
      "\n",
      "\n",
      " 25%|██▍       | 281/1141 [29:24<2:09:01,  9.00s/it]\u001b[A\u001b[A\n",
      "\n",
      " 25%|██▍       | 282/1141 [29:29<1:54:13,  7.98s/it]\u001b[A\u001b[A\n",
      "\n",
      " 25%|██▍       | 283/1141 [29:35<1:43:55,  7.27s/it]\u001b[A\u001b[A\n",
      "\n",
      " 25%|██▍       | 284/1141 [29:41<1:36:58,  6.79s/it]\u001b[A\u001b[A"
     ]
    },
    {
     "name": "stdout",
     "output_type": "stream",
     "text": [
      "'pronunciations'\n",
      "'pronunciations'\n"
     ]
    },
    {
     "name": "stderr",
     "output_type": "stream",
     "text": [
      "\n",
      "\n",
      " 25%|██▍       | 285/1141 [29:46<1:31:33,  6.42s/it]\u001b[A\u001b[A\n",
      "\n",
      " 25%|██▌       | 286/1141 [29:52<1:27:37,  6.15s/it]\u001b[A\u001b[A\n",
      "\n",
      " 25%|██▌       | 287/1141 [29:57<1:25:27,  6.00s/it]\u001b[A\u001b[A\n",
      "\n",
      " 25%|██▌       | 288/1141 [30:03<1:23:47,  5.89s/it]\u001b[A\u001b[A"
     ]
    }
   ],
   "source": [
    "for index in tqdm(df.index):\n",
    "    word_id=df.loc[index,'Word']\n",
    "    word_id=word_id.strip(' ')\n",
    "    word_id=word_id.lower()\n",
    "    if df.loc[index,'Meaning in Japanese']=='':\n",
    "        df.loc[index,'Meaning in Japanese']=weblio_crawler(word_id)\n",
    "    if df.loc[index,'Meaning in English']=='':\n",
    "        info=Oxford_caller(word_id)\n",
    "        df.loc[index,'Meaning in English']=Oxford_info_processor(info,'meaning')\n",
    "        #print(Oxford_info_processor(info,'meaning'))\n",
    "        df.loc[index,'Example']=Oxford_info_processor(info,'example')\n",
    "        df.loc[index,'Origin']=Oxford_info_processor(info,'origin')\n",
    "        df.loc[index,'phonic']=Oxford_info_processor(info,'phonic')\n",
    "        #print(Oxford_info_processor(info,'phonic'))\n",
    "        df.loc[index,'mp3']=Oxford_info_processor(info,'mp3')\n",
    "    if df.loc[index,'Example']=='':\n",
    "        info=Oxford_caller(word_id)\n",
    "        df.loc[index,'Example']=Oxford_info_processor(info,'example')\n",
    "        df.loc[index,'Origin']=Oxford_info_processor(info,'origin')\n",
    "        df.loc[index,'phonic']=Oxford_info_processor(info,'phonic')\n",
    "        df.loc[index,'mp3']=Oxford_info_processor(info,'mp3')\n",
    "    if df.loc[index,'Origin']=='':\n",
    "        info=Oxford_caller(word_id)\n",
    "        df.loc[index,'Origin']=Oxford_info_processor(info,'origin')\n",
    "        df.loc[index,'phonic']=Oxford_info_processor(info,'phonic')\n",
    "        df.loc[index,'mp3']=Oxford_info_processor(info,'mp3')\n",
    "    \n",
    "        "
   ]
  },
  {
   "cell_type": "code",
   "execution_count": null,
   "metadata": {},
   "outputs": [],
   "source": [
    "spread.df_to_sheet(df, index=True, sheet='result', start='A1', replace=True)"
   ]
  },
  {
   "cell_type": "code",
   "execution_count": null,
   "metadata": {},
   "outputs": [],
   "source": [
    "df"
   ]
  },
  {
   "cell_type": "code",
   "execution_count": null,
   "metadata": {},
   "outputs": [],
   "source": []
  }
 ],
 "metadata": {
  "kernelspec": {
   "display_name": "Python 3",
   "language": "python",
   "name": "python3"
  },
  "language_info": {
   "codemirror_mode": {
    "name": "ipython",
    "version": 3
   },
   "file_extension": ".py",
   "mimetype": "text/x-python",
   "name": "python",
   "nbconvert_exporter": "python",
   "pygments_lexer": "ipython3",
   "version": "3.5.3"
  }
 },
 "nbformat": 4,
 "nbformat_minor": 2
}
