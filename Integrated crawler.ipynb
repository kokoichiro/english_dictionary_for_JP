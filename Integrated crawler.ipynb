{
 "cells": [
  {
   "cell_type": "code",
   "execution_count": 1,
   "metadata": {},
   "outputs": [],
   "source": [
    "from __future__ import print_function\n",
    "import pandas as pd\n",
    "import gspread_pandas\n",
    "from oauth2client.service_account import ServiceAccountCredentials\n",
    "import requests\n",
    "from bs4 import BeautifulSoup\n",
    "from urllib.request import urlopen\n",
    "import json\n",
    "from tqdm import tqdm\n",
    "from time import sleep\n",
    "import yaml"
   ]
  },
  {
   "cell_type": "code",
   "execution_count": 7,
   "metadata": {},
   "outputs": [],
   "source": [
    "config=gspread_pandas.conf.get_config(conf_dir='/home/dev-cory/learning_english/credential/',file_name='client_secret_english_crawl.json')\n",
    "#gspread_pandas.conf.get_config\n",
    "gspread_pandas.conf.get_config\n",
    "with open('./credential/learning_english.yaml','r') as ymlfile:\n",
    "    cfg = yaml.load(ymlfile,Loader=yaml.BaseLoader)\n",
    "app_id = cfg['OxfordAPI']['app_id']\n",
    "app_key = cfg['OxfordAPI']['app_key']\n",
    "language = 'en'"
   ]
  },
  {
   "cell_type": "code",
   "execution_count": 8,
   "metadata": {},
   "outputs": [],
   "source": [
    "spread = gspread_pandas.Spread('Oxford vocabulary',config=config)"
   ]
  },
  {
   "cell_type": "code",
   "execution_count": 9,
   "metadata": {},
   "outputs": [],
   "source": [
    "df=spread.sheet_to_df(sheet='vocab')"
   ]
  },
  {
   "cell_type": "code",
   "execution_count": 10,
   "metadata": {},
   "outputs": [
    {
     "data": {
      "text/html": [
       "<div>\n",
       "<style scoped>\n",
       "    .dataframe tbody tr th:only-of-type {\n",
       "        vertical-align: middle;\n",
       "    }\n",
       "\n",
       "    .dataframe tbody tr th {\n",
       "        vertical-align: top;\n",
       "    }\n",
       "\n",
       "    .dataframe thead th {\n",
       "        text-align: right;\n",
       "    }\n",
       "</style>\n",
       "<table border=\"1\" class=\"dataframe\">\n",
       "  <thead>\n",
       "    <tr style=\"text-align: right;\">\n",
       "      <th></th>\n",
       "      <th>Word</th>\n",
       "      <th>Importance</th>\n",
       "      <th>Meaning in Japanese</th>\n",
       "      <th>Meaning in English</th>\n",
       "      <th>Example</th>\n",
       "      <th>Origin</th>\n",
       "      <th>Pronunciation</th>\n",
       "      <th>Mp3 - pronunciation</th>\n",
       "    </tr>\n",
       "    <tr>\n",
       "      <th>ru</th>\n",
       "      <th></th>\n",
       "      <th></th>\n",
       "      <th></th>\n",
       "      <th></th>\n",
       "      <th></th>\n",
       "      <th></th>\n",
       "      <th></th>\n",
       "      <th></th>\n",
       "    </tr>\n",
       "  </thead>\n",
       "  <tbody>\n",
       "    <tr>\n",
       "      <td>1</td>\n",
       "      <td>retaliate</td>\n",
       "      <td>3</td>\n",
       "      <td>仕返しする</td>\n",
       "      <td>1: make an attack in return for a similar atta...</td>\n",
       "      <td></td>\n",
       "      <td>early 17th century: from Latin retaliat-‘retur...</td>\n",
       "      <td>rɪˈtalɪeɪt</td>\n",
       "      <td>http://audio.oxforddictionaries.com/en/mp3/ret...</td>\n",
       "    </tr>\n",
       "    <tr>\n",
       "      <td>2</td>\n",
       "      <td>detain</td>\n",
       "      <td>3</td>\n",
       "      <td>拘束する</td>\n",
       "      <td>keep (someone) from proceeding by holding them...</td>\n",
       "      <td></td>\n",
       "      <td>late Middle English (in the sense ‘be afflicte...</td>\n",
       "      <td>dɪˈteɪn</td>\n",
       "      <td>http://audio.oxforddictionaries.com/en/mp3/det...</td>\n",
       "    </tr>\n",
       "    <tr>\n",
       "      <td>3</td>\n",
       "      <td>resilient</td>\n",
       "      <td>3</td>\n",
       "      <td>はね返る、弾力のある、たちまち元気を回復する、快活な、溌刺(はつらつ)とした</td>\n",
       "      <td>(of a person or animal) able to withstand or r...</td>\n",
       "      <td></td>\n",
       "      <td>mid 17th century: from Latin resilient-‘leapin...</td>\n",
       "      <td>rɪˈzɪlɪənt</td>\n",
       "      <td>http://audio.oxforddictionaries.com/en/mp3/res...</td>\n",
       "    </tr>\n",
       "    <tr>\n",
       "      <td>4</td>\n",
       "      <td>lineage</td>\n",
       "      <td>4</td>\n",
       "      <td>血統、系統、家柄</td>\n",
       "      <td>direct descent from an ancestor; ancestry or p...</td>\n",
       "      <td></td>\n",
       "      <td>Middle English: from Old French lignage, from ...</td>\n",
       "      <td>ˈlɪnɪɪdʒ</td>\n",
       "      <td>http://audio.oxforddictionaries.com/en/mp3/lin...</td>\n",
       "    </tr>\n",
       "    <tr>\n",
       "      <td>5</td>\n",
       "      <td>migration</td>\n",
       "      <td>1</td>\n",
       "      <td>移住、転住、渡り、移住者群、移動する動物の群</td>\n",
       "      <td>1: seasonal movement of animals from one regio...</td>\n",
       "      <td></td>\n",
       "      <td></td>\n",
       "      <td>mʌɪˈɡreɪʃ(ə)n</td>\n",
       "      <td>http://audio.oxforddictionaries.com/en/mp3/mig...</td>\n",
       "    </tr>\n",
       "    <tr>\n",
       "      <td>...</td>\n",
       "      <td>...</td>\n",
       "      <td>...</td>\n",
       "      <td>...</td>\n",
       "      <td>...</td>\n",
       "      <td>...</td>\n",
       "      <td>...</td>\n",
       "      <td>...</td>\n",
       "      <td>...</td>\n",
       "    </tr>\n",
       "    <tr>\n",
       "      <td>1386</td>\n",
       "      <td>epicentre</td>\n",
       "      <td></td>\n",
       "      <td></td>\n",
       "      <td></td>\n",
       "      <td>Twenty kilometres up from the epicentre and a ...</td>\n",
       "      <td></td>\n",
       "      <td></td>\n",
       "      <td></td>\n",
       "    </tr>\n",
       "    <tr>\n",
       "      <td>1387</td>\n",
       "      <td>frazzle</td>\n",
       "      <td></td>\n",
       "      <td></td>\n",
       "      <td></td>\n",
       "      <td>In the first, frazzled workers shovel huge pil...</td>\n",
       "      <td></td>\n",
       "      <td></td>\n",
       "      <td></td>\n",
       "    </tr>\n",
       "    <tr>\n",
       "      <td>1388</td>\n",
       "      <td>fiery</td>\n",
       "      <td></td>\n",
       "      <td></td>\n",
       "      <td></td>\n",
       "      <td>In the first, frazzled workers shovel huge pil...</td>\n",
       "      <td></td>\n",
       "      <td></td>\n",
       "      <td></td>\n",
       "    </tr>\n",
       "    <tr>\n",
       "      <td>1389</td>\n",
       "      <td>sewage</td>\n",
       "      <td></td>\n",
       "      <td></td>\n",
       "      <td></td>\n",
       "      <td>In the second, a group of workers stand, waist...</td>\n",
       "      <td></td>\n",
       "      <td></td>\n",
       "      <td></td>\n",
       "    </tr>\n",
       "    <tr>\n",
       "      <td>1390</td>\n",
       "      <td>adjudicate</td>\n",
       "      <td></td>\n",
       "      <td></td>\n",
       "      <td></td>\n",
       "      <td>The academics point out that “what we are not ...</td>\n",
       "      <td></td>\n",
       "      <td></td>\n",
       "      <td></td>\n",
       "    </tr>\n",
       "  </tbody>\n",
       "</table>\n",
       "<p>1378 rows × 8 columns</p>\n",
       "</div>"
      ],
      "text/plain": [
       "            Word Importance                     Meaning in Japanese  \\\n",
       "ru                                                                    \n",
       "1      retaliate          3                                   仕返しする   \n",
       "2         detain          3                                    拘束する   \n",
       "3      resilient          3  はね返る、弾力のある、たちまち元気を回復する、快活な、溌刺(はつらつ)とした   \n",
       "4        lineage          4                                血統、系統、家柄   \n",
       "5      migration          1                  移住、転住、渡り、移住者群、移動する動物の群   \n",
       "...          ...        ...                                     ...   \n",
       "1386   epicentre                                                      \n",
       "1387     frazzle                                                      \n",
       "1388       fiery                                                      \n",
       "1389      sewage                                                      \n",
       "1390  adjudicate                                                      \n",
       "\n",
       "                                     Meaning in English  \\\n",
       "ru                                                        \n",
       "1     1: make an attack in return for a similar atta...   \n",
       "2     keep (someone) from proceeding by holding them...   \n",
       "3     (of a person or animal) able to withstand or r...   \n",
       "4     direct descent from an ancestor; ancestry or p...   \n",
       "5     1: seasonal movement of animals from one regio...   \n",
       "...                                                 ...   \n",
       "1386                                                      \n",
       "1387                                                      \n",
       "1388                                                      \n",
       "1389                                                      \n",
       "1390                                                      \n",
       "\n",
       "                                                Example  \\\n",
       "ru                                                        \n",
       "1                                                         \n",
       "2                                                         \n",
       "3                                                         \n",
       "4                                                         \n",
       "5                                                         \n",
       "...                                                 ...   \n",
       "1386  Twenty kilometres up from the epicentre and a ...   \n",
       "1387  In the first, frazzled workers shovel huge pil...   \n",
       "1388  In the first, frazzled workers shovel huge pil...   \n",
       "1389  In the second, a group of workers stand, waist...   \n",
       "1390  The academics point out that “what we are not ...   \n",
       "\n",
       "                                                 Origin  Pronunciation  \\\n",
       "ru                                                                       \n",
       "1     early 17th century: from Latin retaliat-‘retur...     rɪˈtalɪeɪt   \n",
       "2     late Middle English (in the sense ‘be afflicte...        dɪˈteɪn   \n",
       "3     mid 17th century: from Latin resilient-‘leapin...     rɪˈzɪlɪənt   \n",
       "4     Middle English: from Old French lignage, from ...       ˈlɪnɪɪdʒ   \n",
       "5                                                        mʌɪˈɡreɪʃ(ə)n   \n",
       "...                                                 ...            ...   \n",
       "1386                                                                     \n",
       "1387                                                                     \n",
       "1388                                                                     \n",
       "1389                                                                     \n",
       "1390                                                                     \n",
       "\n",
       "                                    Mp3 - pronunciation  \n",
       "ru                                                       \n",
       "1     http://audio.oxforddictionaries.com/en/mp3/ret...  \n",
       "2     http://audio.oxforddictionaries.com/en/mp3/det...  \n",
       "3     http://audio.oxforddictionaries.com/en/mp3/res...  \n",
       "4     http://audio.oxforddictionaries.com/en/mp3/lin...  \n",
       "5     http://audio.oxforddictionaries.com/en/mp3/mig...  \n",
       "...                                                 ...  \n",
       "1386                                                     \n",
       "1387                                                     \n",
       "1388                                                     \n",
       "1389                                                     \n",
       "1390                                                     \n",
       "\n",
       "[1378 rows x 8 columns]"
      ]
     },
     "execution_count": 10,
     "metadata": {},
     "output_type": "execute_result"
    }
   ],
   "source": [
    "df"
   ]
  },
  {
   "cell_type": "code",
   "execution_count": 11,
   "metadata": {},
   "outputs": [
    {
     "data": {
      "text/plain": [
       "'血統、系統、家柄'"
      ]
     },
     "execution_count": 11,
     "metadata": {},
     "output_type": "execute_result"
    }
   ],
   "source": [
    " df.loc['4','Meaning in Japanese']"
   ]
  },
  {
   "cell_type": "code",
   "execution_count": 12,
   "metadata": {},
   "outputs": [],
   "source": [
    "def weblio_crawler(word_id):\n",
    "    url ='https://ejje.weblio.jp/content/'+word_id\n",
    "    try:\n",
    "        html_page = urlopen(url)\n",
    "        soup = BeautifulSoup(html_page)\n",
    "        text=soup.find('td',attrs={\"class\", \"content-explanation ej\"})\n",
    "        answer=text.contents[0]\n",
    "    except:\n",
    "        answer=''\n",
    "    return answer"
   ]
  },
  {
   "cell_type": "code",
   "execution_count": 13,
   "metadata": {},
   "outputs": [],
   "source": [
    "def Oxford_definition_caller(word_id,app_id=app_id,app_key=app_key,language ='en'):\n",
    "    url = 'https://od-api.oxforddictionaries.com:443/api/v2/entries/'  + language + '/'  + word_id.lower()\n",
    "    urlFR = 'https://od-api.oxforddictionaries.com:443/api/v2/stats/frequency/word/'  + language + '/?corpus=nmc&lemma=' + word_id.lower()\n",
    "    try:\n",
    "        r = requests.get(url, headers = {'app_id' : app_id, 'app_key' : app_key})\n",
    "        info=r.json()\n",
    "        x=1\n",
    "        answer=''\n",
    "        for i in info[\"results\"][0]['lexicalEntries'][0][\"entries\"][0][\"senses\"]:\n",
    "            answer=answer +str(x)+': '+str(i[\"definitions\"][0])+'  '\n",
    "            x+=1\n",
    "            sleep(5)\n",
    "    except:\n",
    "        answer=''\n",
    "    return answer"
   ]
  },
  {
   "cell_type": "code",
   "execution_count": 14,
   "metadata": {},
   "outputs": [],
   "source": [
    "def Oxford_caller(word_id,app_id=app_id,app_key=app_key,language ='en'):\n",
    "    url = 'https://od-api.oxforddictionaries.com:443/api/v2/entries/'  + language + '/'  + word_id.lower()\n",
    "    urlFR = 'https://od-api.oxforddictionaries.com:443/api/v2/stats/frequency/word/'  + language + '/?corpus=nmc&lemma=' + word_id.lower()\n",
    "    try:\n",
    "        r = requests.get(url, headers = {'app_id' : app_id, 'app_key' : app_key})\n",
    "        info=r.json()\n",
    "        sleep(5)\n",
    "    except Exception as e:\n",
    "        print(e)\n",
    "        info=''\n",
    "    return info"
   ]
  },
  {
   "cell_type": "code",
   "execution_count": 15,
   "metadata": {},
   "outputs": [],
   "source": [
    "def Oxford_example_caller(word_id,app_id=app_id,app_key=app_key,language ='en'):\n",
    "    url = 'https://od-api.oxforddictionaries.com:443/api/v2/entries/'  + language + '/'  + word_id.lower()\n",
    "    urlFR = 'https://od-api.oxforddictionaries.com:443/api/v2/stats/frequency/word/'  + language + '/?corpus=nmc&lemma=' + word_id.lower()\n",
    "    try:\n",
    "        r = requests.get(url, headers = {'app_id' : app_id, 'app_key' : app_key})\n",
    "        info=r.json()\n",
    "        x=1\n",
    "        answer=''\n",
    "        for i in info[\"results\"][0]['lexicalEntries'][0][\"entries\"][0][\"senses\"]:\n",
    "            answer=answer +str(x)+': '+str(i[\"examples\"][0][\"text\"])+'  '\n",
    "            x+=1\n",
    "            sleep(5)\n",
    "    except:\n",
    "        answer=''\n",
    "    return answer"
   ]
  },
  {
   "cell_type": "code",
   "execution_count": 16,
   "metadata": {},
   "outputs": [],
   "source": [
    "def Oxford_info_processor(info,target):\n",
    "    try:\n",
    "        answer=''\n",
    "        if target=='meaning':\n",
    "            x=1\n",
    "            for i in info[\"results\"][0]['lexicalEntries'][0][\"entries\"][0][\"senses\"]:\n",
    "                answer=answer +str(x)+': '+str(i[\"definitions\"][0])+' \\r\\n'\n",
    "                x+=1       \n",
    "        elif target=='phonic':\n",
    "            answer=info[\"results\"][0]['lexicalEntries'][0][\"pronunciations\"][0][\"phoneticSpelling\"]\n",
    "        elif target=='example':\n",
    "            x=1\n",
    "            for i in info[\"results\"][0]['lexicalEntries'][0][\"entries\"][0][\"senses\"]:\n",
    "                answer=answer +str(x)+': '+str(i[\"examples\"][0][\"text\"])+' \\r\\n'\n",
    "                x+=1\n",
    "        elif target=='mp3':\n",
    "            answer=info[\"results\"][0]['lexicalEntries'][0][\"pronunciations\"][0][\"audioFile\"]\n",
    "        elif target=='origin':\n",
    "            answer=info[\"results\"][0]['lexicalEntries'][0]['entries'][0]['etymologies'][0]\n",
    "    except Exception as e:\n",
    "        print(e)\n",
    "        answer=''\n",
    "    return answer"
   ]
  },
  {
   "cell_type": "code",
   "execution_count": 17,
   "metadata": {},
   "outputs": [
    {
     "name": "stderr",
     "output_type": "stream",
     "text": [
      "  2%|▏         | 32/1378 [00:05<04:00,  5.60it/s]"
     ]
    },
    {
     "name": "stdout",
     "output_type": "stream",
     "text": [
      "'definitions'\n",
      "'examples'\n"
     ]
    },
    {
     "name": "stderr",
     "output_type": "stream",
     "text": [
      "\r",
      "  3%|▎         | 41/1378 [00:11<07:03,  3.16it/s]"
     ]
    },
    {
     "name": "stdout",
     "output_type": "stream",
     "text": [
      "'definitions'\n",
      "'examples'\n",
      "'etymologies'\n"
     ]
    },
    {
     "name": "stderr",
     "output_type": "stream",
     "text": [
      "\r",
      " 10%|▉         | 135/1378 [00:17<04:58,  4.17it/s]"
     ]
    },
    {
     "name": "stdout",
     "output_type": "stream",
     "text": [
      "'results'\n",
      "'results'\n",
      "'results'\n",
      "'results'\n",
      "'results'\n"
     ]
    },
    {
     "name": "stderr",
     "output_type": "stream",
     "text": [
      " 13%|█▎        | 184/1378 [00:24<03:58,  5.01it/s]"
     ]
    },
    {
     "name": "stdout",
     "output_type": "stream",
     "text": [
      "'results'\n",
      "'results'\n",
      "'results'\n",
      "'results'\n",
      "'results'\n"
     ]
    },
    {
     "name": "stderr",
     "output_type": "stream",
     "text": [
      " 20%|█▉        | 270/1378 [00:31<03:16,  5.63it/s]"
     ]
    },
    {
     "name": "stdout",
     "output_type": "stream",
     "text": [
      "'results'\n",
      "'results'\n",
      "'results'\n",
      "'results'\n",
      "'results'\n"
     ]
    },
    {
     "name": "stderr",
     "output_type": "stream",
     "text": [
      "\r",
      " 20%|█▉        | 274/1378 [00:36<10:02,  1.83it/s]"
     ]
    },
    {
     "name": "stdout",
     "output_type": "stream",
     "text": [
      "'results'\n",
      "'results'\n",
      "'results'\n",
      "'results'\n",
      "'results'\n"
     ]
    },
    {
     "name": "stderr",
     "output_type": "stream",
     "text": [
      " 20%|██        | 280/1378 [00:43<14:38,  1.25it/s]"
     ]
    },
    {
     "name": "stdout",
     "output_type": "stream",
     "text": [
      "'definitions'\n",
      "'examples'\n",
      "'etymologies'\n"
     ]
    },
    {
     "name": "stderr",
     "output_type": "stream",
     "text": [
      "\r",
      " 21%|██        | 291/1378 [00:50<13:39,  1.33it/s]"
     ]
    },
    {
     "name": "stdout",
     "output_type": "stream",
     "text": [
      "'results'\n",
      "'results'\n",
      "'results'\n",
      "'results'\n",
      "'results'\n"
     ]
    },
    {
     "name": "stderr",
     "output_type": "stream",
     "text": [
      "\r",
      " 21%|██        | 292/1378 [00:56<39:51,  2.20s/it]"
     ]
    },
    {
     "name": "stdout",
     "output_type": "stream",
     "text": [
      "'definitions'\n",
      "'examples'\n",
      "'etymologies'\n"
     ]
    },
    {
     "name": "stderr",
     "output_type": "stream",
     "text": [
      "\r",
      " 22%|██▏       | 309/1378 [01:01<29:12,  1.64s/it]"
     ]
    },
    {
     "name": "stdout",
     "output_type": "stream",
     "text": [
      "'results'\n",
      "'results'\n",
      "'results'\n",
      "'results'\n",
      "'results'\n"
     ]
    },
    {
     "name": "stderr",
     "output_type": "stream",
     "text": [
      "\r",
      " 23%|██▎       | 316/1378 [01:07<24:38,  1.39s/it]"
     ]
    },
    {
     "name": "stdout",
     "output_type": "stream",
     "text": [
      "'results'\n",
      "'results'\n",
      "'results'\n",
      "'results'\n",
      "'results'\n"
     ]
    },
    {
     "name": "stderr",
     "output_type": "stream",
     "text": [
      "\r",
      " 23%|██▎       | 319/1378 [01:12<27:02,  1.53s/it]"
     ]
    },
    {
     "name": "stdout",
     "output_type": "stream",
     "text": [
      "'results'\n",
      "'results'\n",
      "'results'\n",
      "'results'\n",
      "'results'\n"
     ]
    },
    {
     "name": "stderr",
     "output_type": "stream",
     "text": [
      "\r",
      " 23%|██▎       | 323/1378 [01:19<28:06,  1.60s/it]"
     ]
    },
    {
     "name": "stdout",
     "output_type": "stream",
     "text": [
      "'results'\n",
      "'results'\n",
      "'results'\n",
      "'results'\n",
      "'results'\n"
     ]
    },
    {
     "name": "stderr",
     "output_type": "stream",
     "text": [
      "\r",
      " 25%|██▌       | 346/1378 [01:25<20:32,  1.19s/it]"
     ]
    },
    {
     "name": "stdout",
     "output_type": "stream",
     "text": [
      "'results'\n",
      "'results'\n",
      "'results'\n",
      "'results'\n",
      "'results'\n"
     ]
    },
    {
     "name": "stderr",
     "output_type": "stream",
     "text": [
      "\r",
      " 25%|██▌       | 349/1378 [01:31<23:57,  1.40s/it]"
     ]
    },
    {
     "name": "stdout",
     "output_type": "stream",
     "text": [
      "'results'\n",
      "'results'\n",
      "'results'\n",
      "'results'\n",
      "'results'\n"
     ]
    },
    {
     "name": "stderr",
     "output_type": "stream",
     "text": [
      " 27%|██▋       | 369/1378 [01:38<11:51,  1.42it/s]"
     ]
    },
    {
     "name": "stdout",
     "output_type": "stream",
     "text": [
      "'results'\n",
      "'results'\n",
      "'results'\n",
      "'results'\n",
      "'results'\n"
     ]
    },
    {
     "name": "stderr",
     "output_type": "stream",
     "text": [
      "\r",
      " 29%|██▊       | 395/1378 [01:45<09:24,  1.74it/s]"
     ]
    },
    {
     "name": "stdout",
     "output_type": "stream",
     "text": [
      "'results'\n",
      "'results'\n",
      "'results'\n",
      "'results'\n",
      "'results'\n"
     ]
    },
    {
     "name": "stderr",
     "output_type": "stream",
     "text": [
      "\r",
      " 30%|██▉       | 411/1378 [01:53<08:45,  1.84it/s]"
     ]
    },
    {
     "name": "stdout",
     "output_type": "stream",
     "text": [
      "'results'\n",
      "'results'\n",
      "'results'\n",
      "'results'\n",
      "'results'\n"
     ]
    },
    {
     "name": "stderr",
     "output_type": "stream",
     "text": [
      "\r",
      " 32%|███▏      | 445/1378 [01:58<06:41,  2.33it/s]"
     ]
    },
    {
     "name": "stdout",
     "output_type": "stream",
     "text": [
      "'results'\n",
      "'results'\n",
      "'results'\n",
      "'results'\n",
      "'results'\n"
     ]
    },
    {
     "name": "stderr",
     "output_type": "stream",
     "text": [
      "\r",
      " 32%|███▏      | 446/1378 [02:04<31:33,  2.03s/it]"
     ]
    },
    {
     "name": "stdout",
     "output_type": "stream",
     "text": [
      "'definitions'\n"
     ]
    },
    {
     "name": "stderr",
     "output_type": "stream",
     "text": [
      "\r",
      " 34%|███▍      | 471/1378 [02:11<22:46,  1.51s/it]"
     ]
    },
    {
     "name": "stdout",
     "output_type": "stream",
     "text": [
      "'results'\n",
      "'results'\n",
      "'results'\n",
      "'results'\n",
      "'results'\n"
     ]
    },
    {
     "name": "stderr",
     "output_type": "stream",
     "text": [
      "\r",
      " 35%|███▍      | 476/1378 [02:19<22:29,  1.50s/it]"
     ]
    },
    {
     "name": "stdout",
     "output_type": "stream",
     "text": [
      "'results'\n",
      "'results'\n",
      "'results'\n",
      "'results'\n",
      "'results'\n"
     ]
    },
    {
     "name": "stderr",
     "output_type": "stream",
     "text": [
      "\r",
      " 35%|███▌      | 485/1378 [02:25<18:32,  1.25s/it]"
     ]
    },
    {
     "name": "stdout",
     "output_type": "stream",
     "text": [
      "'definitions'\n",
      "'examples'\n",
      "'etymologies'\n",
      "'pronunciations'\n",
      "'pronunciations'\n"
     ]
    },
    {
     "name": "stderr",
     "output_type": "stream",
     "text": [
      " 40%|████      | 554/1378 [02:31<09:00,  1.52it/s]"
     ]
    },
    {
     "name": "stdout",
     "output_type": "stream",
     "text": [
      "'results'\n",
      "'results'\n",
      "'results'\n",
      "'results'\n",
      "'results'\n"
     ]
    },
    {
     "name": "stderr",
     "output_type": "stream",
     "text": [
      "\r",
      " 41%|████      | 560/1378 [02:37<10:04,  1.35it/s]"
     ]
    },
    {
     "name": "stdout",
     "output_type": "stream",
     "text": [
      "'results'\n",
      "'results'\n",
      "'results'\n",
      "'results'\n",
      "'results'\n"
     ]
    },
    {
     "name": "stderr",
     "output_type": "stream",
     "text": [
      "\r",
      " 41%|████▏     | 571/1378 [02:44<09:40,  1.39it/s]"
     ]
    },
    {
     "name": "stdout",
     "output_type": "stream",
     "text": [
      "'results'\n",
      "'results'\n",
      "'results'\n",
      "'results'\n",
      "'results'\n"
     ]
    },
    {
     "name": "stderr",
     "output_type": "stream",
     "text": [
      "\r",
      " 42%|████▏     | 573/1378 [02:51<20:00,  1.49s/it]"
     ]
    },
    {
     "name": "stdout",
     "output_type": "stream",
     "text": [
      "'results'\n",
      "'results'\n",
      "'results'\n",
      "'results'\n",
      "'results'\n"
     ]
    },
    {
     "name": "stderr",
     "output_type": "stream",
     "text": [
      "\r",
      " 42%|████▏     | 581/1378 [02:57<17:07,  1.29s/it]"
     ]
    },
    {
     "name": "stdout",
     "output_type": "stream",
     "text": [
      "'results'\n",
      "'results'\n",
      "'results'\n",
      "'results'\n",
      "'results'\n"
     ]
    },
    {
     "name": "stderr",
     "output_type": "stream",
     "text": [
      "\r",
      " 43%|████▎     | 586/1378 [03:03<16:22,  1.24s/it]"
     ]
    },
    {
     "name": "stdout",
     "output_type": "stream",
     "text": [
      "'results'\n",
      "'results'\n",
      "'results'\n",
      "'results'\n",
      "'results'\n"
     ]
    },
    {
     "name": "stderr",
     "output_type": "stream",
     "text": [
      "\r",
      " 43%|████▎     | 587/1378 [03:09<37:11,  2.82s/it]"
     ]
    },
    {
     "name": "stdout",
     "output_type": "stream",
     "text": [
      "'results'\n",
      "'results'\n",
      "'results'\n",
      "'results'\n",
      "'results'\n"
     ]
    },
    {
     "name": "stderr",
     "output_type": "stream",
     "text": [
      "\r",
      " 43%|████▎     | 588/1378 [03:16<52:06,  3.96s/it]"
     ]
    },
    {
     "name": "stdout",
     "output_type": "stream",
     "text": [
      "'results'\n",
      "'results'\n",
      "'results'\n",
      "'results'\n",
      "'results'\n"
     ]
    },
    {
     "name": "stderr",
     "output_type": "stream",
     "text": [
      " 43%|████▎     | 590/1378 [03:24<55:17,  4.21s/it]"
     ]
    },
    {
     "name": "stdout",
     "output_type": "stream",
     "text": [
      "'results'\n",
      "'results'\n",
      "'results'\n",
      "'results'\n",
      "'results'\n"
     ]
    },
    {
     "name": "stderr",
     "output_type": "stream",
     "text": [
      " 44%|████▎     | 600/1378 [03:38<35:31,  2.74s/it]"
     ]
    },
    {
     "name": "stdout",
     "output_type": "stream",
     "text": [
      "'results'\n",
      "'results'\n",
      "'results'\n",
      "'results'\n",
      "'results'\n"
     ]
    },
    {
     "name": "stderr",
     "output_type": "stream",
     "text": [
      "\r",
      " 44%|████▎     | 602/1378 [03:43<35:50,  2.77s/it]"
     ]
    },
    {
     "name": "stdout",
     "output_type": "stream",
     "text": [
      "'results'\n",
      "'results'\n",
      "'results'\n",
      "'results'\n",
      "'results'\n"
     ]
    },
    {
     "name": "stderr",
     "output_type": "stream",
     "text": [
      " 46%|████▌     | 633/1378 [03:57<26:17,  2.12s/it]"
     ]
    },
    {
     "name": "stdout",
     "output_type": "stream",
     "text": [
      "'results'\n",
      "'results'\n",
      "'results'\n",
      "'results'\n",
      "'results'\n"
     ]
    },
    {
     "name": "stderr",
     "output_type": "stream",
     "text": [
      "\r",
      " 46%|████▌     | 634/1378 [04:04<45:29,  3.67s/it]"
     ]
    },
    {
     "name": "stdout",
     "output_type": "stream",
     "text": [
      "'results'\n",
      "'results'\n",
      "'results'\n",
      "'results'\n",
      "'results'\n"
     ]
    },
    {
     "name": "stderr",
     "output_type": "stream",
     "text": [
      "\r",
      " 46%|████▌     | 637/1378 [04:10<38:39,  3.13s/it]"
     ]
    },
    {
     "name": "stdout",
     "output_type": "stream",
     "text": [
      "'results'\n",
      "'results'\n",
      "'results'\n",
      "'results'\n",
      "'results'\n"
     ]
    },
    {
     "name": "stderr",
     "output_type": "stream",
     "text": [
      "\r",
      " 47%|████▋     | 645/1378 [04:16<29:19,  2.40s/it]"
     ]
    },
    {
     "name": "stdout",
     "output_type": "stream",
     "text": [
      "'etymologies'\n"
     ]
    },
    {
     "name": "stderr",
     "output_type": "stream",
     "text": [
      " 49%|████▉     | 677/1378 [04:23<15:11,  1.30s/it]"
     ]
    },
    {
     "name": "stdout",
     "output_type": "stream",
     "text": [
      "'results'\n",
      "'results'\n",
      "'results'\n",
      "'results'\n",
      "'results'\n"
     ]
    },
    {
     "name": "stderr",
     "output_type": "stream",
     "text": [
      " 50%|█████     | 692/1378 [04:35<11:42,  1.02s/it]"
     ]
    },
    {
     "name": "stdout",
     "output_type": "stream",
     "text": [
      "'results'\n",
      "'results'\n",
      "'results'\n",
      "'results'\n"
     ]
    },
    {
     "name": "stderr",
     "output_type": "stream",
     "text": [
      "\r",
      " 51%|█████     | 699/1378 [04:42<11:31,  1.02s/it]"
     ]
    },
    {
     "name": "stdout",
     "output_type": "stream",
     "text": [
      "'results'\n",
      "'results'\n",
      "'results'\n",
      "'results'\n"
     ]
    },
    {
     "name": "stderr",
     "output_type": "stream",
     "text": [
      "\r",
      " 52%|█████▏    | 722/1378 [04:47<08:35,  1.27it/s]"
     ]
    },
    {
     "name": "stdout",
     "output_type": "stream",
     "text": [
      "'results'\n",
      "'results'\n",
      "'results'\n",
      "'results'\n",
      "'results'\n"
     ]
    },
    {
     "name": "stderr",
     "output_type": "stream",
     "text": [
      "\r",
      " 53%|█████▎    | 734/1378 [04:53<07:25,  1.44it/s]"
     ]
    },
    {
     "name": "stdout",
     "output_type": "stream",
     "text": [
      "'definitions'\n",
      "'examples'\n",
      "'etymologies'\n"
     ]
    },
    {
     "name": "stderr",
     "output_type": "stream",
     "text": [
      "\r",
      " 53%|█████▎    | 737/1378 [04:59<11:15,  1.05s/it]"
     ]
    },
    {
     "name": "stdout",
     "output_type": "stream",
     "text": [
      "'definitions'\n",
      "'examples'\n"
     ]
    },
    {
     "name": "stderr",
     "output_type": "stream",
     "text": [
      "\r",
      " 54%|█████▎    | 738/1378 [05:04<25:51,  2.42s/it]"
     ]
    },
    {
     "name": "stdout",
     "output_type": "stream",
     "text": [
      "'results'\n",
      "'results'\n",
      "'results'\n",
      "'results'\n",
      "'results'\n"
     ]
    },
    {
     "name": "stderr",
     "output_type": "stream",
     "text": [
      "\r",
      " 55%|█████▍    | 754/1378 [05:10<18:44,  1.80s/it]"
     ]
    },
    {
     "name": "stdout",
     "output_type": "stream",
     "text": [
      "'results'\n",
      "'results'\n",
      "'results'\n",
      "'results'\n",
      "'results'\n"
     ]
    },
    {
     "name": "stderr",
     "output_type": "stream",
     "text": [
      "\r",
      " 55%|█████▌    | 759/1378 [05:16<16:32,  1.60s/it]"
     ]
    },
    {
     "name": "stdout",
     "output_type": "stream",
     "text": [
      "'results'\n",
      "'results'\n",
      "'results'\n",
      "'results'\n",
      "'results'\n"
     ]
    },
    {
     "name": "stderr",
     "output_type": "stream",
     "text": [
      "\r",
      " 56%|█████▌    | 772/1378 [05:21<12:38,  1.25s/it]"
     ]
    },
    {
     "name": "stdout",
     "output_type": "stream",
     "text": [
      "'results'\n",
      "'results'\n",
      "'results'\n",
      "'results'\n",
      "'results'\n"
     ]
    },
    {
     "name": "stderr",
     "output_type": "stream",
     "text": [
      "\r",
      " 57%|█████▋    | 781/1378 [05:27<10:36,  1.07s/it]"
     ]
    },
    {
     "name": "stdout",
     "output_type": "stream",
     "text": [
      "'results'\n",
      "'results'\n",
      "'results'\n",
      "'results'\n",
      "'results'\n"
     ]
    },
    {
     "name": "stderr",
     "output_type": "stream",
     "text": [
      "\r",
      " 57%|█████▋    | 786/1378 [05:32<10:40,  1.08s/it]"
     ]
    },
    {
     "name": "stdout",
     "output_type": "stream",
     "text": [
      "'results'\n",
      "'results'\n",
      "'results'\n",
      "'results'\n",
      "'results'\n"
     ]
    },
    {
     "name": "stderr",
     "output_type": "stream",
     "text": [
      " 60%|██████    | 828/1378 [05:41<06:04,  1.51it/s]"
     ]
    },
    {
     "name": "stdout",
     "output_type": "stream",
     "text": [
      "'results'\n",
      "'results'\n",
      "'results'\n",
      "'results'\n",
      "'results'\n"
     ]
    },
    {
     "name": "stderr",
     "output_type": "stream",
     "text": [
      "\r",
      " 60%|██████    | 833/1378 [05:47<07:15,  1.25it/s]"
     ]
    },
    {
     "name": "stdout",
     "output_type": "stream",
     "text": [
      "'results'\n",
      "'results'\n",
      "'results'\n",
      "'results'\n",
      "'results'\n"
     ]
    },
    {
     "name": "stderr",
     "output_type": "stream",
     "text": [
      "\r",
      " 64%|██████▍   | 885/1378 [05:52<04:51,  1.69it/s]"
     ]
    },
    {
     "name": "stdout",
     "output_type": "stream",
     "text": [
      "'results'\n",
      "'results'\n",
      "'results'\n",
      "'results'\n",
      "'results'\n"
     ]
    },
    {
     "name": "stderr",
     "output_type": "stream",
     "text": [
      " 67%|██████▋   | 928/1378 [05:59<03:03,  2.45it/s]"
     ]
    },
    {
     "name": "stdout",
     "output_type": "stream",
     "text": [
      "'results'\n",
      "'results'\n",
      "'results'\n",
      "'results'\n",
      "'results'\n"
     ]
    },
    {
     "name": "stderr",
     "output_type": "stream",
     "text": [
      "\r",
      " 67%|██████▋   | 929/1378 [06:04<14:47,  1.98s/it]"
     ]
    },
    {
     "name": "stdout",
     "output_type": "stream",
     "text": [
      "'results'\n",
      "'results'\n",
      "'results'\n",
      "'results'\n",
      "'results'\n"
     ]
    },
    {
     "name": "stderr",
     "output_type": "stream",
     "text": [
      "\r",
      " 68%|██████▊   | 932/1378 [06:10<14:29,  1.95s/it]"
     ]
    },
    {
     "name": "stdout",
     "output_type": "stream",
     "text": [
      "'results'\n",
      "'results'\n",
      "'results'\n",
      "'results'\n",
      "'results'\n"
     ]
    },
    {
     "name": "stderr",
     "output_type": "stream",
     "text": [
      "\r",
      " 70%|██████▉   | 959/1378 [06:18<10:10,  1.46s/it]"
     ]
    },
    {
     "name": "stdout",
     "output_type": "stream",
     "text": [
      "'etymologies'\n"
     ]
    },
    {
     "name": "stderr",
     "output_type": "stream",
     "text": [
      "\r",
      " 71%|███████   | 972/1378 [06:24<07:47,  1.15s/it]"
     ]
    },
    {
     "name": "stdout",
     "output_type": "stream",
     "text": [
      "'definitions'\n",
      "'etymologies'\n"
     ]
    },
    {
     "name": "stderr",
     "output_type": "stream",
     "text": [
      "\r",
      " 72%|███████▏  | 987/1378 [06:30<05:59,  1.09it/s]"
     ]
    },
    {
     "name": "stdout",
     "output_type": "stream",
     "text": [
      "'results'\n",
      "'results'\n",
      "'results'\n",
      "'results'\n",
      "'results'\n"
     ]
    },
    {
     "name": "stderr",
     "output_type": "stream",
     "text": [
      "\r",
      " 72%|███████▏  | 990/1378 [06:35<07:48,  1.21s/it]"
     ]
    },
    {
     "name": "stdout",
     "output_type": "stream",
     "text": [
      "'definitions'\n",
      "'examples'\n"
     ]
    },
    {
     "name": "stderr",
     "output_type": "stream",
     "text": [
      " 73%|███████▎  | 1010/1378 [06:43<07:20,  1.20s/it]"
     ]
    },
    {
     "name": "stdout",
     "output_type": "stream",
     "text": [
      "'results'\n",
      "'results'\n",
      "'results'\n",
      "'results'\n",
      "'results'\n"
     ]
    },
    {
     "name": "stderr",
     "output_type": "stream",
     "text": [
      "\r",
      " 74%|███████▍  | 1021/1378 [06:48<05:53,  1.01it/s]"
     ]
    },
    {
     "name": "stdout",
     "output_type": "stream",
     "text": [
      "'results'\n",
      "'results'\n",
      "'results'\n",
      "'results'\n",
      "'results'\n"
     ]
    },
    {
     "name": "stderr",
     "output_type": "stream",
     "text": [
      "\r",
      " 75%|███████▍  | 1027/1378 [06:54<05:41,  1.03it/s]"
     ]
    },
    {
     "name": "stdout",
     "output_type": "stream",
     "text": [
      "'results'\n",
      "'results'\n",
      "'results'\n",
      "'results'\n",
      "'results'\n"
     ]
    },
    {
     "name": "stderr",
     "output_type": "stream",
     "text": [
      "\r",
      " 75%|███████▌  | 1035/1378 [07:00<05:07,  1.12it/s]"
     ]
    },
    {
     "name": "stdout",
     "output_type": "stream",
     "text": [
      "'definitions'\n",
      "'etymologies'\n"
     ]
    },
    {
     "name": "stderr",
     "output_type": "stream",
     "text": [
      " 77%|███████▋  | 1059/1378 [07:11<04:26,  1.20it/s]"
     ]
    },
    {
     "name": "stdout",
     "output_type": "stream",
     "text": [
      "'results'\n",
      "'results'\n",
      "'results'\n",
      "'results'\n"
     ]
    },
    {
     "name": "stderr",
     "output_type": "stream",
     "text": [
      "\r",
      " 78%|███████▊  | 1073/1378 [07:18<03:45,  1.35it/s]"
     ]
    },
    {
     "name": "stdout",
     "output_type": "stream",
     "text": [
      "'results'\n",
      "'results'\n",
      "'results'\n",
      "'results'\n",
      "'results'\n"
     ]
    },
    {
     "name": "stderr",
     "output_type": "stream",
     "text": [
      "\r",
      " 78%|███████▊  | 1074/1378 [07:24<11:27,  2.26s/it]"
     ]
    },
    {
     "name": "stdout",
     "output_type": "stream",
     "text": [
      "'results'\n",
      "'results'\n",
      "'results'\n",
      "'results'\n"
     ]
    },
    {
     "name": "stderr",
     "output_type": "stream",
     "text": [
      "\r",
      " 78%|███████▊  | 1077/1378 [07:30<10:48,  2.16s/it]"
     ]
    },
    {
     "name": "stdout",
     "output_type": "stream",
     "text": [
      "'results'\n",
      "'results'\n",
      "'results'\n",
      "'results'\n"
     ]
    },
    {
     "name": "stderr",
     "output_type": "stream",
     "text": [
      "\r",
      " 78%|███████▊  | 1081/1378 [07:36<09:36,  1.94s/it]"
     ]
    },
    {
     "name": "stdout",
     "output_type": "stream",
     "text": [
      "'results'\n",
      "'results'\n",
      "'results'\n",
      "'results'\n"
     ]
    },
    {
     "name": "stderr",
     "output_type": "stream",
     "text": [
      "\r",
      " 79%|███████▊  | 1084/1378 [07:41<09:24,  1.92s/it]"
     ]
    },
    {
     "name": "stdout",
     "output_type": "stream",
     "text": [
      "'results'\n",
      "'results'\n",
      "'results'\n",
      "'results'\n"
     ]
    },
    {
     "name": "stderr",
     "output_type": "stream",
     "text": [
      "\r",
      " 80%|███████▉  | 1101/1378 [07:47<06:39,  1.44s/it]"
     ]
    },
    {
     "name": "stdout",
     "output_type": "stream",
     "text": [
      "'results'\n",
      "'results'\n",
      "'results'\n",
      "'results'\n"
     ]
    },
    {
     "name": "stderr",
     "output_type": "stream",
     "text": [
      "\r",
      " 80%|████████  | 1106/1378 [07:52<06:06,  1.35s/it]"
     ]
    },
    {
     "name": "stdout",
     "output_type": "stream",
     "text": [
      "'results'\n",
      "'results'\n",
      "'results'\n",
      "'results'\n"
     ]
    },
    {
     "name": "stderr",
     "output_type": "stream",
     "text": [
      "\r",
      " 80%|████████  | 1107/1378 [07:58<11:53,  2.63s/it]"
     ]
    },
    {
     "name": "stdout",
     "output_type": "stream",
     "text": [
      "'definitions'\n"
     ]
    },
    {
     "name": "stderr",
     "output_type": "stream",
     "text": [
      "\r",
      " 81%|████████  | 1118/1378 [08:04<08:39,  2.00s/it]"
     ]
    },
    {
     "name": "stdout",
     "output_type": "stream",
     "text": [
      "'results'\n",
      "'results'\n",
      "'results'\n",
      "'results'\n"
     ]
    },
    {
     "name": "stderr",
     "output_type": "stream",
     "text": [
      "\r",
      " 81%|████████▏ | 1121/1378 [08:09<08:25,  1.97s/it]"
     ]
    },
    {
     "name": "stdout",
     "output_type": "stream",
     "text": [
      "'results'\n",
      "'results'\n",
      "'results'\n",
      "'results'\n"
     ]
    },
    {
     "name": "stderr",
     "output_type": "stream",
     "text": [
      "\r",
      " 82%|████████▏ | 1131/1378 [08:16<06:31,  1.59s/it]"
     ]
    },
    {
     "name": "stdout",
     "output_type": "stream",
     "text": [
      "'results'\n",
      "'results'\n",
      "'results'\n",
      "'results'\n"
     ]
    },
    {
     "name": "stderr",
     "output_type": "stream",
     "text": [
      "\r",
      " 82%|████████▏ | 1135/1378 [08:24<06:42,  1.66s/it]"
     ]
    },
    {
     "name": "stdout",
     "output_type": "stream",
     "text": [
      "'results'\n",
      "'results'\n",
      "'results'\n",
      "'results'\n"
     ]
    },
    {
     "name": "stderr",
     "output_type": "stream",
     "text": [
      "\r",
      " 83%|████████▎ | 1143/1378 [08:29<05:22,  1.37s/it]"
     ]
    },
    {
     "name": "stdout",
     "output_type": "stream",
     "text": [
      "'results'\n",
      "'results'\n",
      "'results'\n",
      "'results'\n"
     ]
    },
    {
     "name": "stderr",
     "output_type": "stream",
     "text": [
      "\r",
      " 84%|████████▎ | 1151/1378 [08:35<04:25,  1.17s/it]"
     ]
    },
    {
     "name": "stdout",
     "output_type": "stream",
     "text": [
      "'results'\n",
      "'results'\n",
      "'results'\n",
      "'results'\n"
     ]
    },
    {
     "name": "stderr",
     "output_type": "stream",
     "text": [
      "\r",
      " 84%|████████▎ | 1153/1378 [08:41<06:13,  1.66s/it]"
     ]
    },
    {
     "name": "stdout",
     "output_type": "stream",
     "text": [
      "'results'\n",
      "'results'\n",
      "'results'\n",
      "'results'\n"
     ]
    },
    {
     "name": "stderr",
     "output_type": "stream",
     "text": [
      "\r",
      " 85%|████████▍ | 1166/1378 [08:46<04:34,  1.29s/it]"
     ]
    },
    {
     "name": "stdout",
     "output_type": "stream",
     "text": [
      "'definitions'\n"
     ]
    },
    {
     "name": "stderr",
     "output_type": "stream",
     "text": [
      "\r",
      " 86%|████████▌ | 1181/1378 [08:52<03:20,  1.02s/it]"
     ]
    },
    {
     "name": "stdout",
     "output_type": "stream",
     "text": [
      "'results'\n",
      "'results'\n",
      "'results'\n",
      "'results'\n"
     ]
    },
    {
     "name": "stderr",
     "output_type": "stream",
     "text": [
      "\r",
      " 86%|████████▌ | 1183/1378 [08:59<05:42,  1.76s/it]"
     ]
    },
    {
     "name": "stdout",
     "output_type": "stream",
     "text": [
      "'results'\n",
      "'results'\n",
      "'results'\n",
      "'results'\n"
     ]
    },
    {
     "name": "stderr",
     "output_type": "stream",
     "text": [
      "\r",
      " 86%|████████▋ | 1189/1378 [09:05<04:46,  1.51s/it]"
     ]
    },
    {
     "name": "stdout",
     "output_type": "stream",
     "text": [
      "'results'\n",
      "'results'\n",
      "'results'\n",
      "'results'\n"
     ]
    },
    {
     "name": "stderr",
     "output_type": "stream",
     "text": [
      "\r",
      " 87%|████████▋ | 1193/1378 [09:12<05:00,  1.62s/it]"
     ]
    },
    {
     "name": "stdout",
     "output_type": "stream",
     "text": [
      "'results'\n",
      "'results'\n",
      "'results'\n",
      "'results'\n"
     ]
    },
    {
     "name": "stderr",
     "output_type": "stream",
     "text": [
      "\r",
      " 87%|████████▋ | 1205/1378 [09:18<03:40,  1.28s/it]"
     ]
    },
    {
     "name": "stdout",
     "output_type": "stream",
     "text": [
      "'results'\n",
      "'results'\n",
      "'results'\n",
      "'results'\n"
     ]
    },
    {
     "name": "stderr",
     "output_type": "stream",
     "text": [
      "\r",
      " 88%|████████▊ | 1208/1378 [09:23<04:07,  1.45s/it]"
     ]
    },
    {
     "name": "stdout",
     "output_type": "stream",
     "text": [
      "'results'\n",
      "'results'\n",
      "'results'\n",
      "'results'\n"
     ]
    },
    {
     "name": "stderr",
     "output_type": "stream",
     "text": [
      " 89%|████████▉ | 1226/1378 [09:39<07:52,  3.11s/it]"
     ]
    },
    {
     "name": "stdout",
     "output_type": "stream",
     "text": [
      "'etymologies'\n"
     ]
    },
    {
     "name": "stderr",
     "output_type": "stream",
     "text": [
      "\r",
      " 90%|████████▉ | 1240/1378 [09:47<05:25,  2.36s/it]"
     ]
    },
    {
     "name": "stdout",
     "output_type": "stream",
     "text": [
      "'etymologies'\n"
     ]
    },
    {
     "name": "stderr",
     "output_type": "stream",
     "text": [
      "\r",
      " 91%|█████████ | 1251/1378 [09:54<03:53,  1.84s/it]"
     ]
    },
    {
     "name": "stdout",
     "output_type": "stream",
     "text": [
      "'results'\n",
      "'results'\n",
      "'results'\n",
      "'results'\n"
     ]
    },
    {
     "name": "stderr",
     "output_type": "stream",
     "text": [
      "\r",
      " 92%|█████████▏| 1263/1378 [10:02<02:50,  1.48s/it]"
     ]
    },
    {
     "name": "stdout",
     "output_type": "stream",
     "text": [
      "'results'\n",
      "'results'\n",
      "'results'\n",
      "'results'\n"
     ]
    },
    {
     "name": "stderr",
     "output_type": "stream",
     "text": [
      " 92%|█████████▏| 1269/1378 [10:50<13:09,  7.24s/it]"
     ]
    },
    {
     "name": "stdout",
     "output_type": "stream",
     "text": [
      "'definitions'\n",
      "'etymologies'\n"
     ]
    },
    {
     "name": "stderr",
     "output_type": "stream",
     "text": [
      "\r",
      " 92%|█████████▏| 1270/1378 [10:58<13:13,  7.35s/it]"
     ]
    },
    {
     "name": "stdout",
     "output_type": "stream",
     "text": [
      "'results'\n",
      "'results'\n",
      "'results'\n",
      "'results'\n"
     ]
    },
    {
     "name": "stderr",
     "output_type": "stream",
     "text": [
      "\r",
      " 92%|█████████▏| 1271/1378 [11:06<13:20,  7.48s/it]"
     ]
    },
    {
     "name": "stdout",
     "output_type": "stream",
     "text": [
      "'etymologies'\n"
     ]
    },
    {
     "name": "stderr",
     "output_type": "stream",
     "text": [
      "\r",
      " 92%|█████████▏| 1272/1378 [11:13<13:06,  7.42s/it]"
     ]
    },
    {
     "name": "stdout",
     "output_type": "stream",
     "text": [
      "'results'\n",
      "'results'\n",
      "'results'\n",
      "'results'\n"
     ]
    },
    {
     "name": "stderr",
     "output_type": "stream",
     "text": [
      "\r",
      " 92%|█████████▏| 1273/1378 [11:20<12:54,  7.38s/it]"
     ]
    },
    {
     "name": "stdout",
     "output_type": "stream",
     "text": [
      "'results'\n",
      "'results'\n",
      "'results'\n",
      "'results'\n"
     ]
    },
    {
     "name": "stderr",
     "output_type": "stream",
     "text": [
      "\r",
      " 92%|█████████▏| 1274/1378 [11:28<13:02,  7.52s/it]"
     ]
    },
    {
     "name": "stdout",
     "output_type": "stream",
     "text": [
      "'etymologies'\n"
     ]
    },
    {
     "name": "stderr",
     "output_type": "stream",
     "text": [
      "\r",
      " 93%|█████████▎| 1275/1378 [11:36<13:10,  7.67s/it]"
     ]
    },
    {
     "name": "stdout",
     "output_type": "stream",
     "text": [
      "'etymologies'\n"
     ]
    },
    {
     "name": "stderr",
     "output_type": "stream",
     "text": [
      " 93%|█████████▎| 1277/1378 [11:52<13:03,  7.76s/it]"
     ]
    },
    {
     "name": "stdout",
     "output_type": "stream",
     "text": [
      "'etymologies'\n"
     ]
    },
    {
     "name": "stderr",
     "output_type": "stream",
     "text": [
      "\r",
      " 93%|█████████▎| 1278/1378 [12:00<12:48,  7.68s/it]"
     ]
    },
    {
     "name": "stdout",
     "output_type": "stream",
     "text": [
      "'etymologies'\n"
     ]
    },
    {
     "name": "stderr",
     "output_type": "stream",
     "text": [
      " 93%|█████████▎| 1280/1378 [12:15<12:33,  7.69s/it]"
     ]
    },
    {
     "name": "stdout",
     "output_type": "stream",
     "text": [
      "'etymologies'\n"
     ]
    },
    {
     "name": "stderr",
     "output_type": "stream",
     "text": [
      " 93%|█████████▎| 1283/1378 [12:39<12:35,  7.95s/it]"
     ]
    },
    {
     "name": "stdout",
     "output_type": "stream",
     "text": [
      "'etymologies'\n"
     ]
    },
    {
     "name": "stderr",
     "output_type": "stream",
     "text": [
      " 93%|█████████▎| 1287/1378 [13:11<11:45,  7.76s/it]"
     ]
    },
    {
     "name": "stdout",
     "output_type": "stream",
     "text": [
      "'etymologies'\n"
     ]
    },
    {
     "name": "stderr",
     "output_type": "stream",
     "text": [
      " 94%|█████████▎| 1289/1378 [13:26<11:12,  7.56s/it]"
     ]
    },
    {
     "name": "stdout",
     "output_type": "stream",
     "text": [
      "'results'\n",
      "'results'\n",
      "'results'\n",
      "'results'\n"
     ]
    },
    {
     "name": "stderr",
     "output_type": "stream",
     "text": [
      " 94%|█████████▍| 1293/1378 [13:57<10:55,  7.71s/it]"
     ]
    },
    {
     "name": "stdout",
     "output_type": "stream",
     "text": [
      "'etymologies'\n"
     ]
    },
    {
     "name": "stderr",
     "output_type": "stream",
     "text": [
      " 94%|█████████▍| 1295/1378 [14:12<10:38,  7.70s/it]"
     ]
    },
    {
     "name": "stdout",
     "output_type": "stream",
     "text": [
      "'results'\n",
      "'results'\n",
      "'results'\n",
      "'results'\n"
     ]
    },
    {
     "name": "stderr",
     "output_type": "stream",
     "text": [
      " 94%|█████████▍| 1299/1378 [14:44<10:27,  7.94s/it]"
     ]
    },
    {
     "name": "stdout",
     "output_type": "stream",
     "text": [
      "'etymologies'\n"
     ]
    },
    {
     "name": "stderr",
     "output_type": "stream",
     "text": [
      " 94%|█████████▍| 1301/1378 [15:00<10:11,  7.94s/it]"
     ]
    },
    {
     "name": "stdout",
     "output_type": "stream",
     "text": [
      "'etymologies'\n"
     ]
    },
    {
     "name": "stderr",
     "output_type": "stream",
     "text": [
      "\r",
      " 94%|█████████▍| 1302/1378 [15:08<09:48,  7.75s/it]"
     ]
    },
    {
     "name": "stdout",
     "output_type": "stream",
     "text": [
      "'results'\n",
      "'results'\n",
      "'results'\n",
      "'results'\n"
     ]
    },
    {
     "name": "stderr",
     "output_type": "stream",
     "text": [
      " 95%|█████████▍| 1304/1378 [15:23<09:39,  7.83s/it]"
     ]
    },
    {
     "name": "stdout",
     "output_type": "stream",
     "text": [
      "'definitions'\n"
     ]
    },
    {
     "name": "stderr",
     "output_type": "stream",
     "text": [
      " 95%|█████████▌| 1312/1378 [16:26<08:32,  7.77s/it]"
     ]
    },
    {
     "name": "stdout",
     "output_type": "stream",
     "text": [
      "'results'\n",
      "'results'\n",
      "'results'\n",
      "'results'\n"
     ]
    },
    {
     "name": "stderr",
     "output_type": "stream",
     "text": [
      "\r",
      " 95%|█████████▌| 1313/1378 [16:33<08:12,  7.57s/it]"
     ]
    },
    {
     "name": "stdout",
     "output_type": "stream",
     "text": [
      "'results'\n",
      "'results'\n",
      "'results'\n",
      "'results'\n"
     ]
    },
    {
     "name": "stderr",
     "output_type": "stream",
     "text": [
      "\r",
      " 95%|█████████▌| 1314/1378 [16:42<08:17,  7.77s/it]"
     ]
    },
    {
     "name": "stdout",
     "output_type": "stream",
     "text": [
      "'etymologies'\n"
     ]
    },
    {
     "name": "stderr",
     "output_type": "stream",
     "text": [
      " 96%|█████████▌| 1321/1378 [17:37<07:22,  7.76s/it]"
     ]
    },
    {
     "name": "stdout",
     "output_type": "stream",
     "text": [
      "'results'\n",
      "'results'\n",
      "'results'\n",
      "'results'\n"
     ]
    },
    {
     "name": "stderr",
     "output_type": "stream",
     "text": [
      " 96%|█████████▋| 1327/1378 [18:25<06:42,  7.90s/it]"
     ]
    },
    {
     "name": "stdout",
     "output_type": "stream",
     "text": [
      "'etymologies'\n"
     ]
    },
    {
     "name": "stderr",
     "output_type": "stream",
     "text": [
      " 96%|█████████▋| 1329/1378 [18:40<06:24,  7.85s/it]"
     ]
    },
    {
     "name": "stdout",
     "output_type": "stream",
     "text": [
      "'etymologies'\n"
     ]
    },
    {
     "name": "stderr",
     "output_type": "stream",
     "text": [
      " 97%|█████████▋| 1331/1378 [18:56<06:06,  7.79s/it]"
     ]
    },
    {
     "name": "stdout",
     "output_type": "stream",
     "text": [
      "'etymologies'\n"
     ]
    },
    {
     "name": "stderr",
     "output_type": "stream",
     "text": [
      "\r",
      " 97%|█████████▋| 1332/1378 [19:04<05:57,  7.78s/it]"
     ]
    },
    {
     "name": "stdout",
     "output_type": "stream",
     "text": [
      "'etymologies'\n"
     ]
    },
    {
     "name": "stderr",
     "output_type": "stream",
     "text": [
      " 97%|█████████▋| 1335/1378 [19:27<05:32,  7.73s/it]"
     ]
    },
    {
     "name": "stdout",
     "output_type": "stream",
     "text": [
      "'etymologies'\n"
     ]
    },
    {
     "name": "stderr",
     "output_type": "stream",
     "text": [
      " 97%|█████████▋| 1339/1378 [19:58<04:57,  7.63s/it]"
     ]
    },
    {
     "name": "stdout",
     "output_type": "stream",
     "text": [
      "'results'\n",
      "'results'\n",
      "'results'\n",
      "'results'\n"
     ]
    },
    {
     "name": "stderr",
     "output_type": "stream",
     "text": [
      "\r",
      " 97%|█████████▋| 1340/1378 [20:06<04:50,  7.65s/it]"
     ]
    },
    {
     "name": "stdout",
     "output_type": "stream",
     "text": [
      "'results'\n",
      "'results'\n",
      "'results'\n",
      "'results'\n"
     ]
    },
    {
     "name": "stderr",
     "output_type": "stream",
     "text": [
      "\r",
      " 97%|█████████▋| 1341/1378 [20:14<04:49,  7.83s/it]"
     ]
    },
    {
     "name": "stdout",
     "output_type": "stream",
     "text": [
      "'etymologies'\n"
     ]
    },
    {
     "name": "stderr",
     "output_type": "stream",
     "text": [
      " 98%|█████████▊| 1344/1378 [20:38<04:29,  7.92s/it]"
     ]
    },
    {
     "name": "stdout",
     "output_type": "stream",
     "text": [
      "'etymologies'\n"
     ]
    },
    {
     "name": "stderr",
     "output_type": "stream",
     "text": [
      " 98%|█████████▊| 1346/1378 [20:53<04:07,  7.74s/it]"
     ]
    },
    {
     "name": "stdout",
     "output_type": "stream",
     "text": [
      "'etymologies'\n"
     ]
    },
    {
     "name": "stderr",
     "output_type": "stream",
     "text": [
      "\r",
      " 98%|█████████▊| 1347/1378 [21:01<03:57,  7.67s/it]"
     ]
    },
    {
     "name": "stdout",
     "output_type": "stream",
     "text": [
      "'etymologies'\n"
     ]
    },
    {
     "name": "stderr",
     "output_type": "stream",
     "text": [
      " 98%|█████████▊| 1351/1378 [21:32<03:26,  7.66s/it]"
     ]
    },
    {
     "name": "stdout",
     "output_type": "stream",
     "text": [
      "'results'\n",
      "'results'\n",
      "'results'\n",
      "'results'\n"
     ]
    },
    {
     "name": "stderr",
     "output_type": "stream",
     "text": [
      "\r",
      " 98%|█████████▊| 1352/1378 [21:39<03:19,  7.67s/it]"
     ]
    },
    {
     "name": "stdout",
     "output_type": "stream",
     "text": [
      "'definitions'\n",
      "'etymologies'\n"
     ]
    },
    {
     "name": "stderr",
     "output_type": "stream",
     "text": [
      " 98%|█████████▊| 1354/1378 [21:55<03:09,  7.89s/it]"
     ]
    },
    {
     "name": "stdout",
     "output_type": "stream",
     "text": [
      "'results'\n",
      "'results'\n",
      "'results'\n",
      "'results'\n"
     ]
    },
    {
     "name": "stderr",
     "output_type": "stream",
     "text": [
      " 98%|█████████▊| 1356/1378 [22:12<02:54,  7.95s/it]"
     ]
    },
    {
     "name": "stdout",
     "output_type": "stream",
     "text": [
      "'etymologies'\n"
     ]
    },
    {
     "name": "stderr",
     "output_type": "stream",
     "text": [
      "\r",
      " 98%|█████████▊| 1357/1378 [22:19<02:46,  7.93s/it]"
     ]
    },
    {
     "name": "stdout",
     "output_type": "stream",
     "text": [
      "'definitions'\n",
      "'etymologies'\n"
     ]
    },
    {
     "name": "stderr",
     "output_type": "stream",
     "text": [
      " 99%|█████████▉| 1361/1378 [22:51<02:13,  7.86s/it]"
     ]
    },
    {
     "name": "stdout",
     "output_type": "stream",
     "text": [
      "'etymologies'\n"
     ]
    },
    {
     "name": "stderr",
     "output_type": "stream",
     "text": [
      " 99%|█████████▉| 1368/1378 [23:47<01:19,  8.00s/it]"
     ]
    },
    {
     "name": "stdout",
     "output_type": "stream",
     "text": [
      "'etymologies'\n"
     ]
    },
    {
     "name": "stderr",
     "output_type": "stream",
     "text": [
      "\r",
      " 99%|█████████▉| 1369/1378 [23:55<01:10,  7.86s/it]"
     ]
    },
    {
     "name": "stdout",
     "output_type": "stream",
     "text": [
      "'examples'\n"
     ]
    },
    {
     "name": "stderr",
     "output_type": "stream",
     "text": [
      "\r",
      " 99%|█████████▉| 1370/1378 [24:02<01:01,  7.69s/it]"
     ]
    },
    {
     "name": "stdout",
     "output_type": "stream",
     "text": [
      "'results'\n",
      "'results'\n",
      "'results'\n",
      "'results'\n",
      "'results'\n"
     ]
    },
    {
     "name": "stderr",
     "output_type": "stream",
     "text": [
      "100%|█████████▉| 1372/1378 [24:18<00:47,  7.90s/it]"
     ]
    },
    {
     "name": "stdout",
     "output_type": "stream",
     "text": [
      "'examples'\n"
     ]
    },
    {
     "name": "stderr",
     "output_type": "stream",
     "text": [
      "\r",
      "100%|█████████▉| 1373/1378 [24:26<00:39,  7.95s/it]"
     ]
    },
    {
     "name": "stdout",
     "output_type": "stream",
     "text": [
      "'etymologies'\n"
     ]
    },
    {
     "name": "stderr",
     "output_type": "stream",
     "text": [
      "100%|█████████▉| 1376/1378 [24:49<00:15,  7.77s/it]"
     ]
    },
    {
     "name": "stdout",
     "output_type": "stream",
     "text": [
      "'etymologies'\n"
     ]
    },
    {
     "name": "stderr",
     "output_type": "stream",
     "text": [
      "100%|██████████| 1378/1378 [25:06<00:00,  1.09s/it]\n"
     ]
    }
   ],
   "source": [
    "for index in tqdm(df.index):\n",
    "    word_id=df.loc[index,'Word']\n",
    "    word_id=word_id.strip(' ')\n",
    "    word_id=word_id.lower()\n",
    "    if df.loc[index,'Meaning in Japanese']=='':\n",
    "        df.loc[index,'Meaning in Japanese']=weblio_crawler(word_id)\n",
    "    if df.loc[index,'Meaning in English']=='':\n",
    "        info=Oxford_caller(word_id)\n",
    "        df.loc[index,'Meaning in English']=Oxford_info_processor(info,'meaning')\n",
    "        #print(Oxford_info_processor(info,'meaning'))\n",
    "        if df.loc[index,'Example']=='':\n",
    "            df.loc[index,'Example']=Oxford_info_processor(info,'example')\n",
    "        if df.loc[index,'Origin']=='':\n",
    "            df.loc[index,'Origin']=Oxford_info_processor(info,'origin')\n",
    "            df.loc[index,'phonic']=Oxford_info_processor(info,'phonic')\n",
    "            #print(Oxford_info_processor(info,'phonic'))\n",
    "            df.loc[index,'mp3']=Oxford_info_processor(info,'mp3')\n",
    "    '''\n",
    "    if df.loc[index,'Example']=='':\n",
    "        info=Oxford_caller(word_id)\n",
    "        df.loc[index,'Example']=Oxford_info_processor(info,'example')\n",
    "        if df.loc[index,'Origin']=='':\n",
    "            df.loc[index,'Origin']=Oxford_info_processor(info,'origin')\n",
    "            df.loc[index,'phonic']=Oxford_info_processor(info,'phonic')\n",
    "            df.loc[index,'mp3']=Oxford_info_processor(info,'mp3')\n",
    "    if df.loc[index,'Origin']=='':\n",
    "        info=Oxford_caller(word_id)\n",
    "        df.loc[index,'Origin']=Oxford_info_processor(info,'origin')\n",
    "        df.loc[index,'phonic']=Oxford_info_processor(info,'phonic')\n",
    "        df.loc[index,'mp3']=Oxford_info_processor(info,'mp3')\n",
    "    '''\n",
    "    \n",
    "        "
   ]
  },
  {
   "cell_type": "code",
   "execution_count": 18,
   "metadata": {},
   "outputs": [],
   "source": [
    "spread.df_to_sheet(df, index=True, sheet='result', start='A1', replace=True)"
   ]
  },
  {
   "cell_type": "code",
   "execution_count": null,
   "metadata": {},
   "outputs": [],
   "source": [
    "df"
   ]
  },
  {
   "cell_type": "code",
   "execution_count": null,
   "metadata": {},
   "outputs": [],
   "source": []
  }
 ],
 "metadata": {
  "kernelspec": {
   "display_name": "Python 3",
   "language": "python",
   "name": "python3"
  },
  "language_info": {
   "codemirror_mode": {
    "name": "ipython",
    "version": 3
   },
   "file_extension": ".py",
   "mimetype": "text/x-python",
   "name": "python",
   "nbconvert_exporter": "python",
   "pygments_lexer": "ipython3",
   "version": "3.5.3"
  }
 },
 "nbformat": 4,
 "nbformat_minor": 2
}
