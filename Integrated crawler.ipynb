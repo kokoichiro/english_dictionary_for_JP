{
 "cells": [
  {
   "cell_type": "code",
   "execution_count": 1,
   "metadata": {},
   "outputs": [],
   "source": [
    "from __future__ import print_function\n",
    "import pandas as pd\n",
    "import gspread_pandas\n",
    "from oauth2client.service_account import ServiceAccountCredentials\n",
    "import requests\n",
    "from bs4 import BeautifulSoup\n",
    "from urllib.request import urlopen\n",
    "import json\n",
    "from tqdm import tqdm\n",
    "from time import sleep\n",
    "import yaml"
   ]
  },
  {
   "cell_type": "code",
   "execution_count": 2,
   "metadata": {},
   "outputs": [],
   "source": [
    "config=gspread_pandas.conf.get_config(conf_dir='/home/dev-cory/learning_english/credential/',file_name='client_secret_english_crawl.json')\n",
    "#gspread_pandas.conf.get_config\n",
    "gspread_pandas.conf.get_config\n",
    "with open('./credential/learning_english.yaml','r') as ymlfile:\n",
    "    cfg = yaml.load(ymlfile,Loader=yaml.BaseLoader)\n",
    "app_id = cfg['OxfordAPI']['app_id']\n",
    "app_key = cfg['OxfordAPI']['app_key']\n",
    "language = 'en'"
   ]
  },
  {
   "cell_type": "code",
   "execution_count": 3,
   "metadata": {},
   "outputs": [],
   "source": [
    "spread = gspread_pandas.Spread('Oxford vocabulary',config=config)"
   ]
  },
  {
   "cell_type": "code",
   "execution_count": 4,
   "metadata": {},
   "outputs": [],
   "source": [
    "df=spread.sheet_to_df(sheet='vocab')"
   ]
  },
  {
   "cell_type": "code",
   "execution_count": 5,
   "metadata": {},
   "outputs": [
    {
     "data": {
      "text/html": [
       "<div>\n",
       "<style scoped>\n",
       "    .dataframe tbody tr th:only-of-type {\n",
       "        vertical-align: middle;\n",
       "    }\n",
       "\n",
       "    .dataframe tbody tr th {\n",
       "        vertical-align: top;\n",
       "    }\n",
       "\n",
       "    .dataframe thead th {\n",
       "        text-align: right;\n",
       "    }\n",
       "</style>\n",
       "<table border=\"1\" class=\"dataframe\">\n",
       "  <thead>\n",
       "    <tr style=\"text-align: right;\">\n",
       "      <th></th>\n",
       "      <th>Word</th>\n",
       "      <th>Importance</th>\n",
       "      <th>Meaning in Japanese</th>\n",
       "      <th>Meaning in English</th>\n",
       "      <th>Example</th>\n",
       "      <th>Origin</th>\n",
       "      <th>phonic</th>\n",
       "      <th>mp3</th>\n",
       "    </tr>\n",
       "    <tr>\n",
       "      <th>ru</th>\n",
       "      <th></th>\n",
       "      <th></th>\n",
       "      <th></th>\n",
       "      <th></th>\n",
       "      <th></th>\n",
       "      <th></th>\n",
       "      <th></th>\n",
       "      <th></th>\n",
       "    </tr>\n",
       "  </thead>\n",
       "  <tbody>\n",
       "    <tr>\n",
       "      <td>1</td>\n",
       "      <td>retaliate</td>\n",
       "      <td>☆</td>\n",
       "      <td>仕返しする</td>\n",
       "      <td>1: make an attack in return for a similar atta...</td>\n",
       "      <td>It is still unclear who started the violence b...</td>\n",
       "      <td>early 17th century: from Latin retaliat-‘retur...</td>\n",
       "      <td>rɪˈtalɪeɪt</td>\n",
       "      <td>http://audio.oxforddictionaries.com/en/mp3/ret...</td>\n",
       "    </tr>\n",
       "    <tr>\n",
       "      <td>2</td>\n",
       "      <td>detain</td>\n",
       "      <td>3</td>\n",
       "      <td>拘束する</td>\n",
       "      <td>keep (someone) from proceeding by holding them...</td>\n",
       "      <td>Image caption Yang Hengjun, a popular blogger ...</td>\n",
       "      <td>late Middle English (in the sense ‘be afflicte...</td>\n",
       "      <td>dɪˈteɪn</td>\n",
       "      <td>http://audio.oxforddictionaries.com/en/mp3/det...</td>\n",
       "    </tr>\n",
       "    <tr>\n",
       "      <td>3</td>\n",
       "      <td>resilient</td>\n",
       "      <td>3</td>\n",
       "      <td>はね返る、弾力のある、たちまち元気を回復する、快活な、溌刺(はつらつ)とした</td>\n",
       "      <td>(of a person or animal) able to withstand or r...</td>\n",
       "      <td></td>\n",
       "      <td>mid 17th century: from Latin resilient-‘leapin...</td>\n",
       "      <td>rɪˈzɪlɪənt</td>\n",
       "      <td>http://audio.oxforddictionaries.com/en/mp3/res...</td>\n",
       "    </tr>\n",
       "    <tr>\n",
       "      <td>4</td>\n",
       "      <td>lineage</td>\n",
       "      <td>4</td>\n",
       "      <td>血統、系統、家柄</td>\n",
       "      <td>direct descent from an ancestor; ancestry or p...</td>\n",
       "      <td></td>\n",
       "      <td>Middle English: from Old French lignage, from ...</td>\n",
       "      <td>ˈlɪnɪɪdʒ</td>\n",
       "      <td>http://audio.oxforddictionaries.com/en/mp3/lin...</td>\n",
       "    </tr>\n",
       "    <tr>\n",
       "      <td>5</td>\n",
       "      <td>migration</td>\n",
       "      <td>1</td>\n",
       "      <td>移住、転住、渡り、移住者群、移動する動物の群</td>\n",
       "      <td>1: seasonal movement of animals from one regio...</td>\n",
       "      <td></td>\n",
       "      <td></td>\n",
       "      <td>mʌɪˈɡreɪʃ(ə)n</td>\n",
       "      <td>http://audio.oxforddictionaries.com/en/mp3/mig...</td>\n",
       "    </tr>\n",
       "    <tr>\n",
       "      <td>...</td>\n",
       "      <td>...</td>\n",
       "      <td>...</td>\n",
       "      <td>...</td>\n",
       "      <td>...</td>\n",
       "      <td>...</td>\n",
       "      <td>...</td>\n",
       "      <td>...</td>\n",
       "      <td>...</td>\n",
       "    </tr>\n",
       "    <tr>\n",
       "      <td>1835</td>\n",
       "      <td>dignitary</td>\n",
       "      <td></td>\n",
       "      <td></td>\n",
       "      <td></td>\n",
       "      <td>Visiting dignitaries brush shoulders with wome...</td>\n",
       "      <td></td>\n",
       "      <td></td>\n",
       "      <td></td>\n",
       "    </tr>\n",
       "    <tr>\n",
       "      <td>1836</td>\n",
       "      <td>municipality</td>\n",
       "      <td></td>\n",
       "      <td></td>\n",
       "      <td></td>\n",
       "      <td>Another problem is the split between native ho...</td>\n",
       "      <td></td>\n",
       "      <td></td>\n",
       "      <td></td>\n",
       "    </tr>\n",
       "    <tr>\n",
       "      <td>1837</td>\n",
       "      <td>evict</td>\n",
       "      <td></td>\n",
       "      <td></td>\n",
       "      <td></td>\n",
       "      <td>Each year from November 1st to March 31st Fran...</td>\n",
       "      <td></td>\n",
       "      <td></td>\n",
       "      <td></td>\n",
       "    </tr>\n",
       "    <tr>\n",
       "      <td>1838</td>\n",
       "      <td>eavesdrop</td>\n",
       "      <td></td>\n",
       "      <td></td>\n",
       "      <td></td>\n",
       "      <td>The Times said it understood that the eavesdro...</td>\n",
       "      <td></td>\n",
       "      <td></td>\n",
       "      <td></td>\n",
       "    </tr>\n",
       "    <tr>\n",
       "      <td>1839</td>\n",
       "      <td>dissemination</td>\n",
       "      <td></td>\n",
       "      <td></td>\n",
       "      <td></td>\n",
       "      <td>The Bank of England is usually very careful in...</td>\n",
       "      <td></td>\n",
       "      <td></td>\n",
       "      <td></td>\n",
       "    </tr>\n",
       "  </tbody>\n",
       "</table>\n",
       "<p>1822 rows × 8 columns</p>\n",
       "</div>"
      ],
      "text/plain": [
       "               Word Importance                     Meaning in Japanese  \\\n",
       "ru                                                                       \n",
       "1         retaliate          ☆                                   仕返しする   \n",
       "2            detain          3                                    拘束する   \n",
       "3         resilient          3  はね返る、弾力のある、たちまち元気を回復する、快活な、溌刺(はつらつ)とした   \n",
       "4           lineage          4                                血統、系統、家柄   \n",
       "5         migration          1                  移住、転住、渡り、移住者群、移動する動物の群   \n",
       "...             ...        ...                                     ...   \n",
       "1835      dignitary                                                      \n",
       "1836   municipality                                                      \n",
       "1837          evict                                                      \n",
       "1838      eavesdrop                                                      \n",
       "1839  dissemination                                                      \n",
       "\n",
       "                                     Meaning in English  \\\n",
       "ru                                                        \n",
       "1     1: make an attack in return for a similar atta...   \n",
       "2     keep (someone) from proceeding by holding them...   \n",
       "3     (of a person or animal) able to withstand or r...   \n",
       "4     direct descent from an ancestor; ancestry or p...   \n",
       "5     1: seasonal movement of animals from one regio...   \n",
       "...                                                 ...   \n",
       "1835                                                      \n",
       "1836                                                      \n",
       "1837                                                      \n",
       "1838                                                      \n",
       "1839                                                      \n",
       "\n",
       "                                                Example  \\\n",
       "ru                                                        \n",
       "1     It is still unclear who started the violence b...   \n",
       "2     Image caption Yang Hengjun, a popular blogger ...   \n",
       "3                                                         \n",
       "4                                                         \n",
       "5                                                         \n",
       "...                                                 ...   \n",
       "1835  Visiting dignitaries brush shoulders with wome...   \n",
       "1836  Another problem is the split between native ho...   \n",
       "1837  Each year from November 1st to March 31st Fran...   \n",
       "1838  The Times said it understood that the eavesdro...   \n",
       "1839  The Bank of England is usually very careful in...   \n",
       "\n",
       "                                                 Origin         phonic  \\\n",
       "ru                                                                       \n",
       "1     early 17th century: from Latin retaliat-‘retur...     rɪˈtalɪeɪt   \n",
       "2     late Middle English (in the sense ‘be afflicte...        dɪˈteɪn   \n",
       "3     mid 17th century: from Latin resilient-‘leapin...     rɪˈzɪlɪənt   \n",
       "4     Middle English: from Old French lignage, from ...       ˈlɪnɪɪdʒ   \n",
       "5                                                        mʌɪˈɡreɪʃ(ə)n   \n",
       "...                                                 ...            ...   \n",
       "1835                                                                     \n",
       "1836                                                                     \n",
       "1837                                                                     \n",
       "1838                                                                     \n",
       "1839                                                                     \n",
       "\n",
       "                                                    mp3  \n",
       "ru                                                       \n",
       "1     http://audio.oxforddictionaries.com/en/mp3/ret...  \n",
       "2     http://audio.oxforddictionaries.com/en/mp3/det...  \n",
       "3     http://audio.oxforddictionaries.com/en/mp3/res...  \n",
       "4     http://audio.oxforddictionaries.com/en/mp3/lin...  \n",
       "5     http://audio.oxforddictionaries.com/en/mp3/mig...  \n",
       "...                                                 ...  \n",
       "1835                                                     \n",
       "1836                                                     \n",
       "1837                                                     \n",
       "1838                                                     \n",
       "1839                                                     \n",
       "\n",
       "[1822 rows x 8 columns]"
      ]
     },
     "execution_count": 5,
     "metadata": {},
     "output_type": "execute_result"
    }
   ],
   "source": [
    "df"
   ]
  },
  {
   "cell_type": "code",
   "execution_count": 6,
   "metadata": {},
   "outputs": [
    {
     "data": {
      "text/plain": [
       "'血統、系統、家柄'"
      ]
     },
     "execution_count": 6,
     "metadata": {},
     "output_type": "execute_result"
    }
   ],
   "source": [
    " df.loc['4','Meaning in Japanese']"
   ]
  },
  {
   "cell_type": "code",
   "execution_count": 7,
   "metadata": {},
   "outputs": [],
   "source": [
    "def weblio_crawler(word_id):\n",
    "    url ='https://ejje.weblio.jp/content/'+word_id\n",
    "    try:\n",
    "        html_page = urlopen(url)\n",
    "        soup = BeautifulSoup(html_page)\n",
    "        text=soup.find('td',attrs={\"class\", \"content-explanation ej\"})\n",
    "        answer=text.contents[0]\n",
    "    except:\n",
    "        answer=''\n",
    "    return answer"
   ]
  },
  {
   "cell_type": "code",
   "execution_count": 8,
   "metadata": {},
   "outputs": [],
   "source": [
    "def Oxford_definition_caller(word_id,app_id=app_id,app_key=app_key,language ='en'):\n",
    "    url = 'https://od-api.oxforddictionaries.com:443/api/v2/entries/'  + language + '/'  + word_id.lower()\n",
    "    urlFR = 'https://od-api.oxforddictionaries.com:443/api/v2/stats/frequency/word/'  + language + '/?corpus=nmc&lemma=' + word_id.lower()\n",
    "    try:\n",
    "        r = requests.get(url, headers = {'app_id' : app_id, 'app_key' : app_key})\n",
    "        info=r.json()\n",
    "        x=1\n",
    "        answer=''\n",
    "        for i in info[\"results\"][0]['lexicalEntries'][0][\"entries\"][0][\"senses\"]:\n",
    "            answer=answer +str(x)+': '+str(i[\"definitions\"][0])+'  '\n",
    "            x+=1\n",
    "            sleep(5)\n",
    "    except:\n",
    "        answer=''\n",
    "    return answer"
   ]
  },
  {
   "cell_type": "code",
   "execution_count": 9,
   "metadata": {},
   "outputs": [],
   "source": [
    "def Oxford_caller(word_id,app_id=app_id,app_key=app_key,language ='en'):\n",
    "    url = 'https://od-api.oxforddictionaries.com:443/api/v2/entries/'  + language + '/'  + word_id.lower()\n",
    "    urlFR = 'https://od-api.oxforddictionaries.com:443/api/v2/stats/frequency/word/'  + language + '/?corpus=nmc&lemma=' + word_id.lower()\n",
    "    try:\n",
    "        r = requests.get(url, headers = {'app_id' : app_id, 'app_key' : app_key})\n",
    "        info=r.json()\n",
    "        sleep(5)\n",
    "    except Exception as e:\n",
    "        print(e)\n",
    "        info=''\n",
    "    return info"
   ]
  },
  {
   "cell_type": "code",
   "execution_count": 10,
   "metadata": {},
   "outputs": [],
   "source": [
    "def Oxford_example_caller(word_id,app_id=app_id,app_key=app_key,language ='en'):\n",
    "    url = 'https://od-api.oxforddictionaries.com:443/api/v2/entries/'  + language + '/'  + word_id.lower()\n",
    "    urlFR = 'https://od-api.oxforddictionaries.com:443/api/v2/stats/frequency/word/'  + language + '/?corpus=nmc&lemma=' + word_id.lower()\n",
    "    try:\n",
    "        r = requests.get(url, headers = {'app_id' : app_id, 'app_key' : app_key})\n",
    "        info=r.json()\n",
    "        x=1\n",
    "        answer=''\n",
    "        for i in info[\"results\"][0]['lexicalEntries'][0][\"entries\"][0][\"senses\"]:\n",
    "            answer=answer +str(x)+': '+str(i[\"examples\"][0][\"text\"])+'  '\n",
    "            x+=1\n",
    "            sleep(5)\n",
    "    except:\n",
    "        answer=''\n",
    "    return answer"
   ]
  },
  {
   "cell_type": "code",
   "execution_count": 11,
   "metadata": {},
   "outputs": [],
   "source": [
    "def Oxford_info_processor(info,target):\n",
    "    try:\n",
    "        answer=''\n",
    "        if target=='meaning':\n",
    "            x=1\n",
    "            for i in info[\"results\"][0]['lexicalEntries'][0][\"entries\"][0][\"senses\"]:\n",
    "                answer=answer +str(x)+': '+str(i[\"definitions\"][0])+' \\r\\n'\n",
    "                x+=1       \n",
    "        elif target=='phonic':\n",
    "            answer=info[\"results\"][0]['lexicalEntries'][0][\"pronunciations\"][0][\"phoneticSpelling\"]\n",
    "        elif target=='example':\n",
    "            x=1\n",
    "            for i in info[\"results\"][0]['lexicalEntries'][0][\"entries\"][0][\"senses\"]:\n",
    "                answer=answer +str(x)+': '+str(i[\"examples\"][0][\"text\"])+' \\r\\n'\n",
    "                x+=1\n",
    "        elif target=='mp3':\n",
    "            answer=info[\"results\"][0]['lexicalEntries'][0][\"pronunciations\"][0][\"audioFile\"]\n",
    "        elif target=='origin':\n",
    "            answer=info[\"results\"][0]['lexicalEntries'][0]['entries'][0]['etymologies'][0]\n",
    "    except Exception as e:\n",
    "        print(e)\n",
    "        answer=''\n",
    "    return answer"
   ]
  },
  {
   "cell_type": "code",
   "execution_count": null,
   "metadata": {},
   "outputs": [
    {
     "name": "stderr",
     "output_type": "stream",
     "text": [
      "  2%|▏         | 32/1822 [00:05<05:23,  5.53it/s]"
     ]
    },
    {
     "name": "stdout",
     "output_type": "stream",
     "text": [
      "'definitions'\n",
      "'examples'\n"
     ]
    },
    {
     "name": "stderr",
     "output_type": "stream",
     "text": [
      "\r",
      "  2%|▏         | 41/1822 [00:11<09:22,  3.17it/s]"
     ]
    },
    {
     "name": "stdout",
     "output_type": "stream",
     "text": [
      "'definitions'\n",
      "'examples'\n",
      "'etymologies'\n"
     ]
    },
    {
     "name": "stderr",
     "output_type": "stream",
     "text": [
      "\r",
      "  7%|▋         | 134/1822 [00:17<06:43,  4.18it/s]"
     ]
    },
    {
     "name": "stdout",
     "output_type": "stream",
     "text": [
      "'results'\n",
      "'results'\n",
      "'results'\n",
      "'results'\n",
      "'results'\n"
     ]
    },
    {
     "name": "stderr",
     "output_type": "stream",
     "text": [
      " 10%|█         | 183/1822 [00:24<05:21,  5.10it/s]"
     ]
    },
    {
     "name": "stdout",
     "output_type": "stream",
     "text": [
      "'results'\n",
      "'results'\n",
      "'results'\n",
      "'results'\n",
      "'results'\n"
     ]
    },
    {
     "name": "stderr",
     "output_type": "stream",
     "text": [
      " 15%|█▍        | 269/1822 [00:30<04:32,  5.69it/s]"
     ]
    },
    {
     "name": "stdout",
     "output_type": "stream",
     "text": [
      "'results'\n",
      "'results'\n",
      "'results'\n",
      "'results'\n",
      "'results'\n"
     ]
    },
    {
     "name": "stderr",
     "output_type": "stream",
     "text": [
      "\r",
      " 15%|█▍        | 273/1822 [00:36<14:01,  1.84it/s]"
     ]
    },
    {
     "name": "stdout",
     "output_type": "stream",
     "text": [
      "'results'\n",
      "'results'\n",
      "'results'\n",
      "'results'\n",
      "'results'\n"
     ]
    },
    {
     "name": "stderr",
     "output_type": "stream",
     "text": [
      " 15%|█▌        | 279/1822 [00:43<20:17,  1.27it/s]"
     ]
    },
    {
     "name": "stdout",
     "output_type": "stream",
     "text": [
      "'definitions'\n",
      "'examples'\n",
      "'etymologies'\n"
     ]
    },
    {
     "name": "stderr",
     "output_type": "stream",
     "text": [
      "\r",
      " 16%|█▌        | 290/1822 [00:50<19:03,  1.34it/s]"
     ]
    },
    {
     "name": "stdout",
     "output_type": "stream",
     "text": [
      "'results'\n",
      "'results'\n",
      "'results'\n",
      "'results'\n",
      "'results'\n"
     ]
    },
    {
     "name": "stderr",
     "output_type": "stream",
     "text": [
      "\r",
      " 16%|█▌        | 291/1822 [00:55<57:35,  2.26s/it]"
     ]
    },
    {
     "name": "stdout",
     "output_type": "stream",
     "text": [
      "'definitions'\n",
      "'examples'\n",
      "'etymologies'\n"
     ]
    },
    {
     "name": "stderr",
     "output_type": "stream",
     "text": [
      "\r",
      " 17%|█▋        | 308/1822 [01:01<42:22,  1.68s/it]"
     ]
    },
    {
     "name": "stdout",
     "output_type": "stream",
     "text": [
      "'results'\n",
      "'results'\n",
      "'results'\n",
      "'results'\n",
      "'results'\n"
     ]
    },
    {
     "name": "stderr",
     "output_type": "stream",
     "text": [
      "\r",
      " 17%|█▋        | 315/1822 [01:07<35:38,  1.42s/it]"
     ]
    },
    {
     "name": "stdout",
     "output_type": "stream",
     "text": [
      "'results'\n",
      "'results'\n",
      "'results'\n",
      "'results'\n",
      "'results'\n"
     ]
    },
    {
     "name": "stderr",
     "output_type": "stream",
     "text": [
      "\r",
      " 17%|█▋        | 318/1822 [01:12<38:54,  1.55s/it]"
     ]
    },
    {
     "name": "stdout",
     "output_type": "stream",
     "text": [
      "'results'\n",
      "'results'\n",
      "'results'\n",
      "'results'\n",
      "'results'\n"
     ]
    },
    {
     "name": "stderr",
     "output_type": "stream",
     "text": [
      "\r",
      " 18%|█▊        | 322/1822 [01:19<40:27,  1.62s/it]"
     ]
    },
    {
     "name": "stdout",
     "output_type": "stream",
     "text": [
      "'results'\n",
      "'results'\n",
      "'results'\n",
      "'results'\n",
      "'results'\n"
     ]
    },
    {
     "name": "stderr",
     "output_type": "stream",
     "text": [
      "\r",
      " 19%|█▉        | 345/1822 [01:25<29:41,  1.21s/it]"
     ]
    },
    {
     "name": "stdout",
     "output_type": "stream",
     "text": [
      "'results'\n",
      "'results'\n",
      "'results'\n",
      "'results'\n",
      "'results'\n"
     ]
    },
    {
     "name": "stderr",
     "output_type": "stream",
     "text": [
      "\r",
      " 19%|█▉        | 348/1822 [01:31<34:32,  1.41s/it]"
     ]
    },
    {
     "name": "stdout",
     "output_type": "stream",
     "text": [
      "'results'\n",
      "'results'\n",
      "'results'\n",
      "'results'\n",
      "'results'\n"
     ]
    },
    {
     "name": "stderr",
     "output_type": "stream",
     "text": [
      " 20%|██        | 368/1822 [01:38<17:10,  1.41it/s]"
     ]
    },
    {
     "name": "stdout",
     "output_type": "stream",
     "text": [
      "'results'\n",
      "'results'\n",
      "'results'\n",
      "'results'\n",
      "'results'\n"
     ]
    },
    {
     "name": "stderr",
     "output_type": "stream",
     "text": [
      "\r",
      " 22%|██▏       | 394/1822 [01:46<13:50,  1.72it/s]"
     ]
    },
    {
     "name": "stdout",
     "output_type": "stream",
     "text": [
      "'results'\n",
      "'results'\n",
      "'results'\n",
      "'results'\n",
      "'results'\n"
     ]
    },
    {
     "name": "stderr",
     "output_type": "stream",
     "text": [
      "\r",
      " 23%|██▎       | 410/1822 [01:53<12:56,  1.82it/s]"
     ]
    },
    {
     "name": "stdout",
     "output_type": "stream",
     "text": [
      "'results'\n",
      "'results'\n",
      "'results'\n",
      "'results'\n",
      "'results'\n"
     ]
    },
    {
     "name": "stderr",
     "output_type": "stream",
     "text": [
      "\r",
      " 24%|██▍       | 444/1822 [01:59<09:57,  2.30it/s]"
     ]
    },
    {
     "name": "stdout",
     "output_type": "stream",
     "text": [
      "'results'\n",
      "'results'\n",
      "'results'\n",
      "'results'\n",
      "'results'\n"
     ]
    },
    {
     "name": "stderr",
     "output_type": "stream",
     "text": [
      "\r",
      " 24%|██▍       | 445/1822 [02:04<45:23,  1.98s/it]"
     ]
    },
    {
     "name": "stdout",
     "output_type": "stream",
     "text": [
      "'definitions'\n"
     ]
    },
    {
     "name": "stderr",
     "output_type": "stream",
     "text": [
      "\r",
      " 26%|██▌       | 469/1822 [02:12<33:13,  1.47s/it]"
     ]
    },
    {
     "name": "stdout",
     "output_type": "stream",
     "text": [
      "'results'\n",
      "'results'\n",
      "'results'\n",
      "'results'\n",
      "'results'\n"
     ]
    },
    {
     "name": "stderr",
     "output_type": "stream",
     "text": [
      "\r",
      " 26%|██▌       | 473/1822 [02:19<35:11,  1.57s/it]"
     ]
    },
    {
     "name": "stdout",
     "output_type": "stream",
     "text": [
      "'results'\n",
      "'results'\n",
      "'results'\n",
      "'results'\n",
      "'results'\n"
     ]
    },
    {
     "name": "stderr",
     "output_type": "stream",
     "text": [
      "\r",
      " 26%|██▋       | 482/1822 [02:24<28:39,  1.28s/it]"
     ]
    },
    {
     "name": "stdout",
     "output_type": "stream",
     "text": [
      "'definitions'\n",
      "'examples'\n",
      "'etymologies'\n",
      "'pronunciations'\n",
      "'pronunciations'\n"
     ]
    },
    {
     "name": "stderr",
     "output_type": "stream",
     "text": [
      " 30%|███       | 551/1822 [02:31<14:17,  1.48it/s]"
     ]
    },
    {
     "name": "stdout",
     "output_type": "stream",
     "text": [
      "'results'\n",
      "'results'\n",
      "'results'\n",
      "'results'\n",
      "'results'\n"
     ]
    },
    {
     "name": "stderr",
     "output_type": "stream",
     "text": [
      "\r",
      " 31%|███       | 557/1822 [02:36<15:52,  1.33it/s]"
     ]
    },
    {
     "name": "stdout",
     "output_type": "stream",
     "text": [
      "'results'\n",
      "'results'\n",
      "'results'\n",
      "'results'\n",
      "'results'\n"
     ]
    },
    {
     "name": "stderr",
     "output_type": "stream",
     "text": [
      "\r",
      " 31%|███       | 568/1822 [02:44<15:06,  1.38it/s]"
     ]
    },
    {
     "name": "stdout",
     "output_type": "stream",
     "text": [
      "'results'\n",
      "'results'\n",
      "'results'\n",
      "'results'\n",
      "'results'\n"
     ]
    },
    {
     "name": "stderr",
     "output_type": "stream",
     "text": [
      "\r",
      " 31%|███▏      | 570/1822 [02:50<30:46,  1.47s/it]"
     ]
    },
    {
     "name": "stdout",
     "output_type": "stream",
     "text": [
      "'results'\n",
      "'results'\n",
      "'results'\n",
      "'results'\n",
      "'results'\n"
     ]
    },
    {
     "name": "stderr",
     "output_type": "stream",
     "text": [
      "\r",
      " 32%|███▏      | 578/1822 [02:57<26:28,  1.28s/it]"
     ]
    },
    {
     "name": "stdout",
     "output_type": "stream",
     "text": [
      "'results'\n",
      "'results'\n",
      "'results'\n",
      "'results'\n",
      "'results'\n"
     ]
    },
    {
     "name": "stderr",
     "output_type": "stream",
     "text": [
      "\r",
      " 32%|███▏      | 583/1822 [03:02<25:24,  1.23s/it]"
     ]
    },
    {
     "name": "stdout",
     "output_type": "stream",
     "text": [
      "'results'\n",
      "'results'\n",
      "'results'\n",
      "'results'\n",
      "'results'\n"
     ]
    },
    {
     "name": "stderr",
     "output_type": "stream",
     "text": [
      "\r",
      " 32%|███▏      | 584/1822 [03:09<59:21,  2.88s/it]"
     ]
    },
    {
     "name": "stdout",
     "output_type": "stream",
     "text": [
      "'results'\n",
      "'results'\n",
      "'results'\n",
      "'results'\n",
      "'results'\n"
     ]
    },
    {
     "name": "stderr",
     "output_type": "stream",
     "text": [
      "\r",
      " 32%|███▏      | 585/1822 [03:15<1:21:58,  3.98s/it]"
     ]
    },
    {
     "name": "stdout",
     "output_type": "stream",
     "text": [
      "'results'\n",
      "'results'\n",
      "'results'\n",
      "'results'\n",
      "'results'\n"
     ]
    },
    {
     "name": "stderr",
     "output_type": "stream",
     "text": [
      " 32%|███▏      | 587/1822 [03:23<1:26:19,  4.19s/it]"
     ]
    },
    {
     "name": "stdout",
     "output_type": "stream",
     "text": [
      "'results'\n",
      "'results'\n",
      "'results'\n",
      "'results'\n",
      "'results'\n"
     ]
    },
    {
     "name": "stderr",
     "output_type": "stream",
     "text": [
      " 33%|███▎      | 597/1822 [03:37<55:29,  2.72s/it]  "
     ]
    },
    {
     "name": "stdout",
     "output_type": "stream",
     "text": [
      "'results'\n",
      "'results'\n",
      "'results'\n",
      "'results'\n",
      "'results'\n"
     ]
    },
    {
     "name": "stderr",
     "output_type": "stream",
     "text": [
      "\r",
      " 33%|███▎      | 599/1822 [03:42<55:50,  2.74s/it]"
     ]
    },
    {
     "name": "stdout",
     "output_type": "stream",
     "text": [
      "'results'\n",
      "'results'\n",
      "'results'\n",
      "'results'\n",
      "'results'\n"
     ]
    }
   ],
   "source": [
    "for index in tqdm(df.index):\n",
    "    word_id=df.loc[index,'Word']\n",
    "    word_id=word_id.strip(' ')\n",
    "    word_id=word_id.lower()\n",
    "    if df.loc[index,'Meaning in Japanese']=='':\n",
    "        df.loc[index,'Meaning in Japanese']=weblio_crawler(word_id)\n",
    "    if df.loc[index,'Meaning in English']=='':\n",
    "        info=Oxford_caller(word_id)\n",
    "        df.loc[index,'Meaning in English']=Oxford_info_processor(info,'meaning')\n",
    "        #print(Oxford_info_processor(info,'meaning'))\n",
    "        if df.loc[index,'Example']=='':\n",
    "            df.loc[index,'Example']=Oxford_info_processor(info,'example')\n",
    "        if df.loc[index,'Origin']=='':\n",
    "            df.loc[index,'Origin']=Oxford_info_processor(info,'origin')\n",
    "            df.loc[index,'phonic']=Oxford_info_processor(info,'phonic')\n",
    "            #print(Oxford_info_processor(info,'phonic'))\n",
    "            df.loc[index,'mp3']=Oxford_info_processor(info,'mp3')\n",
    "    '''\n",
    "    if df.loc[index,'Example']=='':\n",
    "        info=Oxford_caller(word_id)\n",
    "        df.loc[index,'Example']=Oxford_info_processor(info,'example')\n",
    "        if df.loc[index,'Origin']=='':\n",
    "            df.loc[index,'Origin']=Oxford_info_processor(info,'origin')\n",
    "            df.loc[index,'phonic']=Oxford_info_processor(info,'phonic')\n",
    "            df.loc[index,'mp3']=Oxford_info_processor(info,'mp3')\n",
    "    if df.loc[index,'Origin']=='':\n",
    "        info=Oxford_caller(word_id)\n",
    "        df.loc[index,'Origin']=Oxford_info_processor(info,'origin')\n",
    "        df.loc[index,'phonic']=Oxford_info_processor(info,'phonic')\n",
    "        df.loc[index,'mp3']=Oxford_info_processor(info,'mp3')\n",
    "    '''\n",
    "    \n",
    "        "
   ]
  },
  {
   "cell_type": "code",
   "execution_count": null,
   "metadata": {},
   "outputs": [],
   "source": [
    "spread.df_to_sheet(df, index=True, sheet='result', start='A1', replace=True)"
   ]
  },
  {
   "cell_type": "code",
   "execution_count": null,
   "metadata": {},
   "outputs": [],
   "source": [
    "df"
   ]
  },
  {
   "cell_type": "code",
   "execution_count": null,
   "metadata": {},
   "outputs": [],
   "source": []
  }
 ],
 "metadata": {
  "kernelspec": {
   "display_name": "Python 3",
   "language": "python",
   "name": "python3"
  },
  "language_info": {
   "codemirror_mode": {
    "name": "ipython",
    "version": 3
   },
   "file_extension": ".py",
   "mimetype": "text/x-python",
   "name": "python",
   "nbconvert_exporter": "python",
   "pygments_lexer": "ipython3",
   "version": "3.5.3"
  }
 },
 "nbformat": 4,
 "nbformat_minor": 2
}
